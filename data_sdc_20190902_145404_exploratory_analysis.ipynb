{
 "cells": [
  {
   "cell_type": "markdown",
   "id": "renewable-income",
   "metadata": {},
   "source": [
    "# Explortatory analysis \n",
    "\n",
    "Notebook for exploratory analysis on tetrode data in the mPFC of a rat doing the parametric working memory (PWM) task.\n",
    "\n",
    "Session: `data_sdc_20190902_145404_fromSD`\n",
    "\n",
    "Current data storage:\n",
    "* raw .dat, .rec, .mda, .bin and preprocessed .bin files are located on scratch under ``\n",
    "\n",
    "* sorted data is located on bucket `Y:\\jbreda\\ephys\\post_sort_analysis\\sorted_pre_bdata`\n",
    "\n",
    "* in a sorted folder: \n",
    "    * folder for each .bin bundle & cluster notes, matlab struct w/ spike info from scraped phy, matlab struct w/ behavior info scraped from bdata\n",
    "    * in .bin bundle folder you will find curated kilosort output, mask info as npy and preprocessed .bin that was run\n",
    "\n",
    "see [jbreda_PWM_ephys_analysis](https://github.com/Brody-Lab/jbreda_PWM_ephys_analysis) for more info on how this info was obtained\n",
    "\n",
    "\n",
    "**TODO**\n",
    "* spk struct --> data frame\n",
    "* make utils.py\n",
    "* turn df cell into function\n"
   ]
  },
  {
   "cell_type": "markdown",
   "id": "tropical-poetry",
   "metadata": {},
   "source": [
    "## Libs & fxs"
   ]
  },
  {
   "cell_type": "code",
   "execution_count": 3,
   "id": "brief-dispatch",
   "metadata": {},
   "outputs": [],
   "source": [
    "# libraries\n",
    "\n",
    "import numpy as np\n",
    "import matplotlib.pyplot as plt\n",
    "import pandas as pd\n",
    "import seaborn as sns\n",
    "import scipy.io as spio\n",
    "from utils import *"
   ]
  },
  {
   "cell_type": "markdown",
   "id": "medium-services",
   "metadata": {},
   "source": [
    "## Behavior"
   ]
  },
  {
   "cell_type": "code",
   "execution_count": 4,
   "id": "interracial-emerald",
   "metadata": {},
   "outputs": [],
   "source": [
    "beh_path = 'Y:\\jbreda\\ephys\\post_sort_analysis\\sorted_pre_bdata\\data_sdc_20190902_145404_fromSD\\protocol_info.mat'\n",
    "beh_dict = load_nested_mat(beh_path)\n",
    "beh_dict = beh_dict['behS']\n",
    "parsed_events_dict = beh_dict['parsed_events']"
   ]
  },
  {
   "cell_type": "code",
   "execution_count": null,
   "id": "opposed-treat",
   "metadata": {},
   "outputs": [],
   "source": [
    "# initialize df\n",
    "beh_df = pd.DataFrame()\n",
    "\n",
    "# make any adjustments to make things more meaningful/readable\n",
    "prev_side_adj = np.roll(beh_dict['prev_side'],1) # n-1 trial info\n",
    "prev_side_adj = np.where(prev_side_adj == 114, 'RIGHT', 'LEFT' )\n",
    "prev_side_adj[0] = 'NaN' # trial 0 doesn't have a previous\n",
    "\n",
    "beh_df['hit_hist'] = beh_dict['hit_history']\n",
    "beh_df['hit_hist'] = beh_df['hit_hist'].mask(beh_df['hit_hist'] == 1.0, \"hit\")\n",
    "beh_df['hit_hist'] = beh_df['hit_hist'].mask(beh_df['hit_hist'] == 0.0, \"miss\")\n",
    "beh_df['hit_hist'][beh_df['hit_hist'].isnull()] = \"viol\"\n",
    "\n",
    "# get n_trial length items into df\n",
    "beh_df['delay'] = beh_dict['delay']\n",
    "beh_df['pair_hist'] = beh_dict['pair_history']\n",
    "beh_df['correct_side'] = beh_dict['correct_side']\n",
    "beh_df['prev_side'] = prev_side_adj\n",
    "beh_df['aud1_sigma'] = beh_dict['aud1_sigma']\n",
    "beh_df['aud2_sigma'] = beh_dict['aud2_sigma']\n",
    " \n",
    "# initilize space    \n",
    "c_poke = np.zeros((len(parsed_events_dict)))\n",
    "hit_state = np.zeros((len(parsed_events_dict)))\n",
    "aud1_time = np.zeros((len(parsed_events_dict)))\n",
    "aud2_time = np.zeros((len(parsed_events_dict)))\n",
    "\n",
    "# iterate over items from state matrix\n",
    "for trial in range(len(parsed_events_dict)):\n",
    "    \n",
    "    # every trial has a center poke\n",
    "    c_poke[trial] = parsed_events_dict[trial]['states']['cp'][0]\n",
    "    \n",
    "    # not all trials will have sound/hit time/etc, pull out info for hits\n",
    "    if beh_df['hit_hist'][trial] == 1.0:\n",
    "        \n",
    "        hit_state[trial] = parsed_events_dict[trial]['states']['hit_state'][0]\n",
    "        aud1_time[trial] = parsed_events_dict[trial]['waves']['stimAUD1'][0]\n",
    "        aud2_time[trial] = parsed_events_dict[trial]['waves']['stimAUD2'][0]\n",
    "    else:\n",
    "        hit_state[trial] = float(\"NaN\")\n",
    "        aud1_time[trial] = float(\"NaN\")\n",
    "        aud2_time[trial] = float(\"NaN\")\n",
    "\n",
    "# add to df\n",
    "beh_df['c_poke'] = c_poke\n",
    "beh_df['hit_state'] = hit_state\n",
    "beh_df['aud1_time'] = aud1_time\n",
    "beh_df['aud2_time'] = aud2_time\n",
    " \n",
    "beh_df"
   ]
  },
  {
   "cell_type": "markdown",
   "id": "isolated-eight",
   "metadata": {},
   "source": [
    "## Ephys "
   ]
  },
  {
   "cell_type": "code",
   "execution_count": null,
   "id": "coated-resident",
   "metadata": {},
   "outputs": [],
   "source": [
    "spks_path = 'Y:\\jbreda\\ephys\\post_sort_analysis\\sorted_pre_bdata\\data_sdc_20190902_145404_fromSD\\ksphy_clusters_foranalysis.mat'\n",
    "spks_dict = spio.loadmat(spks_path, squeeze_me = True)\n",
    "spks_dict = spks_dict['PWMspkS']"
   ]
  },
  {
   "cell_type": "code",
   "execution_count": null,
   "id": "pressed-symposium",
   "metadata": {},
   "outputs": [],
   "source": [
    "\"proof of cell\"\n",
    "\n",
    "# need to f/u w/ Tyler on these shapes\n",
    "\n",
    "tt_num = 3\n",
    "wave_snippet = spks_dict['waves_mn']\n",
    "plt.plot(wave_snippet[tt_num][tt_num])"
   ]
  },
  {
   "cell_type": "code",
   "execution_count": null,
   "id": "integral-sculpture",
   "metadata": {},
   "outputs": [],
   "source": [
    "n_cells = len(spks_dict[\"event_ts_fsm\"])\n",
    "trode_num = spks_dict[\"trodenum\"]\n",
    "spk_qual = []\n",
    "for cell in range(n_cells):\n",
    "    if spks_dict[\"mua\"][cell] == 1:\n",
    "        spk_qual.append(\"multi\")\n",
    "    elif spks_dict[\"single\"][cell] == 1:\n",
    "        spk_qual.append(\"single\")\n",
    "    else:\n",
    "        raise TypeError(\"cell not marked as multi or single\")\n",
    "        "
   ]
  },
  {
   "cell_type": "code",
   "execution_count": null,
   "id": "romance-sally",
   "metadata": {},
   "outputs": [],
   "source": [
    "from spykes.plot.neurovis import NeuroVis\n",
    "\n",
    "def initiate_neurons(spk_data, sess_date = \"20190902\"):\n",
    "    \n",
    "    spk_in_fsm_time = spk_data[\"event_ts_fsm\"] # fsm = behavior time\n",
    "    neuron_list = []\n",
    "    \n",
    "    for neuron in range(len(spk_in_fsm_time)):\n",
    "        spk_times = spk_in_fsm_time[neuron]\n",
    "        \n",
    "        # instantiate neuron\n",
    "        neuron = NeuroVis(spk_times, name = '{} {}'.format(neuron + 1, sess_date))\n",
    "        neuron_list.append(neuron)\n",
    "    \n",
    "    return neuron_list"
   ]
  },
  {
   "cell_type": "code",
   "execution_count": null,
   "id": "acting-display",
   "metadata": {},
   "outputs": [],
   "source": [
    "neuronL = initiate_neurons(spks_dict)"
   ]
  },
  {
   "cell_type": "code",
   "execution_count": null,
   "id": "employed-machinery",
   "metadata": {},
   "outputs": [],
   "source": [
    "event = 'c_poke'\n",
    "condition = 'delay'\n",
    "window = [-500, 10000]\n",
    "binsize = 50\n",
    "neuron_number = 1\n",
    "neuron = neuronL[neuron_number - 1]\n",
    "\n",
    "plt.figure(figsize=(10, 5))\n",
    "psth = neuron.get_psth(event = event,\n",
    "                       conditions = condition,\n",
    "                       df = beh_df,\n",
    "                       window = window,\n",
    "                       binsize = binsize,\n",
    "                       event_name = 'Center Poke')"
   ]
  },
  {
   "cell_type": "code",
   "execution_count": null,
   "id": "british-variable",
   "metadata": {},
   "outputs": [],
   "source": [
    "window = [-500, 1000]\n",
    "binsize = 10\n",
    "neuron = neuronL[2]\n",
    "\n",
    "plt.figure(figsize=(10, 8))\n",
    "raster = neuron.get_raster(event = 'aud1_time', \n",
    "                           df = beh_df, \n",
    "                           window=window, \n",
    "                           binsize = binsize)"
   ]
  },
  {
   "cell_type": "markdown",
   "id": "vietnamese-whale",
   "metadata": {},
   "source": [
    "# Plotting 2 second, L hit trials"
   ]
  },
  {
   "cell_type": "code",
   "execution_count": null,
   "id": "higher-punishment",
   "metadata": {},
   "outputs": [],
   "source": [
    "beh_df_d2_hl = beh_df[(beh_df['correct_side'] == 'LEFT') & (beh_df['delay'] == 2)\n",
    "       & (beh_df['hit_hist'] == 'hit')]"
   ]
  },
  {
   "cell_type": "code",
   "execution_count": null,
   "id": "conventional-programming",
   "metadata": {},
   "outputs": [],
   "source": []
  }
 ],
 "metadata": {
  "kernelspec": {
   "display_name": "Python 3",
   "language": "python",
   "name": "python3"
  },
  "language_info": {
   "codemirror_mode": {
    "name": "ipython",
    "version": 3
   },
   "file_extension": ".py",
   "mimetype": "text/x-python",
   "name": "python",
   "nbconvert_exporter": "python",
   "pygments_lexer": "ipython3",
   "version": "3.7.9"
  }
 },
 "nbformat": 4,
 "nbformat_minor": 5
}
