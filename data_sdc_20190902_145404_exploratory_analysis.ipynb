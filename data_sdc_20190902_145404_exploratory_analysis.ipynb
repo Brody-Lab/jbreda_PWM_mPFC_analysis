{
 "cells": [
  {
   "cell_type": "markdown",
   "id": "renewable-income",
   "metadata": {},
   "source": [
    "# Explortatory analysis \n",
    "\n",
    "Notebook for exploratory analysis on tetrode data in the mPFC of a rat doing the parametric working memory (PWM) task.\n",
    "\n",
    "Session: `data_sdc_20190902_145404_fromSD`\n",
    "\n"
   ]
  }
 ],
 "metadata": {
  "kernelspec": {
   "display_name": "Python 3",
   "language": "python",
   "name": "python3"
  },
  "language_info": {
   "codemirror_mode": {
    "name": "ipython",
    "version": 3
   },
   "file_extension": ".py",
   "mimetype": "text/x-python",
   "name": "python",
   "nbconvert_exporter": "python",
   "pygments_lexer": "ipython3",
   "version": "3.7.9"
  }
 },
 "nbformat": 4,
 "nbformat_minor": 5
}
