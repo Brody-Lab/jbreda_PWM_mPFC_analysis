{
 "cells": [
  {
   "cell_type": "markdown",
   "id": "renewable-income",
   "metadata": {},
   "source": [
    "# Explortatory analysis \n",
    "\n",
    "Notebook for exploratory analysis on tetrode data in the mPFC of a rat doing the parametric working memory (PWM) task.\n",
    "\n",
    "Session: `data_sdc_20190902_145404_fromSD`\n",
    "\n",
    "Current data storage:\n",
    "* raw .dat, .rec, .mda, .bin and preprocessed .bin files are located on scratch under ``\n",
    "\n",
    "* sorted data is located on bucket `Y:\\jbreda\\ephys\\post_sort_analysis\\sorted_pre_bdata`\n",
    "\n",
    "* in a sorted folder: \n",
    "    * folder for each .bin bundle & cluster notes, matlab struct w/ spike info from scraped phy, matlab struct w/ behavior info scraped from bdata\n",
    "    * in .bin bundle folder you will find curated kilosort output, mask info as npy and preprocessed .bin that was run\n",
    "\n",
    "see [jbreda_PWM_ephys_analysis](https://github.com/Brody-Lab/jbreda_PWM_ephys_analysis) for more info on how this info was obtained\n",
    "\n",
    "\n",
    "**TODO**\n",
    "* spk struct --> data frame\n",
    "* make utils.py\n",
    "* turn df cell into function\n"
   ]
  },
  {
   "cell_type": "markdown",
   "id": "according-hundred",
   "metadata": {},
   "source": [
    "## Libs & fxs"
   ]
  },
  {
   "cell_type": "code",
   "execution_count": 1,
   "id": "brief-dispatch",
   "metadata": {},
   "outputs": [],
   "source": [
    "# libraries\n",
    "\n",
    "import numpy as np\n",
    "import matplotlib.pyplot as plt\n",
    "import pandas as pd\n",
    "import seaborn as sns\n",
    "import scipy.io as spio\n",
    "from utils import *"
   ]
  },
  {
   "cell_type": "markdown",
   "id": "further-termination",
   "metadata": {},
   "source": [
    "## I/O & Wrangle"
   ]
  },
  {
   "cell_type": "code",
   "execution_count": 3,
   "id": "synthetic-french",
   "metadata": {},
   "outputs": [],
   "source": [
    "beh_path = 'Y:\\jbreda\\ephys\\post_sort_analysis\\sorted_pre_bdata\\data_sdc_20190902_145404_fromSD\\protocol_info.mat'\n",
    "spks_path = 'Y:\\jbreda\\ephys\\post_sort_analysis\\sorted_pre_bdata\\data_sdc_20190902_145404_fromSD\\ksphy_clusters_foranalysis.mat'\n",
    "\n",
    "behav_d, spks_d = load_session_info(beh_path, spks_path)\n",
    "beh_df = make_beh_df(behav_d)"
   ]
  },
  {
   "cell_type": "markdown",
   "id": "explicit-hammer",
   "metadata": {},
   "source": [
    "## Ephys "
   ]
  },
  {
   "cell_type": "code",
   "execution_count": null,
   "id": "amber-abuse",
   "metadata": {},
   "outputs": [],
   "source": [
    "\"proof of cell\"\n",
    "\n",
    "# need to f/u w/ Tyler on these shapes\n",
    "\n",
    "tt_num = 3\n",
    "wave_snippet = spks_dict['waves_mn']\n",
    "plt.plot(wave_snippet[tt_num][tt_num])"
   ]
  },
  {
   "cell_type": "code",
   "execution_count": null,
   "id": "sophisticated-booking",
   "metadata": {},
   "outputs": [],
   "source": [
    "n_cells = len(spks_dict[\"event_ts_fsm\"])\n",
    "trode_num = spks_dict[\"trodenum\"]\n",
    "spk_qual = []\n",
    "for cell in range(n_cells):\n",
    "    if spks_dict[\"mua\"][cell] == 1:\n",
    "        spk_qual.append(\"multi\")\n",
    "    elif spks_dict[\"single\"][cell] == 1:\n",
    "        spk_qual.append(\"single\")\n",
    "    else:\n",
    "        raise TypeError(\"cell not marked as multi or single\")\n",
    "        "
   ]
  },
  {
   "cell_type": "code",
   "execution_count": null,
   "id": "labeled-sound",
   "metadata": {},
   "outputs": [],
   "source": [
    "from spykes.plot.neurovis import NeuroVis\n",
    "\n",
    "def initiate_neurons(spk_data, sess_date = \"20190902\"):\n",
    "    \n",
    "    spk_in_fsm_time = spk_data[\"event_ts_fsm\"] # fsm = behavior time\n",
    "    neuron_list = []\n",
    "    \n",
    "    for neuron in range(len(spk_in_fsm_time)):\n",
    "        spk_times = spk_in_fsm_time[neuron]\n",
    "        \n",
    "        # instantiate neuron\n",
    "        neuron = NeuroVis(spk_times, name = '{} {}'.format(neuron + 1, sess_date))\n",
    "        neuron_list.append(neuron)\n",
    "    \n",
    "    return neuron_list"
   ]
  },
  {
   "cell_type": "code",
   "execution_count": null,
   "id": "framed-republican",
   "metadata": {},
   "outputs": [],
   "source": [
    "neuronL = initiate_neurons(spks_dict)"
   ]
  },
  {
   "cell_type": "code",
   "execution_count": null,
   "id": "relative-murder",
   "metadata": {},
   "outputs": [],
   "source": [
    "event = 'c_poke'\n",
    "condition = 'delay'\n",
    "window = [-500, 10000]\n",
    "binsize = 50\n",
    "neuron_number = 1\n",
    "neuron = neuronL[neuron_number - 1]\n",
    "\n",
    "plt.figure(figsize=(10, 5))\n",
    "psth = neuron.get_psth(event = event,\n",
    "                       conditions = condition,\n",
    "                       df = beh_df,\n",
    "                       window = window,\n",
    "                       binsize = binsize,\n",
    "                       event_name = 'Center Poke')"
   ]
  },
  {
   "cell_type": "code",
   "execution_count": null,
   "id": "apparent-virgin",
   "metadata": {},
   "outputs": [],
   "source": [
    "window = [-500, 1000]\n",
    "binsize = 10\n",
    "neuron = neuronL[2]\n",
    "\n",
    "plt.figure(figsize=(10, 8))\n",
    "raster = neuron.get_raster(event = 'aud1_time', \n",
    "                           df = beh_df, \n",
    "                           window=window, \n",
    "                           binsize = binsize)"
   ]
  },
  {
   "cell_type": "markdown",
   "id": "religious-budapest",
   "metadata": {},
   "source": [
    "# Plotting 2 second, L hit trials"
   ]
  },
  {
   "cell_type": "code",
   "execution_count": null,
   "id": "unlike-fitness",
   "metadata": {},
   "outputs": [],
   "source": [
    "beh_df_d2_hl = beh_df[(beh_df['correct_side'] == 'LEFT') & (beh_df['delay'] == 2)\n",
    "       & (beh_df['hit_hist'] == 'hit')]"
   ]
  },
  {
   "cell_type": "code",
   "execution_count": null,
   "id": "copyrighted-gregory",
   "metadata": {},
   "outputs": [],
   "source": []
  }
 ],
 "metadata": {
  "kernelspec": {
   "display_name": "Python 3",
   "language": "python",
   "name": "python3"
  },
  "language_info": {
   "codemirror_mode": {
    "name": "ipython",
    "version": 3
   },
   "file_extension": ".py",
   "mimetype": "text/x-python",
   "name": "python",
   "nbconvert_exporter": "python",
   "pygments_lexer": "ipython3",
   "version": "3.7.9"
  }
 },
 "nbformat": 4,
 "nbformat_minor": 5
}
