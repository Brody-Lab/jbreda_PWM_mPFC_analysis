{
 "cells": [
  {
   "cell_type": "markdown",
   "id": "renewable-income",
   "metadata": {},
   "source": [
    "# Explortatory analysis \n",
    "\n",
    "Notebook for exploratory analysis on tetrode data in the mPFC of a rat doing the parametric working memory (PWM) task.\n",
    "\n",
    "Session: `data_sdc_20190902_145404_fromSD`\n",
    "\n",
    "Current data storage:\n",
    "* raw .dat, .rec, .mda, .bin and preprocessed .bin files are located on scratch under ``\n",
    "\n",
    "* sorted data is located on bucket `Y:\\jbreda\\ephys\\post_sort_analysis\\sorted_pre_bdata`\n",
    "\n",
    "* in a sorted folder: \n",
    "    * folder for each .bin bundle & cluster notes, matlab struct w/ spike info from scraped phy, matlab struct w/ behavior info scraped from bdata\n",
    "    * in .bin bundle folder you will find curated kilosort output, mask info as npy and preprocessed .bin that was run\n",
    "\n",
    "see [jbreda_PWM_ephys_analysis](https://github.com/Brody-Lab/jbreda_PWM_ephys_analysis) for more info on how this info was obtained\n",
    "\n",
    "\n",
    "**TODO**\n",
    "* figure out how to load raw data in (and which type)\n",
    "* behavior struct --> data frame\n"
   ]
  },
  {
   "cell_type": "code",
   "execution_count": 10,
   "id": "brief-dispatch",
   "metadata": {},
   "outputs": [],
   "source": [
    "# libraries\n",
    "\n",
    "import numpy as np\n",
    "import matplotlib.pyplot as plt\n",
    "import pandas as pd\n",
    "import seaborn as sns\n",
    "import scipy.io as spio"
   ]
  },
  {
   "cell_type": "code",
   "execution_count": 126,
   "id": "victorian-aurora",
   "metadata": {},
   "outputs": [],
   "source": [
    "def load_mat(filename):\n",
    "    \"\"\"\n",
    "    This function should be called instead of direct scipy.io.loadmat\n",
    "    as it cures the problem of not properly recovering python dictionaries\n",
    "    from mat files. It calls the function check keys to cure all entries\n",
    "    which are still mat-objects. From https://stackoverflow.com/questions\n",
    "    /48970785/complex-matlab-struct-mat-file-read-by-python\n",
    "    \"\"\"\n",
    "\n",
    "    def _check_vars(d):\n",
    "        \"\"\"\n",
    "        Checks if entries in dictionary are mat-objects. If yes\n",
    "        todict is called to change them to nested dictionaries\n",
    "        \"\"\"\n",
    "        for key in d:\n",
    "            if isinstance(d[key], matlab.mio5_params.mat_struct):\n",
    "                d[key] = _todict(d[key])\n",
    "            elif isinstance(d[key], np.ndarray):\n",
    "                d[key] = _toarray(d[key])\n",
    "        return d\n",
    "\n",
    "    def _todict(matobj):\n",
    "        \"\"\"\n",
    "        A recursive function which constructs from matobjects nested dictionaries\n",
    "        \"\"\"\n",
    "        d = {}\n",
    "        for strg in matobj._fieldnames:\n",
    "            elem = matobj.__dict__[strg]\n",
    "            if isinstance(elem, matlab.mio5_params.mat_struct):\n",
    "                d[strg] = _todict(elem)\n",
    "            elif isinstance(elem, np.ndarray):\n",
    "                d[strg] = _toarray(elem)\n",
    "            else:\n",
    "                d[strg] = elem\n",
    "        return d\n",
    "\n",
    "    def _toarray(ndarray):\n",
    "        \"\"\"\n",
    "        A recursive function which constructs ndarray from cellarrays\n",
    "        (which are loaded as numpy ndarrays), recursing into the elements\n",
    "        if they contain matobjects.\n",
    "        \"\"\"\n",
    "        if ndarray.dtype != 'float64':\n",
    "            elem_list = []\n",
    "            for sub_elem in ndarray:\n",
    "                if isinstance(sub_elem, matlab.mio5_params.mat_struct):\n",
    "                    elem_list.append(_todict(sub_elem))\n",
    "                elif isinstance(sub_elem, np.ndarray):\n",
    "                    elem_list.append(_toarray(sub_elem))\n",
    "                else:\n",
    "                    elem_list.append(sub_elem)\n",
    "            return np.array(elem_list)\n",
    "        else:\n",
    "            return ndarray\n",
    "\n",
    "    data = spio.loadmat(filename, struct_as_record=False, squeeze_me=True)\n",
    "    return _check_vars(data)"
   ]
  },
  {
   "cell_type": "code",
   "execution_count": 129,
   "id": "charming-repair",
   "metadata": {},
   "outputs": [],
   "source": [
    "beh_path = 'Y:\\jbreda\\ephys\\post_sort_analysis\\sorted_pre_bdata\\data_sdc_20190902_145404_fromSD\\protocol_info.mat'\n",
    "beh_dict = load_mat(beh_path)\n",
    "beh_dict = beh_dict['behS']"
   ]
  },
  {
   "cell_type": "code",
   "execution_count": null,
   "id": "simplified-saint",
   "metadata": {},
   "outputs": [],
   "source": [
    "spks_path = 'Y:\\jbreda\\ephys\\post_sort_analysis\\sorted_pre_bdata\\data_sdc_20190902_145404_fromSD\\ksphy_clusters_foranalysis.mat'\n",
    "spks_dict = spio.loadmat(spks_path, squeeze_me = True)\n",
    "spks_dict = spks_dict['PWMspkS']"
   ]
  }
 ],
 "metadata": {
  "kernelspec": {
   "display_name": "Python 3",
   "language": "python",
   "name": "python3"
  },
  "language_info": {
   "codemirror_mode": {
    "name": "ipython",
    "version": 3
   },
   "file_extension": ".py",
   "mimetype": "text/x-python",
   "name": "python",
   "nbconvert_exporter": "python",
   "pygments_lexer": "ipython3",
   "version": "3.7.9"
  }
 },
 "nbformat": 4,
 "nbformat_minor": 5
}
