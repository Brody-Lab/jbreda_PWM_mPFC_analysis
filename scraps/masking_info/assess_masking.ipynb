{
 "cells": [
  {
   "cell_type": "markdown",
   "id": "tight-bleeding",
   "metadata": {},
   "source": [
    "# Assess Masking\n",
    "\n",
    "The goal of this notebook is to load in beh, spk and masking data to assess how much masking (0ing out of ephys data) is occuring on a per trial basis across a variety of sessions."
   ]
  },
  {
   "cell_type": "code",
   "execution_count": 6,
   "id": "incorporate-following",
   "metadata": {},
   "outputs": [
    {
     "name": "stdout",
     "output_type": "stream",
     "text": [
      "The autoreload extension is already loaded. To reload it, use:\n",
      "  %reload_ext autoreload\n"
     ]
    }
   ],
   "source": [
    "# libraries\n",
    "import numpy as np\n",
    "import matplotlib.pyplot as plt\n",
    "import pandas as pd\n",
    "import seaborn as sns\n",
    "import scipy.io as spio\n",
    "import os\n",
    "import sys; sys.path.insert(0, '..')\n",
    "from utils import *\n",
    "\n",
    "# settings\n",
    "%load_ext autoreload\n",
    "%autoreload 2\n",
    "sns.set_context(\"talk\")"
   ]
  },
  {
   "cell_type": "code",
   "execution_count": 2,
   "id": "soviet-chorus",
   "metadata": {},
   "outputs": [],
   "source": [
    "def spks_dict_extract(spks_dict):\n",
    "    \"\"\"Function to help extract useful info from spks_dict that is nested deeply\n",
    "    \n",
    "    inputs\n",
    "    ------\n",
    "    spks_dict : dict, with spk info from .mat file\n",
    "    \n",
    "    returns\n",
    "    -------\n",
    "    spk2fsm    : arr, slope and y-int for getting from spike time to beh time\n",
    "    trode_nums : list, what tetrode each cell is on in the session (1-32)\n",
    "    fs         : int, sample rate of ephys\n",
    "    \"\"\"\n",
    "    spk2fsm = spks_dict['behav_session'][0]['spk2fsm_rt'][0][0][0] #[m, b]\n",
    "    \n",
    "    trode_nums = []\n",
    "    for i in range(len(spks_dict['trodenum'])):\n",
    "        trode_nums.append(spks_dict['trodenum'][i][0][0])\n",
    "        \n",
    "    fs = spks_dict['fs'][0][0][0]\n",
    "    \n",
    "    return spk2fsm, trode_nums, fs"
   ]
  },
  {
   "cell_type": "code",
   "execution_count": 28,
   "id": "independent-material",
   "metadata": {},
   "outputs": [],
   "source": [
    "def load_masks(trode_nums, sess_dir):\n",
    "    \"\"\"Function for loading mask info stores in sortedd session direactory \n",
    "    based on the active tetrodes in the session\n",
    "    \n",
    "    inputs\n",
    "    ------\n",
    "    trode_num : list, what tetrode each cell is on in the session (1-32)\n",
    "    sess_dir : path to directory for a sorted session with mask NPY files for each bundle\n",
    "    \n",
    "    returns\n",
    "    -------\n",
    "    mask_info : list, first item the list is unique trodes num list that is N long, remaining \n",
    "                N list items are masks for each unique tetrode (this needs to be modified for\n",
    "                having multiple cells on the same bndl)\n",
    "    \"\"\"\n",
    "    \n",
    "    # intialize space\n",
    "    \n",
    "    mask_info = []\n",
    "    \n",
    "    # deal with multiple cells on one tetrode\n",
    "    unique_trodes = np.unique(trode_nums)\n",
    "    mask_info.append(unique_trodes)\n",
    "    \n",
    "    for trode in unique_trodes:\n",
    "        \n",
    "        # determine (unefficiently) which mask file is correct\n",
    "        if trode <= 8:\n",
    "            bndl = \"bundle1_mask_info\"\n",
    "        elif trode > 8 <= 16:\n",
    "            bndl = \"bundle2_mask_info\"\n",
    "        elif trode > 16 <= 24:\n",
    "            bndl = \"bundle3_mask_info\"\n",
    "        elif trode > 24 <= 32:\n",
    "            bndl = \"bundle4_mask_info\"\n",
    "        else:\n",
    "            print(\"trode not between 1-32, function will break\")\n",
    "            \n",
    "        # load it, flatten & convert to bool (0.0 = noise, 1.0 = signal)\n",
    "        bndl_mask = np.load(os.path.join(sess_dir, bndl))\n",
    "        bndl_mask = bndl_mask.flatten()\n",
    "        bndl_mask_bool = np.where(bndl_mask == 0.0, True, False) \n",
    "        mask_info.append(bndl_mask_bool)\n",
    "        \n",
    "    return mask_info"
   ]
  },
  {
   "cell_type": "code",
   "execution_count": 50,
   "id": "elementary-simpson",
   "metadata": {},
   "outputs": [],
   "source": [
    "def mask2fsm(mask_info, fs, spk2fsm):\n",
    "    \n",
    "    \"\"\"Quick function to use shape of boolean mask to create a second array in fsm time\n",
    "    to allow for a common timeframe between task events and ephys masking\"\"\"\n",
    "    \n",
    "    # create a array the same length of the bool with values in seconds at fs\n",
    "    mask_sec = np.linspace(0, len(mask_info[1])/fs, len(mask_info[1]))\n",
    "    \n",
    "    # convert the time array above from spk time to fsm time\n",
    "    mask_fsm = (mask_sec * spk2fsm[0]) + spk2fsm[1]\n",
    "    \n",
    "    return mask_fsm"
   ]
  },
  {
   "cell_type": "markdown",
   "id": "tested-advantage",
   "metadata": {},
   "source": [
    "## I/O"
   ]
  },
  {
   "cell_type": "code",
   "execution_count": 185,
   "id": "different-exploration",
   "metadata": {},
   "outputs": [],
   "source": [
    "# global\n",
    "sess_name = 'W122_08_31_2019_1_fromSD' # this will be flexible\n",
    "dir_name  = 'Y:\\jbreda\\ephys\\post_sort_analysis\\sorted_pre_bdata' \n",
    "beh_mat   = 'protocol_info.mat'\n",
    "spks_mat  = 'ksphy_clusters_foranalysis.mat'\n",
    "sess_dir = os.path.join(dir_name, sess_name)\n",
    "save_path = \"C:\\\\Users\\\\brodylab\\\\Documents\\\\GitHub\\\\jbreda_PWM_ephys_analysis\\\\masking_info\\\\figures\"\n",
    "\n",
    "# create paths\n",
    "beh_path  = os.path.join(dir_name, sess_name, beh_mat)\n",
    "spks_path = os.path.join(dir_name, sess_name, spks_mat)\n",
    "\n",
    "# load & wrangle\n",
    "beh_df, spks_dict = load_and_wrangle(beh_path, spks_path, overwrite=True)\n",
    "spk2fsm, trode_nums, fs = spks_dict_extract(spks_dict)\n",
    "mask_info = load_masks(trode_nums, sess_dir)\n",
    "mask_beh_s = mask2fsm(mask_info, fs, spk2fsm)"
   ]
  },
  {
   "cell_type": "code",
   "execution_count": 72,
   "id": "antique-horizon",
   "metadata": {},
   "outputs": [
    {
     "name": "stderr",
     "output_type": "stream",
     "text": [
      "c:\\users\\brodylab\\anaconda3\\envs\\pwmephys\\lib\\site-packages\\ipykernel_launcher.py:3: SettingWithCopyWarning: \n",
      "A value is trying to be set on a copy of a slice from a DataFrame.\n",
      "Try using .loc[row_indexer,col_indexer] = value instead\n",
      "\n",
      "See the caveats in the documentation: https://pandas.pydata.org/pandas-docs/stable/user_guide/indexing.html#returning-a-view-versus-a-copy\n",
      "  This is separate from the ipykernel package so we can avoid doing imports until\n"
     ]
    }
   ],
   "source": [
    "no_viol_df = beh_df[beh_df['hit_hist'] != 'viol']\n",
    "# save trial number, but reset the index\n",
    "no_viol_df['trial_num'] = no_viol_df.index \n",
    "no_viol_df.index = range(len(no_viol_df))"
   ]
  },
  {
   "cell_type": "code",
   "execution_count": 165,
   "id": "instrumental-percentage",
   "metadata": {},
   "outputs": [],
   "source": [
    "start = no_viol_df['c_poke']\n",
    "end = no_viol_df['aud2_off']\n",
    "\n",
    "trial_len = []\n",
    "masked_trials =[]\n",
    "num_masks = []\n",
    "\n",
    "\n",
    "for tt in range(1, len(mask_info)):\n",
    "    \n",
    "    trial_len_tt = []\n",
    "    masked_trials_tt = []\n",
    "    num_masks_tt = []\n",
    "\n",
    "   \n",
    "    for trial in range(len(start)):\n",
    "\n",
    "        idx_s = np.searchsorted(mask_beh_s, start[trial], side = \"left\")\n",
    "        idx_e = np.searchsorted(mask_beh_s, end[trial], side = \"left\")\n",
    "\n",
    "        trial_len_tt.append(idx_e - idx_s)\n",
    "        masked_trials_tt.append(mask_info[tt][idx_s:idx_e])\n",
    "        num_masks_tt.append(np.sum(mask_info[tt][idx_s:idx_e]))\n",
    "    \n",
    "    trial_len.append(trial_len_tt)\n",
    "    masked_trials.append(masked_trials_tt)\n",
    "    num_masks.append(num_masks_tt)\n"
   ]
  },
  {
   "cell_type": "code",
   "execution_count": 196,
   "id": "wound-design",
   "metadata": {},
   "outputs": [
    {
     "data": {
      "image/png": "[encoded data removed]",
      "text/plain": [
       "<Figure size 720x360 with 2 Axes>"
      ]
     },
     "metadata": {
      "needs_background": "light"
     },
     "output_type": "display_data"
    }
   ],
   "source": [
    "\"Plot number of cut samples for each tetrode with cells\"\n",
    "plot_name = \"{}_cut_samples.png\".format(sess_name)\n",
    "if len(trial_len) == 1:\n",
    "    \n",
    "    fig, ax = plt.subplots(1,1)\n",
    "    ax.hist(num_masks[0])\n",
    "    ax.set(ylabel = \"Count\", xlabel = \"Num Samples\")\n",
    "    ax.set_title(\"{}, tetrode: {}\".format(sess_name, mask_info[0][0]))\n",
    "    \n",
    "    plt.savefig(os.path.join(save_path, plot_name))\n",
    "\n",
    "elif len(trial_len) > 1:\n",
    "    fig,ax = plt.subplots(1, len(trial_len), figsize = (10,5))\n",
    "    \n",
    "    for tt in range(len(trial_len)):\n",
    "        ax[tt].hist(num_masks[tt])\n",
    "        ax[tt].set(ylabel = \"Count\", xlabel = \"Num Samples\")\n",
    "        ax[tt].set_title(\"{}, \\n tetrode: {}\".format(sess_name, mask_info[0][tt]))\n",
    "    plt.tight_layout()\n",
    "    \n",
    "    plt.savefig(os.path.join(save_path, plot_name))\n",
    "\n",
    "#plt.close(\"all\")"
   ]
  },
  {
   "cell_type": "code",
   "execution_count": 201,
   "id": "bizarre-nancy",
   "metadata": {},
   "outputs": [],
   "source": [
    "\"\"\"For each tetrode, on each trial, if less than 1000 samples were dropped,\n",
    "get the idx of the trial (w/ respect to !=viol df)\"\"\"\n",
    "n_samples = 1000\n",
    "counter = []\n",
    "good_idxs = []\n",
    "for tt in range(len(num_masks)):\n",
    "    count = 0\n",
    "    idxs = [] \n",
    "    \n",
    "    for trial in range(len(num_masks[tt])):\n",
    "        if num_masks[tt][trial] < n_samples:\n",
    "            count+=1\n",
    "            idxs.append(trial)\n",
    "    \n",
    "    counter.append(count)\n",
    "    good_idxs.append(idxs)\n",
    "        "
   ]
  },
  {
   "cell_type": "code",
   "execution_count": 223,
   "id": "established-street",
   "metadata": {},
   "outputs": [
    {
     "data": {
      "image/png": "[encoded data removed]",
      "text/plain": [
       "<Figure size 432x288 with 1 Axes>"
      ]
     },
     "metadata": {
      "needs_background": "light"
     },
     "output_type": "display_data"
    }
   ],
   "source": [
    "\"Plot number of trials with less than 1000 samples cut by tetrode\"\n",
    "plot_name = \"{}_n_good.png\".format(sess_name)\n",
    "\n",
    "    \n",
    "fig, ax = plt.subplots(1,1)\n",
    "ax.bar(mask_info[0], counter)\n",
    "ax.set(ylabel = \"Count\", xlabel = \"Tetrode Number\")\n",
    "ax.set_title(\"{}\".format(sess_name))\n",
    "\n",
    "plt.savefig(os.path.join(save_path, plot_name))\n",
    "\n",
    "#plt.close(\"all\")\n",
    "    \n",
    "    "
   ]
  }
 ],
 "metadata": {
  "kernelspec": {
   "display_name": "Python 3",
   "language": "python",
   "name": "python3"
  },
  "language_info": {
   "codemirror_mode": {
    "name": "ipython",
    "version": 3
   },
   "file_extension": ".py",
   "mimetype": "text/x-python",
   "name": "python",
   "nbconvert_exporter": "python",
   "pygments_lexer": "ipython3",
   "version": "3.7.9"
  }
 },
 "nbformat": 4,
 "nbformat_minor": 5
}
