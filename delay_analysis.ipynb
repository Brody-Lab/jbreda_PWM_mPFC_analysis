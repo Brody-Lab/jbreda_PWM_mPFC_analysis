{
 "cells": [
  {
   "cell_type": "markdown",
   "id": "dc8d71ad",
   "metadata": {},
   "source": [
    "# 2021_05_03 Delay Analysis\n",
    "\n",
    "Notebook to perform analysis on delay period (2 or 4 seconds) of PWM task recording from mPFC. Functions tested & debugged in event_centering.ipynb and moving here for clean start\n",
    "\n",
    "### Libraries & Settings"
   ]
  },
  {
   "cell_type": "code",
   "execution_count": 1,
   "id": "cce032c9",
   "metadata": {
    "scrolled": true
   },
   "outputs": [],
   "source": [
    "# libraries\n",
    "import sys; sys.path.insert(0, '..') # if you don't find it here, look one above\n",
    "import os\n",
    "import numpy as np\n",
    "import matplotlib.pyplot as plt\n",
    "import pandas as pd\n",
    "import seaborn as sns\n",
    "import scipy.io as spio\n",
    "import pickle\n",
    "import warnings\n",
    "\n",
    "from tqdm import tqdm\n",
    "from scipy import stats\n",
    "from scipy.ndimage import gaussian_filter1d\n",
    "from io_utils import *\n",
    "from plotting_utils import * \n",
    "\n",
    "\n",
    "# settings\n",
    "%load_ext autoreload\n",
    "%autoreload 2\n",
    "sns.set_context(\"talk\")"
   ]
  },
  {
   "cell_type": "markdown",
   "id": "1bd487e9",
   "metadata": {},
   "source": [
    "### Set paths & defaults"
   ]
  },
  {
   "cell_type": "code",
   "execution_count": 2,
   "id": "1ba9e8d2",
   "metadata": {},
   "outputs": [],
   "source": [
    "### Set paths & defaults\n",
    "\n",
    "sess_names = np.array(['data_sdb_20190724_193007_fromSD', 'data_sdc_20190902_145404_fromSD', 'W122_07_27_2019_1_fromSD', \n",
    "            'W122_08_06_2019_1_fromSD', 'W122_08_07_2019_1_fromSD', 'W122_08_31_2019_1_fromSD', 'W122_09_04_2019_1_fromSD',\n",
    "            'W122_09_09_2019_1_fromSD', 'W122_09_12_2019_1_fromSD','W122_09_21_2019_1_fromSD', 'W122_09_24_2019_1_fromSD'])\n",
    "\n",
    "base_path  = 'Y:\\jbreda\\ephys\\post_sort_analysis\\sorted_pre_bdata' \n",
    "beh_mat   = 'protocol_info.mat'\n",
    "spks_mat  = 'ksphy_clusters_foranalysis.mat'\n",
    "\n",
    "\n",
    "# create paths\n",
    "sess_paths = [os.path.join(base_path, sess) for sess in sess_names]\n",
    "beh_paths  = [os.path.join(path, beh_mat) for path in sess_paths]\n",
    "spks_paths = [os.path.join(path, spks_mat) for path in sess_paths]\n",
    "\n",
    "# alginment info (hard coded here & in fx)\n",
    "names = ['aud1on', 'aud1off', 'aud2on', 'aud2off', 'trial_all', 'delay_overlap', \n",
    "         'delay2s', 'trial2s', 'delay4s', 'trial4s']\n",
    "windows = [[-400, 600], [-500, 500], [-400, 600], [-500, 500], [-100, 5000], [-300, 2300],\n",
    "           [-150, 2150],[-200, 2400], [-150, 4150], [-200, 4400]]\n",
    "\n",
    "align_windows = dict(zip(names,windows))"
   ]
  },
  {
   "cell_type": "code",
   "execution_count": 3,
   "id": "b5929f7f",
   "metadata": {},
   "outputs": [
    {
     "data": {
      "text/plain": [
       "{'aud1on': [-400, 600],\n",
       " 'aud1off': [-500, 500],\n",
       " 'aud2on': [-400, 600],\n",
       " 'aud2off': [-500, 500],\n",
       " 'trial_all': [-100, 5000],\n",
       " 'delay_overlap': [-300, 2300],\n",
       " 'delay2s': [-150, 2150],\n",
       " 'trial2s': [-200, 2400],\n",
       " 'delay4s': [-150, 4150],\n",
       " 'trial4s': [-200, 4400]}"
      ]
     },
     "execution_count": 3,
     "metadata": {},
     "output_type": "execute_result"
    }
   ],
   "source": [
    "align_windows"
   ]
  },
  {
   "cell_type": "markdown",
   "id": "268ee524",
   "metadata": {},
   "source": [
    "### Load in data & align spikes to events - 2 and 4 second delay period\n",
    "\n",
    "I'm filtering the dataframe below specifically for delay analysis (no psychometric sounds, no violations, no 6 second trials)"
   ]
  },
  {
   "cell_type": "code",
   "execution_count": 20,
   "id": "49afb131",
   "metadata": {},
   "outputs": [
    {
     "name": "stdout",
     "output_type": "stream",
     "text": [
      "Loading session data_sdb_20190724_193007_fromSD\n",
      "Aligning to events\n",
      "loading from file...\n",
      "Plotting\n"
     ]
    },
    {
     "name": "stderr",
     "output_type": "stream",
     "text": [
      "C:\\Users\\JB\\github\\jbreda_PWM_ephys_analysis\\plotting_utils.py:176: RuntimeWarning: Mean of empty slice\n",
      "  smoothed_mean = np.nanmean(np.array(smoothed_trials), axis=0)\n"
     ]
    },
    {
     "ename": "IndexError",
     "evalue": "index 42 is out of bounds for axis 0 with size 41",
     "output_type": "error",
     "traceback": [
      "\u001b[1;31m---------------------------------------------------------------------------\u001b[0m",
      "\u001b[1;31mIndexError\u001b[0m                                Traceback (most recent call last)",
      "\u001b[1;32m<ipython-input-20-2180f9fa9953>\u001b[0m in \u001b[0;36m<module>\u001b[1;34m\u001b[0m\n\u001b[0;32m     23\u001b[0m \u001b[1;33m\u001b[0m\u001b[0m\n\u001b[0;32m     24\u001b[0m     run_delay_analysis_for_session(name, sess_aligned, align_windows, events, \n\u001b[1;32m---> 25\u001b[1;33m                                    dfs, fig_save_path, path)\n\u001b[0m\u001b[0;32m     26\u001b[0m \u001b[1;33m\u001b[0m\u001b[0m\n",
      "\u001b[1;32m~\\github\\jbreda_PWM_ephys_analysis\\plotting_utils.py\u001b[0m in \u001b[0;36mrun_delay_analysis_for_session\u001b[1;34m(sess_name, sess_aligned, align_windows, events, dfs, fig_save_path, sess_path)\u001b[0m\n\u001b[0;32m    547\u001b[0m \u001b[1;33m\u001b[0m\u001b[0m\n\u001b[0;32m    548\u001b[0m         analyze_and_plot_loudness(sess_name, sess_aligned, align_windows,\n\u001b[1;32m--> 549\u001b[1;33m                                   event, df, fig_save_path, sess_path)\n\u001b[0m",
      "\u001b[1;32m~\\github\\jbreda_PWM_ephys_analysis\\plotting_utils.py\u001b[0m in \u001b[0;36manalyze_and_plot_loudness\u001b[1;34m(sess_name, sess_aligned, align_windows, event, df, fig_save_path, sess_path)\u001b[0m\n\u001b[0;32m    502\u001b[0m         \u001b[1;31m# calculate psth via gaussian and boxcar\u001b[0m\u001b[1;33m\u001b[0m\u001b[1;33m\u001b[0m\u001b[1;33m\u001b[0m\u001b[0m\n\u001b[0;32m    503\u001b[0m         psth_g = PSTH_gaussain(sess_aligned[neuron], align_windows, event, df,\n\u001b[1;32m--> 504\u001b[1;33m                                conditions='first_sound', sigma=150)\n\u001b[0m\u001b[0;32m    505\u001b[0m         psth_b = PSTH_boxcar(sess_aligned[neuron], align_windows, event, df,\n\u001b[0;32m    506\u001b[0m                              conditions='first_sound', bin_size=0.150)\n",
      "\u001b[1;32m~\\github\\jbreda_PWM_ephys_analysis\\plotting_utils.py\u001b[0m in \u001b[0;36mPSTH_gaussain\u001b[1;34m(event_aligned_spks, event_aligned_windows, event, df, conditions, bin_size, sigma)\u001b[0m\n\u001b[0;32m     72\u001b[0m \u001b[1;33m\u001b[0m\u001b[0m\n\u001b[0;32m     73\u001b[0m         \u001b[1;31m# grab the trials for each condition\u001b[0m\u001b[1;33m\u001b[0m\u001b[1;33m\u001b[0m\u001b[1;33m\u001b[0m\u001b[0m\n\u001b[1;32m---> 74\u001b[1;33m         \u001b[0mselected_trials\u001b[0m \u001b[1;33m=\u001b[0m \u001b[0mbinarized_spks\u001b[0m\u001b[1;33m[\u001b[0m\u001b[0midxs\u001b[0m\u001b[1;33m]\u001b[0m\u001b[1;33m\u001b[0m\u001b[1;33m\u001b[0m\u001b[0m\n\u001b[0m\u001b[0;32m     75\u001b[0m \u001b[1;33m\u001b[0m\u001b[0m\n\u001b[0;32m     76\u001b[0m         \u001b[1;31m# convolve\u001b[0m\u001b[1;33m\u001b[0m\u001b[1;33m\u001b[0m\u001b[1;33m\u001b[0m\u001b[0m\n",
      "\u001b[1;31mIndexError\u001b[0m: index 42 is out of bounds for axis 0 with size 41"
     ]
    }
   ],
   "source": [
    "events = ['delay2s', 'delay4s']\n",
    "fig_save_path = os.path.join(os.getcwd(), 'figures', 'delay_loudness', '2s_4s_separate')\n",
    "\n",
    "for name, path, behp, spksp in zip(sess_names, sess_paths, beh_paths, spks_paths):\n",
    "    \n",
    "    print(f\"Loading session {name}\")\n",
    "\n",
    "    beh_df, spks_dict = load_and_wrangle(behp, spksp, overwrite=False)\n",
    "    \n",
    "    delay_analysis_df = beh_df[(beh_df['delay'] != 6) & (beh_df['first_sound'] != 'psycho') &\n",
    "                                     (beh_df['hit_hist'] != 'viol')]\n",
    "    \n",
    "    del_2_df = delay_analysis_df[(delay_analysis_df['delay'] == 2)] \n",
    "    del_4_df = delay_analysis_df[(delay_analysis_df['delay'] == 4)]\n",
    "    dfs = [del_2_df, del_4_df]\n",
    "    \n",
    "    print(\"Aligning to events\")\n",
    "    \n",
    "    sess_aligned = event_align_session(spks_dict, delay_analysis_df, path, overwrite=False, \n",
    "                                   file_name='delay_analysis_aligned_spks.pkl')\n",
    "    \n",
    "    print(\"Plotting\")\n",
    "    \n",
    "    run_delay_analysis_for_session(name, sess_aligned, align_windows, events, \n",
    "                                   dfs, fig_save_path, path)\n",
    "    "
   ]
  },
  {
   "cell_type": "markdown",
   "id": "1f9aa7c2",
   "metadata": {},
   "source": [
    "### Load in data & align spikes to events- overlapping 2s of both delay periods\n",
    "\n",
    "The figures above appeared to have no affect of first sound loudness on firing rate. In going back to the fiugres from last meeting, I realized I was only doing hit trials, and I collapsed the 2 and 4 s trials together and only looked at the first 2000 ms of delay. So, I will try to repeate this."
   ]
  },
  {
   "cell_type": "code",
   "execution_count": 4,
   "id": "9c981b36",
   "metadata": {},
   "outputs": [
    {
     "name": "stdout",
     "output_type": "stream",
     "text": [
      "Loading session data_sdb_20190724_193007_fromSD\n",
      "Aligning to events\n",
      "loading from file...\n",
      "Plotting\n"
     ]
    },
    {
     "name": "stderr",
     "output_type": "stream",
     "text": [
      "C:\\Users\\JB\\github\\jbreda_PWM_ephys_analysis\\plotting_utils.py:176: RuntimeWarning: Mean of empty slice\n",
      "  smoothed_mean = np.nanmean(np.array(smoothed_trials), axis=0)\n",
      "C:\\Users\\JB\\github\\jbreda_PWM_ephys_analysis\\plotting_utils.py:294: RuntimeWarning: Mean of empty slice\n",
      "  counted_mean = np.nanmean(counted_spks, axis = 0)\n",
      "C:\\Users\\JB\\github\\jbreda_PWM_ephys_analysis\\plotting_utils.py:357: RuntimeWarning: All-NaN axis encountered\n",
      "  y_min = (1 - scale) * np.nanmin([np.min(mean[cond_id]) for cond_id in mean.keys()])\n",
      "C:\\Users\\JB\\github\\jbreda_PWM_ephys_analysis\\plotting_utils.py:358: RuntimeWarning: All-NaN axis encountered\n",
      "  y_max = (1 - scale) * np.nanmax([np.max(mean[cond_id]) for cond_id in mean.keys()])\n"
     ]
    },
    {
     "name": "stdout",
     "output_type": "stream",
     "text": [
      "for 0.0001* there are 2 for this session\n",
      "for 0.0027 there are 20 for this session\n",
      "for 0.0073 there are 26 for this session\n",
      "for 0.0197 there are 33 for this session\n",
      "for 0.0531* there are 13 for this session\n"
     ]
    },
    {
     "name": "stderr",
     "output_type": "stream",
     "text": [
      "C:\\Users\\JB\\github\\jbreda_PWM_ephys_analysis\\plotting_utils.py:357: RuntimeWarning: All-NaN axis encountered\n",
      "  y_min = (1 - scale) * np.nanmin([np.min(mean[cond_id]) for cond_id in mean.keys()])\n",
      "C:\\Users\\JB\\github\\jbreda_PWM_ephys_analysis\\plotting_utils.py:358: RuntimeWarning: All-NaN axis encountered\n",
      "  y_max = (1 - scale) * np.nanmax([np.max(mean[cond_id]) for cond_id in mean.keys()])\n",
      "C:\\Users\\JB\\github\\jbreda_PWM_ephys_analysis\\plotting_utils.py:294: RuntimeWarning: Mean of empty slice\n",
      "  counted_mean = np.nanmean(counted_spks, axis = 0)\n"
     ]
    },
    {
     "name": "stdout",
     "output_type": "stream",
     "text": [
      "for 0.0001* there are 2 for this session\n",
      "for 0.0027 there are 20 for this session\n",
      "for 0.0073 there are 26 for this session\n",
      "for 0.0197 there are 33 for this session\n",
      "for 0.0531* there are 13 for this session\n"
     ]
    },
    {
     "name": "stderr",
     "output_type": "stream",
     "text": [
      "C:\\Users\\JB\\github\\jbreda_PWM_ephys_analysis\\plotting_utils.py:294: RuntimeWarning: Mean of empty slice\n",
      "  counted_mean = np.nanmean(counted_spks, axis = 0)\n"
     ]
    },
    {
     "name": "stdout",
     "output_type": "stream",
     "text": [
      "for 0.0001* there are 2 for this session\n",
      "for 0.0027 there are 20 for this session\n",
      "for 0.0073 there are 26 for this session\n",
      "for 0.0197 there are 33 for this session\n",
      "for 0.0531* there are 13 for this session\n",
      "for 0.0001* there are 2 for this session\n",
      "for 0.0027 there are 20 for this session\n",
      "for 0.0073 there are 26 for this session\n",
      "for 0.0197 there are 33 for this session\n",
      "for 0.0531* there are 13 for this session\n",
      "Loading session data_sdc_20190902_145404_fromSD\n",
      "Aligning to events\n",
      "loading from file...\n",
      "Plotting\n",
      "for 0.0001* there are 13 for this session\n",
      "for 0.0027 there are 46 for this session\n",
      "for 0.0073 there are 41 for this session\n",
      "for 0.0197 there are 32 for this session\n",
      "for 0.0531* there are 21 for this session\n",
      "for 0.0001* there are 13 for this session\n",
      "for 0.0027 there are 46 for this session\n",
      "for 0.0073 there are 41 for this session\n",
      "for 0.0197 there are 32 for this session\n",
      "for 0.0531* there are 21 for this session\n",
      "for 0.0001* there are 13 for this session\n",
      "for 0.0027 there are 46 for this session\n",
      "for 0.0073 there are 41 for this session\n",
      "for 0.0197 there are 32 for this session\n",
      "for 0.0531* there are 21 for this session\n"
     ]
    },
    {
     "name": "stderr",
     "output_type": "stream",
     "text": [
      "C:\\Users\\JB\\github\\jbreda_PWM_ephys_analysis\\plotting_utils.py:294: RuntimeWarning: Mean of empty slice\n",
      "  counted_mean = np.nanmean(counted_spks, axis = 0)\n"
     ]
    },
    {
     "name": "stdout",
     "output_type": "stream",
     "text": [
      "for 0.0001* there are 13 for this session\n",
      "for 0.0027 there are 46 for this session\n",
      "for 0.0073 there are 41 for this session\n",
      "for 0.0197 there are 32 for this session\n",
      "for 0.0531* there are 21 for this session\n",
      "Loading session W122_07_27_2019_1_fromSD\n",
      "Aligning to events\n",
      "loading from file...\n",
      "Plotting\n"
     ]
    },
    {
     "name": "stderr",
     "output_type": "stream",
     "text": [
      "C:\\Users\\JB\\github\\jbreda_PWM_ephys_analysis\\plotting_utils.py:294: RuntimeWarning: Mean of empty slice\n",
      "  counted_mean = np.nanmean(counted_spks, axis = 0)\n"
     ]
    },
    {
     "name": "stdout",
     "output_type": "stream",
     "text": [
      "for 0.0001* there are 2 for this session\n",
      "for 0.0027 there are 20 for this session\n",
      "for 0.0073 there are 22 for this session\n",
      "for 0.0197 there are 44 for this session\n",
      "for 0.0531* there are 25 for this session\n"
     ]
    },
    {
     "name": "stderr",
     "output_type": "stream",
     "text": [
      "C:\\Users\\JB\\github\\jbreda_PWM_ephys_analysis\\plotting_utils.py:176: RuntimeWarning: Mean of empty slice\n",
      "  smoothed_mean = np.nanmean(np.array(smoothed_trials), axis=0)\n",
      "C:\\Users\\JB\\github\\jbreda_PWM_ephys_analysis\\plotting_utils.py:294: RuntimeWarning: Mean of empty slice\n",
      "  counted_mean = np.nanmean(counted_spks, axis = 0)\n"
     ]
    },
    {
     "name": "stdout",
     "output_type": "stream",
     "text": [
      "for 0.0001* there are 2 for this session\n",
      "for 0.0027 there are 20 for this session\n",
      "for 0.0073 there are 22 for this session\n",
      "for 0.0197 there are 44 for this session\n",
      "for 0.0531* there are 25 for this session\n"
     ]
    },
    {
     "name": "stderr",
     "output_type": "stream",
     "text": [
      "C:\\Users\\JB\\github\\jbreda_PWM_ephys_analysis\\plotting_utils.py:294: RuntimeWarning: Mean of empty slice\n",
      "  counted_mean = np.nanmean(counted_spks, axis = 0)\n"
     ]
    },
    {
     "name": "stdout",
     "output_type": "stream",
     "text": [
      "for 0.0001* there are 2 for this session\n",
      "for 0.0027 there are 20 for this session\n",
      "for 0.0073 there are 22 for this session\n",
      "for 0.0197 there are 44 for this session\n",
      "for 0.0531* there are 25 for this session\n",
      "Loading session W122_08_06_2019_1_fromSD\n",
      "Aligning to events\n",
      "loading from file...\n",
      "Plotting\n",
      "for 0.0001* there are 14 for this session\n",
      "for 0.0027 there are 49 for this session\n",
      "for 0.0073 there are 45 for this session\n",
      "for 0.0197 there are 44 for this session\n",
      "for 0.0531* there are 26 for this session\n",
      "for 0.0001* there are 14 for this session\n",
      "for 0.0027 there are 49 for this session\n",
      "for 0.0073 there are 45 for this session\n",
      "for 0.0197 there are 44 for this session\n",
      "for 0.0531* there are 26 for this session\n",
      "for 0.0001* there are 14 for this session\n",
      "for 0.0027 there are 49 for this session\n",
      "for 0.0073 there are 45 for this session\n",
      "for 0.0197 there are 44 for this session\n",
      "for 0.0531* there are 26 for this session\n",
      "for 0.0001* there are 14 for this session\n",
      "for 0.0027 there are 49 for this session\n",
      "for 0.0073 there are 45 for this session\n",
      "for 0.0197 there are 44 for this session\n",
      "for 0.0531* there are 26 for this session\n",
      "Loading session W122_08_07_2019_1_fromSD\n",
      "Aligning to events\n",
      "loading from file...\n",
      "Plotting\n",
      "for 0.0001* there are 5 for this session\n",
      "for 0.0027 there are 24 for this session\n",
      "for 0.0073 there are 17 for this session\n",
      "for 0.0197 there are 23 for this session\n",
      "for 0.0531* there are 13 for this session\n",
      "for 0.0001* there are 5 for this session\n",
      "for 0.0027 there are 24 for this session\n",
      "for 0.0073 there are 17 for this session\n",
      "for 0.0197 there are 23 for this session\n",
      "for 0.0531* there are 13 for this session\n",
      "for 0.0001* there are 5 for this session\n",
      "for 0.0027 there are 24 for this session\n",
      "for 0.0073 there are 17 for this session\n",
      "for 0.0197 there are 23 for this session\n",
      "for 0.0531* there are 13 for this session\n",
      "for 0.0001* there are 5 for this session\n",
      "for 0.0027 there are 24 for this session\n",
      "for 0.0073 there are 17 for this session\n",
      "for 0.0197 there are 23 for this session\n",
      "for 0.0531* there are 13 for this session\n"
     ]
    },
    {
     "name": "stderr",
     "output_type": "stream",
     "text": [
      "C:\\Users\\JB\\github\\jbreda_PWM_ephys_analysis\\plotting_utils.py:294: RuntimeWarning: Mean of empty slice\n",
      "  counted_mean = np.nanmean(counted_spks, axis = 0)\n"
     ]
    },
    {
     "name": "stdout",
     "output_type": "stream",
     "text": [
      "for 0.0001* there are 5 for this session\n",
      "for 0.0027 there are 24 for this session\n",
      "for 0.0073 there are 17 for this session\n",
      "for 0.0197 there are 23 for this session\n",
      "for 0.0531* there are 13 for this session\n"
     ]
    },
    {
     "name": "stderr",
     "output_type": "stream",
     "text": [
      "C:\\Users\\JB\\github\\jbreda_PWM_ephys_analysis\\plotting_utils.py:294: RuntimeWarning: Mean of empty slice\n",
      "  counted_mean = np.nanmean(counted_spks, axis = 0)\n"
     ]
    },
    {
     "name": "stdout",
     "output_type": "stream",
     "text": [
      "for 0.0001* there are 5 for this session\n",
      "for 0.0027 there are 24 for this session\n",
      "for 0.0073 there are 17 for this session\n",
      "for 0.0197 there are 23 for this session\n",
      "for 0.0531* there are 13 for this session\n",
      "Loading session W122_08_31_2019_1_fromSD\n",
      "Aligning to events\n",
      "loading from file...\n",
      "Plotting\n"
     ]
    },
    {
     "name": "stderr",
     "output_type": "stream",
     "text": [
      "C:\\Users\\JB\\github\\jbreda_PWM_ephys_analysis\\plotting_utils.py:294: RuntimeWarning: Mean of empty slice\n",
      "  counted_mean = np.nanmean(counted_spks, axis = 0)\n",
      "C:\\Users\\JB\\github\\jbreda_PWM_ephys_analysis\\plotting_utils.py:357: RuntimeWarning: All-NaN axis encountered\n",
      "  y_min = (1 - scale) * np.nanmin([np.min(mean[cond_id]) for cond_id in mean.keys()])\n",
      "C:\\Users\\JB\\github\\jbreda_PWM_ephys_analysis\\plotting_utils.py:358: RuntimeWarning: All-NaN axis encountered\n",
      "  y_max = (1 - scale) * np.nanmax([np.max(mean[cond_id]) for cond_id in mean.keys()])\n"
     ]
    },
    {
     "name": "stdout",
     "output_type": "stream",
     "text": [
      "for 0.0001* there are 8 for this session\n",
      "for 0.0027 there are 32 for this session\n",
      "for 0.0073 there are 28 for this session\n",
      "for 0.0197 there are 42 for this session\n",
      "for 0.0531* there are 20 for this session\n",
      "for 0.0001* there are 8 for this session\n",
      "for 0.0027 there are 32 for this session\n",
      "for 0.0073 there are 28 for this session\n",
      "for 0.0197 there are 42 for this session\n",
      "for 0.0531* there are 20 for this session\n",
      "for 0.0001* there are 8 for this session\n",
      "for 0.0027 there are 32 for this session\n",
      "for 0.0073 there are 28 for this session\n",
      "for 0.0197 there are 42 for this session\n",
      "for 0.0531* there are 20 for this session\n",
      "for 0.0001* there are 8 for this session\n",
      "for 0.0027 there are 32 for this session\n",
      "for 0.0073 there are 28 for this session\n",
      "for 0.0197 there are 42 for this session\n",
      "for 0.0531* there are 20 for this session\n",
      "Loading session W122_09_04_2019_1_fromSD\n",
      "Aligning to events\n",
      "loading from file...\n",
      "Plotting\n"
     ]
    },
    {
     "name": "stderr",
     "output_type": "stream",
     "text": [
      "C:\\Users\\JB\\github\\jbreda_PWM_ephys_analysis\\plotting_utils.py:294: RuntimeWarning: Mean of empty slice\n",
      "  counted_mean = np.nanmean(counted_spks, axis = 0)\n"
     ]
    },
    {
     "name": "stdout",
     "output_type": "stream",
     "text": [
      "for 0.0001* there are 6 for this session\n",
      "for 0.0027 there are 27 for this session\n",
      "for 0.0073 there are 19 for this session\n",
      "for 0.0197 there are 34 for this session\n",
      "for 0.0531* there are 12 for this session\n",
      "for 0.0001* there are 6 for this session\n",
      "for 0.0027 there are 27 for this session\n",
      "for 0.0073 there are 19 for this session\n",
      "for 0.0197 there are 34 for this session\n",
      "for 0.0531* there are 12 for this session\n",
      "Loading session W122_09_09_2019_1_fromSD\n",
      "Aligning to events\n",
      "loading from file...\n",
      "Plotting\n"
     ]
    },
    {
     "name": "stderr",
     "output_type": "stream",
     "text": [
      "C:\\Users\\JB\\anaconda3\\envs\\PWM_ephys\\lib\\site-packages\\numpy\\core\\_methods.py:234: RuntimeWarning: Degrees of freedom <= 0 for slice\n",
      "  keepdims=keepdims)\n",
      "C:\\Users\\JB\\anaconda3\\envs\\PWM_ephys\\lib\\site-packages\\numpy\\core\\_methods.py:224: RuntimeWarning: invalid value encountered in true_divide\n",
      "  ret, rcount, out=ret, casting='unsafe', subok=False)\n"
     ]
    },
    {
     "name": "stdout",
     "output_type": "stream",
     "text": [
      "for 0.0001* there are 1 for this session\n",
      "for 0.0027 there are 14 for this session\n",
      "for 0.0073 there are 10 for this session\n",
      "for 0.0197 there are 10 for this session\n",
      "for 0.0531* there are 7 for this session\n"
     ]
    },
    {
     "name": "stderr",
     "output_type": "stream",
     "text": [
      "C:\\Users\\JB\\anaconda3\\envs\\PWM_ephys\\lib\\site-packages\\numpy\\core\\_methods.py:234: RuntimeWarning: Degrees of freedom <= 0 for slice\n",
      "  keepdims=keepdims)\n",
      "C:\\Users\\JB\\anaconda3\\envs\\PWM_ephys\\lib\\site-packages\\numpy\\core\\_methods.py:224: RuntimeWarning: invalid value encountered in true_divide\n",
      "  ret, rcount, out=ret, casting='unsafe', subok=False)\n"
     ]
    },
    {
     "name": "stdout",
     "output_type": "stream",
     "text": [
      "for 0.0001* there are 1 for this session\n",
      "for 0.0027 there are 14 for this session\n",
      "for 0.0073 there are 10 for this session\n",
      "for 0.0197 there are 10 for this session\n",
      "for 0.0531* there are 7 for this session\n"
     ]
    },
    {
     "name": "stderr",
     "output_type": "stream",
     "text": [
      "C:\\Users\\JB\\github\\jbreda_PWM_ephys_analysis\\plotting_utils.py:176: RuntimeWarning: Mean of empty slice\n",
      "  smoothed_mean = np.nanmean(np.array(smoothed_trials), axis=0)\n",
      "C:\\Users\\JB\\github\\jbreda_PWM_ephys_analysis\\plotting_utils.py:294: RuntimeWarning: Mean of empty slice\n",
      "  counted_mean = np.nanmean(counted_spks, axis = 0)\n",
      "C:\\Users\\JB\\github\\jbreda_PWM_ephys_analysis\\plotting_utils.py:357: RuntimeWarning: All-NaN axis encountered\n",
      "  y_min = (1 - scale) * np.nanmin([np.min(mean[cond_id]) for cond_id in mean.keys()])\n",
      "C:\\Users\\JB\\github\\jbreda_PWM_ephys_analysis\\plotting_utils.py:358: RuntimeWarning: All-NaN axis encountered\n",
      "  y_max = (1 - scale) * np.nanmax([np.max(mean[cond_id]) for cond_id in mean.keys()])\n"
     ]
    },
    {
     "name": "stdout",
     "output_type": "stream",
     "text": [
      "for 0.0001* there are 1 for this session\n",
      "for 0.0027 there are 14 for this session\n",
      "for 0.0073 there are 10 for this session\n",
      "for 0.0197 there are 10 for this session\n",
      "for 0.0531* there are 7 for this session\n",
      "Loading session W122_09_12_2019_1_fromSD\n",
      "Aligning to events\n",
      "loading from file...\n",
      "Plotting\n",
      "for 0.0001* there are 12 for this session\n",
      "for 0.0027 there are 25 for this session\n",
      "for 0.0073 there are 41 for this session\n",
      "for 0.0197 there are 37 for this session\n",
      "for 0.0531* there are 20 for this session\n",
      "for 0.0001* there are 12 for this session\n",
      "for 0.0027 there are 25 for this session\n",
      "for 0.0073 there are 41 for this session\n",
      "for 0.0197 there are 37 for this session\n",
      "for 0.0531* there are 20 for this session\n",
      "for 0.0001* there are 12 for this session\n",
      "for 0.0027 there are 25 for this session\n",
      "for 0.0073 there are 41 for this session\n",
      "for 0.0197 there are 37 for this session\n",
      "for 0.0531* there are 20 for this session\n",
      "for 0.0001* there are 12 for this session\n",
      "for 0.0027 there are 25 for this session\n",
      "for 0.0073 there are 41 for this session\n",
      "for 0.0197 there are 37 for this session\n",
      "for 0.0531* there are 20 for this session\n",
      "Loading session W122_09_21_2019_1_fromSD\n",
      "Aligning to events\n",
      "loading from file...\n",
      "Plotting\n"
     ]
    },
    {
     "name": "stderr",
     "output_type": "stream",
     "text": [
      "C:\\Users\\JB\\github\\jbreda_PWM_ephys_analysis\\plotting_utils.py:294: RuntimeWarning: Mean of empty slice\n",
      "  counted_mean = np.nanmean(counted_spks, axis = 0)\n"
     ]
    },
    {
     "name": "stdout",
     "output_type": "stream",
     "text": [
      "for 0.0001* there are 11 for this session\n",
      "for 0.0027 there are 32 for this session\n",
      "for 0.0073 there are 47 for this session\n",
      "for 0.0197 there are 49 for this session\n",
      "for 0.0531* there are 20 for this session\n",
      "for 0.0001* there are 11 for this session\n",
      "for 0.0027 there are 32 for this session\n",
      "for 0.0073 there are 47 for this session\n",
      "for 0.0197 there are 49 for this session\n",
      "for 0.0531* there are 20 for this session\n"
     ]
    },
    {
     "name": "stderr",
     "output_type": "stream",
     "text": [
      "C:\\Users\\JB\\github\\jbreda_PWM_ephys_analysis\\plotting_utils.py:294: RuntimeWarning: Mean of empty slice\n",
      "  counted_mean = np.nanmean(counted_spks, axis = 0)\n"
     ]
    },
    {
     "name": "stdout",
     "output_type": "stream",
     "text": [
      "for 0.0001* there are 11 for this session\n",
      "for 0.0027 there are 32 for this session\n",
      "for 0.0073 there are 47 for this session\n",
      "for 0.0197 there are 49 for this session\n",
      "for 0.0531* there are 20 for this session\n"
     ]
    },
    {
     "name": "stderr",
     "output_type": "stream",
     "text": [
      "C:\\Users\\JB\\github\\jbreda_PWM_ephys_analysis\\plotting_utils.py:294: RuntimeWarning: Mean of empty slice\n",
      "  counted_mean = np.nanmean(counted_spks, axis = 0)\n"
     ]
    },
    {
     "name": "stdout",
     "output_type": "stream",
     "text": [
      "for 0.0001* there are 11 for this session\n",
      "for 0.0027 there are 32 for this session\n",
      "for 0.0073 there are 47 for this session\n",
      "for 0.0197 there are 49 for this session\n",
      "for 0.0531* there are 20 for this session\n",
      "for 0.0001* there are 11 for this session\n",
      "for 0.0027 there are 32 for this session\n",
      "for 0.0073 there are 47 for this session\n",
      "for 0.0197 there are 49 for this session\n",
      "for 0.0531* there are 20 for this session\n",
      "Loading session W122_09_24_2019_1_fromSD\n",
      "Aligning to events\n",
      "loading from file...\n",
      "Plotting\n",
      "for 0.0001* there are 13 for this session\n",
      "for 0.0027 there are 27 for this session\n",
      "for 0.0073 there are 37 for this session\n",
      "for 0.0197 there are 42 for this session\n",
      "for 0.0531* there are 24 for this session\n",
      "for 0.0001* there are 13 for this session\n",
      "for 0.0027 there are 27 for this session\n",
      "for 0.0073 there are 37 for this session\n",
      "for 0.0197 there are 42 for this session\n",
      "for 0.0531* there are 24 for this session\n"
     ]
    }
   ],
   "source": [
    "events = ['delay_overlap']\n",
    "\n",
    "for name, path, behp, spksp in zip(sess_names, sess_paths, beh_paths, spks_paths):\n",
    "    \n",
    "    print(f\"Loading session {name}\")\n",
    "  \n",
    "    beh_df, spks_dict = load_and_wrangle(behp, spksp, overwrite=False)\n",
    "    \n",
    "    delay_analysis_df = beh_df[(beh_df['delay'] != 6) & (beh_df['first_sound'] != 'psycho') &\n",
    "                                     (beh_df['hit_hist'] == 'hit')]\n",
    "    \n",
    "    dfs = [delay_analysis_df] # keeping the same structure as above\n",
    "    \n",
    "    print(\"Aligning to events\")\n",
    "    \n",
    "    sess_aligned = event_align_session(spks_dict, delay_analysis_df, path, overwrite=False, \n",
    "                                   file_name='delay_analysis_aligned_spks.pkl')\n",
    "    \n",
    "    print(\"Plotting\")\n",
    "    \n",
    "    # Note, switched the window here for regression to be [300:-300] becuase of how\n",
    "    # alignmnet was performed (currently line 399 in plotting utils)\n",
    "    run_delay_analysis_for_session(name, sess_aligned, align_windows, events, \n",
    "                                   dfs, fig_save_path, path)\n",
    "    "
   ]
  },
  {
   "cell_type": "code",
   "execution_count": null,
   "id": "da63edc0",
   "metadata": {},
   "outputs": [],
   "source": []
  }
 ],
 "metadata": {
  "kernelspec": {
   "display_name": "Python 3",
   "language": "python",
   "name": "python3"
  },
  "language_info": {
   "codemirror_mode": {
    "name": "ipython",
    "version": 3
   },
   "file_extension": ".py",
   "mimetype": "text/x-python",
   "name": "python",
   "nbconvert_exporter": "python",
   "pygments_lexer": "ipython3",
   "version": "3.7.10"
  }
 },
 "nbformat": 4,
 "nbformat_minor": 5
}
