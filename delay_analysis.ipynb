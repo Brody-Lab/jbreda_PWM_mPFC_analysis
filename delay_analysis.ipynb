{
 "cells": [
  {
   "cell_type": "markdown",
   "id": "043d9fc7",
   "metadata": {},
   "source": [
    "# 2021_05_03 Delay Analysis\n",
    "\n",
    "Notebook to perform analysis on delay period (2 or 4 seconds) of PWM task recording from mPFC. Functions tested & debugged in event_centering.ipynb and moving here for clean start\n",
    "\n",
    "### Libraries & Settings"
   ]
  },
  {
   "cell_type": "code",
   "execution_count": 1,
   "id": "07207e4c",
   "metadata": {},
   "outputs": [],
   "source": [
    "# libraries\n",
    "import sys; sys.path.insert(0, '..') # if you don't find it here, look one above\n",
    "import os\n",
    "import numpy as np\n",
    "import matplotlib.pyplot as plt\n",
    "import pandas as pd\n",
    "import seaborn as sns\n",
    "import scipy.io as spio\n",
    "import pickle\n",
    "\n",
    "from tqdm import tqdm\n",
    "from scipy import stats\n",
    "from scipy.ndimage import gaussian_filter1d\n",
    "from io_utils import *\n",
    "from plotting_utils import * \n",
    "\n",
    "\n",
    "# settings\n",
    "%load_ext autoreload\n",
    "%autoreload 2\n",
    "sns.set_context(\"talk\")"
   ]
  },
  {
   "cell_type": "markdown",
   "id": "a13a8238",
   "metadata": {},
   "source": [
    "### Set paths & Defaults"
   ]
  },
  {
   "cell_type": "code",
   "execution_count": 3,
   "id": "7144e0f9",
   "metadata": {},
   "outputs": [],
   "source": [
    "sess_name = 'W122_08_06_2019_1_fromSD'\n",
    "fig_save_path = os.path.join(os.getcwd(), 'figures', 'neurovis', sess_name)"
   ]
  },
  {
   "cell_type": "code",
   "execution_count": 4,
   "id": "b81b41d8",
   "metadata": {},
   "outputs": [],
   "source": [
    "base_path  = 'Y:\\jbreda\\ephys\\post_sort_analysis\\sorted_pre_bdata' \n",
    "beh_mat   = 'protocol_info.mat'\n",
    "spks_mat  = 'ksphy_clusters_foranalysis.mat'\n",
    "\n",
    "# create paths\n",
    "sess_path = os.path.join(base_path, sess_name)\n",
    "beh_path  = os.path.join(sess_path, beh_mat)\n",
    "spks_path = os.path.join(sess_path, spks_mat)\n",
    "\n",
    "# alginment info (hard coded here & in fx)\n",
    "names = ['aud1on', 'aud1off', 'aud2on', 'aud2off', 'trial_all', \n",
    "         'delay2s', 'trial2s', 'delay4s', 'trial4s']\n",
    "windows = [[-400, 600], [-500, 500], [-400, 600], [-500, 500], [-100, 5000],\n",
    "           [-150, 2150],[-200, 2400], [-150, 4150], [-200, 4400]]\n",
    "\n",
    "align_windows = dict(zip(names,windows))"
   ]
  },
  {
   "cell_type": "code",
   "execution_count": null,
   "id": "5026b5aa",
   "metadata": {},
   "outputs": [],
   "source": []
  }
 ],
 "metadata": {
  "kernelspec": {
   "display_name": "Python 3",
   "language": "python",
   "name": "python3"
  },
  "language_info": {
   "codemirror_mode": {
    "name": "ipython",
    "version": 3
   },
   "file_extension": ".py",
   "mimetype": "text/x-python",
   "name": "python",
   "nbconvert_exporter": "python",
   "pygments_lexer": "ipython3",
   "version": "3.7.10"
  }
 },
 "nbformat": 4,
 "nbformat_minor": 5
}
