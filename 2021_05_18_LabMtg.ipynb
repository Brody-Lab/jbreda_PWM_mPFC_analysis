{
 "cells": [
  {
   "cell_type": "markdown",
   "id": "8471de6b",
   "metadata": {},
   "source": [
    "## Lab Meeting Analyses"
   ]
  },
  {
   "cell_type": "code",
   "execution_count": 2,
   "id": "fe6edd92",
   "metadata": {},
   "outputs": [],
   "source": [
    "# libraries\n",
    "import sys; sys.path.insert(0, '..') # if you don't find it here, look one above\n",
    "import os\n",
    "import numpy as np\n",
    "import matplotlib.pyplot as plt\n",
    "import pandas as pd\n",
    "import seaborn as sns\n",
    "import scipy.io as spio\n",
    "import pickle\n",
    "import warnings\n",
    "\n",
    "from tqdm import tqdm\n",
    "from scipy import stats\n",
    "from scipy.ndimage import gaussian_filter1d\n",
    "from io_utils import *\n",
    "from plotting_utils import * \n",
    "\n",
    "\n",
    "# settings\n",
    "%load_ext autoreload\n",
    "%autoreload 2\n",
    "sns.set_context(\"talk\")\n",
    "sns.set_palette('rocket_r')"
   ]
  },
  {
   "cell_type": "code",
   "execution_count": 3,
   "id": "22397935",
   "metadata": {},
   "outputs": [],
   "source": [
    "sess_names = np.array(['data_sdb_20190724_193007_fromSD', 'data_sdc_20190902_145404_fromSD', 'W122_07_27_2019_1_fromSD', \n",
    "            'W122_08_06_2019_1_fromSD', 'W122_08_07_2019_1_fromSD', 'W122_08_31_2019_1_fromSD', 'W122_09_04_2019_1_fromSD',\n",
    "            'W122_09_09_2019_1_fromSD', 'W122_09_12_2019_1_fromSD','W122_09_21_2019_1_fromSD', 'W122_09_24_2019_1_fromSD'])\n",
    "\n",
    "base_path  = 'Y:\\jbreda\\ephys\\post_sort_analysis\\sorted_pre_bdata' \n",
    "beh_mat   = 'protocol_info.mat'\n",
    "spks_mat  = 'ksphy_clusters_foranalysis.mat'\n",
    "\n",
    "\n",
    "# create paths\n",
    "sess_paths = [os.path.join(base_path, sess) for sess in sess_names]\n",
    "beh_paths  = [os.path.join(path, beh_mat) for path in sess_paths]\n",
    "spks_paths = [os.path.join(path, spks_mat) for path in sess_paths]"
   ]
  },
  {
   "cell_type": "code",
   "execution_count": 8,
   "id": "16390842",
   "metadata": {},
   "outputs": [
    {
     "name": "stdout",
     "output_type": "stream",
     "text": [
      "Loading data ...\n",
      "aligning events ...\n",
      "loading from file...\n",
      "Plotting data_sdb_20190724_193007_fromSD_N0\n"
     ]
    },
    {
     "name": "stderr",
     "output_type": "stream",
     "text": [
      "C:\\Users\\JB\\github\\jbreda_PWM_ephys_analysis\\plotting_utils.py:182: RuntimeWarning: Mean of empty slice\n",
      "  smoothed_mean = np.nanmean(np.array(smoothed_trials), axis=0)\n"
     ]
    },
    {
     "name": "stdout",
     "output_type": "stream",
     "text": [
      "Plotting data_sdb_20190724_193007_fromSD_N1\n",
      "Plotting data_sdb_20190724_193007_fromSD_N2\n",
      "Plotting data_sdb_20190724_193007_fromSD_N3\n",
      "Loading data ...\n",
      "aligning events ...\n",
      "loading from file...\n",
      "Plotting data_sdc_20190902_145404_fromSD_N0\n",
      "Plotting data_sdc_20190902_145404_fromSD_N1\n",
      "Plotting data_sdc_20190902_145404_fromSD_N2\n",
      "Plotting data_sdc_20190902_145404_fromSD_N3\n",
      "Loading data ...\n",
      "aligning events ...\n",
      "loading from file...\n",
      "Plotting W122_07_27_2019_1_fromSD_N0\n",
      "Plotting W122_07_27_2019_1_fromSD_N1\n"
     ]
    },
    {
     "name": "stderr",
     "output_type": "stream",
     "text": [
      "C:\\Users\\JB\\github\\jbreda_PWM_ephys_analysis\\plotting_utils.py:182: RuntimeWarning: Mean of empty slice\n",
      "  smoothed_mean = np.nanmean(np.array(smoothed_trials), axis=0)\n"
     ]
    },
    {
     "name": "stdout",
     "output_type": "stream",
     "text": [
      "Plotting W122_07_27_2019_1_fromSD_N2\n",
      "Loading data ...\n",
      "aligning events ...\n",
      "loading from file...\n",
      "Plotting W122_08_06_2019_1_fromSD_N0\n",
      "Plotting W122_08_06_2019_1_fromSD_N1\n",
      "Plotting W122_08_06_2019_1_fromSD_N2\n",
      "Plotting W122_08_06_2019_1_fromSD_N3\n",
      "Loading data ...\n",
      "aligning events ...\n",
      "loading from file...\n",
      "Plotting W122_08_07_2019_1_fromSD_N0\n",
      "Plotting W122_08_07_2019_1_fromSD_N1\n",
      "Plotting W122_08_07_2019_1_fromSD_N2\n",
      "Plotting W122_08_07_2019_1_fromSD_N3\n",
      "Plotting W122_08_07_2019_1_fromSD_N4\n",
      "Plotting W122_08_07_2019_1_fromSD_N5\n",
      "Loading data ...\n",
      "aligning events ...\n",
      "loading from file...\n",
      "Plotting W122_08_31_2019_1_fromSD_N0\n"
     ]
    },
    {
     "name": "stderr",
     "output_type": "stream",
     "text": [
      "C:\\Users\\JB\\github\\jbreda_PWM_ephys_analysis\\plotting_utils.py:182: RuntimeWarning: Mean of empty slice\n",
      "  smoothed_mean = np.nanmean(np.array(smoothed_trials), axis=0)\n"
     ]
    },
    {
     "name": "stdout",
     "output_type": "stream",
     "text": [
      "Plotting W122_08_31_2019_1_fromSD_N1\n",
      "Plotting W122_08_31_2019_1_fromSD_N2\n",
      "Plotting W122_08_31_2019_1_fromSD_N3\n",
      "Loading data ...\n",
      "aligning events ...\n",
      "loading from file...\n",
      "Plotting W122_09_04_2019_1_fromSD_N0\n",
      "Plotting W122_09_04_2019_1_fromSD_N1\n",
      "Loading data ...\n",
      "aligning events ...\n",
      "loading from file...\n",
      "Plotting W122_09_09_2019_1_fromSD_N0\n"
     ]
    },
    {
     "name": "stderr",
     "output_type": "stream",
     "text": [
      "C:\\Users\\JB\\anaconda3\\envs\\PWM_ephys\\lib\\site-packages\\numpy\\core\\_methods.py:234: RuntimeWarning: Degrees of freedom <= 0 for slice\n",
      "  keepdims=keepdims)\n",
      "C:\\Users\\JB\\anaconda3\\envs\\PWM_ephys\\lib\\site-packages\\numpy\\core\\_methods.py:224: RuntimeWarning: invalid value encountered in true_divide\n",
      "  ret, rcount, out=ret, casting='unsafe', subok=False)\n"
     ]
    },
    {
     "name": "stdout",
     "output_type": "stream",
     "text": [
      "Plotting W122_09_09_2019_1_fromSD_N1\n"
     ]
    },
    {
     "name": "stderr",
     "output_type": "stream",
     "text": [
      "C:\\Users\\JB\\anaconda3\\envs\\PWM_ephys\\lib\\site-packages\\numpy\\core\\_methods.py:234: RuntimeWarning: Degrees of freedom <= 0 for slice\n",
      "  keepdims=keepdims)\n",
      "C:\\Users\\JB\\anaconda3\\envs\\PWM_ephys\\lib\\site-packages\\numpy\\core\\_methods.py:224: RuntimeWarning: invalid value encountered in true_divide\n",
      "  ret, rcount, out=ret, casting='unsafe', subok=False)\n"
     ]
    },
    {
     "name": "stdout",
     "output_type": "stream",
     "text": [
      "Plotting W122_09_09_2019_1_fromSD_N2\n"
     ]
    },
    {
     "name": "stderr",
     "output_type": "stream",
     "text": [
      "C:\\Users\\JB\\github\\jbreda_PWM_ephys_analysis\\plotting_utils.py:182: RuntimeWarning: Mean of empty slice\n",
      "  smoothed_mean = np.nanmean(np.array(smoothed_trials), axis=0)\n"
     ]
    },
    {
     "name": "stdout",
     "output_type": "stream",
     "text": [
      "Loading data ...\n",
      "aligning events ...\n",
      "loading from file...\n",
      "Plotting W122_09_12_2019_1_fromSD_N0\n",
      "Plotting W122_09_12_2019_1_fromSD_N1\n",
      "Plotting W122_09_12_2019_1_fromSD_N2\n",
      "Plotting W122_09_12_2019_1_fromSD_N3\n",
      "Loading data ...\n",
      "aligning events ...\n",
      "loading from file...\n",
      "Plotting W122_09_21_2019_1_fromSD_N0\n",
      "Plotting W122_09_21_2019_1_fromSD_N1\n",
      "Plotting W122_09_21_2019_1_fromSD_N2\n",
      "Plotting W122_09_21_2019_1_fromSD_N3\n",
      "Plotting W122_09_21_2019_1_fromSD_N4\n",
      "Loading data ...\n",
      "aligning events ...\n",
      "loading from file...\n",
      "Plotting W122_09_24_2019_1_fromSD_N0\n",
      "Plotting W122_09_24_2019_1_fromSD_N1\n"
     ]
    }
   ],
   "source": [
    "event = 'delay_overlap'\n",
    "fig_save_path = os.path.join(os.getcwd(), 'figures', 'labmeeting_20210518', 'delay_loudness_no_errorbar')\n",
    "\n",
    "for name, path, behp, spksp in zip(sess_names, sess_paths, beh_paths, spks_paths):\n",
    "    \n",
    "    print('Loading data ...')\n",
    "    beh_df, spks_dict = load_and_wrangle(behp, spksp, overwrite=False)\n",
    "    \n",
    "    filtered_df = beh_df[(beh_df['first_sound'] != 'psycho') & (beh_df['hit_hist'] == 'hit')]\n",
    "    \n",
    "    print('aligning events ...')\n",
    "    sess_aligned, sess_windows = event_align_session(spks_dict, filtered_df, path, overwrite=False,\n",
    "                                                delay_mode=True, file_name='labmtg_analysis.pkl')\n",
    "    \n",
    "    analyze_and_plot_loudness(name, sess_aligned, sess_windows, event, filtered_df, fig_save_path, path)"
   ]
  },
  {
   "cell_type": "code",
   "execution_count": null,
   "id": "b1c1c603",
   "metadata": {},
   "outputs": [],
   "source": []
  }
 ],
 "metadata": {
  "kernelspec": {
   "display_name": "Python 3",
   "language": "python",
   "name": "python3"
  },
  "language_info": {
   "codemirror_mode": {
    "name": "ipython",
    "version": 3
   },
   "file_extension": ".py",
   "mimetype": "text/x-python",
   "name": "python",
   "nbconvert_exporter": "python",
   "pygments_lexer": "ipython3",
   "version": "3.7.10"
  }
 },
 "nbformat": 4,
 "nbformat_minor": 5
}
