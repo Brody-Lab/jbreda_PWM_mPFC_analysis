{
 "cells": [
  {
   "cell_type": "markdown",
   "id": "208d7030",
   "metadata": {},
   "source": [
    "## Lab Meeting Analyses"
   ]
  },
  {
   "cell_type": "code",
   "execution_count": 1,
   "id": "bae092ea",
   "metadata": {},
   "outputs": [],
   "source": [
    "# libraries\n",
    "import sys; sys.path.insert(0, '..') # if you don't find it here, look one above\n",
    "import os\n",
    "import numpy as np\n",
    "import matplotlib.pyplot as plt\n",
    "import pandas as pd\n",
    "import seaborn as sns\n",
    "import scipy.io as spio\n",
    "import pickle\n",
    "import warnings\n",
    "\n",
    "from tqdm import tqdm\n",
    "from scipy import stats\n",
    "from scipy.ndimage import gaussian_filter1d\n",
    "from io_utils import *\n",
    "from plotting_utils import * \n",
    "\n",
    "\n",
    "# settings\n",
    "%load_ext autoreload\n",
    "%autoreload 2\n",
    "sns.set_context(\"talk\")\n",
    "# sns.set_palette('rocket_r')"
   ]
  },
  {
   "cell_type": "code",
   "execution_count": 2,
   "id": "6a99c149",
   "metadata": {},
   "outputs": [],
   "source": [
    "sess_names = np.array(['data_sdb_20190724_193007_fromSD', 'data_sdc_20190902_145404_fromSD', 'W122_07_27_2019_1_fromSD', \n",
    "            'W122_08_06_2019_1_fromSD', 'W122_08_07_2019_1_fromSD', 'W122_08_31_2019_1_fromSD', 'W122_09_04_2019_1_fromSD',\n",
    "            'W122_09_09_2019_1_fromSD', 'W122_09_12_2019_1_fromSD','W122_09_21_2019_1_fromSD', 'W122_09_24_2019_1_fromSD'])\n",
    "\n",
    "base_path  = 'Y:\\jbreda\\ephys\\post_sort_analysis\\sorted_pre_bdata' \n",
    "beh_mat   = 'protocol_info.mat'\n",
    "spks_mat  = 'ksphy_clusters_foranalysis.mat'\n",
    "\n",
    "\n",
    "# create paths\n",
    "sess_paths = [os.path.join(base_path, sess) for sess in sess_names]\n",
    "beh_paths  = [os.path.join(path, beh_mat) for path in sess_paths]\n",
    "spks_paths = [os.path.join(path, spks_mat) for path in sess_paths]"
   ]
  },
  {
   "cell_type": "code",
   "execution_count": 41,
   "id": "ab9f10ec",
   "metadata": {},
   "outputs": [
    {
     "name": "stdout",
     "output_type": "stream",
     "text": [
      "#ca1a50\n"
     ]
    }
   ],
   "source": [
    "pal = sns.color_palette('rocket_r', 5)\n",
    "print(pal.as_hex()[2])"
   ]
  },
  {
   "cell_type": "markdown",
   "id": "908bc8fd",
   "metadata": {},
   "source": [
    "## AUD 1 on plots"
   ]
  },
  {
   "cell_type": "code",
   "execution_count": 25,
   "id": "e0458b23",
   "metadata": {},
   "outputs": [
    {
     "name": "stdout",
     "output_type": "stream",
     "text": [
      "loading from file...\n",
      "loading from file...\n",
      "loading from file...\n",
      "loading from file...\n",
      "loading from file...\n",
      "loading from file...\n",
      "loading from file...\n",
      "loading from file...\n",
      "loading from file...\n",
      "loading from file...\n",
      "loading from file...\n"
     ]
    }
   ],
   "source": [
    "event = 'aud1on'\n",
    "fig_save_path = os.path.join(os.getcwd(), 'figures', 'labmeeting_20210518', 'aud1_all')\n",
    "\n",
    "for name, path, behp, spksp in zip(sess_names, sess_paths, beh_paths, spks_paths):\n",
    "    \n",
    "    beh_df, spks_dict = load_and_wrangle(behp, spksp, overwrite=False)\n",
    "    noviol_df = beh_df[beh_df['hit_hist'] != 'viol']\n",
    "    \n",
    "    sess_aligned, sess_windows = event_align_session(spks_dict, noviol_df, path, \n",
    "                                                 overwrite=False, delay_mode=True, \n",
    "                                                 file_name='labmtg_analysis_hit_miss.pkl')\n",
    "    \n",
    "    \n",
    "    for neuron in range(len(sess_aligned)):\n",
    "\n",
    "        neuron_id = name + '_N' + str(neuron)\n",
    "\n",
    "        # calculate psth\n",
    "        psth = PSTH_gaussain(sess_aligned[neuron], sess_windows[neuron], event, noviol_df, sigma=50)\n",
    "\n",
    "        fig,ax = plt.subplots(figsize=(8,4))\n",
    "\n",
    "        plot_psth(psth, ax=ax, stimulus_bar='sound on', legend=True, xlim=(-200,500), title=neuron_id)\n",
    "\n",
    "        fig_name =  f\"{neuron_id}_{event}_aud1on_all\"\n",
    "        plt.savefig(os.path.join(fig_save_path, fig_name), bbox_inches='tight')\n",
    "        plt.close(\"all\")"
   ]
  },
  {
   "cell_type": "markdown",
   "id": "defa7bf3",
   "metadata": {},
   "source": [
    "Aud1 on split by hit/miss"
   ]
  },
  {
   "cell_type": "code",
   "execution_count": 16,
   "id": "15d3459e",
   "metadata": {},
   "outputs": [
    {
     "name": "stdout",
     "output_type": "stream",
     "text": [
      "loading from file...\n"
     ]
    },
    {
     "name": "stderr",
     "output_type": "stream",
     "text": [
      "C:\\Users\\JB\\github\\jbreda_PWM_ephys_analysis\\plotting_utils.py:184: RuntimeWarning: Mean of empty slice\n",
      "  smoothed_mean = np.nanmean(np.array(smoothed_trials), axis=0)\n"
     ]
    },
    {
     "name": "stdout",
     "output_type": "stream",
     "text": [
      "loading from file...\n",
      "loading from file...\n",
      "loading from file...\n",
      "loading from file...\n",
      "loading from file...\n",
      "loading from file...\n",
      "loading from file...\n"
     ]
    },
    {
     "name": "stderr",
     "output_type": "stream",
     "text": [
      "C:\\Users\\JB\\github\\jbreda_PWM_ephys_analysis\\plotting_utils.py:184: RuntimeWarning: Mean of empty slice\n",
      "  smoothed_mean = np.nanmean(np.array(smoothed_trials), axis=0)\n",
      "C:\\Users\\JB\\github\\jbreda_PWM_ephys_analysis\\plotting_utils.py:365: RuntimeWarning: All-NaN axis encountered\n",
      "  y_min = (1 - scale) * np.nanmin([np.min(mean[cond_id]) for cond_id in mean.keys()])\n",
      "C:\\Users\\JB\\github\\jbreda_PWM_ephys_analysis\\plotting_utils.py:366: RuntimeWarning: All-NaN axis encountered\n",
      "  y_max = (1 - scale) * np.nanmax([np.max(mean[cond_id]) for cond_id in mean.keys()])\n"
     ]
    },
    {
     "name": "stdout",
     "output_type": "stream",
     "text": [
      "loading from file...\n",
      "loading from file...\n",
      "loading from file...\n"
     ]
    }
   ],
   "source": [
    "event = 'aud1on'\n",
    "fig_save_path = os.path.join(os.getcwd(), 'figures', 'labmeeting_20210518', 'aud1_hit_miss')\n",
    "\n",
    "lr_pal = ['#5ECABB', '#CA5E6D']\n",
    "lr_cycler =cycler(color=lr_pal)\n",
    "\n",
    "for name, path, behp, spksp in zip(sess_names, sess_paths, beh_paths, spks_paths):\n",
    "    \n",
    "    beh_df, spks_dict = load_and_wrangle(behp, spksp, overwrite=False)\n",
    "    noviol_df = beh_df[beh_df['hit_hist'] != 'viol']\n",
    "    \n",
    "    sess_aligned, sess_windows = event_align_session(spks_dict, noviol_df, path, \n",
    "                                                 overwrite=False, delay_mode=True, \n",
    "                                                 file_name='labmtg_analysis_hit_miss.pkl')\n",
    "    \n",
    "    \n",
    "    for neuron in range(len(sess_aligned)):\n",
    "\n",
    "        neuron_id = name + '_N' + str(neuron)\n",
    "\n",
    "        # calculate psth\n",
    "        psth = PSTH_gaussain(sess_aligned[neuron], sess_windows[neuron], \n",
    "                             event,  noviol_df, \n",
    "                             conditions='hit_hist', sigma=50)\n",
    "\n",
    "        fig,ax = plt.subplots(figsize=(8,4))\n",
    "        ax.set_prop_cycle(lr_cycler)\n",
    "\n",
    "        plot_psth(psth, ax=ax, stimulus_bar='sound on', legend=True, \n",
    "                  xlim=(-200,500), title=neuron_id)\n",
    "\n",
    "        fig_name =  f\"{neuron_id}_{event}_aud1on_hit_miss\"\n",
    "        plt.savefig(os.path.join(fig_save_path, fig_name), bbox_inches='tight')\n",
    "        plt.close(\"all\")"
   ]
  },
  {
   "cell_type": "markdown",
   "id": "ca266282",
   "metadata": {},
   "source": [
    "Aud1 on splity by all first sounds"
   ]
  },
  {
   "cell_type": "code",
   "execution_count": 29,
   "id": "31183f59",
   "metadata": {},
   "outputs": [
    {
     "name": "stdout",
     "output_type": "stream",
     "text": [
      "loading from file...\n",
      "loading from file...\n",
      "loading from file...\n",
      "loading from file...\n",
      "loading from file...\n",
      "loading from file...\n",
      "loading from file...\n",
      "loading from file...\n",
      "loading from file...\n",
      "loading from file...\n",
      "loading from file...\n"
     ]
    }
   ],
   "source": [
    "event = 'aud1on'\n",
    "fig_save_path = os.path.join(os.getcwd(), 'figures', 'labmeeting_20210518', 'aud1_loudness')\n",
    "\n",
    "delay_colors =['#f6ab83', '#f06043', '#ca1a50', '#841e5a', '#3f1b43']\n",
    "delay_colors_edges = [delay_colors[0], delay_colors[-1]]\n",
    "delay_colors_middle = np.array(delay_colors[1:4])\n",
    "delay_color = delay_colors\n",
    "delay_cycler =cycler(color=delay_color)\n",
    "\n",
    "for name, path, behp, spksp in zip(sess_names, sess_paths, beh_paths, spks_paths):\n",
    "    \n",
    "    beh_df, spks_dict = load_and_wrangle(behp, spksp, overwrite=False)\n",
    "    noviol_psycho_df = beh_df[(beh_df['first_sound'] != 'psycho') & (beh_df['hit_hist'] != 'viol')]\n",
    "    \n",
    "    sess_aligned, sess_windows = event_align_session(spks_dict, noviol_psycho_df, path, \n",
    "                                                 overwrite=False, delay_mode=True, \n",
    "                                                 file_name='labmtg_analysis_hit_miss_nopsycho.pkl')\n",
    "    \n",
    "    \n",
    "    for neuron in range(len(sess_aligned)):\n",
    "\n",
    "        neuron_id = name + '_N' + str(neuron)\n",
    "\n",
    "        # calculate psth\n",
    "        psth = PSTH_gaussain(sess_aligned[neuron], sess_windows[neuron], \n",
    "                             event, noviol_psycho_df, \n",
    "                             conditions='first_sound', sigma=50)\n",
    "\n",
    "        fig,ax = plt.subplots(figsize=(8,4))\n",
    "        ax.set_prop_cycle(delay_cycler)\n",
    "\n",
    "        plot_psth(psth, ax=ax, stimulus_bar='sound on', legend=True, \n",
    "                  xlim=(-200,500), title=neuron_id)\n",
    "\n",
    "        fig_name =  f\"{neuron_id}_{event}_aud1on_loudness\"\n",
    "        plt.savefig(os.path.join(fig_save_path, fig_name), bbox_inches='tight')\n",
    "        plt.close(\"all\")\n"
   ]
  },
  {
   "cell_type": "markdown",
   "id": "cc24b20b",
   "metadata": {},
   "source": [
    "Aud 1 on split by 'sure bet' sounds"
   ]
  },
  {
   "cell_type": "code",
   "execution_count": 22,
   "id": "65ed5202",
   "metadata": {},
   "outputs": [
    {
     "name": "stdout",
     "output_type": "stream",
     "text": [
      "loading from file...\n",
      "loading from file...\n",
      "loading from file...\n",
      "loading from file...\n",
      "loading from file...\n",
      "loading from file...\n",
      "loading from file...\n",
      "loading from file...\n"
     ]
    },
    {
     "name": "stderr",
     "output_type": "stream",
     "text": [
      "C:\\Users\\JB\\anaconda3\\envs\\PWM_ephys\\lib\\site-packages\\numpy\\core\\_methods.py:234: RuntimeWarning: Degrees of freedom <= 0 for slice\n",
      "  keepdims=keepdims)\n",
      "C:\\Users\\JB\\anaconda3\\envs\\PWM_ephys\\lib\\site-packages\\numpy\\core\\_methods.py:224: RuntimeWarning: invalid value encountered in true_divide\n",
      "  ret, rcount, out=ret, casting='unsafe', subok=False)\n",
      "C:\\Users\\JB\\anaconda3\\envs\\PWM_ephys\\lib\\site-packages\\numpy\\core\\_methods.py:234: RuntimeWarning: Degrees of freedom <= 0 for slice\n",
      "  keepdims=keepdims)\n",
      "C:\\Users\\JB\\anaconda3\\envs\\PWM_ephys\\lib\\site-packages\\numpy\\core\\_methods.py:224: RuntimeWarning: invalid value encountered in true_divide\n",
      "  ret, rcount, out=ret, casting='unsafe', subok=False)\n",
      "C:\\Users\\JB\\anaconda3\\envs\\PWM_ephys\\lib\\site-packages\\numpy\\core\\_methods.py:234: RuntimeWarning: Degrees of freedom <= 0 for slice\n",
      "  keepdims=keepdims)\n",
      "C:\\Users\\JB\\anaconda3\\envs\\PWM_ephys\\lib\\site-packages\\numpy\\core\\_methods.py:224: RuntimeWarning: invalid value encountered in true_divide\n",
      "  ret, rcount, out=ret, casting='unsafe', subok=False)\n"
     ]
    },
    {
     "name": "stdout",
     "output_type": "stream",
     "text": [
      "loading from file...\n",
      "loading from file...\n",
      "loading from file...\n"
     ]
    }
   ],
   "source": [
    "event = 'aud1on'\n",
    "fig_save_path = os.path.join(os.getcwd(), 'figures', 'labmeeting_20210518', 'aud1_edge_sounds')\n",
    "sound_list = ['60*', '92*']\n",
    "\n",
    "# colors\n",
    "delay_colors =['#f6ab83', '#f06043', '#ca1a50', '#841e5a', '#3f1b43']\n",
    "delay_colors_edges = [delay_colors[0], delay_colors[-1]]\n",
    "delay_colors_middle = np.array(delay_colors[1:4])\n",
    "delay_color = delay_colors_edges\n",
    "delay_cycler =cycler(color=delay_color)\n",
    "\n",
    "\n",
    "for name, path, behp, spksp in zip(sess_names, sess_paths, beh_paths, spks_paths):\n",
    "    \n",
    "    beh_df, spks_dict = load_and_wrangle(behp, spksp, overwrite=False)\n",
    "    \n",
    "    filtered_df = beh_df[(beh_df['first_sound'].isin(sound_list)) & (beh_df['hit_hist'] == 'hit')]\n",
    "    \n",
    "    \n",
    "    sess_aligned, sess_windows = event_align_session(spks_dict, filtered_df, \n",
    "                                                     path, overwrite=False,\n",
    "                                                     delay_mode=True, \n",
    "                                                     file_name='labmtg_analysis_edge_sounds_hit_miss.pkl')\n",
    "\n",
    "    for neuron in range(len(sess_aligned)):\n",
    "\n",
    "        neuron_id = name + '_N' + str(neuron)\n",
    "\n",
    "        # calculate psth\n",
    "        psth = PSTH_gaussain(sess_aligned[neuron], sess_windows[neuron], \n",
    "                             event,  filtered_df, \n",
    "                             conditions='first_sound', sigma=50)\n",
    "\n",
    "        fig,ax = plt.subplots(figsize=(8,4))\n",
    "        ax.set_prop_cycle(delay_cycler)\n",
    "\n",
    "        plot_psth(psth, ax=ax, stimulus_bar='sound on', legend=True, \n",
    "                  xlim=(-200,500), title=neuron_id)\n",
    "\n",
    "        fig_name =  f\"{neuron_id}_{event}_aud1on_edge_sounds\"\n",
    "        plt.savefig(os.path.join(fig_save_path, fig_name), bbox_inches='tight')\n",
    "        plt.close(\"all\")"
   ]
  },
  {
   "cell_type": "markdown",
   "id": "87aa774a",
   "metadata": {},
   "source": [
    "Aud 1 on for files when memory is needed"
   ]
  },
  {
   "cell_type": "code",
   "execution_count": 23,
   "id": "caac0025",
   "metadata": {},
   "outputs": [
    {
     "name": "stdout",
     "output_type": "stream",
     "text": [
      "loading from file...\n",
      "loading from file...\n",
      "loading from file...\n",
      "loading from file...\n",
      "loading from file...\n",
      "loading from file...\n",
      "loading from file...\n",
      "loading from file...\n",
      "loading from file...\n",
      "loading from file...\n",
      "loading from file...\n"
     ]
    }
   ],
   "source": [
    "event = 'aud1on'\n",
    "fig_save_path = os.path.join(os.getcwd(), 'figures', 'labmeeting_20210518', 'aud1_middle_sounds')\n",
    "sound_list = ['68', '76', '84']\n",
    "\n",
    "\n",
    "# colors\n",
    "delay_colors =['#f6ab83', '#f06043', '#ca1a50', '#841e5a', '#3f1b43']\n",
    "delay_colors_edges = [delay_colors[0], delay_colors[-1]]\n",
    "delay_colors_middle = np.array(delay_colors[1:4])\n",
    "delay_color = delay_colors_middle\n",
    "delay_cycler =cycler(color=delay_color)\n",
    "\n",
    "\n",
    "for name, path, behp, spksp in zip(sess_names, sess_paths, beh_paths, spks_paths):\n",
    "    \n",
    "    beh_df, spks_dict = load_and_wrangle(behp, spksp, overwrite=False)\n",
    "    \n",
    "    filtered_df = beh_df[(beh_df['first_sound'].isin(sound_list)) & (beh_df['hit_hist'] == 'hit')]\n",
    "    \n",
    "    \n",
    "    sess_aligned, sess_windows = event_align_session(spks_dict, filtered_df, \n",
    "                                                     path, overwrite=False,\n",
    "                                                     delay_mode=True, \n",
    "                                                     file_name='labmtg_analysis_middle_sounds.pkl')\n",
    "\n",
    "    for neuron in range(len(sess_aligned)):\n",
    "\n",
    "        neuron_id = name + '_N' + str(neuron)\n",
    "\n",
    "        # calculate psth\n",
    "        psth = PSTH_gaussain(sess_aligned[neuron], sess_windows[neuron], \n",
    "                             event,  filtered_df, \n",
    "                             conditions='first_sound', sigma=50)\n",
    "\n",
    "        fig,ax = plt.subplots(figsize=(8,4))\n",
    "        ax.set_prop_cycle(delay_cycler)\n",
    "\n",
    "        plot_psth(psth, ax=ax, stimulus_bar='sound on', legend=True, \n",
    "                  xlim=(-200,500), title=neuron_id)\n",
    "\n",
    "        fig_name =  f\"{neuron_id}_{event}_aud1on_middle_sounds\"\n",
    "        plt.savefig(os.path.join(fig_save_path, fig_name), bbox_inches='tight')\n",
    "        plt.close(\"all\")"
   ]
  },
  {
   "cell_type": "markdown",
   "id": "1fcd3b77",
   "metadata": {},
   "source": [
    "## AUD 2 on plots"
   ]
  },
  {
   "cell_type": "markdown",
   "id": "f2696248",
   "metadata": {},
   "source": [
    "This is just aud2 on with all the trials together (sans violations)"
   ]
  },
  {
   "cell_type": "code",
   "execution_count": 12,
   "id": "7bc69e60",
   "metadata": {},
   "outputs": [
    {
     "name": "stdout",
     "output_type": "stream",
     "text": [
      "loading from file...\n"
     ]
    },
    {
     "name": "stderr",
     "output_type": "stream",
     "text": [
      "C:\\Users\\JB\\github\\jbreda_PWM_ephys_analysis\\plotting_utils.py:184: RuntimeWarning: Mean of empty slice\n",
      "  smoothed_mean = np.nanmean(np.array(smoothed_trials), axis=0)\n",
      "C:\\Users\\JB\\github\\jbreda_PWM_ephys_analysis\\plotting_utils.py:365: RuntimeWarning: All-NaN axis encountered\n",
      "  y_min = (1 - scale) * np.nanmin([np.min(mean[cond_id]) for cond_id in mean.keys()])\n",
      "C:\\Users\\JB\\github\\jbreda_PWM_ephys_analysis\\plotting_utils.py:366: RuntimeWarning: All-NaN axis encountered\n",
      "  y_max = (1 - scale) * np.nanmax([np.max(mean[cond_id]) for cond_id in mean.keys()])\n"
     ]
    },
    {
     "name": "stdout",
     "output_type": "stream",
     "text": [
      "loading from file...\n",
      "loading from file...\n",
      "loading from file...\n",
      "loading from file...\n",
      "loading from file...\n",
      "loading from file...\n",
      "loading from file...\n",
      "loading from file...\n",
      "loading from file...\n",
      "loading from file...\n"
     ]
    }
   ],
   "source": [
    "event = 'aud2on'\n",
    "fig_save_path = os.path.join(os.getcwd(), 'figures', 'labmeeting_20210518', 'aud2_all')\n",
    "\n",
    "\n",
    "for name, path, behp, spksp in zip(sess_names, sess_paths, beh_paths, spks_paths):\n",
    "    \n",
    "    beh_df, spks_dict = load_and_wrangle(behp, spksp, overwrite=False)\n",
    "    noviol_df = beh_df[beh_df['hit_hist'] != 'viol']\n",
    "    \n",
    "    sess_aligned, sess_windows = event_align_session(spks_dict, noviol_df, path, \n",
    "                                                 overwrite=False, delay_mode=True, \n",
    "                                                 file_name='labmtg_analysis_hit_miss.pkl')\n",
    "    \n",
    "    \n",
    "    for neuron in range(len(sess_aligned)):\n",
    "\n",
    "        neuron_id = name + '_N' + str(neuron)\n",
    "\n",
    "        # calculate psth\n",
    "        psth = PSTH_gaussain(sess_aligned[neuron], sess_windows[neuron], event, noviol_df, sigma=50)\n",
    "\n",
    "        fig,ax = plt.subplots(figsize=(8,4))\n",
    "\n",
    "        plot_psth(psth, ax=ax, stimulus_bar='sound on', legend=False, \n",
    "                  xlim=(-200,500), title=neuron_id)\n",
    "\n",
    "        fig_name =  f\"{neuron_id}_{event}_aud2on_all\"\n",
    "        plt.savefig(os.path.join(fig_save_path, fig_name), bbox_inches='tight')\n",
    "        plt.close(\"all\")"
   ]
  },
  {
   "cell_type": "markdown",
   "id": "3d6243ca",
   "metadata": {},
   "source": [
    "Aud 2 on split by correct side"
   ]
  },
  {
   "cell_type": "code",
   "execution_count": 13,
   "id": "1bc5eddc",
   "metadata": {},
   "outputs": [
    {
     "name": "stdout",
     "output_type": "stream",
     "text": [
      "loading from file...\n"
     ]
    },
    {
     "name": "stderr",
     "output_type": "stream",
     "text": [
      "C:\\Users\\JB\\github\\jbreda_PWM_ephys_analysis\\plotting_utils.py:184: RuntimeWarning: Mean of empty slice\n",
      "  smoothed_mean = np.nanmean(np.array(smoothed_trials), axis=0)\n",
      "C:\\Users\\JB\\github\\jbreda_PWM_ephys_analysis\\plotting_utils.py:365: RuntimeWarning: All-NaN axis encountered\n",
      "  y_min = (1 - scale) * np.nanmin([np.min(mean[cond_id]) for cond_id in mean.keys()])\n",
      "C:\\Users\\JB\\github\\jbreda_PWM_ephys_analysis\\plotting_utils.py:366: RuntimeWarning: All-NaN axis encountered\n",
      "  y_max = (1 - scale) * np.nanmax([np.max(mean[cond_id]) for cond_id in mean.keys()])\n"
     ]
    },
    {
     "name": "stdout",
     "output_type": "stream",
     "text": [
      "loading from file...\n",
      "loading from file...\n"
     ]
    },
    {
     "name": "stderr",
     "output_type": "stream",
     "text": [
      "C:\\Users\\JB\\github\\jbreda_PWM_ephys_analysis\\plotting_utils.py:184: RuntimeWarning: Mean of empty slice\n",
      "  smoothed_mean = np.nanmean(np.array(smoothed_trials), axis=0)\n"
     ]
    },
    {
     "name": "stdout",
     "output_type": "stream",
     "text": [
      "loading from file...\n",
      "loading from file...\n",
      "loading from file...\n",
      "loading from file...\n",
      "loading from file...\n"
     ]
    },
    {
     "name": "stderr",
     "output_type": "stream",
     "text": [
      "C:\\Users\\JB\\github\\jbreda_PWM_ephys_analysis\\plotting_utils.py:184: RuntimeWarning: Mean of empty slice\n",
      "  smoothed_mean = np.nanmean(np.array(smoothed_trials), axis=0)\n"
     ]
    },
    {
     "name": "stdout",
     "output_type": "stream",
     "text": [
      "loading from file...\n",
      "loading from file...\n",
      "loading from file...\n"
     ]
    }
   ],
   "source": [
    "event = 'aud2on'\n",
    "fig_save_path = os.path.join(os.getcwd(), 'figures', 'labmeeting_20210518', 'aud2_correct_side')\n",
    "\n",
    "lr_pal = ['#3066C8', '#C89230']\n",
    "lr_cycler =cycler(color=lr_pal)\n",
    "\n",
    "for name, path, behp, spksp in zip(sess_names, sess_paths, beh_paths, spks_paths):\n",
    "    \n",
    "    beh_df, spks_dict = load_and_wrangle(behp, spksp, overwrite=False)\n",
    "    noviol_df = beh_df[beh_df['hit_hist'] != 'viol']\n",
    "    \n",
    "    sess_aligned, sess_windows = event_align_session(spks_dict, noviol_df, path, \n",
    "                                                 overwrite=False, delay_mode=True, \n",
    "                                                 file_name='labmtg_analysis_hit_miss.pkl')\n",
    "    \n",
    "    \n",
    "    for neuron in range(len(sess_aligned)):\n",
    "\n",
    "        neuron_id = name + '_N' + str(neuron)\n",
    "\n",
    "        # calculate psth\n",
    "        psth = PSTH_gaussain(sess_aligned[neuron], sess_windows[neuron], \n",
    "                             event,  noviol_df, \n",
    "                             conditions='correct_side', sigma=50)\n",
    "\n",
    "        fig,ax = plt.subplots(figsize=(8,4))\n",
    "        ax.set_prop_cycle(lr_cycler)\n",
    "\n",
    "        plot_psth(psth, ax=ax, stimulus_bar='sound on', legend=True, \n",
    "                  xlim=(-200,500), title=neuron_id)\n",
    "\n",
    "        fig_name =  f\"{neuron_id}_{event}_aud2on_correct_side\"\n",
    "        plt.savefig(os.path.join(fig_save_path, fig_name), bbox_inches='tight')\n",
    "        plt.close(\"all\")"
   ]
  },
  {
   "cell_type": "markdown",
   "id": "049dd7a6",
   "metadata": {},
   "source": [
    "Aud2 split by hit vs. miss\n",
    "\n"
   ]
  },
  {
   "cell_type": "code",
   "execution_count": 15,
   "id": "1e67d3ba",
   "metadata": {},
   "outputs": [
    {
     "name": "stdout",
     "output_type": "stream",
     "text": [
      "loading from file...\n"
     ]
    },
    {
     "name": "stderr",
     "output_type": "stream",
     "text": [
      "C:\\Users\\JB\\github\\jbreda_PWM_ephys_analysis\\plotting_utils.py:184: RuntimeWarning: Mean of empty slice\n",
      "  smoothed_mean = np.nanmean(np.array(smoothed_trials), axis=0)\n",
      "C:\\Users\\JB\\github\\jbreda_PWM_ephys_analysis\\plotting_utils.py:365: RuntimeWarning: All-NaN axis encountered\n",
      "  y_min = (1 - scale) * np.nanmin([np.min(mean[cond_id]) for cond_id in mean.keys()])\n",
      "C:\\Users\\JB\\github\\jbreda_PWM_ephys_analysis\\plotting_utils.py:366: RuntimeWarning: All-NaN axis encountered\n",
      "  y_max = (1 - scale) * np.nanmax([np.max(mean[cond_id]) for cond_id in mean.keys()])\n"
     ]
    },
    {
     "name": "stdout",
     "output_type": "stream",
     "text": [
      "loading from file...\n",
      "loading from file...\n",
      "loading from file...\n",
      "loading from file...\n",
      "loading from file...\n",
      "loading from file...\n",
      "loading from file...\n"
     ]
    },
    {
     "name": "stderr",
     "output_type": "stream",
     "text": [
      "C:\\Users\\JB\\github\\jbreda_PWM_ephys_analysis\\plotting_utils.py:184: RuntimeWarning: Mean of empty slice\n",
      "  smoothed_mean = np.nanmean(np.array(smoothed_trials), axis=0)\n"
     ]
    },
    {
     "name": "stdout",
     "output_type": "stream",
     "text": [
      "loading from file...\n",
      "loading from file...\n",
      "loading from file...\n"
     ]
    }
   ],
   "source": [
    "event = 'aud2on'\n",
    "fig_save_path = os.path.join(os.getcwd(), 'figures', 'labmeeting_20210518', 'aud2_hit_miss')\n",
    "\n",
    "lr_pal = ['#5ECABB', '#CA5E6D']\n",
    "lr_cycler =cycler(color=lr_pal)\n",
    "\n",
    "for name, path, behp, spksp in zip(sess_names, sess_paths, beh_paths, spks_paths):\n",
    "    \n",
    "    beh_df, spks_dict = load_and_wrangle(behp, spksp, overwrite=False)\n",
    "    noviol_df = beh_df[beh_df['hit_hist'] != 'viol']\n",
    "    \n",
    "    sess_aligned, sess_windows = event_align_session(spks_dict, noviol_df, path, \n",
    "                                                 overwrite=False, delay_mode=True, \n",
    "                                                 file_name='labmtg_analysis_hit_miss.pkl')\n",
    "    \n",
    "    \n",
    "    for neuron in range(len(sess_aligned)):\n",
    "\n",
    "        neuron_id = name + '_N' + str(neuron)\n",
    "\n",
    "        # calculate psth\n",
    "        psth = PSTH_gaussain(sess_aligned[neuron], sess_windows[neuron], \n",
    "                             event,  noviol_df, \n",
    "                             conditions='hit_hist', sigma=50)\n",
    "\n",
    "        fig,ax = plt.subplots(figsize=(8,4))\n",
    "        ax.set_prop_cycle(lr_cycler)\n",
    "\n",
    "        plot_psth(psth, ax=ax, stimulus_bar='sound on', legend=True, \n",
    "                  xlim=(-200,500), title=neuron_id)\n",
    "\n",
    "        fig_name =  f\"{neuron_id}_{event}_aud2on_hit_miss\"\n",
    "        plt.savefig(os.path.join(fig_save_path, fig_name), bbox_inches='tight')\n",
    "        plt.close(\"all\")"
   ]
  },
  {
   "cell_type": "code",
   "execution_count": null,
   "id": "f292484b",
   "metadata": {},
   "outputs": [],
   "source": []
  },
  {
   "cell_type": "markdown",
   "id": "84742c29",
   "metadata": {},
   "source": [
    "## firing rate ~ correct side plots\n",
    "\n",
    "### hit only"
   ]
  },
  {
   "cell_type": "code",
   "execution_count": 4,
   "id": "5564f866",
   "metadata": {},
   "outputs": [
    {
     "name": "stdout",
     "output_type": "stream",
     "text": [
      "Loading data ...\n",
      "aligning events ...\n",
      "loading from file...\n",
      "Plotting data_sdb_20190724_193007_fromSD_N0\n",
      "Plotting data_sdb_20190724_193007_fromSD_N1\n",
      "Plotting data_sdb_20190724_193007_fromSD_N2\n",
      "Plotting data_sdb_20190724_193007_fromSD_N3\n",
      "Loading data ...\n",
      "aligning events ...\n",
      "no file found, running alignment for session\n",
      "Plotting data_sdc_20190902_145404_fromSD_N0\n",
      "Plotting data_sdc_20190902_145404_fromSD_N1\n",
      "Plotting data_sdc_20190902_145404_fromSD_N2\n",
      "Plotting data_sdc_20190902_145404_fromSD_N3\n",
      "Loading data ...\n",
      "aligning events ...\n",
      "no file found, running alignment for session\n",
      "Plotting W122_07_27_2019_1_fromSD_N0\n",
      "Plotting W122_07_27_2019_1_fromSD_N1\n",
      "Plotting W122_07_27_2019_1_fromSD_N2\n",
      "Loading data ...\n",
      "aligning events ...\n",
      "no file found, running alignment for session\n",
      "Plotting W122_08_06_2019_1_fromSD_N0\n",
      "Plotting W122_08_06_2019_1_fromSD_N1\n",
      "Plotting W122_08_06_2019_1_fromSD_N2\n",
      "Plotting W122_08_06_2019_1_fromSD_N3\n",
      "Loading data ...\n",
      "aligning events ...\n",
      "no file found, running alignment for session\n",
      "Plotting W122_08_07_2019_1_fromSD_N0\n",
      "Plotting W122_08_07_2019_1_fromSD_N1\n",
      "Plotting W122_08_07_2019_1_fromSD_N2\n",
      "Plotting W122_08_07_2019_1_fromSD_N3\n",
      "Plotting W122_08_07_2019_1_fromSD_N4\n",
      "Plotting W122_08_07_2019_1_fromSD_N5\n",
      "Loading data ...\n",
      "aligning events ...\n",
      "no file found, running alignment for session\n",
      "Plotting W122_08_31_2019_1_fromSD_N0\n",
      "Plotting W122_08_31_2019_1_fromSD_N1\n",
      "Plotting W122_08_31_2019_1_fromSD_N2\n",
      "Plotting W122_08_31_2019_1_fromSD_N3\n",
      "Loading data ...\n",
      "aligning events ...\n",
      "no file found, running alignment for session\n",
      "Plotting W122_09_04_2019_1_fromSD_N0\n",
      "Plotting W122_09_04_2019_1_fromSD_N1\n",
      "Loading data ...\n",
      "aligning events ...\n",
      "no file found, running alignment for session\n",
      "Plotting W122_09_09_2019_1_fromSD_N0\n",
      "Plotting W122_09_09_2019_1_fromSD_N1\n",
      "Plotting W122_09_09_2019_1_fromSD_N2\n",
      "Loading data ...\n",
      "aligning events ...\n",
      "no file found, running alignment for session\n",
      "Plotting W122_09_12_2019_1_fromSD_N0\n",
      "Plotting W122_09_12_2019_1_fromSD_N1\n",
      "Plotting W122_09_12_2019_1_fromSD_N2\n",
      "Plotting W122_09_12_2019_1_fromSD_N3\n",
      "Loading data ...\n",
      "aligning events ...\n",
      "no file found, running alignment for session\n",
      "Plotting W122_09_21_2019_1_fromSD_N0\n",
      "Plotting W122_09_21_2019_1_fromSD_N1\n",
      "Plotting W122_09_21_2019_1_fromSD_N2\n",
      "Plotting W122_09_21_2019_1_fromSD_N3\n",
      "Plotting W122_09_21_2019_1_fromSD_N4\n",
      "Loading data ...\n",
      "aligning events ...\n",
      "no file found, running alignment for session\n",
      "Plotting W122_09_24_2019_1_fromSD_N0\n",
      "Plotting W122_09_24_2019_1_fromSD_N1\n"
     ]
    }
   ],
   "source": [
    "event = 'delay_overlap'\n",
    "fig_save_path = os.path.join(os.getcwd(), 'figures', 'labmeeting_20210518', 'correct_side' )\n",
    "\n",
    "# gather pvalues for all the sessions to put into single df\n",
    "session_stats = []\n",
    "\n",
    "for name, path, behp, spksp in zip(sess_names, sess_paths, beh_paths, spks_paths):\n",
    "    \n",
    "    print('Loading data ...')\n",
    "    beh_df, spks_dict = load_and_wrangle(behp, spksp, overwrite=False)\n",
    "    \n",
    "    hit_df = beh_df[beh_df['hit_hist'] == 'hit']\n",
    "    \n",
    "    print('aligning events ...')\n",
    "    sess_aligned, sess_windows = event_align_session(spks_dict, hit_df, path, \n",
    "                                                 overwrite=False, delay_mode=True, \n",
    "                                                 file_name='labmtg_analysis_hitonly.pkl')\n",
    "    \n",
    "    stats = analyze_and_plot_correct_side(name, sess_aligned, sess_windows, event, \n",
    "                              hit_df, fig_save_path) \n",
    "    \n",
    "    session_stats.append(stats)"
   ]
  },
  {
   "cell_type": "code",
   "execution_count": 6,
   "id": "4c83022a",
   "metadata": {},
   "outputs": [],
   "source": [
    "session_stats_df = pd.concat(session_stats)\n",
    "session_stats_df.reset_index().to_csv(os.path.join(fig_save_path, 'correct_side_stats.csv'))"
   ]
  },
  {
   "cell_type": "markdown",
   "id": "1052cab8",
   "metadata": {},
   "source": [
    "### hit & miss"
   ]
  },
  {
   "cell_type": "code",
   "execution_count": 11,
   "id": "2ef82233",
   "metadata": {},
   "outputs": [
    {
     "name": "stdout",
     "output_type": "stream",
     "text": [
      "Loading data ...\n",
      "aligning events ...\n",
      "no file found, running alignment for session\n",
      "Plotting data_sdb_20190724_193007_fromSD_N0\n",
      "Plotting data_sdb_20190724_193007_fromSD_N1\n",
      "Plotting data_sdb_20190724_193007_fromSD_N2\n",
      "Plotting data_sdb_20190724_193007_fromSD_N3\n",
      "Loading data ...\n",
      "aligning events ...\n",
      "no file found, running alignment for session\n",
      "Plotting data_sdc_20190902_145404_fromSD_N0\n",
      "Plotting data_sdc_20190902_145404_fromSD_N1\n",
      "Plotting data_sdc_20190902_145404_fromSD_N2\n",
      "Plotting data_sdc_20190902_145404_fromSD_N3\n",
      "Loading data ...\n",
      "aligning events ...\n",
      "no file found, running alignment for session\n",
      "Plotting W122_07_27_2019_1_fromSD_N0\n",
      "Plotting W122_07_27_2019_1_fromSD_N1\n",
      "Plotting W122_07_27_2019_1_fromSD_N2\n",
      "Loading data ...\n",
      "aligning events ...\n",
      "no file found, running alignment for session\n",
      "Plotting W122_08_06_2019_1_fromSD_N0\n",
      "Plotting W122_08_06_2019_1_fromSD_N1\n",
      "Plotting W122_08_06_2019_1_fromSD_N2\n",
      "Plotting W122_08_06_2019_1_fromSD_N3\n",
      "Loading data ...\n",
      "aligning events ...\n",
      "no file found, running alignment for session\n",
      "Plotting W122_08_07_2019_1_fromSD_N0\n",
      "Plotting W122_08_07_2019_1_fromSD_N1\n",
      "Plotting W122_08_07_2019_1_fromSD_N2\n",
      "Plotting W122_08_07_2019_1_fromSD_N3\n",
      "Plotting W122_08_07_2019_1_fromSD_N4\n",
      "Plotting W122_08_07_2019_1_fromSD_N5\n",
      "Loading data ...\n",
      "aligning events ...\n",
      "no file found, running alignment for session\n",
      "Plotting W122_08_31_2019_1_fromSD_N0\n",
      "Plotting W122_08_31_2019_1_fromSD_N1\n",
      "Plotting W122_08_31_2019_1_fromSD_N2\n",
      "Plotting W122_08_31_2019_1_fromSD_N3\n",
      "Loading data ...\n",
      "aligning events ...\n",
      "no file found, running alignment for session\n",
      "Plotting W122_09_04_2019_1_fromSD_N0\n",
      "Plotting W122_09_04_2019_1_fromSD_N1\n",
      "Loading data ...\n",
      "aligning events ...\n",
      "no file found, running alignment for session\n",
      "Plotting W122_09_09_2019_1_fromSD_N0\n",
      "Plotting W122_09_09_2019_1_fromSD_N1\n",
      "Plotting W122_09_09_2019_1_fromSD_N2\n",
      "Loading data ...\n",
      "aligning events ...\n",
      "no file found, running alignment for session\n",
      "Plotting W122_09_12_2019_1_fromSD_N0\n",
      "Plotting W122_09_12_2019_1_fromSD_N1\n",
      "Plotting W122_09_12_2019_1_fromSD_N2\n",
      "Plotting W122_09_12_2019_1_fromSD_N3\n",
      "Loading data ...\n",
      "aligning events ...\n",
      "no file found, running alignment for session\n",
      "Plotting W122_09_21_2019_1_fromSD_N0\n",
      "Plotting W122_09_21_2019_1_fromSD_N1\n",
      "Plotting W122_09_21_2019_1_fromSD_N2\n",
      "Plotting W122_09_21_2019_1_fromSD_N3\n",
      "Plotting W122_09_21_2019_1_fromSD_N4\n",
      "Loading data ...\n",
      "aligning events ...\n",
      "no file found, running alignment for session\n",
      "Plotting W122_09_24_2019_1_fromSD_N0\n",
      "Plotting W122_09_24_2019_1_fromSD_N1\n"
     ]
    }
   ],
   "source": [
    "event = 'delay_overlap'\n",
    "fig_save_path = os.path.join(os.getcwd(), 'figures', 'labmeeting_20210518', 'correct_side_delay_hitmiss' )\n",
    "\n",
    "# gather pvalues for all the sessions to put into single df\n",
    "session_stats = []\n",
    "\n",
    "for name, path, behp, spksp in zip(sess_names, sess_paths, beh_paths, spks_paths):\n",
    "    \n",
    "    print('Loading data ...')\n",
    "    beh_df, spks_dict = load_and_wrangle(behp, spksp, overwrite=False)\n",
    "    \n",
    "    noviol_df = beh_df[beh_df['hit_hist'] != 'viol']\n",
    "    \n",
    "    print('aligning events ...')\n",
    "    sess_aligned, sess_windows = event_align_session(spks_dict, noviol_df, path, \n",
    "                                                 overwrite=False, delay_mode=True, \n",
    "                                                 file_name='labmtg_analysis_hit_miss.pkl')\n",
    "    \n",
    "    stats = analyze_and_plot_correct_side(name, sess_aligned, sess_windows, event, \n",
    "                              hit_df, fig_save_path) \n",
    "    \n",
    "    session_stats.append(stats)"
   ]
  },
  {
   "cell_type": "markdown",
   "id": "3d3e89aa",
   "metadata": {},
   "source": [
    "## firing rate ~ first sound loudness plots\n",
    "\n",
    "as of 05/16/2021 these may not still work beacuse a sub function switched names, but otherwise should be ok"
   ]
  },
  {
   "cell_type": "code",
   "execution_count": 31,
   "id": "89a78bd6",
   "metadata": {},
   "outputs": [
    {
     "name": "stdout",
     "output_type": "stream",
     "text": [
      "Loading data ...\n",
      "aligning events ...\n",
      "no file found, running alignment for session\n",
      "Plotting data_sdb_20190724_193007_fromSD_N0\n",
      "Plotting data_sdb_20190724_193007_fromSD_N1\n",
      "Plotting data_sdb_20190724_193007_fromSD_N2\n",
      "Plotting data_sdb_20190724_193007_fromSD_N3\n",
      "Loading data ...\n",
      "aligning events ...\n",
      "no file found, running alignment for session\n",
      "Plotting data_sdc_20190902_145404_fromSD_N0\n",
      "Plotting data_sdc_20190902_145404_fromSD_N1\n",
      "Plotting data_sdc_20190902_145404_fromSD_N2\n",
      "Plotting data_sdc_20190902_145404_fromSD_N3\n",
      "Loading data ...\n",
      "aligning events ...\n",
      "no file found, running alignment for session\n",
      "Plotting W122_07_27_2019_1_fromSD_N0\n",
      "Plotting W122_07_27_2019_1_fromSD_N1\n",
      "Plotting W122_07_27_2019_1_fromSD_N2\n",
      "Loading data ...\n",
      "aligning events ...\n",
      "no file found, running alignment for session\n",
      "Plotting W122_08_06_2019_1_fromSD_N0\n",
      "Plotting W122_08_06_2019_1_fromSD_N1\n",
      "Plotting W122_08_06_2019_1_fromSD_N2\n",
      "Plotting W122_08_06_2019_1_fromSD_N3\n",
      "Loading data ...\n",
      "aligning events ...\n",
      "no file found, running alignment for session\n",
      "Plotting W122_08_07_2019_1_fromSD_N0\n",
      "Plotting W122_08_07_2019_1_fromSD_N1\n",
      "Plotting W122_08_07_2019_1_fromSD_N2\n",
      "Plotting W122_08_07_2019_1_fromSD_N3\n",
      "Plotting W122_08_07_2019_1_fromSD_N4\n",
      "Plotting W122_08_07_2019_1_fromSD_N5\n",
      "Loading data ...\n",
      "aligning events ...\n",
      "no file found, running alignment for session\n",
      "Plotting W122_08_31_2019_1_fromSD_N0\n",
      "Plotting W122_08_31_2019_1_fromSD_N1\n",
      "Plotting W122_08_31_2019_1_fromSD_N2\n",
      "Plotting W122_08_31_2019_1_fromSD_N3\n",
      "Loading data ...\n",
      "aligning events ...\n",
      "no file found, running alignment for session\n",
      "Plotting W122_09_04_2019_1_fromSD_N0\n",
      "Plotting W122_09_04_2019_1_fromSD_N1\n",
      "Loading data ...\n",
      "aligning events ...\n",
      "no file found, running alignment for session\n",
      "Plotting W122_09_09_2019_1_fromSD_N0\n"
     ]
    },
    {
     "name": "stderr",
     "output_type": "stream",
     "text": [
      "C:\\Users\\JB\\anaconda3\\envs\\PWM_ephys\\lib\\site-packages\\numpy\\core\\_methods.py:234: RuntimeWarning: Degrees of freedom <= 0 for slice\n",
      "  keepdims=keepdims)\n",
      "C:\\Users\\JB\\anaconda3\\envs\\PWM_ephys\\lib\\site-packages\\numpy\\core\\_methods.py:224: RuntimeWarning: invalid value encountered in true_divide\n",
      "  ret, rcount, out=ret, casting='unsafe', subok=False)\n"
     ]
    },
    {
     "name": "stdout",
     "output_type": "stream",
     "text": [
      "Plotting W122_09_09_2019_1_fromSD_N1\n"
     ]
    },
    {
     "name": "stderr",
     "output_type": "stream",
     "text": [
      "C:\\Users\\JB\\anaconda3\\envs\\PWM_ephys\\lib\\site-packages\\numpy\\core\\_methods.py:234: RuntimeWarning: Degrees of freedom <= 0 for slice\n",
      "  keepdims=keepdims)\n",
      "C:\\Users\\JB\\anaconda3\\envs\\PWM_ephys\\lib\\site-packages\\numpy\\core\\_methods.py:224: RuntimeWarning: invalid value encountered in true_divide\n",
      "  ret, rcount, out=ret, casting='unsafe', subok=False)\n"
     ]
    },
    {
     "name": "stdout",
     "output_type": "stream",
     "text": [
      "Plotting W122_09_09_2019_1_fromSD_N2\n"
     ]
    },
    {
     "name": "stderr",
     "output_type": "stream",
     "text": [
      "C:\\Users\\JB\\anaconda3\\envs\\PWM_ephys\\lib\\site-packages\\numpy\\core\\_methods.py:234: RuntimeWarning: Degrees of freedom <= 0 for slice\n",
      "  keepdims=keepdims)\n",
      "C:\\Users\\JB\\anaconda3\\envs\\PWM_ephys\\lib\\site-packages\\numpy\\core\\_methods.py:224: RuntimeWarning: invalid value encountered in true_divide\n",
      "  ret, rcount, out=ret, casting='unsafe', subok=False)\n"
     ]
    },
    {
     "name": "stdout",
     "output_type": "stream",
     "text": [
      "Loading data ...\n",
      "aligning events ...\n",
      "no file found, running alignment for session\n",
      "Plotting W122_09_12_2019_1_fromSD_N0\n",
      "Plotting W122_09_12_2019_1_fromSD_N1\n",
      "Plotting W122_09_12_2019_1_fromSD_N2\n",
      "Plotting W122_09_12_2019_1_fromSD_N3\n",
      "Loading data ...\n",
      "aligning events ...\n",
      "no file found, running alignment for session\n",
      "Plotting W122_09_21_2019_1_fromSD_N0\n",
      "Plotting W122_09_21_2019_1_fromSD_N1\n",
      "Plotting W122_09_21_2019_1_fromSD_N2\n",
      "Plotting W122_09_21_2019_1_fromSD_N3\n",
      "Plotting W122_09_21_2019_1_fromSD_N4\n",
      "Loading data ...\n",
      "aligning events ...\n",
      "no file found, running alignment for session\n",
      "Plotting W122_09_24_2019_1_fromSD_N0\n",
      "Plotting W122_09_24_2019_1_fromSD_N1\n"
     ]
    }
   ],
   "source": [
    "event = 'delay_overlap'\n",
    "fig_save_path = os.path.join(os.getcwd(), 'figures', 'labmeeting_20210518', 'delay_loudness_no_masking')\n",
    "\n",
    "for name, path, behp, spksp in zip(sess_names, sess_paths, beh_paths, spks_paths):\n",
    "    \n",
    "    print('Loading data ...')\n",
    "    beh_df, spks_dict = load_and_wrangle(behp, spksp, overwrite=False)\n",
    "    \n",
    "    filtered_df = beh_df[(beh_df['first_sound'] != 'psycho') & (beh_df['hit_hist'] == 'hit')]\n",
    "    \n",
    "    print('aligning events ...')\n",
    "    sess_aligned, sess_windows = event_align_session(spks_dict, filtered_df, path, overwrite=True,\n",
    "                                                delay_mode=True, file_name='labmtg_analysis.pkl')\n",
    "    \n",
    "    analyze_and_plot_loudness(name, sess_aligned, sess_windows, event, filtered_df, fig_save_path, path)"
   ]
  },
  {
   "cell_type": "code",
   "execution_count": null,
   "id": "668de34e",
   "metadata": {},
   "outputs": [],
   "source": []
  },
  {
   "cell_type": "code",
   "execution_count": 9,
   "id": "8e93e09e",
   "metadata": {
    "scrolled": true
   },
   "outputs": [
    {
     "name": "stdout",
     "output_type": "stream",
     "text": [
      "no file found, running alignment for session\n",
      "Plotting data_sdb_20190724_193007_fromSD_N0\n"
     ]
    },
    {
     "name": "stderr",
     "output_type": "stream",
     "text": [
      "C:\\Users\\JB\\github\\jbreda_PWM_ephys_analysis\\plotting_utils.py:184: RuntimeWarning: Mean of empty slice\n",
      "  if summary:\n",
      "C:\\Users\\JB\\github\\jbreda_PWM_ephys_analysis\\plotting_utils.py:365: RuntimeWarning: All-NaN axis encountered\n",
      "  scale = 0.01\n",
      "C:\\Users\\JB\\github\\jbreda_PWM_ephys_analysis\\plotting_utils.py:366: RuntimeWarning: All-NaN axis encountered\n",
      "  y_min = (1 - scale) * np.nanmin([np.min(mean[cond_id]) for cond_id in mean.keys()])\n"
     ]
    },
    {
     "name": "stdout",
     "output_type": "stream",
     "text": [
      "Plotting data_sdb_20190724_193007_fromSD_N1\n",
      "Plotting data_sdb_20190724_193007_fromSD_N2\n",
      "Plotting data_sdb_20190724_193007_fromSD_N3\n",
      "no file found, running alignment for session\n",
      "Plotting data_sdc_20190902_145404_fromSD_N0\n",
      "Plotting data_sdc_20190902_145404_fromSD_N1\n",
      "Plotting data_sdc_20190902_145404_fromSD_N2\n",
      "Plotting data_sdc_20190902_145404_fromSD_N3\n",
      "no file found, running alignment for session\n",
      "Plotting W122_07_27_2019_1_fromSD_N0\n",
      "Plotting W122_07_27_2019_1_fromSD_N1\n"
     ]
    },
    {
     "name": "stderr",
     "output_type": "stream",
     "text": [
      "C:\\Users\\JB\\github\\jbreda_PWM_ephys_analysis\\plotting_utils.py:184: RuntimeWarning: Mean of empty slice\n",
      "  if summary:\n"
     ]
    },
    {
     "name": "stdout",
     "output_type": "stream",
     "text": [
      "Plotting W122_07_27_2019_1_fromSD_N2\n",
      "no file found, running alignment for session\n",
      "Plotting W122_08_06_2019_1_fromSD_N0\n",
      "Plotting W122_08_06_2019_1_fromSD_N1\n",
      "Plotting W122_08_06_2019_1_fromSD_N2\n",
      "Plotting W122_08_06_2019_1_fromSD_N3\n",
      "no file found, running alignment for session\n",
      "Plotting W122_08_07_2019_1_fromSD_N0\n",
      "Plotting W122_08_07_2019_1_fromSD_N1\n",
      "Plotting W122_08_07_2019_1_fromSD_N2\n",
      "Plotting W122_08_07_2019_1_fromSD_N3\n",
      "Plotting W122_08_07_2019_1_fromSD_N4\n",
      "Plotting W122_08_07_2019_1_fromSD_N5\n",
      "no file found, running alignment for session\n",
      "Plotting W122_08_31_2019_1_fromSD_N0\n"
     ]
    },
    {
     "name": "stderr",
     "output_type": "stream",
     "text": [
      "C:\\Users\\JB\\github\\jbreda_PWM_ephys_analysis\\plotting_utils.py:184: RuntimeWarning: Mean of empty slice\n",
      "  if summary:\n"
     ]
    },
    {
     "name": "stdout",
     "output_type": "stream",
     "text": [
      "Plotting W122_08_31_2019_1_fromSD_N1\n",
      "Plotting W122_08_31_2019_1_fromSD_N2\n",
      "Plotting W122_08_31_2019_1_fromSD_N3\n",
      "no file found, running alignment for session\n",
      "Plotting W122_09_04_2019_1_fromSD_N0\n",
      "Plotting W122_09_04_2019_1_fromSD_N1\n",
      "no file found, running alignment for session\n",
      "Plotting W122_09_09_2019_1_fromSD_N0\n"
     ]
    },
    {
     "name": "stderr",
     "output_type": "stream",
     "text": [
      "C:\\Users\\JB\\anaconda3\\envs\\PWM_ephys\\lib\\site-packages\\numpy\\core\\_methods.py:234: RuntimeWarning: Degrees of freedom <= 0 for slice\n",
      "  keepdims=keepdims)\n",
      "C:\\Users\\JB\\anaconda3\\envs\\PWM_ephys\\lib\\site-packages\\numpy\\core\\_methods.py:224: RuntimeWarning: invalid value encountered in true_divide\n",
      "  ret, rcount, out=ret, casting='unsafe', subok=False)\n"
     ]
    },
    {
     "name": "stdout",
     "output_type": "stream",
     "text": [
      "Plotting W122_09_09_2019_1_fromSD_N1\n"
     ]
    },
    {
     "name": "stderr",
     "output_type": "stream",
     "text": [
      "C:\\Users\\JB\\anaconda3\\envs\\PWM_ephys\\lib\\site-packages\\numpy\\core\\_methods.py:234: RuntimeWarning: Degrees of freedom <= 0 for slice\n",
      "  keepdims=keepdims)\n",
      "C:\\Users\\JB\\anaconda3\\envs\\PWM_ephys\\lib\\site-packages\\numpy\\core\\_methods.py:224: RuntimeWarning: invalid value encountered in true_divide\n",
      "  ret, rcount, out=ret, casting='unsafe', subok=False)\n"
     ]
    },
    {
     "name": "stdout",
     "output_type": "stream",
     "text": [
      "Plotting W122_09_09_2019_1_fromSD_N2\n"
     ]
    },
    {
     "name": "stderr",
     "output_type": "stream",
     "text": [
      "C:\\Users\\JB\\github\\jbreda_PWM_ephys_analysis\\plotting_utils.py:184: RuntimeWarning: Mean of empty slice\n",
      "  if summary:\n",
      "C:\\Users\\JB\\github\\jbreda_PWM_ephys_analysis\\plotting_utils.py:365: RuntimeWarning: All-NaN axis encountered\n",
      "  scale = 0.01\n",
      "C:\\Users\\JB\\github\\jbreda_PWM_ephys_analysis\\plotting_utils.py:366: RuntimeWarning: All-NaN axis encountered\n",
      "  y_min = (1 - scale) * np.nanmin([np.min(mean[cond_id]) for cond_id in mean.keys()])\n"
     ]
    },
    {
     "name": "stdout",
     "output_type": "stream",
     "text": [
      "no file found, running alignment for session\n",
      "Plotting W122_09_12_2019_1_fromSD_N0\n",
      "Plotting W122_09_12_2019_1_fromSD_N1\n",
      "Plotting W122_09_12_2019_1_fromSD_N2\n",
      "Plotting W122_09_12_2019_1_fromSD_N3\n",
      "no file found, running alignment for session\n",
      "Plotting W122_09_21_2019_1_fromSD_N0\n",
      "Plotting W122_09_21_2019_1_fromSD_N1\n",
      "Plotting W122_09_21_2019_1_fromSD_N2\n",
      "Plotting W122_09_21_2019_1_fromSD_N3\n",
      "Plotting W122_09_21_2019_1_fromSD_N4\n",
      "no file found, running alignment for session\n",
      "Plotting W122_09_24_2019_1_fromSD_N0\n",
      "Plotting W122_09_24_2019_1_fromSD_N1\n"
     ]
    }
   ],
   "source": [
    "event = 'delay_overlap'\n",
    "fig_save_path = os.path.join(os.getcwd(), 'figures', 'labmeeting_20210518', 'delay_loudness_edge_sounds')\n",
    "sound_list = ['60*', '92*']\n",
    "\n",
    "# delay_colors =['#f6ab83', '#f06043', '#ca1a50', '#841e5a', '#3f1b43']\n",
    "# delay_colors_edges = [delay_colors[0], delay_colors[-1]]\n",
    "\n",
    "\n",
    "for name, path, behp, spksp in zip(sess_names, sess_paths, beh_paths, spks_paths):\n",
    "    \n",
    "    beh_df, spks_dict = load_and_wrangle(behp, spksp, overwrite=False)\n",
    "    \n",
    "    filtered_df = beh_df[(beh_df['first_sound'].isin(sound_list)) & (beh_df['hit_hist'] == 'hit')]\n",
    "    \n",
    "    \n",
    "    sess_aligned, sess_windows = event_align_session(spks_dict, filtered_df, \n",
    "                                                     path, overwrite=True,\n",
    "                                                     delay_mode=True, \n",
    "                                                     file_name='labmtg_analysis_edge_sounds.pkl')\n",
    "    \n",
    "    analyze_and_plot_loudness(name, sess_aligned, \n",
    "                              sess_windows, event, filtered_df, \n",
    "                              fig_save_path, path)"
   ]
  },
  {
   "cell_type": "code",
   "execution_count": 8,
   "id": "973d98ef",
   "metadata": {},
   "outputs": [
    {
     "name": "stdout",
     "output_type": "stream",
     "text": [
      "Loading data ...\n",
      "aligning events ...\n",
      "no file found, running alignment for session\n",
      "Plotting data_sdb_20190724_193007_fromSD_N0\n"
     ]
    },
    {
     "name": "stderr",
     "output_type": "stream",
     "text": [
      "C:\\Users\\JB\\github\\jbreda_PWM_ephys_analysis\\plotting_utils.py:185: RuntimeWarning: Mean of empty slice\n",
      "  smoothed_mean = np.nanmean(np.array(smoothed_trials), axis=0)\n"
     ]
    },
    {
     "name": "stdout",
     "output_type": "stream",
     "text": [
      "Plotting data_sdb_20190724_193007_fromSD_N1\n",
      "Plotting data_sdb_20190724_193007_fromSD_N2\n",
      "Plotting data_sdb_20190724_193007_fromSD_N3\n",
      "Loading data ...\n",
      "aligning events ...\n",
      "no file found, running alignment for session\n",
      "Plotting data_sdc_20190902_145404_fromSD_N0\n",
      "Plotting data_sdc_20190902_145404_fromSD_N1\n",
      "Plotting data_sdc_20190902_145404_fromSD_N2\n",
      "Plotting data_sdc_20190902_145404_fromSD_N3\n",
      "Loading data ...\n",
      "aligning events ...\n",
      "no file found, running alignment for session\n",
      "Plotting W122_07_27_2019_1_fromSD_N0\n",
      "Plotting W122_07_27_2019_1_fromSD_N1\n",
      "Plotting W122_07_27_2019_1_fromSD_N2\n",
      "Loading data ...\n",
      "aligning events ...\n",
      "no file found, running alignment for session\n",
      "Plotting W122_08_06_2019_1_fromSD_N0\n",
      "Plotting W122_08_06_2019_1_fromSD_N1\n",
      "Plotting W122_08_06_2019_1_fromSD_N2\n",
      "Plotting W122_08_06_2019_1_fromSD_N3\n",
      "Loading data ...\n",
      "aligning events ...\n",
      "no file found, running alignment for session\n",
      "Plotting W122_08_07_2019_1_fromSD_N0\n",
      "Plotting W122_08_07_2019_1_fromSD_N1\n",
      "Plotting W122_08_07_2019_1_fromSD_N2\n",
      "Plotting W122_08_07_2019_1_fromSD_N3\n",
      "Plotting W122_08_07_2019_1_fromSD_N4\n",
      "Plotting W122_08_07_2019_1_fromSD_N5\n",
      "Loading data ...\n",
      "aligning events ...\n",
      "no file found, running alignment for session\n",
      "Plotting W122_08_31_2019_1_fromSD_N0\n",
      "Plotting W122_08_31_2019_1_fromSD_N1\n",
      "Plotting W122_08_31_2019_1_fromSD_N2\n",
      "Plotting W122_08_31_2019_1_fromSD_N3\n",
      "Loading data ...\n",
      "aligning events ...\n",
      "no file found, running alignment for session\n",
      "Plotting W122_09_04_2019_1_fromSD_N0\n",
      "Plotting W122_09_04_2019_1_fromSD_N1\n",
      "Loading data ...\n",
      "aligning events ...\n",
      "no file found, running alignment for session\n",
      "Plotting W122_09_09_2019_1_fromSD_N0\n",
      "Plotting W122_09_09_2019_1_fromSD_N1\n",
      "Plotting W122_09_09_2019_1_fromSD_N2\n"
     ]
    },
    {
     "name": "stderr",
     "output_type": "stream",
     "text": [
      "C:\\Users\\JB\\github\\jbreda_PWM_ephys_analysis\\plotting_utils.py:185: RuntimeWarning: Mean of empty slice\n",
      "  smoothed_mean = np.nanmean(np.array(smoothed_trials), axis=0)\n"
     ]
    },
    {
     "name": "stdout",
     "output_type": "stream",
     "text": [
      "Loading data ...\n",
      "aligning events ...\n",
      "no file found, running alignment for session\n",
      "Plotting W122_09_12_2019_1_fromSD_N0\n",
      "Plotting W122_09_12_2019_1_fromSD_N1\n",
      "Plotting W122_09_12_2019_1_fromSD_N2\n",
      "Plotting W122_09_12_2019_1_fromSD_N3\n",
      "Loading data ...\n",
      "aligning events ...\n",
      "no file found, running alignment for session\n",
      "Plotting W122_09_21_2019_1_fromSD_N0\n",
      "Plotting W122_09_21_2019_1_fromSD_N1\n",
      "Plotting W122_09_21_2019_1_fromSD_N2\n",
      "Plotting W122_09_21_2019_1_fromSD_N3\n",
      "Plotting W122_09_21_2019_1_fromSD_N4\n",
      "Loading data ...\n",
      "aligning events ...\n",
      "no file found, running alignment for session\n",
      "Plotting W122_09_24_2019_1_fromSD_N0\n",
      "Plotting W122_09_24_2019_1_fromSD_N1\n"
     ]
    }
   ],
   "source": [
    "event = 'delay_overlap'\n",
    "fig_save_path = os.path.join(os.getcwd(), 'figures', 'labmeeting_20210518', 'delay_loudness_middle_sounds')\n",
    "sound_list = ['68', '76', '84']\n",
    "\n",
    "for name, path, behp, spksp in zip(sess_names, sess_paths, beh_paths, spks_paths):\n",
    "    \n",
    "    print('Loading data ...')\n",
    "    beh_df, spks_dict = load_and_wrangle(behp, spksp, overwrite=False)\n",
    "    \n",
    "    filtered_df = beh_df[(beh_df['first_sound'].isin(sound_list)) & (beh_df['hit_hist'] == 'hit')]\n",
    "    \n",
    "    print('aligning events ...')\n",
    "    sess_aligned, sess_windows = event_align_session(spks_dict, filtered_df,\n",
    "                                                     path, overwrite=False,\n",
    "                                                     delay_mode=True, \n",
    "                                                     file_name='labmtg_analysis_middle_sounds.pkl')\n",
    "    \n",
    "    analyze_and_plot_loudness(name, sess_aligned, \n",
    "                              sess_windows, event, \n",
    "                              filtered_df, fig_save_path, \n",
    "                              path)"
   ]
  },
  {
   "cell_type": "code",
   "execution_count": null,
   "id": "594d77a6",
   "metadata": {},
   "outputs": [],
   "source": []
  }
 ],
 "metadata": {
  "kernelspec": {
   "display_name": "Python 3",
   "language": "python",
   "name": "python3"
  },
  "language_info": {
   "codemirror_mode": {
    "name": "ipython",
    "version": 3
   },
   "file_extension": ".py",
   "mimetype": "text/x-python",
   "name": "python",
   "nbconvert_exporter": "python",
   "pygments_lexer": "ipython3",
   "version": "3.7.10"
  }
 },
 "nbformat": 4,
 "nbformat_minor": 5
}
