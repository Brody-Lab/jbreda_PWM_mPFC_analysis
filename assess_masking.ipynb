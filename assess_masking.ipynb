{
 "cells": [
  {
   "cell_type": "markdown",
   "id": "cognitive-production",
   "metadata": {},
   "source": [
    "# Assess Masking\n",
    "\n",
    "The goal of this notebook is to load in beh, spk and masking data to assess how much masking (0ing out of ephys data) is occuring on a per trial basis across a variety of sessions."
   ]
  },
  {
   "cell_type": "code",
   "execution_count": 1,
   "id": "prime-insertion",
   "metadata": {},
   "outputs": [],
   "source": [
    "# libraries\n",
    "import numpy as np\n",
    "import matplotlib.pyplot as plt\n",
    "import pandas as pd\n",
    "import seaborn as sns\n",
    "import scipy.io as spio\n",
    "import os\n",
    "from utils import *\n",
    "\n",
    "# settings\n",
    "%load_ext autoreload\n",
    "%autoreload 2\n",
    "sns.set_context(\"talk\")"
   ]
  },
  {
   "cell_type": "code",
   "execution_count": 2,
   "id": "endless-prompt",
   "metadata": {},
   "outputs": [],
   "source": [
    "def spks_dict_extract(spks_dict):\n",
    "    \"\"\"Function to help extract useful info from spks_dict that is nested deeply\n",
    "    \n",
    "    inputs\n",
    "    ------\n",
    "    spks_dict : dict, with spk info from .mat file\n",
    "    \n",
    "    returns\n",
    "    -------\n",
    "    spk2fsm    : arr, slope and y-int for getting from spike time to beh time\n",
    "    trode_nums : list, what tetrode each cell is on in the session (1-32)\n",
    "    fs         : int, sample rate of ephys\n",
    "    \"\"\"\n",
    "    spk2fsm = spks_dict['behav_session'][0]['spk2fsm_rt'][0][0][0] #[m, b]\n",
    "    \n",
    "    trode_nums = []\n",
    "    for i in range(len(spks_dict['trodenum'])):\n",
    "        trode_nums.append(spks_dict['trodenum'][i][0][0])\n",
    "        \n",
    "    fs = spks_dict['fs'][0][0][0]\n",
    "    \n",
    "    return spk2fsm, trode_nums, fs"
   ]
  },
  {
   "cell_type": "code",
   "execution_count": 28,
   "id": "driven-tower",
   "metadata": {},
   "outputs": [],
   "source": [
    "def load_masks(trode_nums, sess_dir):\n",
    "    \"\"\"Function for loading mask info stores in sortedd session direactory \n",
    "    based on the active tetrodes in the session\n",
    "    \n",
    "    inputs\n",
    "    ------\n",
    "    trode_num : list, what tetrode each cell is on in the session (1-32)\n",
    "    sess_dir : path to directory for a sorted session with mask NPY files for each bundle\n",
    "    \n",
    "    returns\n",
    "    -------\n",
    "    mask_info : list, first item the list is unique trodes num list that is N long, remaining \n",
    "                N list items are masks for each unique tetrode (this needs to be modified for\n",
    "                having multiple cells on the same bndl)\n",
    "    \"\"\"\n",
    "    \n",
    "    # intialize space\n",
    "    \n",
    "    mask_info = []\n",
    "    \n",
    "    # deal with multiple cells on one tetrode\n",
    "    unique_trodes = np.unique(trode_nums)\n",
    "    mask_info.append(unique_trodes)\n",
    "    \n",
    "    for trode in unique_trodes:\n",
    "        \n",
    "        # determine (unefficiently) which mask file is correct\n",
    "        if trode <= 8:\n",
    "            bndl = \"bundle1_mask_info\"\n",
    "        elif trode > 8 <= 16:\n",
    "            bndl = \"bundle2_mask_info\"\n",
    "        elif trode > 16 <= 24:\n",
    "            bndl = \"bundle3_mask_info\"\n",
    "        elif trode > 24 <= 32:\n",
    "            bndl = \"bundle4_mask_info\"\n",
    "        else:\n",
    "            print(\"trode not between 1-32, function will break\")\n",
    "            \n",
    "        # load it, flatten & convert to bool (0.0 = noise, 1.0 = signal)\n",
    "        bndl_mask = np.load(os.path.join(sess_dir, bndl))\n",
    "        bndl_mask = bndl_mask.flatten()\n",
    "        bndl_mask_bool = np.where(bndl_mask == 0.0, True, False) \n",
    "        mask_info.append(bndl_mask_bool)\n",
    "        \n",
    "    return mask_info"
   ]
  },
  {
   "cell_type": "code",
   "execution_count": 50,
   "id": "completed-think",
   "metadata": {},
   "outputs": [],
   "source": [
    "def mask2fsm(mask_info, fs, spk2fsm):\n",
    "    \n",
    "    \"\"\"Quick function to use shape of boolean mask to create a second array in fsm time\n",
    "    to allow for a common timeframe between task events and ephys masking\"\"\"\n",
    "    \n",
    "    # create a array the same length of the bool with values in seconds at fs\n",
    "    mask_sec = np.linspace(0, len(mask_info[1])/fs, len(mask_info[1]))\n",
    "    \n",
    "    # convert the time array above from spk time to fsm time\n",
    "    mask_fsm = (mask_sec * spk2fsm[0]) + spk2fsm[1]\n",
    "    \n",
    "    return mask_fsm"
   ]
  },
  {
   "cell_type": "markdown",
   "id": "bound-jefferson",
   "metadata": {},
   "source": [
    "## I/O"
   ]
  },
  {
   "cell_type": "code",
   "execution_count": 24,
   "id": "anonymous-hostel",
   "metadata": {},
   "outputs": [],
   "source": [
    "t_b = os.path.join(dir_name, sess_name, 'beh_df.csv')\n",
    "os.path.exists(t_b)\n",
    "\n",
    "overwrite = True\n",
    "\n",
    "if os.path.exists(t_b) and overwrite == False:\n",
    "    print('ya')"
   ]
  },
  {
   "cell_type": "code",
   "execution_count": 71,
   "id": "daily-softball",
   "metadata": {},
   "outputs": [],
   "source": [
    "# global\n",
    "sess_name = 'W122_08_31_2019_1_fromSD' # this will be flexible\n",
    "dir_name  = 'Y:\\jbreda\\ephys\\post_sort_analysis\\sorted_pre_bdata' \n",
    "beh_mat   = 'protocol_info.mat'\n",
    "spks_mat  = 'ksphy_clusters_foranalysis.mat'\n",
    "sess_dir = os.path.join(dir_name, sess_name)\n",
    "\n",
    "# create paths\n",
    "beh_path  = os.path.join(dir_name, sess_name, beh_mat)\n",
    "spks_path = os.path.join(dir_name, sess_name, spks_mat)\n",
    "\n",
    "# load & wrangle\n",
    "beh_df, spks_dict = load_and_wrangle(beh_path, spks_path, overwrite=True)\n",
    "spk2fsm, trode_nums, fs = spks_dict_extract(spks_dict)\n",
    "mask_info = load_masks(trode_nums, sess_dir)\n",
    "mask_beh_s = mask2fsm(mask_info, fs, spk2fsm)"
   ]
  },
  {
   "cell_type": "code",
   "execution_count": 72,
   "id": "competitive-reduction",
   "metadata": {},
   "outputs": [
    {
     "name": "stderr",
     "output_type": "stream",
     "text": [
      "c:\\users\\brodylab\\anaconda3\\envs\\pwmephys\\lib\\site-packages\\ipykernel_launcher.py:3: SettingWithCopyWarning: \n",
      "A value is trying to be set on a copy of a slice from a DataFrame.\n",
      "Try using .loc[row_indexer,col_indexer] = value instead\n",
      "\n",
      "See the caveats in the documentation: https://pandas.pydata.org/pandas-docs/stable/user_guide/indexing.html#returning-a-view-versus-a-copy\n",
      "  This is separate from the ipykernel package so we can avoid doing imports until\n"
     ]
    }
   ],
   "source": [
    "no_viol_df = beh_df[beh_df['hit_hist'] != 'viol']\n",
    "# save trial number, but reset the index\n",
    "no_viol_df['trial_num'] = no_viol_df.index \n",
    "no_viol_df.index = range(len(no_viol_df))"
   ]
  },
  {
   "cell_type": "code",
   "execution_count": 76,
   "id": "polyphonic-photographer",
   "metadata": {},
   "outputs": [
    {
     "data": {
      "text/plain": [
       "3"
      ]
     },
     "execution_count": 76,
     "metadata": {},
     "output_type": "execute_result"
    }
   ],
   "source": [
    "len(mask_info)"
   ]
  },
  {
   "cell_type": "code",
   "execution_count": 77,
   "id": "swiss-calgary",
   "metadata": {},
   "outputs": [],
   "source": [
    "start = no_viol_df['c_poke']\n",
    "end = no_viol_df['aud2_off']\n",
    "\n",
    "\n",
    "cut_samples = []\n",
    "trial_len = []\n",
    "trial = []\n",
    "trode = 2\n",
    "# for trode in range(1, len(mask_info)-1):\n",
    "#     print(trode)\n",
    "for trial in range(len(start)):\n",
    "\n",
    "    idx_s = np.searchsorted(mask_beh_s, start[trial], side = \"left\")\n",
    "    idx_e = np.searchsorted(mask_beh_s, end[trial], side = \"left\")\n",
    "\n",
    "    trial_len.append(idx_e - idx_s)\n",
    "    cut_samples.append(np.sum(mask_info[trode][idx_s:idx_e]))\n"
   ]
  },
  {
   "cell_type": "code",
   "execution_count": 82,
   "id": "respective-essex",
   "metadata": {},
   "outputs": [
    {
     "data": {
      "text/plain": [
       "(160930860, 160930860)"
      ]
     },
     "execution_count": 82,
     "metadata": {},
     "output_type": "execute_result"
    }
   ],
   "source": [
    "len(mask_info[2]), idx_s"
   ]
  },
  {
   "cell_type": "code",
   "execution_count": 78,
   "id": "interracial-clothing",
   "metadata": {},
   "outputs": [
    {
     "data": {
      "text/plain": [
       "[<matplotlib.lines.Line2D at 0x1b40c3b8f08>]"
      ]
     },
     "execution_count": 78,
     "metadata": {},
     "output_type": "execute_result"
    },
    {
     "data": {
      "image/png": "[encoded data removed]",
      "text/plain": [
       "<Figure size 432x288 with 1 Axes>"
      ]
     },
     "metadata": {
      "needs_background": "light"
     },
     "output_type": "display_data"
    }
   ],
   "source": [
    "plt.plot(mask_info[2][idx_s:idx_e])"
   ]
  },
  {
   "cell_type": "code",
   "execution_count": 83,
   "id": "assumed-cowboy",
   "metadata": {},
   "outputs": [
    {
     "data": {
      "text/plain": [
       "(array([103., 113.,  61.,  30.,  15.,   7.,   3.,   2.,   1.,   1.]),\n",
       " array([    0. ,  7346.8, 14693.6, 22040.4, 29387.2, 36734. , 44080.8,\n",
       "        51427.6, 58774.4, 66121.2, 73468. ]),\n",
       " <BarContainer object of 10 artists>)"
      ]
     },
     "execution_count": 83,
     "metadata": {},
     "output_type": "execute_result"
    },
    {
     "data": {
      "image/png": "[encoded data removed]",
      "text/plain": [
       "<Figure size 432x288 with 1 Axes>"
      ]
     },
     "metadata": {
      "needs_background": "light"
     },
     "output_type": "display_data"
    }
   ],
   "source": [
    "plt.hist(cut_samples)"
   ]
  },
  {
   "cell_type": "code",
   "execution_count": 70,
   "id": "animated-arctic",
   "metadata": {},
   "outputs": [
    {
     "name": "stdout",
     "output_type": "stream",
     "text": [
      "23\n"
     ]
    }
   ],
   "source": [
    "counter = 0\n",
    "n_samples = 10000\n",
    "for i in range(len(cut_samples)):\n",
    "    if cut_samples[i] < n_samples:\n",
    "        counter+=1\n",
    "print(counter)"
   ]
  }
 ],
 "metadata": {
  "kernelspec": {
   "display_name": "Python 3",
   "language": "python",
   "name": "python3"
  },
  "language_info": {
   "codemirror_mode": {
    "name": "ipython",
    "version": 3
   },
   "file_extension": ".py",
   "mimetype": "text/x-python",
   "name": "python",
   "nbconvert_exporter": "python",
   "pygments_lexer": "ipython3",
   "version": "3.7.9"
  }
 },
 "nbformat": 4,
 "nbformat_minor": 5
}
