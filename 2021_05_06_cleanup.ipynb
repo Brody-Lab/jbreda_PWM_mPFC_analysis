{
 "cells": [
  {
   "cell_type": "markdown",
   "id": "f1937080",
   "metadata": {},
   "source": [
    "# Clean up\n",
    "\n",
    "Cleaning up code for future me & testing if things worked"
   ]
  },
  {
   "cell_type": "code",
   "execution_count": 3,
   "id": "f126dc07",
   "metadata": {},
   "outputs": [],
   "source": [
    "# libraries\n",
    "import sys; sys.path.insert(0, '..') # if you don't find it here, look one above\n",
    "import os\n",
    "import numpy as np\n",
    "import matplotlib.pyplot as plt\n",
    "import pandas as pd\n",
    "import seaborn as sns\n",
    "import scipy.io as spio\n",
    "import pickle\n",
    "import warnings\n",
    "\n",
    "from tqdm import tqdm\n",
    "from scipy import stats\n",
    "from scipy.ndimage import gaussian_filter1d\n",
    "from io_utils import *\n",
    "from plotting_utils import * \n",
    "\n",
    "\n",
    "# settings\n",
    "%load_ext autoreload\n",
    "%autoreload 2\n",
    "sns.set_context(\"talk\")"
   ]
  },
  {
   "cell_type": "markdown",
   "id": "23c66518",
   "metadata": {},
   "source": [
    "Test with single session"
   ]
  },
  {
   "cell_type": "code",
   "execution_count": 4,
   "id": "26573f4c",
   "metadata": {},
   "outputs": [],
   "source": [
    "sess_name =  'data_sdc_20190902_145404_fromSD' \n",
    "base_path  = 'Y:\\jbreda\\ephys\\post_sort_analysis\\sorted_pre_bdata' \n",
    "beh_mat   = 'protocol_info.mat'\n",
    "spks_mat  = 'ksphy_clusters_foranalysis.mat'\n",
    "\n",
    "\n",
    "# create paths\n",
    "sess_path = os.path.join(base_path, sess_name)\n",
    "beh_path  = os.path.join(sess_path, beh_mat)\n",
    "spks_path = os.path.join(sess_path, spks_mat)\n",
    "\n",
    "# alginment info (hard coded here & in fx)\n",
    "# names = ['aud1on', 'aud1off', 'aud2on', 'aud2off', 'trial_all', 'delay_overlap', \n",
    "#          'delay2s', 'trial2s', 'delay4s', 'trial4s']\n",
    "# windows = [[-400, 600], [-500, 500], [-400, 600], [-500, 500], [-100, 5000], [-300, 2300],\n",
    "#            [-150, 2150],[-200, 2400], [-150, 4150], [-200, 4400]]\n",
    "\n",
    "# align_windows = dict(zip(names,windows))"
   ]
  },
  {
   "cell_type": "markdown",
   "id": "a1c9856f",
   "metadata": {},
   "source": [
    "Load in"
   ]
  },
  {
   "cell_type": "code",
   "execution_count": 11,
   "id": "72671218",
   "metadata": {},
   "outputs": [
    {
     "name": "stdout",
     "output_type": "stream",
     "text": [
      "no file found, running alignment for session\n"
     ]
    }
   ],
   "source": [
    "beh_df, spks_dict = load_and_wrangle(beh_path, spks_path, overwrite=False)\n",
    "\n",
    "sess_aligned, sess_windows = event_align_session(spks_dict, beh_df, sess_path, overwrite=True,\n",
    "                                                 delay_mode=True, file_name='2021_05_06_cleanup_aligned_spks.pkl')"
   ]
  },
  {
   "cell_type": "code",
   "execution_count": 40,
   "id": "655a38b1",
   "metadata": {},
   "outputs": [
    {
     "data": {
      "text/html": [
       "<div>\n",
       "<style scoped>\n",
       "    .dataframe tbody tr th:only-of-type {\n",
       "        vertical-align: middle;\n",
       "    }\n",
       "\n",
       "    .dataframe tbody tr th {\n",
       "        vertical-align: top;\n",
       "    }\n",
       "\n",
       "    .dataframe thead th {\n",
       "        text-align: right;\n",
       "    }\n",
       "</style>\n",
       "<table border=\"1\" class=\"dataframe\">\n",
       "  <thead>\n",
       "    <tr style=\"text-align: right;\">\n",
       "      <th></th>\n",
       "      <th>trial_num</th>\n",
       "      <th>hit_hist</th>\n",
       "      <th>delay</th>\n",
       "      <th>pair_hist</th>\n",
       "      <th>correct_side</th>\n",
       "      <th>prev_side</th>\n",
       "      <th>aud1_sigma</th>\n",
       "      <th>aud2_sigma</th>\n",
       "      <th>c_poke</th>\n",
       "      <th>end_state</th>\n",
       "      <th>hit_state</th>\n",
       "      <th>aud1_on</th>\n",
       "      <th>aud1_off</th>\n",
       "      <th>aud2_on</th>\n",
       "      <th>aud2_off</th>\n",
       "      <th>louder</th>\n",
       "      <th>first_sound</th>\n",
       "    </tr>\n",
       "  </thead>\n",
       "  <tbody>\n",
       "    <tr>\n",
       "      <th>11</th>\n",
       "      <td>31</td>\n",
       "      <td>miss</td>\n",
       "      <td>2</td>\n",
       "      <td>9</td>\n",
       "      <td>RIGHT</td>\n",
       "      <td>LEFT</td>\n",
       "      <td>0.008904</td>\n",
       "      <td>0.0073</td>\n",
       "      <td>774.886224</td>\n",
       "      <td>779.965231</td>\n",
       "      <td>778.618222</td>\n",
       "      <td>774.937230</td>\n",
       "      <td>775.337228</td>\n",
       "      <td>777.337223</td>\n",
       "      <td>777.737223</td>\n",
       "      <td>psycho</td>\n",
       "      <td>psycho</td>\n",
       "    </tr>\n",
       "    <tr>\n",
       "      <th>12</th>\n",
       "      <td>32</td>\n",
       "      <td>hit</td>\n",
       "      <td>2</td>\n",
       "      <td>12</td>\n",
       "      <td>LEFT</td>\n",
       "      <td>RIGHT</td>\n",
       "      <td>0.002704</td>\n",
       "      <td>0.0073</td>\n",
       "      <td>780.466227</td>\n",
       "      <td>785.484217</td>\n",
       "      <td>784.170224</td>\n",
       "      <td>780.517233</td>\n",
       "      <td>780.917230</td>\n",
       "      <td>782.916227</td>\n",
       "      <td>783.317224</td>\n",
       "      <td>psycho</td>\n",
       "      <td>psycho</td>\n",
       "    </tr>\n",
       "    <tr>\n",
       "      <th>14</th>\n",
       "      <td>34</td>\n",
       "      <td>hit</td>\n",
       "      <td>2</td>\n",
       "      <td>13</td>\n",
       "      <td>LEFT</td>\n",
       "      <td>LEFT</td>\n",
       "      <td>0.004023</td>\n",
       "      <td>0.0073</td>\n",
       "      <td>804.920227</td>\n",
       "      <td>809.897223</td>\n",
       "      <td>808.860225</td>\n",
       "      <td>804.971234</td>\n",
       "      <td>805.371231</td>\n",
       "      <td>807.371221</td>\n",
       "      <td>807.771221</td>\n",
       "      <td>psycho</td>\n",
       "      <td>psycho</td>\n",
       "    </tr>\n",
       "    <tr>\n",
       "      <th>17</th>\n",
       "      <td>39</td>\n",
       "      <td>hit</td>\n",
       "      <td>4</td>\n",
       "      <td>9</td>\n",
       "      <td>RIGHT</td>\n",
       "      <td>LEFT</td>\n",
       "      <td>0.008904</td>\n",
       "      <td>0.0073</td>\n",
       "      <td>851.109224</td>\n",
       "      <td>858.071228</td>\n",
       "      <td>856.864217</td>\n",
       "      <td>851.160220</td>\n",
       "      <td>851.560236</td>\n",
       "      <td>855.559227</td>\n",
       "      <td>855.959231</td>\n",
       "      <td>psycho</td>\n",
       "      <td>psycho</td>\n",
       "    </tr>\n",
       "    <tr>\n",
       "      <th>18</th>\n",
       "      <td>41</td>\n",
       "      <td>miss</td>\n",
       "      <td>4</td>\n",
       "      <td>14</td>\n",
       "      <td>LEFT</td>\n",
       "      <td>LEFT</td>\n",
       "      <td>0.005985</td>\n",
       "      <td>0.0073</td>\n",
       "      <td>870.657223</td>\n",
       "      <td>877.925230</td>\n",
       "      <td>876.534220</td>\n",
       "      <td>870.707230</td>\n",
       "      <td>871.107233</td>\n",
       "      <td>875.108232</td>\n",
       "      <td>875.508222</td>\n",
       "      <td>psycho</td>\n",
       "      <td>psycho</td>\n",
       "    </tr>\n",
       "    <tr>\n",
       "      <th>...</th>\n",
       "      <td>...</td>\n",
       "      <td>...</td>\n",
       "      <td>...</td>\n",
       "      <td>...</td>\n",
       "      <td>...</td>\n",
       "      <td>...</td>\n",
       "      <td>...</td>\n",
       "      <td>...</td>\n",
       "      <td>...</td>\n",
       "      <td>...</td>\n",
       "      <td>...</td>\n",
       "      <td>...</td>\n",
       "      <td>...</td>\n",
       "      <td>...</td>\n",
       "      <td>...</td>\n",
       "      <td>...</td>\n",
       "      <td>...</td>\n",
       "    </tr>\n",
       "    <tr>\n",
       "      <th>278</th>\n",
       "      <td>382</td>\n",
       "      <td>hit</td>\n",
       "      <td>2</td>\n",
       "      <td>10</td>\n",
       "      <td>RIGHT</td>\n",
       "      <td>RIGHT</td>\n",
       "      <td>0.013248</td>\n",
       "      <td>0.0073</td>\n",
       "      <td>4930.042219</td>\n",
       "      <td>4935.248217</td>\n",
       "      <td>4933.920217</td>\n",
       "      <td>4930.092220</td>\n",
       "      <td>4930.492223</td>\n",
       "      <td>4932.492224</td>\n",
       "      <td>4932.892225</td>\n",
       "      <td>psycho</td>\n",
       "      <td>psycho</td>\n",
       "    </tr>\n",
       "    <tr>\n",
       "      <th>280</th>\n",
       "      <td>384</td>\n",
       "      <td>hit</td>\n",
       "      <td>4</td>\n",
       "      <td>9</td>\n",
       "      <td>RIGHT</td>\n",
       "      <td>LEFT</td>\n",
       "      <td>0.008904</td>\n",
       "      <td>0.0073</td>\n",
       "      <td>4951.623222</td>\n",
       "      <td>4958.737224</td>\n",
       "      <td>4957.602223</td>\n",
       "      <td>4951.673237</td>\n",
       "      <td>4952.073227</td>\n",
       "      <td>4956.074223</td>\n",
       "      <td>4956.473226</td>\n",
       "      <td>psycho</td>\n",
       "      <td>psycho</td>\n",
       "    </tr>\n",
       "    <tr>\n",
       "      <th>289</th>\n",
       "      <td>398</td>\n",
       "      <td>hit</td>\n",
       "      <td>6</td>\n",
       "      <td>13</td>\n",
       "      <td>LEFT</td>\n",
       "      <td>RIGHT</td>\n",
       "      <td>0.004023</td>\n",
       "      <td>0.0073</td>\n",
       "      <td>5184.165229</td>\n",
       "      <td>5193.525236</td>\n",
       "      <td>5192.218219</td>\n",
       "      <td>5184.216224</td>\n",
       "      <td>5184.616224</td>\n",
       "      <td>5190.615234</td>\n",
       "      <td>5191.015235</td>\n",
       "      <td>psycho</td>\n",
       "      <td>psycho</td>\n",
       "    </tr>\n",
       "    <tr>\n",
       "      <th>292</th>\n",
       "      <td>402</td>\n",
       "      <td>hit</td>\n",
       "      <td>2</td>\n",
       "      <td>12</td>\n",
       "      <td>LEFT</td>\n",
       "      <td>RIGHT</td>\n",
       "      <td>0.002704</td>\n",
       "      <td>0.0073</td>\n",
       "      <td>5241.322233</td>\n",
       "      <td>5246.522218</td>\n",
       "      <td>5245.159224</td>\n",
       "      <td>5241.373230</td>\n",
       "      <td>5241.773230</td>\n",
       "      <td>5243.773224</td>\n",
       "      <td>5244.173227</td>\n",
       "      <td>psycho</td>\n",
       "      <td>psycho</td>\n",
       "    </tr>\n",
       "    <tr>\n",
       "      <th>293</th>\n",
       "      <td>403</td>\n",
       "      <td>hit</td>\n",
       "      <td>2</td>\n",
       "      <td>14</td>\n",
       "      <td>LEFT</td>\n",
       "      <td>LEFT</td>\n",
       "      <td>0.005985</td>\n",
       "      <td>0.0073</td>\n",
       "      <td>5251.930228</td>\n",
       "      <td>5256.937232</td>\n",
       "      <td>5255.634227</td>\n",
       "      <td>5251.980234</td>\n",
       "      <td>5252.381230</td>\n",
       "      <td>5254.381225</td>\n",
       "      <td>5254.781231</td>\n",
       "      <td>psycho</td>\n",
       "      <td>psycho</td>\n",
       "    </tr>\n",
       "  </tbody>\n",
       "</table>\n",
       "<p>80 rows × 17 columns</p>\n",
       "</div>"
      ],
      "text/plain": [
       "     trial_num hit_hist  delay  pair_hist correct_side prev_side  aud1_sigma  \\\n",
       "11          31     miss      2          9        RIGHT      LEFT    0.008904   \n",
       "12          32      hit      2         12         LEFT     RIGHT    0.002704   \n",
       "14          34      hit      2         13         LEFT      LEFT    0.004023   \n",
       "17          39      hit      4          9        RIGHT      LEFT    0.008904   \n",
       "18          41     miss      4         14         LEFT      LEFT    0.005985   \n",
       "..         ...      ...    ...        ...          ...       ...         ...   \n",
       "278        382      hit      2         10        RIGHT     RIGHT    0.013248   \n",
       "280        384      hit      4          9        RIGHT      LEFT    0.008904   \n",
       "289        398      hit      6         13         LEFT     RIGHT    0.004023   \n",
       "292        402      hit      2         12         LEFT     RIGHT    0.002704   \n",
       "293        403      hit      2         14         LEFT      LEFT    0.005985   \n",
       "\n",
       "     aud2_sigma       c_poke    end_state    hit_state      aud1_on  \\\n",
       "11       0.0073   774.886224   779.965231   778.618222   774.937230   \n",
       "12       0.0073   780.466227   785.484217   784.170224   780.517233   \n",
       "14       0.0073   804.920227   809.897223   808.860225   804.971234   \n",
       "17       0.0073   851.109224   858.071228   856.864217   851.160220   \n",
       "18       0.0073   870.657223   877.925230   876.534220   870.707230   \n",
       "..          ...          ...          ...          ...          ...   \n",
       "278      0.0073  4930.042219  4935.248217  4933.920217  4930.092220   \n",
       "280      0.0073  4951.623222  4958.737224  4957.602223  4951.673237   \n",
       "289      0.0073  5184.165229  5193.525236  5192.218219  5184.216224   \n",
       "292      0.0073  5241.322233  5246.522218  5245.159224  5241.373230   \n",
       "293      0.0073  5251.930228  5256.937232  5255.634227  5251.980234   \n",
       "\n",
       "        aud1_off      aud2_on     aud2_off  louder first_sound  \n",
       "11    775.337228   777.337223   777.737223  psycho      psycho  \n",
       "12    780.917230   782.916227   783.317224  psycho      psycho  \n",
       "14    805.371231   807.371221   807.771221  psycho      psycho  \n",
       "17    851.560236   855.559227   855.959231  psycho      psycho  \n",
       "18    871.107233   875.108232   875.508222  psycho      psycho  \n",
       "..           ...          ...          ...     ...         ...  \n",
       "278  4930.492223  4932.492224  4932.892225  psycho      psycho  \n",
       "280  4952.073227  4956.074223  4956.473226  psycho      psycho  \n",
       "289  5184.616224  5190.615234  5191.015235  psycho      psycho  \n",
       "292  5241.773230  5243.773224  5244.173227  psycho      psycho  \n",
       "293  5252.381230  5254.381225  5254.781231  psycho      psycho  \n",
       "\n",
       "[80 rows x 17 columns]"
      ]
     },
     "execution_count": 40,
     "metadata": {},
     "output_type": "execute_result"
    }
   ],
   "source": [
    "beh_df[beh_df.loc[:,'first_sound'] == 'psycho']"
   ]
  },
  {
   "cell_type": "code",
   "execution_count": 48,
   "id": "ec4674f3",
   "metadata": {},
   "outputs": [
    {
     "data": {
      "text/plain": [
       "dict_keys(['aud1on', 'aud1off', 'aud2on', 'aud2off', 'trial_all', 'delay_overlap', 'delay2s', 'trial2s', 'delay4s', 'trial4s'])"
      ]
     },
     "execution_count": 48,
     "metadata": {},
     "output_type": "execute_result"
    }
   ],
   "source": [
    "sess_aligned[0].keys()"
   ]
  },
  {
   "cell_type": "code",
   "execution_count": 59,
   "id": "5afa43a7",
   "metadata": {},
   "outputs": [
    {
     "name": "stdout",
     "output_type": "stream",
     "text": [
      "2\n",
      "4\n",
      "False\n",
      "False\n",
      "<__main__.Trial object at 0x0000018E36EB7308>\n",
      "True\n"
     ]
    }
   ],
   "source": [
    "class Trial():\n",
    "    def __init__(self,dval):\n",
    "        self.delay=dval\n",
    "        return None\n",
    "\n",
    "        \n",
    "trial0 = Trial(2)\n",
    "trial1 = Trial(4)\n",
    "trial2 = Trial(4)\n",
    "\n",
    "type(trial0)\n",
    "\n",
    "trial0.delay,trial1.delay\n",
    "\n",
    "trialL = [trial0,trial1]\n",
    "for trial in trialL:\n",
    "    print(trial.delay)\n",
    "\n",
    "print(trial0==trial1)\n",
    "print(trial1==trial2)\n",
    "print(trial1)\n",
    "print(trial1.delay==trial2.delay)\n",
    "\n"
   ]
  },
  {
   "cell_type": "code",
   "execution_count": null,
   "id": "14ab8f21",
   "metadata": {},
   "outputs": [],
   "source": [
    "class Neuron():\n",
    "    def __init__(self):\n",
    "        return None\n",
    "    \n",
    "class Trial():\n",
    "    def __init__(self):\n",
    "        return None"
   ]
  },
  {
   "cell_type": "code",
   "execution_count": 73,
   "id": "b09fe773",
   "metadata": {},
   "outputs": [
    {
     "name": "stdout",
     "output_type": "stream",
     "text": [
      "spike times relative to middle of trial [-2, -1, 0, 1, 2]\n",
      "spiketimes thresholded [0 1 2]\n",
      "[0 1 2]\n"
     ]
    }
   ],
   "source": [
    "class Trial():\n",
    "    def __init__(self,dval,sptimes):\n",
    "        self.delay=dval\n",
    "        self.sptimes = sptimes\n",
    "        return None\n",
    "    \n",
    "    def get_spikes(self,thresh):\n",
    "        allspikes = np.array(self.sptimes)\n",
    "        spikes = allspikes[allspikes>=thresh]\n",
    "        return spikes\n",
    "\n",
    "trial10 = Trial(dval=2,sptimes = [-2,-1,0,1,2])\n",
    "\n",
    "print('spike times relative to middle of trial',trial10.sptimes)\n",
    "\n",
    "print('spiketimes thresholded',trial10.get_spikes(0))\n"
   ]
  },
  {
   "cell_type": "code",
   "execution_count": null,
   "id": "6d2be975",
   "metadata": {},
   "outputs": [],
   "source": [
    "trial10 = Trial(dval=2,sptimes = [-2,-1,0,1,2])\n",
    "trial11 = Trial(dval=4,sptimes = [-12,-1,0,1,2])\n",
    "\n",
    "trialL = [trial10,trial11]\n",
    "for trial in trialL:\n",
    "    if trial.delay==2:\n",
    "        print(trial.get_spikes(0))"
   ]
  },
  {
   "cell_type": "code",
   "execution_count": 47,
   "id": "ba6fdfe0",
   "metadata": {},
   "outputs": [
    {
     "data": {
      "text/plain": [
       "array([-0.36830063, -0.35060157, -0.34836836, -0.34046878, -0.3394355 ,\n",
       "       -0.29040477, -0.28437176, -0.22484159, -0.20457601, -0.14037942,\n",
       "       -0.04878429,  0.01164583,  0.05794337,  0.06460968,  0.10664078,\n",
       "        0.12880627,  0.14900519,  0.16513767,  0.16783752,  0.53265146,\n",
       "        0.58614861])"
      ]
     },
     "execution_count": 47,
     "metadata": {},
     "output_type": "execute_result"
    }
   ],
   "source": [
    "L = sess_aligned[neuronn]['aud1on'][trialn]\n",
    "L # what was delay time (2 or 4?)"
   ]
  },
  {
   "cell_type": "code",
   "execution_count": 30,
   "id": "cc788666",
   "metadata": {},
   "outputs": [
    {
     "data": {
      "text/plain": [
       "array([-0.36830063, -0.35060157, -0.34836836, -0.34046878, -0.3394355 ,\n",
       "       -0.29040477, -0.28437176, -0.22484159, -0.20457601, -0.14037942,\n",
       "       -0.04878429,  0.01164583,  0.05794337,  0.06460968,  0.10664078,\n",
       "        0.12880627,  0.14900519,  0.16513767,  0.16783752,  0.53265146,\n",
       "        0.58614861])"
      ]
     },
     "execution_count": 30,
     "metadata": {},
     "output_type": "execute_result"
    }
   ],
   "source": [
    "trialn = 2\n",
    "neuronn= 0 \n",
    "event = 'aud1on'\n",
    "\n",
    "sess_aligned[neuronn][event][trialn]"
   ]
  },
  {
   "cell_type": "code",
   "execution_count": 21,
   "id": "5290184e",
   "metadata": {},
   "outputs": [
    {
     "data": {
      "text/plain": [
       "{0: {'aud1on': [-400, 600],\n",
       "  'aud1off': [-500, 500],\n",
       "  'aud2on': [-400, 600],\n",
       "  'aud2off': [-500, 500],\n",
       "  'trial_all': [-100, 5000],\n",
       "  'delay_overlap': [-600, 2600],\n",
       "  'delay2s': [-150, 2150],\n",
       "  'trial2s': [-200, 2400],\n",
       "  'delay4s': [-150, 4150],\n",
       "  'trial4s': [-200, 4400]},\n",
       " 1: {'aud1on': [-400, 600],\n",
       "  'aud1off': [-500, 500],\n",
       "  'aud2on': [-400, 600],\n",
       "  'aud2off': [-500, 500],\n",
       "  'trial_all': [-100, 5000],\n",
       "  'delay_overlap': [-600, 2600],\n",
       "  'delay2s': [-150, 2150],\n",
       "  'trial2s': [-200, 2400],\n",
       "  'delay4s': [-150, 4150],\n",
       "  'trial4s': [-200, 4400]},\n",
       " 2: {'aud1on': [-400, 600],\n",
       "  'aud1off': [-500, 500],\n",
       "  'aud2on': [-400, 600],\n",
       "  'aud2off': [-500, 500],\n",
       "  'trial_all': [-100, 5000],\n",
       "  'delay_overlap': [-600, 2600],\n",
       "  'delay2s': [-150, 2150],\n",
       "  'trial2s': [-200, 2400],\n",
       "  'delay4s': [-150, 4150],\n",
       "  'trial4s': [-200, 4400]},\n",
       " 3: {'aud1on': [-400, 600],\n",
       "  'aud1off': [-500, 500],\n",
       "  'aud2on': [-400, 600],\n",
       "  'aud2off': [-500, 500],\n",
       "  'trial_all': [-100, 5000],\n",
       "  'delay_overlap': [-600, 2600],\n",
       "  'delay2s': [-150, 2150],\n",
       "  'trial2s': [-200, 2400],\n",
       "  'delay4s': [-150, 4150],\n",
       "  'trial4s': [-200, 4400]}}"
      ]
     },
     "execution_count": 21,
     "metadata": {},
     "output_type": "execute_result"
    }
   ],
   "source": [
    "sess_windows"
   ]
  },
  {
   "cell_type": "code",
   "execution_count": 20,
   "id": "04ed88f5",
   "metadata": {},
   "outputs": [
    {
     "data": {
      "text/plain": [
       "[-100, 5000]"
      ]
     },
     "execution_count": 20,
     "metadata": {},
     "output_type": "execute_result"
    }
   ],
   "source": [
    "sess_windows[3]['trial_all']"
   ]
  },
  {
   "cell_type": "markdown",
   "id": "44147f01",
   "metadata": {},
   "source": [
    "Test changes to plotting functions here with the session, save out to somewhere new.\n",
    "\n",
    "Hits, all delay types, 'delay_overlap'"
   ]
  }
 ],
 "metadata": {
  "kernelspec": {
   "display_name": "Python 3",
   "language": "python",
   "name": "python3"
  },
  "language_info": {
   "codemirror_mode": {
    "name": "ipython",
    "version": 3
   },
   "file_extension": ".py",
   "mimetype": "text/x-python",
   "name": "python",
   "nbconvert_exporter": "python",
   "pygments_lexer": "ipython3",
   "version": "3.7.10"
  }
 },
 "nbformat": 4,
 "nbformat_minor": 5
}
