{
 "cells": [
  {
   "cell_type": "markdown",
   "id": "f1937080",
   "metadata": {},
   "source": [
    "# Clean up\n",
    "\n",
    "Cleaning up code for future me & testing if things worked"
   ]
  },
  {
   "cell_type": "code",
   "execution_count": 1,
   "id": "f126dc07",
   "metadata": {},
   "outputs": [],
   "source": [
    "# libraries\n",
    "import sys; sys.path.insert(0, '..') # if you don't find it here, look one above\n",
    "import os\n",
    "import numpy as np\n",
    "import matplotlib.pyplot as plt\n",
    "import pandas as pd\n",
    "import seaborn as sns\n",
    "import scipy.io as spio\n",
    "import pickle\n",
    "import warnings\n",
    "\n",
    "from tqdm import tqdm\n",
    "from scipy import stats\n",
    "from scipy.ndimage import gaussian_filter1d\n",
    "from io_utils import *\n",
    "from plotting_utils import * \n",
    "\n",
    "\n",
    "# settings\n",
    "%load_ext autoreload\n",
    "%autoreload 2\n",
    "sns.set_context(\"talk\")"
   ]
  },
  {
   "cell_type": "markdown",
   "id": "23c66518",
   "metadata": {},
   "source": [
    "Test with single session"
   ]
  },
  {
   "cell_type": "code",
   "execution_count": 2,
   "id": "26573f4c",
   "metadata": {},
   "outputs": [],
   "source": [
    "sess_name =  'data_sdc_20190902_145404_fromSD' \n",
    "base_path  = 'Y:\\jbreda\\ephys\\post_sort_analysis\\sorted_pre_bdata' \n",
    "beh_mat   = 'protocol_info.mat'\n",
    "spks_mat  = 'ksphy_clusters_foranalysis.mat'\n",
    "\n",
    "\n",
    "# create paths\n",
    "sess_path = os.path.join(base_path, sess_name)\n",
    "beh_path  = os.path.join(sess_path, beh_mat)\n",
    "spks_path = os.path.join(sess_path, spks_mat)\n",
    "\n",
    "# alginment info (hard coded here & in fx)\n",
    "# names = ['aud1on', 'aud1off', 'aud2on', 'aud2off', 'trial_all', 'delay_overlap', \n",
    "#          'delay2s', 'trial2s', 'delay4s', 'trial4s']\n",
    "# windows = [[-400, 600], [-500, 500], [-400, 600], [-500, 500], [-100, 5000], [-300, 2300],\n",
    "#            [-150, 2150],[-200, 2400], [-150, 4150], [-200, 4400]]\n",
    "\n",
    "# align_windows = dict(zip(names,windows))"
   ]
  },
  {
   "cell_type": "markdown",
   "id": "a1c9856f",
   "metadata": {},
   "source": [
    "Load in"
   ]
  },
  {
   "cell_type": "code",
   "execution_count": 26,
   "id": "72671218",
   "metadata": {},
   "outputs": [
    {
     "name": "stdout",
     "output_type": "stream",
     "text": [
      "loading from file...\n"
     ]
    }
   ],
   "source": [
    "beh_df, spks_dict = load_and_wrangle(beh_path, spks_path, overwrite=True)\n",
    "\n",
    "filtered_df = beh_df[(beh_df['first_sound'] != 'psycho') & (beh_df['hit_hist'] == 'hit')]\n",
    "\n",
    "sess_aligned, sess_windows = event_align_session(spks_dict, filtered_df, sess_path, overwrite=False,\n",
    "                                                delay_mode=True, file_name='2021_05_06_cleanup_aligned_spks.pkl')\n",
    "fig_save_path = os.path.join(os.getcwd(), 'figures', 'cleanup')"
   ]
  },
  {
   "cell_type": "code",
   "execution_count": 27,
   "id": "64b0285a",
   "metadata": {},
   "outputs": [
    {
     "data": {
      "text/html": [
       "<div>\n",
       "<style scoped>\n",
       "    .dataframe tbody tr th:only-of-type {\n",
       "        vertical-align: middle;\n",
       "    }\n",
       "\n",
       "    .dataframe tbody tr th {\n",
       "        vertical-align: top;\n",
       "    }\n",
       "\n",
       "    .dataframe thead th {\n",
       "        text-align: right;\n",
       "    }\n",
       "</style>\n",
       "<table border=\"1\" class=\"dataframe\">\n",
       "  <thead>\n",
       "    <tr style=\"text-align: right;\">\n",
       "      <th></th>\n",
       "      <th>trial_num</th>\n",
       "      <th>hit_hist</th>\n",
       "      <th>delay</th>\n",
       "      <th>pair_hist</th>\n",
       "      <th>correct_side</th>\n",
       "      <th>prev_side</th>\n",
       "      <th>aud1_sigma</th>\n",
       "      <th>aud2_sigma</th>\n",
       "      <th>c_poke</th>\n",
       "      <th>end_state</th>\n",
       "      <th>hit_state</th>\n",
       "      <th>aud1_on</th>\n",
       "      <th>aud1_off</th>\n",
       "      <th>aud2_on</th>\n",
       "      <th>aud2_off</th>\n",
       "      <th>louder</th>\n",
       "      <th>first_sound</th>\n",
       "    </tr>\n",
       "  </thead>\n",
       "  <tbody>\n",
       "    <tr>\n",
       "      <th>18</th>\n",
       "      <td>19</td>\n",
       "      <td>hit</td>\n",
       "      <td>4</td>\n",
       "      <td>5</td>\n",
       "      <td>LEFT</td>\n",
       "      <td>LEFT</td>\n",
       "      <td>0.001000</td>\n",
       "      <td>0.002700</td>\n",
       "      <td>638.592225</td>\n",
       "      <td>645.952226</td>\n",
       "      <td>644.708217</td>\n",
       "      <td>638.643221</td>\n",
       "      <td>639.043233</td>\n",
       "      <td>643.043224</td>\n",
       "      <td>643.442229</td>\n",
       "      <td>aud_2</td>\n",
       "      <td>60*</td>\n",
       "    </tr>\n",
       "    <tr>\n",
       "      <th>19</th>\n",
       "      <td>20</td>\n",
       "      <td>hit</td>\n",
       "      <td>6</td>\n",
       "      <td>5</td>\n",
       "      <td>LEFT</td>\n",
       "      <td>LEFT</td>\n",
       "      <td>0.001000</td>\n",
       "      <td>0.002700</td>\n",
       "      <td>652.103221</td>\n",
       "      <td>661.256217</td>\n",
       "      <td>659.849224</td>\n",
       "      <td>652.154222</td>\n",
       "      <td>652.553231</td>\n",
       "      <td>658.553227</td>\n",
       "      <td>658.953227</td>\n",
       "      <td>aud_2</td>\n",
       "      <td>60*</td>\n",
       "    </tr>\n",
       "    <tr>\n",
       "      <th>21</th>\n",
       "      <td>22</td>\n",
       "      <td>hit</td>\n",
       "      <td>2</td>\n",
       "      <td>1</td>\n",
       "      <td>RIGHT</td>\n",
       "      <td>RIGHT</td>\n",
       "      <td>0.002700</td>\n",
       "      <td>0.001000</td>\n",
       "      <td>672.617221</td>\n",
       "      <td>677.762223</td>\n",
       "      <td>676.540220</td>\n",
       "      <td>672.667224</td>\n",
       "      <td>673.067227</td>\n",
       "      <td>675.067231</td>\n",
       "      <td>675.467238</td>\n",
       "      <td>aud_1</td>\n",
       "      <td>68</td>\n",
       "    </tr>\n",
       "    <tr>\n",
       "      <th>22</th>\n",
       "      <td>23</td>\n",
       "      <td>hit</td>\n",
       "      <td>2</td>\n",
       "      <td>1</td>\n",
       "      <td>RIGHT</td>\n",
       "      <td>RIGHT</td>\n",
       "      <td>0.002700</td>\n",
       "      <td>0.001000</td>\n",
       "      <td>684.046215</td>\n",
       "      <td>689.180224</td>\n",
       "      <td>687.884237</td>\n",
       "      <td>684.096224</td>\n",
       "      <td>684.496236</td>\n",
       "      <td>686.496224</td>\n",
       "      <td>686.896231</td>\n",
       "      <td>aud_1</td>\n",
       "      <td>68</td>\n",
       "    </tr>\n",
       "    <tr>\n",
       "      <th>23</th>\n",
       "      <td>24</td>\n",
       "      <td>hit</td>\n",
       "      <td>4</td>\n",
       "      <td>8</td>\n",
       "      <td>LEFT</td>\n",
       "      <td>RIGHT</td>\n",
       "      <td>0.019683</td>\n",
       "      <td>0.053144</td>\n",
       "      <td>694.376218</td>\n",
       "      <td>701.768215</td>\n",
       "      <td>700.364220</td>\n",
       "      <td>694.426220</td>\n",
       "      <td>694.826222</td>\n",
       "      <td>698.826221</td>\n",
       "      <td>699.226219</td>\n",
       "      <td>aud_2</td>\n",
       "      <td>84</td>\n",
       "    </tr>\n",
       "    <tr>\n",
       "      <th>...</th>\n",
       "      <td>...</td>\n",
       "      <td>...</td>\n",
       "      <td>...</td>\n",
       "      <td>...</td>\n",
       "      <td>...</td>\n",
       "      <td>...</td>\n",
       "      <td>...</td>\n",
       "      <td>...</td>\n",
       "      <td>...</td>\n",
       "      <td>...</td>\n",
       "      <td>...</td>\n",
       "      <td>...</td>\n",
       "      <td>...</td>\n",
       "      <td>...</td>\n",
       "      <td>...</td>\n",
       "      <td>...</td>\n",
       "      <td>...</td>\n",
       "    </tr>\n",
       "    <tr>\n",
       "      <th>397</th>\n",
       "      <td>398</td>\n",
       "      <td>hit</td>\n",
       "      <td>6</td>\n",
       "      <td>13</td>\n",
       "      <td>LEFT</td>\n",
       "      <td>RIGHT</td>\n",
       "      <td>0.004023</td>\n",
       "      <td>0.007300</td>\n",
       "      <td>5184.165229</td>\n",
       "      <td>5193.525236</td>\n",
       "      <td>5192.218219</td>\n",
       "      <td>5184.216224</td>\n",
       "      <td>5184.616224</td>\n",
       "      <td>5190.615234</td>\n",
       "      <td>5191.015235</td>\n",
       "      <td>psycho</td>\n",
       "      <td>psycho</td>\n",
       "    </tr>\n",
       "    <tr>\n",
       "      <th>398</th>\n",
       "      <td>399</td>\n",
       "      <td>hit</td>\n",
       "      <td>6</td>\n",
       "      <td>8</td>\n",
       "      <td>LEFT</td>\n",
       "      <td>LEFT</td>\n",
       "      <td>0.019683</td>\n",
       "      <td>0.053144</td>\n",
       "      <td>5200.459223</td>\n",
       "      <td>5209.354228</td>\n",
       "      <td>5208.175221</td>\n",
       "      <td>5200.509224</td>\n",
       "      <td>5200.909224</td>\n",
       "      <td>5206.909227</td>\n",
       "      <td>5207.309225</td>\n",
       "      <td>aud_2</td>\n",
       "      <td>84</td>\n",
       "    </tr>\n",
       "    <tr>\n",
       "      <th>400</th>\n",
       "      <td>401</td>\n",
       "      <td>hit</td>\n",
       "      <td>2</td>\n",
       "      <td>2</td>\n",
       "      <td>RIGHT</td>\n",
       "      <td>LEFT</td>\n",
       "      <td>0.007290</td>\n",
       "      <td>0.002700</td>\n",
       "      <td>5227.210220</td>\n",
       "      <td>5232.558223</td>\n",
       "      <td>5231.212228</td>\n",
       "      <td>5227.260225</td>\n",
       "      <td>5227.660226</td>\n",
       "      <td>5229.661221</td>\n",
       "      <td>5230.061221</td>\n",
       "      <td>aud_1</td>\n",
       "      <td>76</td>\n",
       "    </tr>\n",
       "    <tr>\n",
       "      <th>401</th>\n",
       "      <td>402</td>\n",
       "      <td>hit</td>\n",
       "      <td>2</td>\n",
       "      <td>12</td>\n",
       "      <td>LEFT</td>\n",
       "      <td>RIGHT</td>\n",
       "      <td>0.002704</td>\n",
       "      <td>0.007300</td>\n",
       "      <td>5241.322233</td>\n",
       "      <td>5246.522218</td>\n",
       "      <td>5245.159224</td>\n",
       "      <td>5241.373230</td>\n",
       "      <td>5241.773230</td>\n",
       "      <td>5243.773224</td>\n",
       "      <td>5244.173227</td>\n",
       "      <td>psycho</td>\n",
       "      <td>psycho</td>\n",
       "    </tr>\n",
       "    <tr>\n",
       "      <th>402</th>\n",
       "      <td>403</td>\n",
       "      <td>hit</td>\n",
       "      <td>2</td>\n",
       "      <td>14</td>\n",
       "      <td>LEFT</td>\n",
       "      <td>LEFT</td>\n",
       "      <td>0.005985</td>\n",
       "      <td>0.007300</td>\n",
       "      <td>5251.930228</td>\n",
       "      <td>5256.937232</td>\n",
       "      <td>5255.634227</td>\n",
       "      <td>5251.980234</td>\n",
       "      <td>5252.381230</td>\n",
       "      <td>5254.381225</td>\n",
       "      <td>5254.781231</td>\n",
       "      <td>psycho</td>\n",
       "      <td>psycho</td>\n",
       "    </tr>\n",
       "  </tbody>\n",
       "</table>\n",
       "<p>294 rows × 17 columns</p>\n",
       "</div>"
      ],
      "text/plain": [
       "     trial_num hit_hist  delay  pair_hist correct_side prev_side  aud1_sigma  \\\n",
       "18          19      hit      4          5         LEFT      LEFT    0.001000   \n",
       "19          20      hit      6          5         LEFT      LEFT    0.001000   \n",
       "21          22      hit      2          1        RIGHT     RIGHT    0.002700   \n",
       "22          23      hit      2          1        RIGHT     RIGHT    0.002700   \n",
       "23          24      hit      4          8         LEFT     RIGHT    0.019683   \n",
       "..         ...      ...    ...        ...          ...       ...         ...   \n",
       "397        398      hit      6         13         LEFT     RIGHT    0.004023   \n",
       "398        399      hit      6          8         LEFT      LEFT    0.019683   \n",
       "400        401      hit      2          2        RIGHT      LEFT    0.007290   \n",
       "401        402      hit      2         12         LEFT     RIGHT    0.002704   \n",
       "402        403      hit      2         14         LEFT      LEFT    0.005985   \n",
       "\n",
       "     aud2_sigma       c_poke    end_state    hit_state      aud1_on  \\\n",
       "18     0.002700   638.592225   645.952226   644.708217   638.643221   \n",
       "19     0.002700   652.103221   661.256217   659.849224   652.154222   \n",
       "21     0.001000   672.617221   677.762223   676.540220   672.667224   \n",
       "22     0.001000   684.046215   689.180224   687.884237   684.096224   \n",
       "23     0.053144   694.376218   701.768215   700.364220   694.426220   \n",
       "..          ...          ...          ...          ...          ...   \n",
       "397    0.007300  5184.165229  5193.525236  5192.218219  5184.216224   \n",
       "398    0.053144  5200.459223  5209.354228  5208.175221  5200.509224   \n",
       "400    0.002700  5227.210220  5232.558223  5231.212228  5227.260225   \n",
       "401    0.007300  5241.322233  5246.522218  5245.159224  5241.373230   \n",
       "402    0.007300  5251.930228  5256.937232  5255.634227  5251.980234   \n",
       "\n",
       "        aud1_off      aud2_on     aud2_off  louder first_sound  \n",
       "18    639.043233   643.043224   643.442229   aud_2         60*  \n",
       "19    652.553231   658.553227   658.953227   aud_2         60*  \n",
       "21    673.067227   675.067231   675.467238   aud_1          68  \n",
       "22    684.496236   686.496224   686.896231   aud_1          68  \n",
       "23    694.826222   698.826221   699.226219   aud_2          84  \n",
       "..           ...          ...          ...     ...         ...  \n",
       "397  5184.616224  5190.615234  5191.015235  psycho      psycho  \n",
       "398  5200.909224  5206.909227  5207.309225   aud_2          84  \n",
       "400  5227.660226  5229.661221  5230.061221   aud_1          76  \n",
       "401  5241.773230  5243.773224  5244.173227  psycho      psycho  \n",
       "402  5252.381230  5254.381225  5254.781231  psycho      psycho  \n",
       "\n",
       "[294 rows x 17 columns]"
      ]
     },
     "execution_count": 27,
     "metadata": {},
     "output_type": "execute_result"
    }
   ],
   "source": [
    "beh_df"
   ]
  },
  {
   "cell_type": "code",
   "execution_count": 28,
   "id": "3c9d2f04",
   "metadata": {},
   "outputs": [
    {
     "name": "stdout",
     "output_type": "stream",
     "text": [
      "Plotting data_sdc_20190902_145404_fromSD_N0\n"
     ]
    },
    {
     "name": "stderr",
     "output_type": "stream",
     "text": [
      "C:\\Users\\JB\\github\\jbreda_PWM_ephys_analysis\\plotting_utils.py:557: UserWarning: Tight layout not applied. The left and right margins cannot be made large enough to accommodate all axes decorations. \n",
      "  plt.close(\"all\")\n"
     ]
    },
    {
     "name": "stdout",
     "output_type": "stream",
     "text": [
      "Plotting data_sdc_20190902_145404_fromSD_N1\n"
     ]
    },
    {
     "name": "stderr",
     "output_type": "stream",
     "text": [
      "C:\\Users\\JB\\github\\jbreda_PWM_ephys_analysis\\plotting_utils.py:557: UserWarning: Tight layout not applied. The left and right margins cannot be made large enough to accommodate all axes decorations. \n",
      "  plt.close(\"all\")\n"
     ]
    },
    {
     "name": "stdout",
     "output_type": "stream",
     "text": [
      "Plotting data_sdc_20190902_145404_fromSD_N2\n"
     ]
    },
    {
     "name": "stderr",
     "output_type": "stream",
     "text": [
      "C:\\Users\\JB\\github\\jbreda_PWM_ephys_analysis\\plotting_utils.py:557: UserWarning: Tight layout not applied. The left and right margins cannot be made large enough to accommodate all axes decorations. \n",
      "  plt.close(\"all\")\n"
     ]
    },
    {
     "name": "stdout",
     "output_type": "stream",
     "text": [
      "Plotting data_sdc_20190902_145404_fromSD_N3\n"
     ]
    },
    {
     "name": "stderr",
     "output_type": "stream",
     "text": [
      "C:\\Users\\JB\\github\\jbreda_PWM_ephys_analysis\\plotting_utils.py:557: UserWarning: Tight layout not applied. The left and right margins cannot be made large enough to accommodate all axes decorations. \n",
      "  plt.close(\"all\")\n"
     ]
    }
   ],
   "source": [
    "analyze_and_plot_loudness(sess_name, sess_aligned, sess_windows, event='delay_overlap', df=filtered_df, fig_save_path=fig_save_path, sess_path=sess_path)"
   ]
  },
  {
   "cell_type": "markdown",
   "id": "b829f31d",
   "metadata": {},
   "source": [
    "## CLASS stuff"
   ]
  },
  {
   "cell_type": "code",
   "execution_count": 48,
   "id": "ec4674f3",
   "metadata": {},
   "outputs": [
    {
     "data": {
      "text/plain": [
       "dict_keys(['aud1on', 'aud1off', 'aud2on', 'aud2off', 'trial_all', 'delay_overlap', 'delay2s', 'trial2s', 'delay4s', 'trial4s'])"
      ]
     },
     "execution_count": 48,
     "metadata": {},
     "output_type": "execute_result"
    }
   ],
   "source": [
    "sess_aligned[0].keys()"
   ]
  },
  {
   "cell_type": "code",
   "execution_count": 59,
   "id": "5afa43a7",
   "metadata": {},
   "outputs": [
    {
     "name": "stdout",
     "output_type": "stream",
     "text": [
      "2\n",
      "4\n",
      "False\n",
      "False\n",
      "<__main__.Trial object at 0x0000018E36EB7308>\n",
      "True\n"
     ]
    }
   ],
   "source": [
    "class Trial():\n",
    "    def __init__(self,dval):\n",
    "        self.delay=dval\n",
    "        return None\n",
    "\n",
    "        \n",
    "trial0 = Trial(2)\n",
    "trial1 = Trial(4)\n",
    "trial2 = Trial(4)\n",
    "\n",
    "type(trial0)\n",
    "\n",
    "trial0.delay,trial1.delay\n",
    "\n",
    "trialL = [trial0,trial1]\n",
    "for trial in trialL:\n",
    "    print(trial.delay)\n",
    "\n",
    "print(trial0==trial1)\n",
    "print(trial1==trial2)\n",
    "print(trial1)\n",
    "print(trial1.delay==trial2.delay)\n",
    "\n"
   ]
  },
  {
   "cell_type": "code",
   "execution_count": null,
   "id": "14ab8f21",
   "metadata": {},
   "outputs": [],
   "source": [
    "class Neuron():\n",
    "    def __init__(self):\n",
    "        return None\n",
    "    \n",
    "class Trial():\n",
    "    def __init__(self):\n",
    "        return None"
   ]
  },
  {
   "cell_type": "code",
   "execution_count": 73,
   "id": "b09fe773",
   "metadata": {},
   "outputs": [
    {
     "name": "stdout",
     "output_type": "stream",
     "text": [
      "spike times relative to middle of trial [-2, -1, 0, 1, 2]\n",
      "spiketimes thresholded [0 1 2]\n",
      "[0 1 2]\n"
     ]
    }
   ],
   "source": [
    "class Trial():\n",
    "    def __init__(self,dval,sptimes):\n",
    "        self.delay=dval\n",
    "        self.sptimes = sptimes\n",
    "        return None\n",
    "    \n",
    "    def get_spikes(self,thresh):\n",
    "        allspikes = np.array(self.sptimes)\n",
    "        spikes = allspikes[allspikes>=thresh]\n",
    "        return spikes\n",
    "\n",
    "trial10 = Trial(dval=2,sptimes = [-2,-1,0,1,2])\n",
    "\n",
    "print('spike times relative to middle of trial',trial10.sptimes)\n",
    "\n",
    "print('spiketimes thresholded',trial10.get_spikes(0))\n"
   ]
  },
  {
   "cell_type": "code",
   "execution_count": null,
   "id": "6d2be975",
   "metadata": {},
   "outputs": [],
   "source": [
    "trial10 = Trial(dval=2,sptimes = [-2,-1,0,1,2])\n",
    "trial11 = Trial(dval=4,sptimes = [-12,-1,0,1,2])\n",
    "\n",
    "trialL = [trial10,trial11]\n",
    "for trial in trialL:\n",
    "    if trial.delay==2:\n",
    "        print(trial.get_spikes(0))"
   ]
  },
  {
   "cell_type": "code",
   "execution_count": 47,
   "id": "ba6fdfe0",
   "metadata": {},
   "outputs": [
    {
     "data": {
      "text/plain": [
       "array([-0.36830063, -0.35060157, -0.34836836, -0.34046878, -0.3394355 ,\n",
       "       -0.29040477, -0.28437176, -0.22484159, -0.20457601, -0.14037942,\n",
       "       -0.04878429,  0.01164583,  0.05794337,  0.06460968,  0.10664078,\n",
       "        0.12880627,  0.14900519,  0.16513767,  0.16783752,  0.53265146,\n",
       "        0.58614861])"
      ]
     },
     "execution_count": 47,
     "metadata": {},
     "output_type": "execute_result"
    }
   ],
   "source": [
    "L = sess_aligned[neuronn]['aud1on'][trialn]\n",
    "L # what was delay time (2 or 4?)"
   ]
  },
  {
   "cell_type": "code",
   "execution_count": 30,
   "id": "cc788666",
   "metadata": {},
   "outputs": [
    {
     "data": {
      "text/plain": [
       "array([-0.36830063, -0.35060157, -0.34836836, -0.34046878, -0.3394355 ,\n",
       "       -0.29040477, -0.28437176, -0.22484159, -0.20457601, -0.14037942,\n",
       "       -0.04878429,  0.01164583,  0.05794337,  0.06460968,  0.10664078,\n",
       "        0.12880627,  0.14900519,  0.16513767,  0.16783752,  0.53265146,\n",
       "        0.58614861])"
      ]
     },
     "execution_count": 30,
     "metadata": {},
     "output_type": "execute_result"
    }
   ],
   "source": [
    "trialn = 2\n",
    "neuronn= 0 \n",
    "event = 'aud1on'\n",
    "\n",
    "sess_aligned[neuronn][event][trialn]"
   ]
  },
  {
   "cell_type": "code",
   "execution_count": 21,
   "id": "5290184e",
   "metadata": {},
   "outputs": [
    {
     "data": {
      "text/plain": [
       "{0: {'aud1on': [-400, 600],\n",
       "  'aud1off': [-500, 500],\n",
       "  'aud2on': [-400, 600],\n",
       "  'aud2off': [-500, 500],\n",
       "  'trial_all': [-100, 5000],\n",
       "  'delay_overlap': [-600, 2600],\n",
       "  'delay2s': [-150, 2150],\n",
       "  'trial2s': [-200, 2400],\n",
       "  'delay4s': [-150, 4150],\n",
       "  'trial4s': [-200, 4400]},\n",
       " 1: {'aud1on': [-400, 600],\n",
       "  'aud1off': [-500, 500],\n",
       "  'aud2on': [-400, 600],\n",
       "  'aud2off': [-500, 500],\n",
       "  'trial_all': [-100, 5000],\n",
       "  'delay_overlap': [-600, 2600],\n",
       "  'delay2s': [-150, 2150],\n",
       "  'trial2s': [-200, 2400],\n",
       "  'delay4s': [-150, 4150],\n",
       "  'trial4s': [-200, 4400]},\n",
       " 2: {'aud1on': [-400, 600],\n",
       "  'aud1off': [-500, 500],\n",
       "  'aud2on': [-400, 600],\n",
       "  'aud2off': [-500, 500],\n",
       "  'trial_all': [-100, 5000],\n",
       "  'delay_overlap': [-600, 2600],\n",
       "  'delay2s': [-150, 2150],\n",
       "  'trial2s': [-200, 2400],\n",
       "  'delay4s': [-150, 4150],\n",
       "  'trial4s': [-200, 4400]},\n",
       " 3: {'aud1on': [-400, 600],\n",
       "  'aud1off': [-500, 500],\n",
       "  'aud2on': [-400, 600],\n",
       "  'aud2off': [-500, 500],\n",
       "  'trial_all': [-100, 5000],\n",
       "  'delay_overlap': [-600, 2600],\n",
       "  'delay2s': [-150, 2150],\n",
       "  'trial2s': [-200, 2400],\n",
       "  'delay4s': [-150, 4150],\n",
       "  'trial4s': [-200, 4400]}}"
      ]
     },
     "execution_count": 21,
     "metadata": {},
     "output_type": "execute_result"
    }
   ],
   "source": [
    "sess_windows"
   ]
  },
  {
   "cell_type": "code",
   "execution_count": 20,
   "id": "04ed88f5",
   "metadata": {},
   "outputs": [
    {
     "data": {
      "text/plain": [
       "[-100, 5000]"
      ]
     },
     "execution_count": 20,
     "metadata": {},
     "output_type": "execute_result"
    }
   ],
   "source": [
    "sess_windows[3]['trial_all']"
   ]
  },
  {
   "cell_type": "markdown",
   "id": "44147f01",
   "metadata": {},
   "source": [
    "Test changes to plotting functions here with the session, save out to somewhere new.\n",
    "\n",
    "Hits, all delay types, 'delay_overlap'"
   ]
  }
 ],
 "metadata": {
  "kernelspec": {
   "display_name": "Python 3",
   "language": "python",
   "name": "python3"
  },
  "language_info": {
   "codemirror_mode": {
    "name": "ipython",
    "version": 3
   },
   "file_extension": ".py",
   "mimetype": "text/x-python",
   "name": "python",
   "nbconvert_exporter": "python",
   "pygments_lexer": "ipython3",
   "version": "3.7.10"
  }
 },
 "nbformat": 4,
 "nbformat_minor": 5
}
