{
 "cells": [
  {
   "cell_type": "markdown",
   "id": "thirty-resolution",
   "metadata": {},
   "source": [
    "As of 2021-02-27. I have plotted a subset of sessions based on the amount of masking and cells they have. I then looked through each of these plots and determiend which sessions/neurons are best. They are stored on git under figures/2shit, 4shit, 6shit, all hits. See [here](https://docs.google.com/spreadsheets/d/14vj2YuSKi9pSUvye8D5rA6VBCqUm9ezUbh8kaTurJ1I/edit#gid=1622653460) for more info."
   ]
  },
  {
   "cell_type": "code",
   "execution_count": 1,
   "id": "configured-concentration",
   "metadata": {},
   "outputs": [],
   "source": [
    "# libraries\n",
    "import sys; sys.path.insert(0, '..') # if you don't find it here, look one above\n",
    "import os\n",
    "import numpy as np\n",
    "import matplotlib.pyplot as plt\n",
    "import pandas as pd\n",
    "import seaborn as sns\n",
    "import scipy.io as spio\n",
    "import pickle\n",
    "# stored one repo up in my fork of Spykes\n",
    "from spykes.spykes.plot.neurovis import NeuroVis\n",
    "from io_utils import *\n",
    "from plotting_utils import * \n",
    "\n",
    "# settings\n",
    "%load_ext autoreload\n",
    "%autoreload 2\n",
    "sns.set_context(\"talk\")"
   ]
  },
  {
   "cell_type": "code",
   "execution_count": 6,
   "id": "veterinary-ranking",
   "metadata": {},
   "outputs": [],
   "source": [
    "# pick out sessions/neurons\n",
    "sess_names = ['data_sdc_20190902_145404_fromSD', 'W122_08_06_2019_1_fromSD', 'W122_08_07_2019_1_fromSD',\n",
    "             'W122_08_31_2019_1_fromSD', 'W122_09_09_2019_1_fromSD', 'W122_09_21_2019_1_fromSD']\n",
    "\n",
    "sess_neurons = [[0,1,3], [0,2,3], [0,3], [1,2,3], [0,1], [1]]\n",
    "\n",
    "# base paths\n",
    "base_path  = 'Y:\\jbreda\\ephys\\post_sort_analysis\\sorted_pre_bdata' \n",
    "beh_mat   = 'protocol_info.mat'\n",
    "spks_mat  = 'ksphy_clusters_foranalysis.mat'\n",
    "fig_save_path = os.path.join(os.getcwd(), 'figures', 'neurovis')\n",
    "\n",
    "\n",
    "# create specific paths\n",
    "sess_paths = []\n",
    "beh_paths = []\n",
    "spks_paths = []\n",
    "\n",
    "for sess in range(len(sess_names)):\n",
    "    sess_path = os.path.join(base_path, sess_names[sess])\n",
    "    sess_paths.append(sess_path)\n",
    "    \n",
    "    beh_paths.append(os.path.join(sess_path, beh_mat))\n",
    "    spks_paths.append(os.path.join(sess_path, spks_mat))"
   ]
  },
  {
   "cell_type": "code",
   "execution_count": 15,
   "id": "central-psychology",
   "metadata": {},
   "outputs": [],
   "source": [
    "beh_dfs = []\n",
    "spks_dicts = []\n",
    "\n",
    "for sess in range(len(sess_names)):\n",
    "    beh_df, spks_dict = load_and_wrangle(beh_paths[sess], spks_paths[sess], overwrite=True)\n",
    "    beh_dfs.append(beh_df)\n",
    "    spks_dicts.append(spks_dict)"
   ]
  },
  {
   "cell_type": "markdown",
   "id": "involved-rating",
   "metadata": {},
   "source": [
    "Okay, everything is loaded in, but do I want it loaded in? Maybe I want to write a wrapper functions that only load spk_dict information for the neruons of interest. It seems easier to filter here than later on...\n",
    "\n",
    "For example, given a list of neuron numbers you're interested in, only that spk information will be loaded into the dict. I could write a function called 'selective_load_and_wrangle(beh_path, spks_path, selected_neurons). And it calls a new function called  selective_make_spks_dict(spks_info, selected_neurons. Rather than looping over all cells for a session and loading, it only loads the cells in the list passed in."
   ]
  }
 ],
 "metadata": {
  "kernelspec": {
   "display_name": "Python 3",
   "language": "python",
   "name": "python3"
  },
  "language_info": {
   "codemirror_mode": {
    "name": "ipython",
    "version": 3
   },
   "file_extension": ".py",
   "mimetype": "text/x-python",
   "name": "python",
   "nbconvert_exporter": "python",
   "pygments_lexer": "ipython3",
   "version": "3.7.9"
  }
 },
 "nbformat": 4,
 "nbformat_minor": 5
}
