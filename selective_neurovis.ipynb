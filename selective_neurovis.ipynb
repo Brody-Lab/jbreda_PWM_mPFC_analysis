{
 "cells": [
  {
   "cell_type": "markdown",
   "id": "pediatric-mixer",
   "metadata": {},
   "source": [
    "As of 2021-02-27. I have plotted a subset of sessions based on the amount of masking and cells they have. I then looked through each of these plots and determiend which sessions/neurons are best. They are stored on git under figures/2shit, 4shit, 6shit, all hits. See [here](https://docs.google.com/spreadsheets/d/14vj2YuSKi9pSUvye8D5rA6VBCqUm9ezUbh8kaTurJ1I/edit#gid=1622653460) for more info."
   ]
  },
  {
   "cell_type": "code",
   "execution_count": 1,
   "id": "frequent-playback",
   "metadata": {},
   "outputs": [],
   "source": [
    "# libraries\n",
    "import sys; sys.path.insert(0, '..') # if you don't find it here, look one above\n",
    "import os\n",
    "import numpy as np\n",
    "import matplotlib.pyplot as plt\n",
    "import pandas as pd\n",
    "import seaborn as sns\n",
    "import scipy.io as spio\n",
    "import pickle\n",
    "# stored one repo up in my fork of Spykes\n",
    "from spykes.spykes.plot.neurovis import NeuroVis\n",
    "from io_utils import *\n",
    "from plotting_utils import * \n",
    "\n",
    "# settings\n",
    "%load_ext autoreload\n",
    "%autoreload 2\n",
    "sns.set_context(\"talk\")"
   ]
  },
  {
   "cell_type": "code",
   "execution_count": 2,
   "id": "respiratory-wireless",
   "metadata": {},
   "outputs": [],
   "source": [
    "# pick out sessions/neurons\n",
    "sess_names = ['data_sdc_20190902_145404_fromSD', 'W122_08_06_2019_1_fromSD', 'W122_08_07_2019_1_fromSD',\n",
    "             'W122_08_31_2019_1_fromSD', 'W122_09_09_2019_1_fromSD', 'W122_09_21_2019_1_fromSD']\n",
    "\n",
    "sess_neurons = [[0,1,3], [0,2,3], [0,3], [1,2,3], [0,1], [1]]\n",
    "\n",
    "# base paths\n",
    "base_path  = 'Y:\\jbreda\\ephys\\post_sort_analysis\\sorted_pre_bdata' \n",
    "beh_mat   = 'protocol_info.mat'\n",
    "spks_mat  = 'ksphy_clusters_foranalysis.mat'\n",
    "fig_save_path = os.path.join(os.getcwd(), 'figures', 'neurovis')\n",
    "\n",
    "\n",
    "# create specific paths\n",
    "sess_paths = []\n",
    "beh_paths = []\n",
    "spks_paths = []\n",
    "\n",
    "for sess in range(len(sess_names)):\n",
    "    sess_path = os.path.join(base_path, sess_names[sess])\n",
    "    sess_paths.append(sess_path)\n",
    "    \n",
    "    beh_paths.append(os.path.join(sess_path, beh_mat))\n",
    "    spks_paths.append(os.path.join(sess_path, spks_mat))"
   ]
  },
  {
   "cell_type": "code",
   "execution_count": 8,
   "id": "stunning-surname",
   "metadata": {},
   "outputs": [],
   "source": [
    "beh_dfs = []\n",
    "spks_dicts = []\n",
    "\n",
    "for sess in range(len(sess_names)):\n",
    "    beh_df, spks_dict = selective_load_and_wrangle(beh_paths[sess], spks_paths[sess], sess_neurons[sess], overwrite=True)\n",
    "    beh_dfs.append(beh_df)\n",
    "    spks_dicts.append(spks_dict)"
   ]
  },
  {
   "cell_type": "code",
   "execution_count": 36,
   "id": "nominated-marks",
   "metadata": {},
   "outputs": [],
   "source": [
    "neurovis_objs = []\n",
    "for sess in range(len(sess_names)):\n",
    "    neurons = initiate_neurons(spks_dicts[sess])\n",
    "    neurovis_objs.append(neurons)"
   ]
  },
  {
   "cell_type": "markdown",
   "id": "electronic-covering",
   "metadata": {},
   "source": [
    "# Plotting all hit trials at aud1, aud2"
   ]
  },
  {
   "cell_type": "code",
   "execution_count": 76,
   "id": "sitting-confidence",
   "metadata": {},
   "outputs": [],
   "source": [
    "# Initialize info for plotting\n",
    "hit_dfs = []\n",
    "\n",
    "for sess in range(len(sess_names)):\n",
    "    df = beh_dfs[sess]\n",
    "    hit_df = df[df['hit_hist'] == 'hit']\n",
    "    hit_dfs.append(hit_df)\n",
    "       "
   ]
  },
  {
   "cell_type": "code",
   "execution_count": 80,
   "id": "faced-plumbing",
   "metadata": {},
   "outputs": [
    {
     "name": "stdout",
     "output_type": "stream",
     "text": [
      "Creating mask_dict...\n",
      "loading mask info....\n",
      "mask info loaded\n",
      "loading mask info....\n",
      "mask info loaded\n",
      "ngood, first: 62\n",
      "ngood, second: 50\n",
      "ngood, second: 50\n",
      "Creating mask_dict...\n",
      "loading mask info....\n",
      "mask info loaded\n",
      "loading mask info....\n",
      "mask info loaded\n",
      "loading mask info....\n",
      "mask info loaded\n",
      "ngood, first: 53\n",
      "ngood, second: 69\n",
      "ngood, second: 69\n",
      "Creating mask_dict...\n",
      "loading mask info....\n",
      "mask info loaded\n",
      "loading mask info....\n",
      "mask info loaded\n",
      "ngood, first: 39\n",
      "ngood, second: 43\n",
      "Creating mask_dict...\n",
      "loading mask info....\n",
      "mask info loaded\n",
      "loading mask info....\n",
      "mask info loaded\n",
      "ngood, first: 65\n",
      "ngood, second: 50\n",
      "ngood, second: 50\n",
      "Creating mask_dict...\n",
      "loading mask info....\n",
      "mask info loaded\n",
      "ngood, second: 46\n",
      "ngood, second: 46\n",
      "Creating mask_dict...\n",
      "loading mask info....\n",
      "mask info loaded\n",
      "ngood, second: 60\n"
     ]
    }
   ],
   "source": [
    "# Deal with masking\n",
    "sess_bndl_dfs = []\n",
    "sess_df_names = []\n",
    "\n",
    "for sess in range(len(sess_names)):\n",
    "    bndl_dfs, df_names = deal_with_masking(spks_dicts[sess], hit_dfs[sess], sess_paths[sess])\n",
    "    \n",
    "    sess_bndl_dfs.append(bndl_dfs)\n",
    "    sess_df_names.append(df_names)"
   ]
  },
  {
   "cell_type": "code",
   "execution_count": 84,
   "id": "greenhouse-donna",
   "metadata": {},
   "outputs": [],
   "source": [
    "# plot settings\n",
    "events = ['aud1_on','aud2_on']\n",
    "event_names = ['aud1_on', 'aud2_on']\n",
    "windows = [[-500,1000], [-500, 450]]"
   ]
  },
  {
   "cell_type": "code",
   "execution_count": 85,
   "id": "associate-crown",
   "metadata": {},
   "outputs": [],
   "source": [
    "# create rasters & psths\n",
    "\n",
    "sess_rasters = []\n",
    "sess_psths = []\n",
    "\n",
    "for sess in range(len(sess_names)):\n",
    "    sess_rasters.append(get_neuron_rasters(neurovis_objs[sess], events, windows, sess_bndl_dfs[sess], sess_df_names[sess]))\n",
    "    sess_psths.append(get_neuron_psths(neurovis_objs[sess], events, windows, sess_bndl_dfs[sess], sess_df_names[sess]))"
   ]
  },
  {
   "cell_type": "code",
   "execution_count": 86,
   "id": "compatible-fitness",
   "metadata": {},
   "outputs": [],
   "source": [
    "for sess in range(len(sess_names)):\n",
    "    \n",
    "    for nn in range(len(neurovis_objs[sess])):\n",
    "\n",
    "        # grab mean waveform for the neuron\n",
    "        mean_wav = spks_dicts[sess]['mean_wav'][nn]\n",
    "\n",
    "        # iterate over event\n",
    "        for ee in range(len(events)):\n",
    "\n",
    "            # initilaize plot\n",
    "            fig = plt.figure(figsize=(18,12))\n",
    "            ax1 = plt.subplot2grid((4, 3), (0, 0), rowspan=2, colspan=2)\n",
    "            ax2 = plt.subplot2grid((4, 3), (2, 0), rowspan=2, colspan=2)\n",
    "            ax3 = plt.subplot2grid((4, 3), (1, 2), rowspan=2, colspan=1)\n",
    "\n",
    "            # plot raster and psth for each sess, neuron, event\n",
    "            neurovis_objs[sess][nn].plot_raster(sess_rasters[sess][nn][ee], axis=ax1, event_name=events[ee], cmap=\"Greys\")\n",
    "            neurovis_objs[sess][nn].plot_psth(sess_psths[sess][nn][ee],axis=ax2, event_name=events[ee])\n",
    "\n",
    "            # plot average waveform from active tetrode\n",
    "            for tt in range(4):\n",
    "                ax3.plot(mean_wav[tt], color = 'black' )\n",
    "                ax3.set_title('Average Waveform')\n",
    "\n",
    "            fig_name = \"{n_sess}_{date}_neuron_{num}_{event}\".format(n_sess = sess,\n",
    "                                                                     date = spks_dicts[sess]['date'],\n",
    "                                                                     num = spks_dicts[sess]['neuron_nums'][nn], \n",
    "                                                                     event = event_names[ee])\n",
    "            # format & save out\n",
    "            plt.tight_layout()\n",
    "            plt.savefig(os.path.join(fig_save_path, 'all_hits', fig_name))\n",
    "            plt.close(\"all\")"
   ]
  }
 ],
 "metadata": {
  "kernelspec": {
   "display_name": "Python 3",
   "language": "python",
   "name": "python3"
  },
  "language_info": {
   "codemirror_mode": {
    "name": "ipython",
    "version": 3
   },
   "file_extension": ".py",
   "mimetype": "text/x-python",
   "name": "python",
   "nbconvert_exporter": "python",
   "pygments_lexer": "ipython3",
   "version": "3.7.9"
  }
 },
 "nbformat": 4,
 "nbformat_minor": 5
}
