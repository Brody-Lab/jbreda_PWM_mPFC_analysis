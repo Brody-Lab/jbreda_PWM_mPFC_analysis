{
 "cells": [
  {
   "cell_type": "code",
   "execution_count": 381,
   "id": "early-guarantee",
   "metadata": {},
   "outputs": [
    {
     "name": "stdout",
     "output_type": "stream",
     "text": [
      "The autoreload extension is already loaded. To reload it, use:\n",
      "  %reload_ext autoreload\n"
     ]
    }
   ],
   "source": [
    "# libraries\n",
    "import sys; sys.path.insert(0, '..') # if you don't find it here, look one above\n",
    "import os\n",
    "import numpy as np\n",
    "import matplotlib.pyplot as plt\n",
    "import pandas as pd\n",
    "import seaborn as sns\n",
    "import scipy.io as spio\n",
    "import pickle\n",
    "from tqdm import tqdm\n",
    "# stored one repo up in my fork of Spykes\n",
    "from spykes.spykes.plot.neurovis import NeuroVis\n",
    "from io_utils import *\n",
    "from plotting_utils import * \n",
    "\n",
    "# settings\n",
    "%load_ext autoreload\n",
    "%autoreload 2\n",
    "sns.set_context(\"talk\")"
   ]
  },
  {
   "cell_type": "code",
   "execution_count": 31,
   "id": "timely-sweet",
   "metadata": {},
   "outputs": [],
   "source": [
    "# base paths/names\n",
    "sess_names = np.load('sess_names.npy')\n",
    "sess_name = sess_names[3]\n",
    "\n",
    "base_path  = 'Y:\\jbreda\\ephys\\post_sort_analysis\\sorted_pre_bdata' \n",
    "beh_mat   = 'protocol_info.mat'\n",
    "spks_mat  = 'ksphy_clusters_foranalysis.mat'\n",
    "\n",
    "\n",
    "# create paths\n",
    "sess_path = os.path.join(base_path, sess_name)\n",
    "beh_path  = os.path.join(sess_path, beh_mat)\n",
    "spks_path = os.path.join(sess_path, spks_mat)\n",
    "fig_save_path = os.path.join(os.getcwd(), 'figures', 'neurovis', sess_name)\n",
    "\n",
    "# load & wrangle\n",
    "beh_df, spks_dict = load_and_wrangle(beh_path, spks_path, overwrite=True)\n"
   ]
  },
  {
   "cell_type": "markdown",
   "id": "mysterious-adobe",
   "metadata": {},
   "source": [
    "### Separate spike times by trials\n",
    "\n",
    "Create a list of list that is N trials long w/ spike info from cpoke to endstate for each trial. \n",
    "\n",
    "**TODO** turn into function"
   ]
  },
  {
   "cell_type": "code",
   "execution_count": 204,
   "id": "prostate-output",
   "metadata": {},
   "outputs": [],
   "source": [
    "test_neuron = spks_dict['spk_times'][0]\n",
    "test_neurovis = NeuroVis(test_neuron)"
   ]
  },
  {
   "cell_type": "code",
   "execution_count": 226,
   "id": "lesbian-commercial",
   "metadata": {},
   "outputs": [],
   "source": [
    "raster = test_neurovis.get_raster(event= 'aud1_on', binsize = 100, df = beh_df, plot = False)"
   ]
  },
  {
   "cell_type": "code",
   "execution_count": 393,
   "id": "wound-marijuana",
   "metadata": {},
   "outputs": [],
   "source": [
    "\n",
    "# initialize\n",
    "tr_times_ = np.zeros((len(beh_df),2))\n",
    "tr_spk_L = []\n",
    "\n",
    "# make counter bc idx is not continous\n",
    "tr = 0\n",
    "\n",
    "for idx, row in beh_df.iterrows():\n",
    "    \n",
    "    # grab start time 100 ms before c poke\n",
    "    tr_start = row['c_poke'] - 0.001\n",
    "    \n",
    "    # create end time so delays have same length\n",
    "    # NOTE: this is specific for analyzing delay period only\n",
    "    if row['delay'] == 2:\n",
    "        tr_end = tr_start + 5.5\n",
    "    elif row['delay'] == 4:\n",
    "        tr_end = tr_start + 7.7\n",
    "    elif row['delay'] == 6:\n",
    "        tr_end = tr_start + 9.9\n",
    "    else:\n",
    "        print('Trial delay is not 2, 4 or 6 seconds')\n",
    "    \n",
    "    # append start and end times\n",
    "    tr_times[tr,:] = tr_start, tr_end\n",
    "    tr+=1\n",
    "    \n",
    "    # grab spike time within trial window & append them\n",
    "    valid_spike_times = test_neuron[np.logical_and(test_neuron >= tr_start, test_neuron <= tr_end)]\n",
    "    \n",
    "    ## deal with padding\n",
    "    tr_spk_L.append(test_neuron[np.logical_and(test_neuron >= tr_start, test_neuron <= tr_end)])\n",
    "    "
   ]
  },
  {
   "cell_type": "markdown",
   "id": "inner-seafood",
   "metadata": {},
   "source": [
    "### Discretizing \n",
    "\n",
    "Take spk times x trials above, & given a bin size (1 ms) search in trial & binarize"
   ]
  },
  {
   "cell_type": "code",
   "execution_count": 398,
   "id": "prompt-andorra",
   "metadata": {},
   "outputs": [
    {
     "name": "stderr",
     "output_type": "stream",
     "text": [
      "100%|█████████████████████████████████████████████████████████████████████| 392/392 [00:36<00:00, 10.81it/s]\n"
     ]
    }
   ],
   "source": [
    "# 0.5 ms bins & sample rate\n",
    "binsize = 0.001\n",
    "\n",
    "tr_spk_binary = []\n",
    "\n",
    "for itrial, tr_spk in enumerate(tqdm(tr_spk_L)):\n",
    "    \n",
    "    tr_start = tr_times[itrial][0]\n",
    "    tr_end = tr_start + 9.9\n",
    "    halfbin = binsize / 2\n",
    "    bincenters = np.arange(tr_start + halfbin, tr_end, binsize)\n",
    "    \n",
    "    NBINS = len(bincenters)\n",
    "    spike_count = []\n",
    "     \n",
    "    for ibin in range(NBINS):\n",
    "        spike_in_bin = np.sum(np.logical_and(tr_spk >= (bincenters[ibin] - halfbin), \n",
    "                                 tr_spk <= (bincenters[ibin] + halfbin)))\n",
    "        \n",
    "        spike_count.append(spike_in_bin)\n",
    "        \n",
    "\n",
    "    tr_spk_binary.append(spike_count)\n",
    "        \n",
    "        "
   ]
  },
  {
   "cell_type": "code",
   "execution_count": 317,
   "id": "capable-karen",
   "metadata": {},
   "outputs": [],
   "source": [
    "def gaussian(x, mu, sigma):\n",
    "    return 1 / (sigma * np.sqrt(2 * np.pi)) * np.exp(-1/2 * ((x - mu)/sigma)**2)"
   ]
  },
  {
   "cell_type": "code",
   "execution_count": 352,
   "id": "downtown-approval",
   "metadata": {},
   "outputs": [
    {
     "data": {
      "text/plain": [
       "[<matplotlib.lines.Line2D at 0x2f29e490a88>]"
      ]
     },
     "execution_count": 352,
     "metadata": {},
     "output_type": "execute_result"
    },
    {
     "data": {
      "image/png": "[encoded data removed]",
      "text/plain": [
       "<Figure size 432x288 with 1 Axes>"
      ]
     },
     "metadata": {
      "needs_background": "light"
     },
     "output_type": "display_data"
    }
   ],
   "source": [
    "mu = 0\n",
    "sigma = .150\n",
    "\n",
    "x = np.linspace(-1.0, 1.0, 150)\n",
    "kernal = gaussian(x, mu, sigma)\n",
    "kernal = kernal/np.sum(kernal)\n",
    "plt.plot(x, kernal)"
   ]
  },
  {
   "cell_type": "code",
   "execution_count": 407,
   "id": "running-tribute",
   "metadata": {},
   "outputs": [
    {
     "data": {
      "text/plain": [
       "[<matplotlib.lines.Line2D at 0x2f29e4f5ac8>]"
      ]
     },
     "execution_count": 407,
     "metadata": {},
     "output_type": "execute_result"
    },
    {
     "data": {
      "image/png": "[encoded data removed]",
      "text/plain": [
       "<Figure size 720x360 with 1 Axes>"
      ]
     },
     "metadata": {
      "needs_background": "light"
     },
     "output_type": "display_data"
    }
   ],
   "source": [
    "spike_train = tr_spk_binary[5]\n",
    "fig, ax = plt.subplots(figsize = (10,5))\n",
    "plt.plot(np.convolve(spike_train, kernal))"
   ]
  },
  {
   "cell_type": "code",
   "execution_count": 419,
   "id": "addressed-consciousness",
   "metadata": {},
   "outputs": [
    {
     "data": {
      "text/plain": [
       "9900"
      ]
     },
     "execution_count": 419,
     "metadata": {},
     "output_type": "execute_result"
    }
   ],
   "source": [
    "len(tr_spk_binary[6])"
   ]
  },
  {
   "cell_type": "code",
   "execution_count": 427,
   "id": "original-thong",
   "metadata": {},
   "outputs": [],
   "source": [
    "conv_trial = []\n",
    "for trial in tr_spk_binary:\n",
    "    smoothed =(np.convolve(trial, kernal))\n",
    "    smoothed = np.where(smoothed == 0, np.nan, smoothed)\n",
    "    conv_trial.append(smoothed)\n",
    "    \n",
    "conv_trial = np.array(conv_trial)"
   ]
  },
  {
   "cell_type": "code",
   "execution_count": 432,
   "id": "exotic-brake",
   "metadata": {},
   "outputs": [],
   "source": [
    "test = np.nanmean(conv_trial, axis =0)"
   ]
  },
  {
   "cell_type": "code",
   "execution_count": 441,
   "id": "floating-lawrence",
   "metadata": {},
   "outputs": [],
   "source": [
    "import seaborn as sns"
   ]
  },
  {
   "cell_type": "code",
   "execution_count": 445,
   "id": "apart-thousand",
   "metadata": {},
   "outputs": [
    {
     "ename": "TypeError",
     "evalue": "'ci' is an invalid keyword argument for arange()",
     "output_type": "error",
     "traceback": [
      "\u001b[1;31m---------------------------------------------------------------------------\u001b[0m",
      "\u001b[1;31mTypeError\u001b[0m                                 Traceback (most recent call last)",
      "\u001b[1;32m<ipython-input-445-a4a6c1876d9c>\u001b[0m in \u001b[0;36m<module>\u001b[1;34m\u001b[0m\n\u001b[0;32m      1\u001b[0m \u001b[0mfig\u001b[0m\u001b[1;33m,\u001b[0m \u001b[0max\u001b[0m \u001b[1;33m=\u001b[0m \u001b[0mplt\u001b[0m\u001b[1;33m.\u001b[0m\u001b[0msubplots\u001b[0m\u001b[1;33m(\u001b[0m\u001b[0mfigsize\u001b[0m \u001b[1;33m=\u001b[0m \u001b[1;33m(\u001b[0m\u001b[1;36m15\u001b[0m\u001b[1;33m,\u001b[0m \u001b[1;36m3\u001b[0m\u001b[1;33m)\u001b[0m\u001b[1;33m)\u001b[0m\u001b[1;33m\u001b[0m\u001b[1;33m\u001b[0m\u001b[0m\n\u001b[0;32m      2\u001b[0m \u001b[1;33m\u001b[0m\u001b[0m\n\u001b[1;32m----> 3\u001b[1;33m \u001b[0msns\u001b[0m\u001b[1;33m.\u001b[0m\u001b[0mlineplot\u001b[0m\u001b[1;33m(\u001b[0m\u001b[0my\u001b[0m \u001b[1;33m=\u001b[0m \u001b[0mtest\u001b[0m\u001b[1;33m,\u001b[0m \u001b[0mx\u001b[0m \u001b[1;33m=\u001b[0m \u001b[0mnp\u001b[0m\u001b[1;33m.\u001b[0m\u001b[0marange\u001b[0m\u001b[1;33m(\u001b[0m\u001b[0mlen\u001b[0m\u001b[1;33m(\u001b[0m\u001b[0mtest\u001b[0m\u001b[1;33m)\u001b[0m\u001b[1;33m,\u001b[0m \u001b[0mci\u001b[0m \u001b[1;33m=\u001b[0m \u001b[1;34m\"sd\"\u001b[0m\u001b[1;33m)\u001b[0m\u001b[1;33m)\u001b[0m\u001b[1;33m\u001b[0m\u001b[1;33m\u001b[0m\u001b[0m\n\u001b[0m",
      "\u001b[1;31mTypeError\u001b[0m: 'ci' is an invalid keyword argument for arange()"
     ]
    },
    {
     "data": {
      "image/png": "[encoded data removed]",
      "text/plain": [
       "<Figure size 1080x216 with 1 Axes>"
      ]
     },
     "metadata": {
      "needs_background": "light"
     },
     "output_type": "display_data"
    }
   ],
   "source": [
    "fig, ax = plt.subplots(figsize = (15, 3))\n",
    "\n",
    "sns.lineplot(y = test, x = np.arange(len(test), ci=))"
   ]
  },
  {
   "cell_type": "code",
   "execution_count": 440,
   "id": "advisory-afghanistan",
   "metadata": {},
   "outputs": [
    {
     "data": {
      "text/plain": [
       "[<matplotlib.lines.Line2D at 0x2f2affaef88>]"
      ]
     },
     "execution_count": 440,
     "metadata": {},
     "output_type": "execute_result"
    },
    {
     "data": {
      "image/png": "[encoded data removed]",
      "text/plain": [
       "<Figure size 1080x216 with 1 Axes>"
      ]
     },
     "metadata": {
      "needs_background": "light"
     },
     "output_type": "display_data"
    }
   ],
   "source": [
    "fig, ax = plt.subplots(figsize = (15, 3))\n",
    "plt.plot(test)"
   ]
  },
  {
   "cell_type": "code",
   "execution_count": 378,
   "id": "satellite-vocabulary",
   "metadata": {},
   "outputs": [
    {
     "name": "stdout",
     "output_type": "stream",
     "text": [
      "[ 0.  1.  0.  1.  1. nan nan nan nan nan nan nan]\n"
     ]
    }
   ],
   "source": [
    "arr = np.array([0,1,0,1,1],dtype=float)\n",
    "\n",
    "  \n",
    "# padding array using CONSTANT mode\n",
    "pad_arr = np.pad(arr, (0,7), 'constant',constant_values=(np.nan,))\n",
    "  \n",
    "print(pad_arr)"
   ]
  },
  {
   "cell_type": "code",
   "execution_count": 50,
   "id": "atomic-albuquerque",
   "metadata": {},
   "outputs": [],
   "source": [
    "# Initialize info for plotting\n",
    "hit_df = beh_df[(beh_df['hit_hist'] == 'hit')]\n",
    "aud1_df = hit_df[(hit_df['first_sound'] != 'psycho')]"
   ]
  },
  {
   "cell_type": "markdown",
   "id": "illegal-situation",
   "metadata": {},
   "source": [
    "## Stoped here"
   ]
  },
  {
   "cell_type": "code",
   "execution_count": 53,
   "id": "imperial-cisco",
   "metadata": {},
   "outputs": [
    {
     "name": "stdout",
     "output_type": "stream",
     "text": [
      "Loading existing mask_dict...\n",
      "Done loading.\n",
      "ngood, first: 175\n",
      "ngood, first: 175\n",
      "ngood, second: 195\n",
      "ngood, second: 195\n"
     ]
    }
   ],
   "source": [
    "bndl_dfs, df_names = deal_with_masking(spks_dict, aud1_df, sess_path, 'aud1_no_psycho', 30000)"
   ]
  },
  {
   "cell_type": "code",
   "execution_count": 58,
   "id": "focused-tunnel",
   "metadata": {},
   "outputs": [],
   "source": [
    "# initilaize\n",
    "events = ['aud1_on']\n",
    "event_names = ['aud1_on']\n",
    "window = [-500, 2300]\n",
    "condition = 'first_sound'"
   ]
  },
  {
   "cell_type": "code",
   "execution_count": 298,
   "id": "destroyed-depth",
   "metadata": {},
   "outputs": [],
   "source": [
    "# initilaize\n",
    "events = ['aud1_on']\n",
    "windows = [[-1000,2300]]\n",
    "condition = 'correct_side'\n",
    "\n",
    "# get neurons into NeuroVis objects\n",
    "neurons = initiate_neurons(spks_dict)\n",
    "neuron = NeuroVis(spks_dict['spk_times'][0])\n",
    "\n",
    "#single neuron debug\n",
    "window = windows[0]\n",
    "binsize = 100\n",
    "df = bndl_dfs[df_names[0]]\n",
    "phys_start = neuron.spiketimes[0]\n",
    "phys_end = neuron.spiketimes[-1]\n",
    "event = events[0]\n",
    "conditions = 'correct_side'"
   ]
  },
  {
   "cell_type": "code",
   "execution_count": 13,
   "id": "possible-cleveland",
   "metadata": {},
   "outputs": [],
   "source": [
    "neuron_rasters = get_neuron_rasters(neurons, events, windows, bndl_dfs, df_names)\n",
    "neuron_psths = get_neuron_psths(neurons, events, windows, bndl_dfs, df_names, conditions=condition)"
   ]
  },
  {
   "cell_type": "code",
   "execution_count": 302,
   "id": "blank-jersey",
   "metadata": {},
   "outputs": [
    {
     "data": {
      "text/plain": [
       "(14, 17)"
      ]
     },
     "execution_count": 302,
     "metadata": {},
     "output_type": "execute_result"
    }
   ],
   "source": [
    "if not type(df) is dict:\n",
    "        df = df.reset_index()\n",
    "len(np.sum(raster['data'][0], axis = 1)), len(psth['data'][0]['mean'])"
   ]
  },
  {
   "cell_type": "code",
   "execution_count": 176,
   "id": "gentle-victim",
   "metadata": {},
   "outputs": [],
   "source": [
    "if not type(df) is dict:\n",
    "    df2 = df.reset_index()\n",
    "wind = [np.floor(window[0]/binsize) * binsize, np.ceil(window[1]/binsize) * binsize]"
   ]
  },
  {
   "cell_type": "code",
   "execution_count": 177,
   "id": "complimentary-inclusion",
   "metadata": {},
   "outputs": [],
   "source": [
    "trials = dict()\n",
    "trials[0] = np.where(np.ones(np.size(df[event])))[0]\n",
    "rasters = {\n",
    "        'event': event,\n",
    "        'conditions': conditions,\n",
    "        'window': window,\n",
    "        'binsize': binsize,\n",
    "        'data': {},\n",
    "    }"
   ]
  },
  {
   "cell_type": "code",
   "execution_count": 191,
   "id": "loved-handy",
   "metadata": {},
   "outputs": [],
   "source": [
    "for cond_id in trials:\n",
    "    # Select events relevant to this raster\n",
    "    selected_events = df[event].iloc[trials[cond_id]]\n",
    "\n",
    "    raster = []\n",
    "    \n",
    "    bin_template = 1e-3 * np.arange(window[0], window[1] + binsize, binsize)\n",
    "    \n",
    "    for event_time in selected_events:\n",
    "        bins = event_time + bin_template\n",
    "\n"
   ]
  },
  {
   "cell_type": "code",
   "execution_count": 196,
   "id": "assigned-investigation",
   "metadata": {},
   "outputs": [
    {
     "data": {
      "text/plain": [
       "array([-1. , -0.9, -0.8, -0.7, -0.6, -0.5, -0.4, -0.3, -0.2, -0.1,  0. ,\n",
       "        0.1,  0.2,  0.3,  0.4,  0.5,  0.6,  0.7,  0.8,  0.9,  1. ,  1.1,\n",
       "        1.2,  1.3,  1.4,  1.5,  1.6,  1.7,  1.8,  1.9,  2. ,  2.1,  2.2,\n",
       "        2.3])"
      ]
     },
     "execution_count": 196,
     "metadata": {},
     "output_type": "execute_result"
    }
   ],
   "source": [
    "bin_template"
   ]
  },
  {
   "cell_type": "code",
   "execution_count": 195,
   "id": "transsexual-spread",
   "metadata": {},
   "outputs": [
    {
     "name": "stdout",
     "output_type": "stream",
     "text": [
      "[5867.858354 5867.958354 5868.058354 5868.158354 5868.258354 5868.358354\n",
      " 5868.458354 5868.558354 5868.658354 5868.758354 5868.858354 5868.958354\n",
      " 5869.058354 5869.158354 5869.258354 5869.358354 5869.458354 5869.558354\n",
      " 5869.658354 5869.758354 5869.858354 5869.958354 5870.058354 5870.158354\n",
      " 5870.258354 5870.358354 5870.458354 5870.558354 5870.658354 5870.758354\n",
      " 5870.858354 5870.958354 5871.058354 5871.158354]\n"
     ]
    }
   ],
   "source": [
    "for event_time in selected_events:\n",
    "    bins = event_time + bin_template\n",
    "    \n",
    "    searchsorted_idx = np.sq"
   ]
  },
  {
   "cell_type": "code",
   "execution_count": 212,
   "id": "appointed-street",
   "metadata": {},
   "outputs": [
    {
     "data": {
      "text/plain": [
       "(5868.858354, 5867.858354, 5871.158354)"
      ]
     },
     "execution_count": 212,
     "metadata": {},
     "output_type": "execute_result"
    }
   ],
   "source": [
    "event_time, event_time + 1e-3 * window[0], event_time + 1e-3 * window[1]"
   ]
  },
  {
   "cell_type": "code",
   "execution_count": null,
   "id": "realistic-strength",
   "metadata": {},
   "outputs": [],
   "source": []
  }
 ],
 "metadata": {
  "kernelspec": {
   "display_name": "Python 3",
   "language": "python",
   "name": "python3"
  },
  "language_info": {
   "codemirror_mode": {
    "name": "ipython",
    "version": 3
   },
   "file_extension": ".py",
   "mimetype": "text/x-python",
   "name": "python",
   "nbconvert_exporter": "python",
   "pygments_lexer": "ipython3",
   "version": "3.7.9"
  }
 },
 "nbformat": 4,
 "nbformat_minor": 5
}
