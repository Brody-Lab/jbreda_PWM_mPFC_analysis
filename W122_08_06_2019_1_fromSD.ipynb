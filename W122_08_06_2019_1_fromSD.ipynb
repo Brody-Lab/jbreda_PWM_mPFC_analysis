{
 "cells": [
  {
   "cell_type": "code",
   "execution_count": 454,
   "id": "early-guarantee",
   "metadata": {},
   "outputs": [
    {
     "name": "stdout",
     "output_type": "stream",
     "text": [
      "The autoreload extension is already loaded. To reload it, use:\n",
      "  %reload_ext autoreload\n"
     ]
    }
   ],
   "source": [
    "# libraries\n",
    "import sys; sys.path.insert(0, '..') # if you don't find it here, look one above\n",
    "import os\n",
    "import numpy as np\n",
    "import matplotlib.pyplot as plt\n",
    "import pandas as pd\n",
    "import seaborn as sns\n",
    "import scipy.io as spio\n",
    "import pickle\n",
    "from tqdm import tqdm\n",
    "from scipy import stats\n",
    "# stored one repo up in my fork of Spykes\n",
    "from spykes.spykes.plot.neurovis import NeuroVis\n",
    "from io_utils import *\n",
    "from plotting_utils import * \n",
    "\n",
    "# settings\n",
    "%load_ext autoreload\n",
    "%autoreload 2\n",
    "sns.set_context(\"talk\")"
   ]
  },
  {
   "cell_type": "code",
   "execution_count": 31,
   "id": "timely-sweet",
   "metadata": {},
   "outputs": [],
   "source": [
    "# base paths/names\n",
    "sess_names = np.load('sess_names.npy')\n",
    "sess_name = sess_names[3]\n",
    "\n",
    "base_path  = 'Y:\\jbreda\\ephys\\post_sort_analysis\\sorted_pre_bdata' \n",
    "beh_mat   = 'protocol_info.mat'\n",
    "spks_mat  = 'ksphy_clusters_foranalysis.mat'\n",
    "\n",
    "\n",
    "# create paths\n",
    "sess_path = os.path.join(base_path, sess_name)\n",
    "beh_path  = os.path.join(sess_path, beh_mat)\n",
    "spks_path = os.path.join(sess_path, spks_mat)\n",
    "fig_save_path = os.path.join(os.getcwd(), 'figures', 'neurovis', sess_name)\n",
    "\n",
    "# load & wrangle\n",
    "beh_df, spks_dict = load_and_wrangle(beh_path, spks_path, overwrite=True)\n"
   ]
  },
  {
   "cell_type": "markdown",
   "id": "bibliographic-protection",
   "metadata": {},
   "source": [
    "### Separate spike times by trials\n",
    "\n",
    "Create a list of list that is N trials long w/ spike info from cpoke to endstate for each trial. \n",
    "\n",
    "**TODO** turn into function"
   ]
  },
  {
   "cell_type": "code",
   "execution_count": 644,
   "id": "embedded-nickname",
   "metadata": {},
   "outputs": [],
   "source": [
    "test_neuron = spks_dict['spk_times'][0]\n",
    "test_neurovis = NeuroVis(test_neuron)"
   ]
  },
  {
   "cell_type": "code",
   "execution_count": 645,
   "id": "willing-composition",
   "metadata": {},
   "outputs": [],
   "source": [
    "raster = test_neurovis.get_raster(event= 'aud1_on', binsize = 100, df = beh_df, plot = False)"
   ]
  },
  {
   "cell_type": "markdown",
   "id": "thick-schema",
   "metadata": {},
   "source": [
    "### Discretizing \n",
    "\n",
    "Take spk times x trials above, & given a bin size (1 ms) search in trial & binarize"
   ]
  },
  {
   "cell_type": "markdown",
   "id": "recent-communication",
   "metadata": {},
   "source": [
    "## TODO\n",
    "* raster on 2s trials\n",
    "* PSTHs\n",
    "* event centered times?\n",
    "* f/u on why gaussain from scipy errors"
   ]
  },
  {
   "cell_type": "code",
   "execution_count": 715,
   "id": "sustainable-lounge",
   "metadata": {},
   "outputs": [
    {
     "name": "stderr",
     "output_type": "stream",
     "text": [
      "100%|████████████████████████████████████████████████████████████████████| 130/130 [00:01<00:00, 114.43it/s]\n"
     ]
    }
   ],
   "source": [
    "beh_2s_df = beh_df[(beh_df['delay'] == 2)]\n",
    "neuron_2s_spks = split_spks_by_trial(test_neuron, beh_2s_df)\n",
    "neuron_2s_binary = get_spike_counts(neuron_2s_spks, bin_size=0.01, mode='binary')"
   ]
  },
  {
   "cell_type": "code",
   "execution_count": null,
   "id": "human-classic",
   "metadata": {},
   "outputs": [],
   "source": []
  },
  {
   "cell_type": "code",
   "execution_count": 722,
   "id": "offensive-house",
   "metadata": {},
   "outputs": [],
   "source": [
    "sub = neuron_2s_binary[0:30]"
   ]
  },
  {
   "cell_type": "code",
   "execution_count": 724,
   "id": "authorized-invalid",
   "metadata": {},
   "outputs": [
    {
     "data": {
      "text/plain": [
       "[<matplotlib.collections.EventCollection at 0x2f3c44c6e88>,\n",
       " <matplotlib.collections.EventCollection at 0x2f3c454ce08>,\n",
       " <matplotlib.collections.EventCollection at 0x2f3c45d60c8>,\n",
       " <matplotlib.collections.EventCollection at 0x2f3c465b388>,\n",
       " <matplotlib.collections.EventCollection at 0x2f3c46e0648>,\n",
       " <matplotlib.collections.EventCollection at 0x2f3c47669c8>,\n",
       " <matplotlib.collections.EventCollection at 0x2f3c47eac48>,\n",
       " <matplotlib.collections.EventCollection at 0x2f3c486df08>,\n",
       " <matplotlib.collections.EventCollection at 0x2f3c48fa208>,\n",
       " <matplotlib.collections.EventCollection at 0x2f3c4766948>,\n",
       " <matplotlib.collections.EventCollection at 0x2f3c4a046c8>,\n",
       " <matplotlib.collections.EventCollection at 0x2f3c4a89988>,\n",
       " <matplotlib.collections.EventCollection at 0x2f3c4b0dc48>,\n",
       " <matplotlib.collections.EventCollection at 0x2f3c4b92f08>,\n",
       " <matplotlib.collections.EventCollection at 0x2f3c4c1e208>,\n",
       " <matplotlib.collections.EventCollection at 0x2f3c4ca34c8>,\n",
       " <matplotlib.collections.EventCollection at 0x2f3c4d28788>,\n",
       " <matplotlib.collections.EventCollection at 0x2f3c4daca48>,\n",
       " <matplotlib.collections.EventCollection at 0x2f3c4e32d08>,\n",
       " <matplotlib.collections.EventCollection at 0x2f3c4eb7fc8>,\n",
       " <matplotlib.collections.EventCollection at 0x2f3c4f442c8>,\n",
       " <matplotlib.collections.EventCollection at 0x2f3c4fc8588>,\n",
       " <matplotlib.collections.EventCollection at 0x2f3c504e848>,\n",
       " <matplotlib.collections.EventCollection at 0x2f3c50d1b08>,\n",
       " <matplotlib.collections.EventCollection at 0x2f3c5156dc8>,\n",
       " <matplotlib.collections.EventCollection at 0x2f3c51e10c8>,\n",
       " <matplotlib.collections.EventCollection at 0x2f3c5268388>,\n",
       " <matplotlib.collections.EventCollection at 0x2f3c52ec648>,\n",
       " <matplotlib.collections.EventCollection at 0x2f3c536f908>,\n",
       " <matplotlib.collections.EventCollection at 0x2f3c53f6bc8>]"
      ]
     },
     "execution_count": 724,
     "metadata": {},
     "output_type": "execute_result"
    },
    {
     "data": {
      "image/png": "[encoded data removed]",
      "text/plain": [
       "<Figure size 432x288 with 1 Axes>"
      ]
     },
     "metadata": {
      "needs_background": "light"
     },
     "output_type": "display_data"
    }
   ],
   "source": [
    "plt.eventplot(sub, orientation='vertical')"
   ]
  },
  {
   "cell_type": "code",
   "execution_count": 711,
   "id": "little-shelter",
   "metadata": {},
   "outputs": [
    {
     "name": "stderr",
     "output_type": "stream",
     "text": [
      "100%|████████████████████████████████████████████████████████████████████| 392/392 [00:03<00:00, 103.68it/s]\n"
     ]
    }
   ],
   "source": [
    "neuron_spks = split_spks_by_trial(test_neuron,beh_df)\n",
    "neuron_binary = get_spike_counts(neuron_spks, bin_size=0.01, mode='binary')"
   ]
  },
  {
   "cell_type": "code",
   "execution_count": 719,
   "id": "accepted-ensemble",
   "metadata": {},
   "outputs": [
    {
     "data": {
      "text/plain": [
       "[<matplotlib.collections.EventCollection at 0x2f3af676488>,\n",
       " <matplotlib.collections.EventCollection at 0x2f3b07675c8>,\n",
       " <matplotlib.collections.EventCollection at 0x2f3b07f80c8>,\n",
       " <matplotlib.collections.EventCollection at 0x2f3b63c0e88>,\n",
       " <matplotlib.collections.EventCollection at 0x2f3b62e10c8>,\n",
       " <matplotlib.collections.EventCollection at 0x2f3b671e608>,\n",
       " <matplotlib.collections.EventCollection at 0x2f3b6a94708>,\n",
       " <matplotlib.collections.EventCollection at 0x2f3b6b1a788>,\n",
       " <matplotlib.collections.EventCollection at 0x2f3b6b9e808>,\n",
       " <matplotlib.collections.EventCollection at 0x2f3b671e648>,\n",
       " <matplotlib.collections.EventCollection at 0x2f3b6ca9888>,\n",
       " <matplotlib.collections.EventCollection at 0x2f3b6d2e908>,\n",
       " <matplotlib.collections.EventCollection at 0x2f3b6db3988>,\n",
       " <matplotlib.collections.EventCollection at 0x2f3b6e38a08>,\n",
       " <matplotlib.collections.EventCollection at 0x2f3b6ebda88>,\n",
       " <matplotlib.collections.EventCollection at 0x2f3b6f42b08>,\n",
       " <matplotlib.collections.EventCollection at 0x2f3b6fc8b88>,\n",
       " <matplotlib.collections.EventCollection at 0x2f3b704dc08>,\n",
       " <matplotlib.collections.EventCollection at 0x2f3b70d2c88>,\n",
       " <matplotlib.collections.EventCollection at 0x2f3b7158d08>,\n",
       " <matplotlib.collections.EventCollection at 0x2f3b71ddd88>,\n",
       " <matplotlib.collections.EventCollection at 0x2f3b7264e08>,\n",
       " <matplotlib.collections.EventCollection at 0x2f3b72e9e88>,\n",
       " <matplotlib.collections.EventCollection at 0x2f3b736ff08>,\n",
       " <matplotlib.collections.EventCollection at 0x2f3b73f4f88>,\n",
       " <matplotlib.collections.EventCollection at 0x2f3b747afc8>,\n",
       " <matplotlib.collections.EventCollection at 0x2f3b75050c8>,\n",
       " <matplotlib.collections.EventCollection at 0x2f3b758c148>,\n",
       " <matplotlib.collections.EventCollection at 0x2f3b76131c8>,\n",
       " <matplotlib.collections.EventCollection at 0x2f3b7697248>,\n",
       " <matplotlib.collections.EventCollection at 0x2f3b771d2c8>,\n",
       " <matplotlib.collections.EventCollection at 0x2f3b77a3348>,\n",
       " <matplotlib.collections.EventCollection at 0x2f3b78293c8>,\n",
       " <matplotlib.collections.EventCollection at 0x2f3b78ae448>,\n",
       " <matplotlib.collections.EventCollection at 0x2f3b79344c8>,\n",
       " <matplotlib.collections.EventCollection at 0x2f3b79b9548>,\n",
       " <matplotlib.collections.EventCollection at 0x2f3b7a3f5c8>,\n",
       " <matplotlib.collections.EventCollection at 0x2f3b7ac4648>,\n",
       " <matplotlib.collections.EventCollection at 0x2f3b7b4b6c8>,\n",
       " <matplotlib.collections.EventCollection at 0x2f3b7bd0748>,\n",
       " <matplotlib.collections.EventCollection at 0x2f3b7c567c8>,\n",
       " <matplotlib.collections.EventCollection at 0x2f3b7cdb848>,\n",
       " <matplotlib.collections.EventCollection at 0x2f3b7d618c8>,\n",
       " <matplotlib.collections.EventCollection at 0x2f3b7de7948>,\n",
       " <matplotlib.collections.EventCollection at 0x2f3b7e6d9c8>,\n",
       " <matplotlib.collections.EventCollection at 0x2f3b7ef2a48>,\n",
       " <matplotlib.collections.EventCollection at 0x2f3b7f78ac8>,\n",
       " <matplotlib.collections.EventCollection at 0x2f3b7ffdb48>,\n",
       " <matplotlib.collections.EventCollection at 0x2f3b8083bc8>,\n",
       " <matplotlib.collections.EventCollection at 0x2f3b8109c48>,\n",
       " <matplotlib.collections.EventCollection at 0x2f3b818ecc8>,\n",
       " <matplotlib.collections.EventCollection at 0x2f3b8214d48>,\n",
       " <matplotlib.collections.EventCollection at 0x2f3b8299dc8>,\n",
       " <matplotlib.collections.EventCollection at 0x2f3b831fe48>,\n",
       " <matplotlib.collections.EventCollection at 0x2f3b83a5ec8>,\n",
       " <matplotlib.collections.EventCollection at 0x2f3b842bf48>,\n",
       " <matplotlib.collections.EventCollection at 0x2f3b84b0fc8>,\n",
       " <matplotlib.collections.EventCollection at 0x2f3b853d088>,\n",
       " <matplotlib.collections.EventCollection at 0x2f3b85c1108>,\n",
       " <matplotlib.collections.EventCollection at 0x2f3b8647188>,\n",
       " <matplotlib.collections.EventCollection at 0x2f3b86ce208>,\n",
       " <matplotlib.collections.EventCollection at 0x2f3b8754288>,\n",
       " <matplotlib.collections.EventCollection at 0x2f3b87d9308>,\n",
       " <matplotlib.collections.EventCollection at 0x2f3b885f388>,\n",
       " <matplotlib.collections.EventCollection at 0x2f3b88e4408>,\n",
       " <matplotlib.collections.EventCollection at 0x2f3b896b488>,\n",
       " <matplotlib.collections.EventCollection at 0x2f3b89f0508>,\n",
       " <matplotlib.collections.EventCollection at 0x2f3b8a76588>,\n",
       " <matplotlib.collections.EventCollection at 0x2f3b8afb608>,\n",
       " <matplotlib.collections.EventCollection at 0x2f3b8b81688>,\n",
       " <matplotlib.collections.EventCollection at 0x2f3b8c06708>,\n",
       " <matplotlib.collections.EventCollection at 0x2f3b8c8d788>,\n",
       " <matplotlib.collections.EventCollection at 0x2f3b8d12808>,\n",
       " <matplotlib.collections.EventCollection at 0x2f3b8d97888>,\n",
       " <matplotlib.collections.EventCollection at 0x2f3b8e1d908>,\n",
       " <matplotlib.collections.EventCollection at 0x2f3b8ea2988>,\n",
       " <matplotlib.collections.EventCollection at 0x2f3b8f29a08>,\n",
       " <matplotlib.collections.EventCollection at 0x2f3b8faea88>,\n",
       " <matplotlib.collections.EventCollection at 0x2f3b9034b08>,\n",
       " <matplotlib.collections.EventCollection at 0x2f3b90b9b88>,\n",
       " <matplotlib.collections.EventCollection at 0x2f3b913fc08>,\n",
       " <matplotlib.collections.EventCollection at 0x2f3b91c4c88>,\n",
       " <matplotlib.collections.EventCollection at 0x2f3b924bd08>,\n",
       " <matplotlib.collections.EventCollection at 0x2f3b92d0d88>,\n",
       " <matplotlib.collections.EventCollection at 0x2f3b9356e08>,\n",
       " <matplotlib.collections.EventCollection at 0x2f3b93dbe88>,\n",
       " <matplotlib.collections.EventCollection at 0x2f3b9460f08>,\n",
       " <matplotlib.collections.EventCollection at 0x2f3b94e7f88>,\n",
       " <matplotlib.collections.EventCollection at 0x2f3b956dfc8>,\n",
       " <matplotlib.collections.EventCollection at 0x2f3b95f90c8>,\n",
       " <matplotlib.collections.EventCollection at 0x2f3b967e148>,\n",
       " <matplotlib.collections.EventCollection at 0x2f3b97031c8>,\n",
       " <matplotlib.collections.EventCollection at 0x2f3b9789248>,\n",
       " <matplotlib.collections.EventCollection at 0x2f3b98102c8>,\n",
       " <matplotlib.collections.EventCollection at 0x2f3b9896348>,\n",
       " <matplotlib.collections.EventCollection at 0x2f3b991b3c8>,\n",
       " <matplotlib.collections.EventCollection at 0x2f3b99a0448>,\n",
       " <matplotlib.collections.EventCollection at 0x2f3b9a264c8>,\n",
       " <matplotlib.collections.EventCollection at 0x2f3b9aac548>,\n",
       " <matplotlib.collections.EventCollection at 0x2f3b9b325c8>,\n",
       " <matplotlib.collections.EventCollection at 0x2f3b9bb7648>,\n",
       " <matplotlib.collections.EventCollection at 0x2f3b9c3d6c8>,\n",
       " <matplotlib.collections.EventCollection at 0x2f3b9cc2748>,\n",
       " <matplotlib.collections.EventCollection at 0x2f3b9d487c8>,\n",
       " <matplotlib.collections.EventCollection at 0x2f3b9dce848>,\n",
       " <matplotlib.collections.EventCollection at 0x2f3b9e548c8>,\n",
       " <matplotlib.collections.EventCollection at 0x2f3b9ed9948>,\n",
       " <matplotlib.collections.EventCollection at 0x2f3b9f5f9c8>,\n",
       " <matplotlib.collections.EventCollection at 0x2f3b9fe4a48>,\n",
       " <matplotlib.collections.EventCollection at 0x2f3ba06bac8>,\n",
       " <matplotlib.collections.EventCollection at 0x2f3ba0f0b48>,\n",
       " <matplotlib.collections.EventCollection at 0x2f3ba176bc8>,\n",
       " <matplotlib.collections.EventCollection at 0x2f3ba1fbc48>,\n",
       " <matplotlib.collections.EventCollection at 0x2f3ba281cc8>,\n",
       " <matplotlib.collections.EventCollection at 0x2f3ba305d48>,\n",
       " <matplotlib.collections.EventCollection at 0x2f3ba38ddc8>,\n",
       " <matplotlib.collections.EventCollection at 0x2f3ba412e48>,\n",
       " <matplotlib.collections.EventCollection at 0x2f3ba498ec8>,\n",
       " <matplotlib.collections.EventCollection at 0x2f3ba522108>,\n",
       " <matplotlib.collections.EventCollection at 0x2f3ba5383c8>,\n",
       " <matplotlib.collections.EventCollection at 0x2f3ba62e688>,\n",
       " <matplotlib.collections.EventCollection at 0x2f3ba6b1948>,\n",
       " <matplotlib.collections.EventCollection at 0x2f3ba736c08>,\n",
       " <matplotlib.collections.EventCollection at 0x2f3ba7bbec8>,\n",
       " <matplotlib.collections.EventCollection at 0x2f3ba8471c8>,\n",
       " <matplotlib.collections.EventCollection at 0x2f3ba8cb488>,\n",
       " <matplotlib.collections.EventCollection at 0x2f3ba951748>,\n",
       " <matplotlib.collections.EventCollection at 0x2f3ba9d6a08>,\n",
       " <matplotlib.collections.EventCollection at 0x2f3baa5acc8>,\n",
       " <matplotlib.collections.EventCollection at 0x2f3baadef88>,\n",
       " <matplotlib.collections.EventCollection at 0x2f3bab6a288>,\n",
       " <matplotlib.collections.EventCollection at 0x2f3babf1548>,\n",
       " <matplotlib.collections.EventCollection at 0x2f3bac76808>,\n",
       " <matplotlib.collections.EventCollection at 0x2f3bacfbac8>,\n",
       " <matplotlib.collections.EventCollection at 0x2f3bad7fd88>,\n",
       " <matplotlib.collections.EventCollection at 0x2f3bae0a088>,\n",
       " <matplotlib.collections.EventCollection at 0x2f3bae90348>,\n",
       " <matplotlib.collections.EventCollection at 0x2f3baf15608>,\n",
       " <matplotlib.collections.EventCollection at 0x2f3b63b90c8>,\n",
       " <matplotlib.collections.EventCollection at 0x2f3b675ab88>,\n",
       " <matplotlib.collections.EventCollection at 0x2f3b679e848>,\n",
       " <matplotlib.collections.EventCollection at 0x2f3bb0d3188>,\n",
       " <matplotlib.collections.EventCollection at 0x2f3bb158448>,\n",
       " <matplotlib.collections.EventCollection at 0x2f3bb1dd708>,\n",
       " <matplotlib.collections.EventCollection at 0x2f3bb2629c8>,\n",
       " <matplotlib.collections.EventCollection at 0x2f3bb2e5c88>,\n",
       " <matplotlib.collections.EventCollection at 0x2f3bb36af48>,\n",
       " <matplotlib.collections.EventCollection at 0x2f3bb3f4248>,\n",
       " <matplotlib.collections.EventCollection at 0x2f3bb479508>,\n",
       " <matplotlib.collections.EventCollection at 0x2f3bb4fd7c8>,\n",
       " <matplotlib.collections.EventCollection at 0x2f3bb582a88>,\n",
       " <matplotlib.collections.EventCollection at 0x2f3bb607d48>,\n",
       " <matplotlib.collections.EventCollection at 0x2f3bb68bfc8>,\n",
       " <matplotlib.collections.EventCollection at 0x2f3bb717308>,\n",
       " <matplotlib.collections.EventCollection at 0x2f3bb79c5c8>,\n",
       " <matplotlib.collections.EventCollection at 0x2f3bb820888>,\n",
       " <matplotlib.collections.EventCollection at 0x2f3bb8a5b48>,\n",
       " <matplotlib.collections.EventCollection at 0x2f3bb92be08>,\n",
       " <matplotlib.collections.EventCollection at 0x2f3bb9b5108>,\n",
       " <matplotlib.collections.EventCollection at 0x2f3bba3b3c8>,\n",
       " <matplotlib.collections.EventCollection at 0x2f3bbabe688>,\n",
       " <matplotlib.collections.EventCollection at 0x2f3bbb45948>,\n",
       " <matplotlib.collections.EventCollection at 0x2f3bbbc9c08>,\n",
       " <matplotlib.collections.EventCollection at 0x2f3bbc4eec8>,\n",
       " <matplotlib.collections.EventCollection at 0x2f3bbcd91c8>,\n",
       " <matplotlib.collections.EventCollection at 0x2f3bbd5f488>,\n",
       " <matplotlib.collections.EventCollection at 0x2f3bbde3748>,\n",
       " <matplotlib.collections.EventCollection at 0x2f3bbe69a08>,\n",
       " <matplotlib.collections.EventCollection at 0x2f3bbeedcc8>,\n",
       " <matplotlib.collections.EventCollection at 0x2f3bbf72f88>,\n",
       " <matplotlib.collections.EventCollection at 0x2f3bbffd288>,\n",
       " <matplotlib.collections.EventCollection at 0x2f3bc083548>,\n",
       " <matplotlib.collections.EventCollection at 0x2f3bc108808>,\n",
       " <matplotlib.collections.EventCollection at 0x2f3bc18cac8>,\n",
       " <matplotlib.collections.EventCollection at 0x2f3bc210d88>,\n",
       " <matplotlib.collections.EventCollection at 0x2f3bc29d088>,\n",
       " <matplotlib.collections.EventCollection at 0x2f3bc321348>,\n",
       " <matplotlib.collections.EventCollection at 0x2f3bc3a7608>,\n",
       " <matplotlib.collections.EventCollection at 0x2f3bc42a8c8>,\n",
       " <matplotlib.collections.EventCollection at 0x2f3bc4b0b88>,\n",
       " <matplotlib.collections.EventCollection at 0x2f3bc534e48>,\n",
       " <matplotlib.collections.EventCollection at 0x2f3bc5bf148>,\n",
       " <matplotlib.collections.EventCollection at 0x2f3bc646408>,\n",
       " <matplotlib.collections.EventCollection at 0x2f3bc6ca6c8>,\n",
       " <matplotlib.collections.EventCollection at 0x2f3bc74f988>,\n",
       " <matplotlib.collections.EventCollection at 0x2f3bc7d3c48>,\n",
       " <matplotlib.collections.EventCollection at 0x2f3bc858f08>,\n",
       " <matplotlib.collections.EventCollection at 0x2f3bc8e2208>,\n",
       " <matplotlib.collections.EventCollection at 0x2f3bc9694c8>,\n",
       " <matplotlib.collections.EventCollection at 0x2f3bc9ee788>,\n",
       " <matplotlib.collections.EventCollection at 0x2f3bca73a48>,\n",
       " <matplotlib.collections.EventCollection at 0x2f3bcaf7d08>,\n",
       " <matplotlib.collections.EventCollection at 0x2f3bcb7cfc8>,\n",
       " <matplotlib.collections.EventCollection at 0x2f3bcc082c8>,\n",
       " <matplotlib.collections.EventCollection at 0x2f3bcc8d588>,\n",
       " <matplotlib.collections.EventCollection at 0x2f3bcd12848>,\n",
       " <matplotlib.collections.EventCollection at 0x2f3bcd97b08>,\n",
       " <matplotlib.collections.EventCollection at 0x2f3bce1bdc8>,\n",
       " <matplotlib.collections.EventCollection at 0x2f3bcea60c8>,\n",
       " <matplotlib.collections.EventCollection at 0x2f3bcf2b388>,\n",
       " <matplotlib.collections.EventCollection at 0x2f3bcfb2648>,\n",
       " <matplotlib.collections.EventCollection at 0x2f3bd035908>,\n",
       " <matplotlib.collections.EventCollection at 0x2f3bd0b9bc8>,\n",
       " <matplotlib.collections.EventCollection at 0x2f3bd13de88>,\n",
       " <matplotlib.collections.EventCollection at 0x2f3bd1cb188>,\n",
       " <matplotlib.collections.EventCollection at 0x2f3bd250448>,\n",
       " <matplotlib.collections.EventCollection at 0x2f3bd2d3708>,\n",
       " <matplotlib.collections.EventCollection at 0x2f3bd35a9c8>,\n",
       " <matplotlib.collections.EventCollection at 0x2f3bd3ddc88>,\n",
       " <matplotlib.collections.EventCollection at 0x2f3bd462f48>,\n",
       " <matplotlib.collections.EventCollection at 0x2f3bd4ee248>,\n",
       " <matplotlib.collections.EventCollection at 0x2f3bd572508>,\n",
       " <matplotlib.collections.EventCollection at 0x2f3bd5f87c8>,\n",
       " <matplotlib.collections.EventCollection at 0x2f3bd67ca88>,\n",
       " <matplotlib.collections.EventCollection at 0x2f3bd701d48>,\n",
       " <matplotlib.collections.EventCollection at 0x2f3bd788fc8>,\n",
       " <matplotlib.collections.EventCollection at 0x2f3bd813308>,\n",
       " <matplotlib.collections.EventCollection at 0x2f3bd8975c8>,\n",
       " <matplotlib.collections.EventCollection at 0x2f3bd91c888>,\n",
       " <matplotlib.collections.EventCollection at 0x2f3bd9a0b48>,\n",
       " <matplotlib.collections.EventCollection at 0x2f3bda25e08>,\n",
       " <matplotlib.collections.EventCollection at 0x2f3bdab2108>,\n",
       " <matplotlib.collections.EventCollection at 0x2f3bdb363c8>,\n",
       " <matplotlib.collections.EventCollection at 0x2f3bdbbc688>,\n",
       " <matplotlib.collections.EventCollection at 0x2f3bdc3f948>,\n",
       " <matplotlib.collections.EventCollection at 0x2f3bdcc4c08>,\n",
       " <matplotlib.collections.EventCollection at 0x2f3bdd49ec8>,\n",
       " <matplotlib.collections.EventCollection at 0x2f3bddd51c8>,\n",
       " <matplotlib.collections.EventCollection at 0x2f3bde5a488>,\n",
       " <matplotlib.collections.EventCollection at 0x2f3bdede748>,\n",
       " <matplotlib.collections.EventCollection at 0x2f3bdf63a08>,\n",
       " <matplotlib.collections.EventCollection at 0x2f3bdfe7cc8>,\n",
       " <matplotlib.collections.EventCollection at 0x2f3be06ef88>,\n",
       " <matplotlib.collections.EventCollection at 0x2f3be0f8288>,\n",
       " <matplotlib.collections.EventCollection at 0x2f3be17d548>,\n",
       " <matplotlib.collections.EventCollection at 0x2f3be202808>,\n",
       " <matplotlib.collections.EventCollection at 0x2f3be287ac8>,\n",
       " <matplotlib.collections.EventCollection at 0x2f3be30cd88>,\n",
       " <matplotlib.collections.EventCollection at 0x2f3be397088>,\n",
       " <matplotlib.collections.EventCollection at 0x2f3be41b348>,\n",
       " <matplotlib.collections.EventCollection at 0x2f3be4a3608>,\n",
       " <matplotlib.collections.EventCollection at 0x2f3be5268c8>,\n",
       " <matplotlib.collections.EventCollection at 0x2f3be5abb88>,\n",
       " <matplotlib.collections.EventCollection at 0x2f3be632e48>,\n",
       " <matplotlib.collections.EventCollection at 0x2f3be6bd148>,\n",
       " <matplotlib.collections.EventCollection at 0x2f3be741408>,\n",
       " <matplotlib.collections.EventCollection at 0x2f3be7c76c8>,\n",
       " <matplotlib.collections.EventCollection at 0x2f3be84b988>,\n",
       " <matplotlib.collections.EventCollection at 0x2f3be8d0c48>,\n",
       " <matplotlib.collections.EventCollection at 0x2f3be954f08>,\n",
       " <matplotlib.collections.EventCollection at 0x2f3be9df208>,\n",
       " <matplotlib.collections.EventCollection at 0x2f3bea664c8>,\n",
       " <matplotlib.collections.EventCollection at 0x2f3beae9788>,\n",
       " <matplotlib.collections.EventCollection at 0x2f3beb6fa48>,\n",
       " <matplotlib.collections.EventCollection at 0x2f3bebf3d08>,\n",
       " <matplotlib.collections.EventCollection at 0x2f3bec79fc8>,\n",
       " <matplotlib.collections.EventCollection at 0x2f3bed042c8>,\n",
       " <matplotlib.collections.EventCollection at 0x2f3bed89588>,\n",
       " <matplotlib.collections.EventCollection at 0x2f3bee0d848>,\n",
       " <matplotlib.collections.EventCollection at 0x2f3bee93b08>,\n",
       " <matplotlib.collections.EventCollection at 0x2f3bef18dc8>,\n",
       " <matplotlib.collections.EventCollection at 0x2f3befa30c8>,\n",
       " <matplotlib.collections.EventCollection at 0x2f3bf027388>,\n",
       " <matplotlib.collections.EventCollection at 0x2f3bf0ad648>,\n",
       " <matplotlib.collections.EventCollection at 0x2f3bf131908>,\n",
       " <matplotlib.collections.EventCollection at 0x2f3bf1b7bc8>,\n",
       " <matplotlib.collections.EventCollection at 0x2f3bf23be88>,\n",
       " <matplotlib.collections.EventCollection at 0x2f3bf2c8188>,\n",
       " <matplotlib.collections.EventCollection at 0x2f3bf34d448>,\n",
       " <matplotlib.collections.EventCollection at 0x2f3bf3d1708>,\n",
       " <matplotlib.collections.EventCollection at 0x2f3bf4569c8>,\n",
       " <matplotlib.collections.EventCollection at 0x2f3bf4dcc88>,\n",
       " <matplotlib.collections.EventCollection at 0x2f3bf560f48>,\n",
       " <matplotlib.collections.EventCollection at 0x2f3bf5eb248>,\n",
       " <matplotlib.collections.EventCollection at 0x2f3bf670508>,\n",
       " <matplotlib.collections.EventCollection at 0x2f3bf6f37c8>,\n",
       " <matplotlib.collections.EventCollection at 0x2f3bf77ba88>,\n",
       " <matplotlib.collections.EventCollection at 0x2f3bf7fed48>,\n",
       " <matplotlib.collections.EventCollection at 0x2f3bf884fc8>,\n",
       " <matplotlib.collections.EventCollection at 0x2f3bf90f308>,\n",
       " <matplotlib.collections.EventCollection at 0x2f3bf9945c8>,\n",
       " <matplotlib.collections.EventCollection at 0x2f3bfa19888>,\n",
       " <matplotlib.collections.EventCollection at 0x2f3bfa9eb48>,\n",
       " <matplotlib.collections.EventCollection at 0x2f3bfb23e08>,\n",
       " <matplotlib.collections.EventCollection at 0x2f3bfbae108>,\n",
       " <matplotlib.collections.EventCollection at 0x2f3bfc323c8>,\n",
       " <matplotlib.collections.EventCollection at 0x2f3bfcb8688>,\n",
       " <matplotlib.collections.EventCollection at 0x2f3bfd3d948>,\n",
       " <matplotlib.collections.EventCollection at 0x2f3bfdc2c08>,\n",
       " <matplotlib.collections.EventCollection at 0x2f3bfe46ec8>,\n",
       " <matplotlib.collections.EventCollection at 0x2f3bfed21c8>,\n",
       " <matplotlib.collections.EventCollection at 0x2f3bff57488>,\n",
       " <matplotlib.collections.EventCollection at 0x2f3bffdc748>,\n",
       " <matplotlib.collections.EventCollection at 0x2f3c0061a08>,\n",
       " <matplotlib.collections.EventCollection at 0x2f3c00e4cc8>,\n",
       " <matplotlib.collections.EventCollection at 0x2f3c016af88>,\n",
       " <matplotlib.collections.EventCollection at 0x2f3c01f6288>,\n",
       " <matplotlib.collections.EventCollection at 0x2f3c027c548>,\n",
       " <matplotlib.collections.EventCollection at 0x2f3c0300808>,\n",
       " <matplotlib.collections.EventCollection at 0x2f3c0386ac8>,\n",
       " <matplotlib.collections.EventCollection at 0x2f3c040ad88>,\n",
       " <matplotlib.collections.EventCollection at 0x2f3c0495088>,\n",
       " <matplotlib.collections.EventCollection at 0x2f3c051a348>,\n",
       " <matplotlib.collections.EventCollection at 0x2f3c05a0608>,\n",
       " <matplotlib.collections.EventCollection at 0x2f3c06258c8>,\n",
       " <matplotlib.collections.EventCollection at 0x2f3c06a9b88>,\n",
       " <matplotlib.collections.EventCollection at 0x2f3c072de48>,\n",
       " <matplotlib.collections.EventCollection at 0x2f3c07ba148>,\n",
       " <matplotlib.collections.EventCollection at 0x2f3c083f408>,\n",
       " <matplotlib.collections.EventCollection at 0x2f3c08c46c8>,\n",
       " <matplotlib.collections.EventCollection at 0x2f3c0948988>,\n",
       " <matplotlib.collections.EventCollection at 0x2f3c09cec48>,\n",
       " <matplotlib.collections.EventCollection at 0x2f3c0a51f08>,\n",
       " <matplotlib.collections.EventCollection at 0x2f3c0ade208>,\n",
       " <matplotlib.collections.EventCollection at 0x2f3c0b634c8>,\n",
       " <matplotlib.collections.EventCollection at 0x2f3c0be8788>,\n",
       " <matplotlib.collections.EventCollection at 0x2f3c0c6ca48>,\n",
       " <matplotlib.collections.EventCollection at 0x2f3c0cf0d08>,\n",
       " <matplotlib.collections.EventCollection at 0x2f3c0d75fc8>,\n",
       " <matplotlib.collections.EventCollection at 0x2f3c0e012c8>,\n",
       " <matplotlib.collections.EventCollection at 0x2f3c0e86588>,\n",
       " <matplotlib.collections.EventCollection at 0x2f3c0f0b848>,\n",
       " <matplotlib.collections.EventCollection at 0x2f3c0f8fb08>,\n",
       " <matplotlib.collections.EventCollection at 0x2f3c1014dc8>,\n",
       " <matplotlib.collections.EventCollection at 0x2f3c10a00c8>,\n",
       " <matplotlib.collections.EventCollection at 0x2f3c1126388>,\n",
       " <matplotlib.collections.EventCollection at 0x2f3c11ab648>,\n",
       " <matplotlib.collections.EventCollection at 0x2f3c1230908>,\n",
       " <matplotlib.collections.EventCollection at 0x2f3c12b5bc8>,\n",
       " <matplotlib.collections.EventCollection at 0x2f3c1339e88>,\n",
       " <matplotlib.collections.EventCollection at 0x2f3c13c5188>,\n",
       " <matplotlib.collections.EventCollection at 0x2f3c144a448>,\n",
       " <matplotlib.collections.EventCollection at 0x2f3c14d0708>,\n",
       " <matplotlib.collections.EventCollection at 0x2f3c1550588>,\n",
       " <matplotlib.collections.EventCollection at 0x2f3c15d3988>,\n",
       " <matplotlib.collections.EventCollection at 0x2f3c1658c48>,\n",
       " <matplotlib.collections.EventCollection at 0x2f3c16def08>,\n",
       " <matplotlib.collections.EventCollection at 0x2f3c1768208>,\n",
       " <matplotlib.collections.EventCollection at 0x2f3c17ed4c8>,\n",
       " <matplotlib.collections.EventCollection at 0x2f3c1873788>,\n",
       " <matplotlib.collections.EventCollection at 0x2f3c18f7a48>,\n",
       " <matplotlib.collections.EventCollection at 0x2f3c197cd08>,\n",
       " <matplotlib.collections.EventCollection at 0x2f3c1a01fc8>,\n",
       " <matplotlib.collections.EventCollection at 0x2f3c1a8c2c8>,\n",
       " <matplotlib.collections.EventCollection at 0x2f3c1b11588>,\n",
       " <matplotlib.collections.EventCollection at 0x2f3c1b96848>,\n",
       " <matplotlib.collections.EventCollection at 0x2f3c1c1ab08>,\n",
       " <matplotlib.collections.EventCollection at 0x2f3c1ca0dc8>,\n",
       " <matplotlib.collections.EventCollection at 0x2f3c1d2b0c8>,\n",
       " <matplotlib.collections.EventCollection at 0x2f3c1db0388>,\n",
       " <matplotlib.collections.EventCollection at 0x2f3c1e35648>,\n",
       " <matplotlib.collections.EventCollection at 0x2f3c1eba908>,\n",
       " <matplotlib.collections.EventCollection at 0x2f3c1f40bc8>,\n",
       " <matplotlib.collections.EventCollection at 0x2f3c1fc5e88>,\n",
       " <matplotlib.collections.EventCollection at 0x2f3c2050188>,\n",
       " <matplotlib.collections.EventCollection at 0x2f3c20d6448>,\n",
       " <matplotlib.collections.EventCollection at 0x2f3c2159708>,\n",
       " <matplotlib.collections.EventCollection at 0x2f3c21df9c8>,\n",
       " <matplotlib.collections.EventCollection at 0x2f3c2263c88>,\n",
       " <matplotlib.collections.EventCollection at 0x2f3c22e9f48>,\n",
       " <matplotlib.collections.EventCollection at 0x2f3c2374248>,\n",
       " <matplotlib.collections.EventCollection at 0x2f3c23f9508>,\n",
       " <matplotlib.collections.EventCollection at 0x2f3c247d7c8>,\n",
       " <matplotlib.collections.EventCollection at 0x2f3c2501a88>,\n",
       " <matplotlib.collections.EventCollection at 0x2f3c2588d48>,\n",
       " <matplotlib.collections.EventCollection at 0x2f3c260cfc8>,\n",
       " <matplotlib.collections.EventCollection at 0x2f3c2698308>,\n",
       " <matplotlib.collections.EventCollection at 0x2f3c271c5c8>,\n",
       " <matplotlib.collections.EventCollection at 0x2f3c27a2888>,\n",
       " <matplotlib.collections.EventCollection at 0x2f3c2826b48>,\n",
       " <matplotlib.collections.EventCollection at 0x2f3c28abe08>,\n",
       " <matplotlib.collections.EventCollection at 0x2f3c2937108>,\n",
       " <matplotlib.collections.EventCollection at 0x2f3c29bc3c8>,\n",
       " <matplotlib.collections.EventCollection at 0x2f3c2a40688>,\n",
       " <matplotlib.collections.EventCollection at 0x2f3c2ac5948>,\n",
       " <matplotlib.collections.EventCollection at 0x2f3c2b4bc08>,\n",
       " <matplotlib.collections.EventCollection at 0x2f3c2bcfec8>,\n",
       " <matplotlib.collections.EventCollection at 0x2f3c2c5a1c8>,\n",
       " <matplotlib.collections.EventCollection at 0x2f3c2ce0488>,\n",
       " <matplotlib.collections.EventCollection at 0x2f3c2d64748>,\n",
       " <matplotlib.collections.EventCollection at 0x2f3c2deba08>,\n",
       " <matplotlib.collections.EventCollection at 0x2f3c2e6ecc8>,\n",
       " <matplotlib.collections.EventCollection at 0x2f3c2ef4f88>,\n",
       " <matplotlib.collections.EventCollection at 0x2f3c2f7f288>,\n",
       " <matplotlib.collections.EventCollection at 0x2f3c3004548>,\n",
       " <matplotlib.collections.EventCollection at 0x2f3c308a808>,\n",
       " <matplotlib.collections.EventCollection at 0x2f3c310dac8>,\n",
       " <matplotlib.collections.EventCollection at 0x2f3c3193d88>,\n",
       " <matplotlib.collections.EventCollection at 0x2f3c321d088>,\n",
       " <matplotlib.collections.EventCollection at 0x2f3c32a3348>,\n",
       " <matplotlib.collections.EventCollection at 0x2f3c3327608>,\n",
       " <matplotlib.collections.EventCollection at 0x2f3c33ad8c8>]"
      ]
     },
     "execution_count": 719,
     "metadata": {},
     "output_type": "execute_result"
    },
    {
     "data": {
      "image/png": "[encoded data removed]",
      "text/plain": [
       "<Figure size 432x288 with 1 Axes>"
      ]
     },
     "metadata": {
      "needs_background": "light"
     },
     "output_type": "display_data"
    }
   ],
   "source": [
    "plt.eventplot(neuron_binary)"
   ]
  },
  {
   "cell_type": "code",
   "execution_count": 709,
   "id": "premium-fashion",
   "metadata": {},
   "outputs": [
    {
     "name": "stderr",
     "output_type": "stream",
     "text": [
      "100%|████████████████████████████████████████████████████████████████████| 392/392 [00:03<00:00, 109.74it/s]\n"
     ]
    }
   ],
   "source": [
    "binary = get_spike_counts(test, bin_size = 0.01, mode = 'binary')"
   ]
  },
  {
   "cell_type": "code",
   "execution_count": 707,
   "id": "dried-destination",
   "metadata": {},
   "outputs": [
    {
     "name": "stderr",
     "output_type": "stream",
     "text": [
      "100%|██████████████████████████████████████████████████████████████████| 392/392 [00:00<00:00, 25208.78it/s]\n"
     ]
    }
   ],
   "source": [
    "count = get_spike_counts(test, bin_size=2, mode = 'count')"
   ]
  },
  {
   "cell_type": "code",
   "execution_count": 713,
   "id": "tracked-mother",
   "metadata": {},
   "outputs": [
    {
     "data": {
      "text/plain": [
       "[<matplotlib.lines.Line2D at 0x2f3b6348748>]"
      ]
     },
     "execution_count": 713,
     "metadata": {},
     "output_type": "execute_result"
    },
    {
     "data": {
      "image/png": "[encoded data removed]",
      "text/plain": [
       "<Figure size 432x288 with 1 Axes>"
      ]
     },
     "metadata": {
      "needs_background": "light"
     },
     "output_type": "display_data"
    }
   ],
   "source": [
    "trial = 300\n",
    "plt.plot(neuron_binary[trial])"
   ]
  },
  {
   "cell_type": "code",
   "execution_count": 708,
   "id": "excited-civilization",
   "metadata": {},
   "outputs": [
    {
     "data": {
      "text/plain": [
       "[<matplotlib.lines.Line2D at 0x2f3ad3c0288>]"
      ]
     },
     "execution_count": 708,
     "metadata": {},
     "output_type": "execute_result"
    },
    {
     "data": {
      "image/png": "[encoded data removed]",
      "text/plain": [
       "<Figure size 432x288 with 1 Axes>"
      ]
     },
     "metadata": {
      "needs_background": "light"
     },
     "output_type": "display_data"
    }
   ],
   "source": [
    "plt.plot(count[trial])"
   ]
  },
  {
   "cell_type": "code",
   "execution_count": null,
   "id": "norman-wiring",
   "metadata": {},
   "outputs": [],
   "source": []
  },
  {
   "cell_type": "code",
   "execution_count": 317,
   "id": "analyzed-logic",
   "metadata": {},
   "outputs": [],
   "source": [
    "def gaussian(x, mu, sigma):\n",
    "    return 1 / (sigma * np.sqrt(2 * np.pi)) * np.exp(-1/2 * ((x - mu)/sigma)**2)"
   ]
  },
  {
   "cell_type": "code",
   "execution_count": 352,
   "id": "frequent-attack",
   "metadata": {},
   "outputs": [
    {
     "data": {
      "text/plain": [
       "[<matplotlib.lines.Line2D at 0x2f29e490a88>]"
      ]
     },
     "execution_count": 352,
     "metadata": {},
     "output_type": "execute_result"
    },
    {
     "data": {
      "image/png": "[encoded data removed]",
      "text/plain": [
       "<Figure size 432x288 with 1 Axes>"
      ]
     },
     "metadata": {
      "needs_background": "light"
     },
     "output_type": "display_data"
    }
   ],
   "source": [
    "mu = 0\n",
    "sigma = .150\n",
    "\n",
    "x = np.linspace(-1.0, 1.0, 150)\n",
    "kernal = gaussian(x, mu, sigma)\n",
    "kernal = kernal/np.sum(kernal)\n",
    "plt.plot(x, kernal)"
   ]
  },
  {
   "cell_type": "code",
   "execution_count": 448,
   "id": "faced-walter",
   "metadata": {},
   "outputs": [
    {
     "data": {
      "text/plain": [
       "[<matplotlib.lines.Line2D at 0x2f29ed95088>]"
      ]
     },
     "execution_count": 448,
     "metadata": {},
     "output_type": "execute_result"
    },
    {
     "data": {
      "image/png": "[encoded data removed]",
      "text/plain": [
       "<Figure size 720x360 with 1 Axes>"
      ]
     },
     "metadata": {
      "needs_background": "light"
     },
     "output_type": "display_data"
    }
   ],
   "source": [
    "spike_train = tr_spk_binary[5]\n",
    "fig, ax = plt.subplots(figsize = (10,5))\n",
    "plt.plot(np.convolve(spike_train, kernal, mode = 'same'))"
   ]
  },
  {
   "cell_type": "code",
   "execution_count": 449,
   "id": "aware-principal",
   "metadata": {},
   "outputs": [
    {
     "data": {
      "text/plain": [
       "(9900, 9900)"
      ]
     },
     "execution_count": 449,
     "metadata": {},
     "output_type": "execute_result"
    }
   ],
   "source": [
    "len(tr_spk_binary[6]), len(np.convolve(spike_train, kernal, mode = 'same'))"
   ]
  },
  {
   "cell_type": "code",
   "execution_count": 450,
   "id": "sublime-archives",
   "metadata": {},
   "outputs": [],
   "source": [
    "conv_trial = []\n",
    "for trial in tr_spk_binary:\n",
    "    smoothed =(np.convolve(trial, kernal, mode = 'same'))\n",
    "    smoothed = np.where(smoothed == 0, np.nan, smoothed)\n",
    "    conv_trial.append(smoothed)\n",
    "    \n",
    "conv_trial = np.array(conv_trial)"
   ]
  },
  {
   "cell_type": "code",
   "execution_count": 455,
   "id": "ideal-monitor",
   "metadata": {},
   "outputs": [],
   "source": [
    "test_mean = np.nanmean(conv_trial, axis=0)\n",
    "test_sem = stats.sem(conv_trial, axis=0, nan_policy='omit')"
   ]
  },
  {
   "cell_type": "code",
   "execution_count": null,
   "id": "scientific-consultation",
   "metadata": {},
   "outputs": [],
   "source": []
  },
  {
   "cell_type": "code",
   "execution_count": 458,
   "id": "blocked-enhancement",
   "metadata": {},
   "outputs": [],
   "source": [
    "time = np.linspace(0,9.9, len(test_mean))"
   ]
  },
  {
   "cell_type": "code",
   "execution_count": 462,
   "id": "completed-accused",
   "metadata": {},
   "outputs": [
    {
     "data": {
      "text/plain": [
       "[(0.0, 2.0)]"
      ]
     },
     "execution_count": 462,
     "metadata": {},
     "output_type": "execute_result"
    },
    {
     "data": {
      "image/png": "[encoded data removed]",
      "text/plain": [
       "<Figure size 1080x216 with 1 Axes>"
      ]
     },
     "metadata": {
      "needs_background": "light"
     },
     "output_type": "display_data"
    }
   ],
   "source": [
    "fig, ax = plt.subplots(figsize = (15, 3))\n",
    "ax.plot(time, test_mean)\n",
    "ax.fill_between(time, test_mean - test_sem, test_mean + test_sem, alpha = 0.2 )\n",
    "ax.set(xlim =(0,2))"
   ]
  },
  {
   "cell_type": "code",
   "execution_count": 50,
   "id": "administrative-hundred",
   "metadata": {},
   "outputs": [],
   "source": [
    "# Initialize info for plotting\n",
    "hit_df = beh_df[(beh_df['hit_hist'] == 'hit')]\n",
    "aud1_df = hit_df[(hit_df['first_sound'] != 'psycho')]"
   ]
  },
  {
   "cell_type": "markdown",
   "id": "charged-scottish",
   "metadata": {},
   "source": [
    "## Stoped here"
   ]
  },
  {
   "cell_type": "code",
   "execution_count": 53,
   "id": "reported-count",
   "metadata": {},
   "outputs": [
    {
     "name": "stdout",
     "output_type": "stream",
     "text": [
      "Loading existing mask_dict...\n",
      "Done loading.\n",
      "ngood, first: 175\n",
      "ngood, first: 175\n",
      "ngood, second: 195\n",
      "ngood, second: 195\n"
     ]
    }
   ],
   "source": [
    "bndl_dfs, df_names = deal_with_masking(spks_dict, aud1_df, sess_path, 'aud1_no_psycho', 30000)"
   ]
  },
  {
   "cell_type": "code",
   "execution_count": 58,
   "id": "olympic-paintball",
   "metadata": {},
   "outputs": [],
   "source": [
    "# initilaize\n",
    "events = ['aud1_on']\n",
    "event_names = ['aud1_on']\n",
    "window = [-500, 2300]\n",
    "condition = 'first_sound'"
   ]
  },
  {
   "cell_type": "code",
   "execution_count": 298,
   "id": "destroyed-depth",
   "metadata": {},
   "outputs": [],
   "source": [
    "# initilaize\n",
    "events = ['aud1_on']\n",
    "windows = [[-1000,2300]]\n",
    "condition = 'correct_side'\n",
    "\n",
    "# get neurons into NeuroVis objects\n",
    "neurons = initiate_neurons(spks_dict)\n",
    "neuron = NeuroVis(spks_dict['spk_times'][0])\n",
    "\n",
    "#single neuron debug\n",
    "window = windows[0]\n",
    "binsize = 100\n",
    "df = bndl_dfs[df_names[0]]\n",
    "phys_start = neuron.spiketimes[0]\n",
    "phys_end = neuron.spiketimes[-1]\n",
    "event = events[0]\n",
    "conditions = 'correct_side'"
   ]
  },
  {
   "cell_type": "code",
   "execution_count": 13,
   "id": "possible-cleveland",
   "metadata": {},
   "outputs": [],
   "source": [
    "neuron_rasters = get_neuron_rasters(neurons, events, windows, bndl_dfs, df_names)\n",
    "neuron_psths = get_neuron_psths(neurons, events, windows, bndl_dfs, df_names, conditions=condition)"
   ]
  },
  {
   "cell_type": "code",
   "execution_count": 302,
   "id": "blank-jersey",
   "metadata": {},
   "outputs": [
    {
     "data": {
      "text/plain": [
       "(14, 17)"
      ]
     },
     "execution_count": 302,
     "metadata": {},
     "output_type": "execute_result"
    }
   ],
   "source": [
    "if not type(df) is dict:\n",
    "        df = df.reset_index()\n",
    "len(np.sum(raster['data'][0], axis = 1)), len(psth['data'][0]['mean'])"
   ]
  },
  {
   "cell_type": "code",
   "execution_count": 176,
   "id": "gentle-victim",
   "metadata": {},
   "outputs": [],
   "source": [
    "if not type(df) is dict:\n",
    "    df2 = df.reset_index()\n",
    "wind = [np.floor(window[0]/binsize) * binsize, np.ceil(window[1]/binsize) * binsize]"
   ]
  },
  {
   "cell_type": "code",
   "execution_count": 177,
   "id": "complimentary-inclusion",
   "metadata": {},
   "outputs": [],
   "source": [
    "trials = dict()\n",
    "trials[0] = np.where(np.ones(np.size(df[event])))[0]\n",
    "rasters = {\n",
    "        'event': event,\n",
    "        'conditions': conditions,\n",
    "        'window': window,\n",
    "        'binsize': binsize,\n",
    "        'data': {},\n",
    "    }"
   ]
  },
  {
   "cell_type": "code",
   "execution_count": 191,
   "id": "loved-handy",
   "metadata": {},
   "outputs": [],
   "source": [
    "for cond_id in trials:\n",
    "    # Select events relevant to this raster\n",
    "    selected_events = df[event].iloc[trials[cond_id]]\n",
    "\n",
    "    raster = []\n",
    "    \n",
    "    bin_template = 1e-3 * np.arange(window[0], window[1] + binsize, binsize)\n",
    "    \n",
    "    for event_time in selected_events:\n",
    "        bins = event_time + bin_template\n",
    "\n"
   ]
  },
  {
   "cell_type": "code",
   "execution_count": 196,
   "id": "assigned-investigation",
   "metadata": {},
   "outputs": [
    {
     "data": {
      "text/plain": [
       "array([-1. , -0.9, -0.8, -0.7, -0.6, -0.5, -0.4, -0.3, -0.2, -0.1,  0. ,\n",
       "        0.1,  0.2,  0.3,  0.4,  0.5,  0.6,  0.7,  0.8,  0.9,  1. ,  1.1,\n",
       "        1.2,  1.3,  1.4,  1.5,  1.6,  1.7,  1.8,  1.9,  2. ,  2.1,  2.2,\n",
       "        2.3])"
      ]
     },
     "execution_count": 196,
     "metadata": {},
     "output_type": "execute_result"
    }
   ],
   "source": [
    "bin_template"
   ]
  },
  {
   "cell_type": "code",
   "execution_count": 195,
   "id": "transsexual-spread",
   "metadata": {},
   "outputs": [
    {
     "name": "stdout",
     "output_type": "stream",
     "text": [
      "[5867.858354 5867.958354 5868.058354 5868.158354 5868.258354 5868.358354\n",
      " 5868.458354 5868.558354 5868.658354 5868.758354 5868.858354 5868.958354\n",
      " 5869.058354 5869.158354 5869.258354 5869.358354 5869.458354 5869.558354\n",
      " 5869.658354 5869.758354 5869.858354 5869.958354 5870.058354 5870.158354\n",
      " 5870.258354 5870.358354 5870.458354 5870.558354 5870.658354 5870.758354\n",
      " 5870.858354 5870.958354 5871.058354 5871.158354]\n"
     ]
    }
   ],
   "source": [
    "for event_time in selected_events:\n",
    "    bins = event_time + bin_template\n",
    "    \n",
    "    searchsorted_idx = np.sq"
   ]
  },
  {
   "cell_type": "code",
   "execution_count": 212,
   "id": "appointed-street",
   "metadata": {},
   "outputs": [
    {
     "data": {
      "text/plain": [
       "(5868.858354, 5867.858354, 5871.158354)"
      ]
     },
     "execution_count": 212,
     "metadata": {},
     "output_type": "execute_result"
    }
   ],
   "source": [
    "event_time, event_time + 1e-3 * window[0], event_time + 1e-3 * window[1]"
   ]
  },
  {
   "cell_type": "code",
   "execution_count": null,
   "id": "realistic-strength",
   "metadata": {},
   "outputs": [],
   "source": []
  }
 ],
 "metadata": {
  "kernelspec": {
   "display_name": "Python 3",
   "language": "python",
   "name": "python3"
  },
  "language_info": {
   "codemirror_mode": {
    "name": "ipython",
    "version": 3
   },
   "file_extension": ".py",
   "mimetype": "text/x-python",
   "name": "python",
   "nbconvert_exporter": "python",
   "pygments_lexer": "ipython3",
   "version": "3.7.9"
  }
 },
 "nbformat": 4,
 "nbformat_minor": 5
}
