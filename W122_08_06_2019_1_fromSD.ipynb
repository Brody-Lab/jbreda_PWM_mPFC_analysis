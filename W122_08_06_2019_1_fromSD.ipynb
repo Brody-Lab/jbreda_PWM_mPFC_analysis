{
 "cells": [
  {
   "cell_type": "code",
   "execution_count": 2,
   "id": "early-guarantee",
   "metadata": {},
   "outputs": [],
   "source": [
    "# libraries\n",
    "import sys; sys.path.insert(0, '..') # if you don't find it here, look one above\n",
    "import os\n",
    "import numpy as np\n",
    "import matplotlib.pyplot as plt\n",
    "import pandas as pd\n",
    "import seaborn as sns\n",
    "import scipy.io as spio\n",
    "import pickle\n",
    "from tqdm import tqdm\n",
    "from scipy import stats\n",
    "# stored one repo up in my fork of Spykes\n",
    "from spykes.spykes.plot.neurovis import NeuroVis\n",
    "from io_utils import *\n",
    "from plotting_utils import * \n",
    "\n",
    "# settings\n",
    "%load_ext autoreload\n",
    "%autoreload 2\n",
    "sns.set_context(\"talk\")"
   ]
  },
  {
   "cell_type": "code",
   "execution_count": 3,
   "id": "timely-sweet",
   "metadata": {
    "scrolled": true
   },
   "outputs": [],
   "source": [
    "# base paths/names\n",
    "# sess_names = np.load('sess_names.npy')\n",
    "# sess_name = sess_names[3]\n",
    "sess_name = 'W122_08_06_2019_1_fromSD'\n",
    "\n",
    "base_path  = 'Y:\\jbreda\\ephys\\post_sort_analysis\\sorted_pre_bdata' \n",
    "beh_mat   = 'protocol_info.mat'\n",
    "spks_mat  = 'ksphy_clusters_foranalysis.mat'\n",
    "\n",
    "\n",
    "# create paths\n",
    "sess_path = os.path.join(base_path, sess_name)\n",
    "beh_path  = os.path.join(sess_path, beh_mat)\n",
    "spks_path = os.path.join(sess_path, spks_mat)\n",
    "# fig_save_path = os.path.join(os.getcwd(), 'figures', 'neurovis', sess_name)\n",
    "\n",
    "# load & wrangle\n",
    "beh_df, spks_dict = load_and_wrangle(beh_path, spks_path, overwrite=False)\n"
   ]
  },
  {
   "cell_type": "markdown",
   "id": "twenty-brother",
   "metadata": {},
   "source": [
    "### Separate spike times by trials\n",
    "\n",
    "Create a list of list that is N trials long w/ spike info from cpoke to endstate for each trial. \n",
    "\n",
    "**TODO** turn into function"
   ]
  },
  {
   "cell_type": "code",
   "execution_count": 4,
   "id": "constitutional-finnish",
   "metadata": {},
   "outputs": [],
   "source": [
    "test_neuron = spks_dict['spk_times'][0]\n",
    "test_neurovis = NeuroVis(test_neuron)"
   ]
  },
  {
   "cell_type": "code",
   "execution_count": 645,
   "id": "level-checkout",
   "metadata": {},
   "outputs": [],
   "source": [
    "raster = test_neurovis.get_raster(event= 'aud1_on', binsize = 100, df = beh_df, plot = False)"
   ]
  },
  {
   "cell_type": "markdown",
   "id": "dependent-batman",
   "metadata": {},
   "source": [
    "### Discretizing \n",
    "\n",
    "Take spk times x trials above, & given a bin size (1 ms) search in trial & binarize"
   ]
  },
  {
   "cell_type": "markdown",
   "id": "welsh-supply",
   "metadata": {},
   "source": [
    "## TODO\n",
    "* raster on 2s trials : http://www.columbia.edu/cu/appliedneuroshp/Fall2017/neuralcoding.pdf\n",
    "* PSTHs\n",
    "* event centered times?\n",
    "* f/u on why gaussain from scipy errors"
   ]
  },
  {
   "cell_type": "code",
   "execution_count": 6,
   "id": "478b7e0f",
   "metadata": {},
   "outputs": [
    {
     "name": "stdout",
     "output_type": "stream",
     "text": [
      "Requirement already satisfied: tqdm in c:\\users\\jb\\anaconda3\\envs\\pwm_ephys\\lib\\site-packages (4.60.0)\n"
     ]
    }
   ],
   "source": [
    "! pip install tqdm"
   ]
  },
  {
   "cell_type": "code",
   "execution_count": 20,
   "id": "charged-witch",
   "metadata": {},
   "outputs": [],
   "source": [
    "beh_2s_df = beh_df[(beh_df['delay'] == 2)]\n",
    "neuron_2s_spks = split_spks_by_trial(test_neuron, beh_2s_df)\n",
    "# neuron_2s_binary = get_spike_counts(neuron_2s_spks, bin_size=0.01, mode='binary')"
   ]
  },
  {
   "cell_type": "code",
   "execution_count": 23,
   "id": "valued-communist",
   "metadata": {},
   "outputs": [],
   "source": [
    "\"\"\"Goal: aud1 center split by trial data\"\"\"\n",
    "\n",
    "# set window\n",
    "window = [-400, 600]\n",
    "\n",
    "# init storage\n",
    "aud1_on_aligned = []\n",
    "\n",
    "\n",
    "# iterate over each trial and event time\n",
    "for itrial, time in enumerate(beh_2s_df['aud1_on']):\n",
    "    \n",
    "    # grab spk info for trial\n",
    "    trial_spks = neuron_2s_spks['trial_spks'][itrial]\n",
    "    \n",
    "    # create times for window snippet\n",
    "    start = time + (window[0] * 0.001)\n",
    "    stop = time + (window[1] * 0.001)\n",
    "    \n",
    "    # grab spks in the window\n",
    "    spks_in_window = trial_spks[np.logical_and(trial_spks > start, trial_spks < stop)]\n",
    "    \n",
    "    # align them to the event time on trial & append\n",
    "    event_aligned = spks_in_window - time\n",
    "    aud1_on_aligned.append(event_aligned)\n",
    "    "
   ]
  },
  {
   "cell_type": "code",
   "execution_count": 24,
   "id": "acoustic-replication",
   "metadata": {},
   "outputs": [
    {
     "data": {
      "text/plain": [
       "<matplotlib.legend.Legend at 0x28c02ce8dc8>"
      ]
     },
     "execution_count": 24,
     "metadata": {},
     "output_type": "execute_result"
    },
    {
     "data": {
      "image/png": "[encoded data removed]",
      "text/plain": [
       "<Figure size 432x288 with 1 Axes>"
      ]
     },
     "metadata": {
      "needs_background": "light"
     },
     "output_type": "display_data"
    }
   ],
   "source": [
    "_ = plt.eventplot(aud1_on_aligned)\n",
    "plt.axvspan(0,0.4, alpha = 0.2, color = 'grey')\n",
    "plt.axvspan(0,0.000001, color = 'black', label = 'Aud 1')\n",
    "plt.legend()"
   ]
  },
  {
   "cell_type": "code",
   "execution_count": 25,
   "id": "2316f82f",
   "metadata": {},
   "outputs": [
    {
     "data": {
      "text/html": [
       "<div>\n",
       "<style scoped>\n",
       "    .dataframe tbody tr th:only-of-type {\n",
       "        vertical-align: middle;\n",
       "    }\n",
       "\n",
       "    .dataframe tbody tr th {\n",
       "        vertical-align: top;\n",
       "    }\n",
       "\n",
       "    .dataframe thead th {\n",
       "        text-align: right;\n",
       "    }\n",
       "</style>\n",
       "<table border=\"1\" class=\"dataframe\">\n",
       "  <thead>\n",
       "    <tr style=\"text-align: right;\">\n",
       "      <th></th>\n",
       "      <th>trial_num</th>\n",
       "      <th>hit_hist</th>\n",
       "      <th>delay</th>\n",
       "      <th>pair_hist</th>\n",
       "      <th>correct_side</th>\n",
       "      <th>prev_side</th>\n",
       "      <th>aud1_sigma</th>\n",
       "      <th>aud2_sigma</th>\n",
       "      <th>c_poke</th>\n",
       "      <th>end_state</th>\n",
       "      <th>hit_state</th>\n",
       "      <th>aud1_on</th>\n",
       "      <th>aud1_off</th>\n",
       "      <th>aud2_on</th>\n",
       "      <th>aud2_off</th>\n",
       "      <th>louder</th>\n",
       "      <th>first_sound</th>\n",
       "    </tr>\n",
       "  </thead>\n",
       "  <tbody>\n",
       "    <tr>\n",
       "      <th>0</th>\n",
       "      <td>15</td>\n",
       "      <td>hit</td>\n",
       "      <td>2</td>\n",
       "      <td>4</td>\n",
       "      <td>RIGHT</td>\n",
       "      <td>LEFT</td>\n",
       "      <td>0.053144</td>\n",
       "      <td>0.019683</td>\n",
       "      <td>519.086082</td>\n",
       "      <td>524.267078</td>\n",
       "      <td>523.067086</td>\n",
       "      <td>519.136082</td>\n",
       "      <td>519.536082</td>\n",
       "      <td>521.536087</td>\n",
       "      <td>521.936083</td>\n",
       "      <td>aud_1</td>\n",
       "      <td>0.0531*</td>\n",
       "    </tr>\n",
       "    <tr>\n",
       "      <th>1</th>\n",
       "      <td>17</td>\n",
       "      <td>miss</td>\n",
       "      <td>6</td>\n",
       "      <td>6</td>\n",
       "      <td>LEFT</td>\n",
       "      <td>LEFT</td>\n",
       "      <td>0.002700</td>\n",
       "      <td>0.007290</td>\n",
       "      <td>533.121088</td>\n",
       "      <td>542.586081</td>\n",
       "      <td>541.255077</td>\n",
       "      <td>533.172076</td>\n",
       "      <td>533.572077</td>\n",
       "      <td>539.572077</td>\n",
       "      <td>539.972082</td>\n",
       "      <td>aud_2</td>\n",
       "      <td>0.0027</td>\n",
       "    </tr>\n",
       "    <tr>\n",
       "      <th>2</th>\n",
       "      <td>18</td>\n",
       "      <td>hit</td>\n",
       "      <td>6</td>\n",
       "      <td>3</td>\n",
       "      <td>RIGHT</td>\n",
       "      <td>LEFT</td>\n",
       "      <td>0.019683</td>\n",
       "      <td>0.007290</td>\n",
       "      <td>542.928090</td>\n",
       "      <td>552.206080</td>\n",
       "      <td>550.787081</td>\n",
       "      <td>542.979078</td>\n",
       "      <td>543.379079</td>\n",
       "      <td>549.379077</td>\n",
       "      <td>549.779079</td>\n",
       "      <td>aud_1</td>\n",
       "      <td>0.0197</td>\n",
       "    </tr>\n",
       "    <tr>\n",
       "      <th>3</th>\n",
       "      <td>19</td>\n",
       "      <td>hit</td>\n",
       "      <td>4</td>\n",
       "      <td>7</td>\n",
       "      <td>LEFT</td>\n",
       "      <td>RIGHT</td>\n",
       "      <td>0.007290</td>\n",
       "      <td>0.019683</td>\n",
       "      <td>556.319076</td>\n",
       "      <td>563.695078</td>\n",
       "      <td>562.421090</td>\n",
       "      <td>556.370079</td>\n",
       "      <td>556.769087</td>\n",
       "      <td>560.769079</td>\n",
       "      <td>561.169088</td>\n",
       "      <td>aud_2</td>\n",
       "      <td>0.0073</td>\n",
       "    </tr>\n",
       "    <tr>\n",
       "      <th>4</th>\n",
       "      <td>20</td>\n",
       "      <td>hit</td>\n",
       "      <td>2</td>\n",
       "      <td>1</td>\n",
       "      <td>RIGHT</td>\n",
       "      <td>LEFT</td>\n",
       "      <td>0.002700</td>\n",
       "      <td>0.001000</td>\n",
       "      <td>570.250080</td>\n",
       "      <td>575.399077</td>\n",
       "      <td>574.317085</td>\n",
       "      <td>570.300083</td>\n",
       "      <td>570.700080</td>\n",
       "      <td>572.701084</td>\n",
       "      <td>573.100081</td>\n",
       "      <td>aud_1</td>\n",
       "      <td>0.0027</td>\n",
       "    </tr>\n",
       "    <tr>\n",
       "      <th>...</th>\n",
       "      <td>...</td>\n",
       "      <td>...</td>\n",
       "      <td>...</td>\n",
       "      <td>...</td>\n",
       "      <td>...</td>\n",
       "      <td>...</td>\n",
       "      <td>...</td>\n",
       "      <td>...</td>\n",
       "      <td>...</td>\n",
       "      <td>...</td>\n",
       "      <td>...</td>\n",
       "      <td>...</td>\n",
       "      <td>...</td>\n",
       "      <td>...</td>\n",
       "      <td>...</td>\n",
       "      <td>...</td>\n",
       "      <td>...</td>\n",
       "    </tr>\n",
       "    <tr>\n",
       "      <th>387</th>\n",
       "      <td>575</td>\n",
       "      <td>hit</td>\n",
       "      <td>6</td>\n",
       "      <td>4</td>\n",
       "      <td>RIGHT</td>\n",
       "      <td>RIGHT</td>\n",
       "      <td>0.053144</td>\n",
       "      <td>0.019683</td>\n",
       "      <td>6074.563072</td>\n",
       "      <td>6083.540076</td>\n",
       "      <td>6082.372079</td>\n",
       "      <td>6074.613073</td>\n",
       "      <td>6075.013075</td>\n",
       "      <td>6081.014077</td>\n",
       "      <td>6081.413073</td>\n",
       "      <td>aud_1</td>\n",
       "      <td>0.0531*</td>\n",
       "    </tr>\n",
       "    <tr>\n",
       "      <th>388</th>\n",
       "      <td>577</td>\n",
       "      <td>hit</td>\n",
       "      <td>4</td>\n",
       "      <td>2</td>\n",
       "      <td>RIGHT</td>\n",
       "      <td>RIGHT</td>\n",
       "      <td>0.007290</td>\n",
       "      <td>0.002700</td>\n",
       "      <td>6087.455079</td>\n",
       "      <td>6094.415079</td>\n",
       "      <td>6093.141071</td>\n",
       "      <td>6087.505079</td>\n",
       "      <td>6087.906078</td>\n",
       "      <td>6091.906082</td>\n",
       "      <td>6092.306080</td>\n",
       "      <td>aud_1</td>\n",
       "      <td>0.0073</td>\n",
       "    </tr>\n",
       "    <tr>\n",
       "      <th>389</th>\n",
       "      <td>578</td>\n",
       "      <td>hit</td>\n",
       "      <td>4</td>\n",
       "      <td>7</td>\n",
       "      <td>LEFT</td>\n",
       "      <td>RIGHT</td>\n",
       "      <td>0.007290</td>\n",
       "      <td>0.019683</td>\n",
       "      <td>6098.380082</td>\n",
       "      <td>6105.569074</td>\n",
       "      <td>6104.548081</td>\n",
       "      <td>6098.430082</td>\n",
       "      <td>6098.831073</td>\n",
       "      <td>6102.830094</td>\n",
       "      <td>6103.230084</td>\n",
       "      <td>aud_2</td>\n",
       "      <td>0.0073</td>\n",
       "    </tr>\n",
       "    <tr>\n",
       "      <th>390</th>\n",
       "      <td>580</td>\n",
       "      <td>hit</td>\n",
       "      <td>6</td>\n",
       "      <td>5</td>\n",
       "      <td>LEFT</td>\n",
       "      <td>LEFT</td>\n",
       "      <td>0.001000</td>\n",
       "      <td>0.002700</td>\n",
       "      <td>6112.223082</td>\n",
       "      <td>6121.463077</td>\n",
       "      <td>6120.364093</td>\n",
       "      <td>6112.273086</td>\n",
       "      <td>6112.674085</td>\n",
       "      <td>6118.673083</td>\n",
       "      <td>6119.073083</td>\n",
       "      <td>aud_2</td>\n",
       "      <td>0.0001*</td>\n",
       "    </tr>\n",
       "    <tr>\n",
       "      <th>391</th>\n",
       "      <td>588</td>\n",
       "      <td>miss</td>\n",
       "      <td>6</td>\n",
       "      <td>12</td>\n",
       "      <td>LEFT</td>\n",
       "      <td>LEFT</td>\n",
       "      <td>0.002704</td>\n",
       "      <td>0.007300</td>\n",
       "      <td>6161.477076</td>\n",
       "      <td>6170.621074</td>\n",
       "      <td>6169.423075</td>\n",
       "      <td>6161.528080</td>\n",
       "      <td>6161.928077</td>\n",
       "      <td>6167.927086</td>\n",
       "      <td>6168.328080</td>\n",
       "      <td>psycho</td>\n",
       "      <td>psycho</td>\n",
       "    </tr>\n",
       "  </tbody>\n",
       "</table>\n",
       "<p>392 rows × 17 columns</p>\n",
       "</div>"
      ],
      "text/plain": [
       "     trial_num hit_hist  delay  pair_hist correct_side prev_side  aud1_sigma  \\\n",
       "0           15      hit      2          4        RIGHT      LEFT    0.053144   \n",
       "1           17     miss      6          6         LEFT      LEFT    0.002700   \n",
       "2           18      hit      6          3        RIGHT      LEFT    0.019683   \n",
       "3           19      hit      4          7         LEFT     RIGHT    0.007290   \n",
       "4           20      hit      2          1        RIGHT      LEFT    0.002700   \n",
       "..         ...      ...    ...        ...          ...       ...         ...   \n",
       "387        575      hit      6          4        RIGHT     RIGHT    0.053144   \n",
       "388        577      hit      4          2        RIGHT     RIGHT    0.007290   \n",
       "389        578      hit      4          7         LEFT     RIGHT    0.007290   \n",
       "390        580      hit      6          5         LEFT      LEFT    0.001000   \n",
       "391        588     miss      6         12         LEFT      LEFT    0.002704   \n",
       "\n",
       "     aud2_sigma       c_poke    end_state    hit_state      aud1_on  \\\n",
       "0      0.019683   519.086082   524.267078   523.067086   519.136082   \n",
       "1      0.007290   533.121088   542.586081   541.255077   533.172076   \n",
       "2      0.007290   542.928090   552.206080   550.787081   542.979078   \n",
       "3      0.019683   556.319076   563.695078   562.421090   556.370079   \n",
       "4      0.001000   570.250080   575.399077   574.317085   570.300083   \n",
       "..          ...          ...          ...          ...          ...   \n",
       "387    0.019683  6074.563072  6083.540076  6082.372079  6074.613073   \n",
       "388    0.002700  6087.455079  6094.415079  6093.141071  6087.505079   \n",
       "389    0.019683  6098.380082  6105.569074  6104.548081  6098.430082   \n",
       "390    0.002700  6112.223082  6121.463077  6120.364093  6112.273086   \n",
       "391    0.007300  6161.477076  6170.621074  6169.423075  6161.528080   \n",
       "\n",
       "        aud1_off      aud2_on     aud2_off  louder first_sound  \n",
       "0     519.536082   521.536087   521.936083   aud_1     0.0531*  \n",
       "1     533.572077   539.572077   539.972082   aud_2      0.0027  \n",
       "2     543.379079   549.379077   549.779079   aud_1      0.0197  \n",
       "3     556.769087   560.769079   561.169088   aud_2      0.0073  \n",
       "4     570.700080   572.701084   573.100081   aud_1      0.0027  \n",
       "..           ...          ...          ...     ...         ...  \n",
       "387  6075.013075  6081.014077  6081.413073   aud_1     0.0531*  \n",
       "388  6087.906078  6091.906082  6092.306080   aud_1      0.0073  \n",
       "389  6098.831073  6102.830094  6103.230084   aud_2      0.0073  \n",
       "390  6112.674085  6118.673083  6119.073083   aud_2     0.0001*  \n",
       "391  6161.928077  6167.927086  6168.328080  psycho      psycho  \n",
       "\n",
       "[392 rows x 17 columns]"
      ]
     },
     "execution_count": 25,
     "metadata": {},
     "output_type": "execute_result"
    }
   ],
   "source": [
    "beh_df"
   ]
  },
  {
   "cell_type": "code",
   "execution_count": 722,
   "id": "whole-grill",
   "metadata": {},
   "outputs": [],
   "source": [
    "sub = neuron_2s_binary[0:30]"
   ]
  },
  {
   "cell_type": "code",
   "execution_count": 724,
   "id": "massive-publisher",
   "metadata": {},
   "outputs": [
    {
     "data": {
      "text/plain": [
       "[<matplotlib.collections.EventCollection at 0x2f3c44c6e88>,\n",
       " <matplotlib.collections.EventCollection at 0x2f3c454ce08>,\n",
       " <matplotlib.collections.EventCollection at 0x2f3c45d60c8>,\n",
       " <matplotlib.collections.EventCollection at 0x2f3c465b388>,\n",
       " <matplotlib.collections.EventCollection at 0x2f3c46e0648>,\n",
       " <matplotlib.collections.EventCollection at 0x2f3c47669c8>,\n",
       " <matplotlib.collections.EventCollection at 0x2f3c47eac48>,\n",
       " <matplotlib.collections.EventCollection at 0x2f3c486df08>,\n",
       " <matplotlib.collections.EventCollection at 0x2f3c48fa208>,\n",
       " <matplotlib.collections.EventCollection at 0x2f3c4766948>,\n",
       " <matplotlib.collections.EventCollection at 0x2f3c4a046c8>,\n",
       " <matplotlib.collections.EventCollection at 0x2f3c4a89988>,\n",
       " <matplotlib.collections.EventCollection at 0x2f3c4b0dc48>,\n",
       " <matplotlib.collections.EventCollection at 0x2f3c4b92f08>,\n",
       " <matplotlib.collections.EventCollection at 0x2f3c4c1e208>,\n",
       " <matplotlib.collections.EventCollection at 0x2f3c4ca34c8>,\n",
       " <matplotlib.collections.EventCollection at 0x2f3c4d28788>,\n",
       " <matplotlib.collections.EventCollection at 0x2f3c4daca48>,\n",
       " <matplotlib.collections.EventCollection at 0x2f3c4e32d08>,\n",
       " <matplotlib.collections.EventCollection at 0x2f3c4eb7fc8>,\n",
       " <matplotlib.collections.EventCollection at 0x2f3c4f442c8>,\n",
       " <matplotlib.collections.EventCollection at 0x2f3c4fc8588>,\n",
       " <matplotlib.collections.EventCollection at 0x2f3c504e848>,\n",
       " <matplotlib.collections.EventCollection at 0x2f3c50d1b08>,\n",
       " <matplotlib.collections.EventCollection at 0x2f3c5156dc8>,\n",
       " <matplotlib.collections.EventCollection at 0x2f3c51e10c8>,\n",
       " <matplotlib.collections.EventCollection at 0x2f3c5268388>,\n",
       " <matplotlib.collections.EventCollection at 0x2f3c52ec648>,\n",
       " <matplotlib.collections.EventCollection at 0x2f3c536f908>,\n",
       " <matplotlib.collections.EventCollection at 0x2f3c53f6bc8>]"
      ]
     },
     "execution_count": 724,
     "metadata": {},
     "output_type": "execute_result"
    },
    {
     "data": {
      "image/png": "[encoded data removed]",
      "text/plain": [
       "<Figure size 432x288 with 1 Axes>"
      ]
     },
     "metadata": {
      "needs_background": "light"
     },
     "output_type": "display_data"
    }
   ],
   "source": [
    "plt.eventplot(sub, orientation='vertical')"
   ]
  },
  {
   "cell_type": "markdown",
   "id": "million-pennsylvania",
   "metadata": {},
   "source": [
    "## convolve"
   ]
  },
  {
   "cell_type": "code",
   "execution_count": 317,
   "id": "alternate-rubber",
   "metadata": {},
   "outputs": [],
   "source": [
    "def gaussian(x, mu, sigma):\n",
    "    return 1 / (sigma * np.sqrt(2 * np.pi)) * np.exp(-1/2 * ((x - mu)/sigma)**2)"
   ]
  },
  {
   "cell_type": "code",
   "execution_count": 352,
   "id": "technological-blank",
   "metadata": {},
   "outputs": [
    {
     "data": {
      "text/plain": [
       "[<matplotlib.lines.Line2D at 0x2f29e490a88>]"
      ]
     },
     "execution_count": 352,
     "metadata": {},
     "output_type": "execute_result"
    },
    {
     "data": {
      "image/png": "[encoded data removed]",
      "text/plain": [
       "<Figure size 432x288 with 1 Axes>"
      ]
     },
     "metadata": {
      "needs_background": "light"
     },
     "output_type": "display_data"
    }
   ],
   "source": [
    "mu = 0\n",
    "sigma = .150\n",
    "\n",
    "x = np.linspace(-1.0, 1.0, 150)\n",
    "kernal = gaussian(x, mu, sigma)\n",
    "kernal = kernal/np.sum(kernal)\n",
    "plt.plot(x, kernal)"
   ]
  },
  {
   "cell_type": "code",
   "execution_count": 448,
   "id": "binding-ridge",
   "metadata": {},
   "outputs": [
    {
     "data": {
      "text/plain": [
       "[<matplotlib.lines.Line2D at 0x2f29ed95088>]"
      ]
     },
     "execution_count": 448,
     "metadata": {},
     "output_type": "execute_result"
    },
    {
     "data": {
      "image/png": "[encoded data removed]",
      "text/plain": [
       "<Figure size 720x360 with 1 Axes>"
      ]
     },
     "metadata": {
      "needs_background": "light"
     },
     "output_type": "display_data"
    }
   ],
   "source": [
    "spike_train = tr_spk_binary[5]\n",
    "fig, ax = plt.subplots(figsize = (10,5))\n",
    "plt.plot(np.convolve(spike_train, kernal, mode = 'same'))"
   ]
  },
  {
   "cell_type": "code",
   "execution_count": 449,
   "id": "lined-velvet",
   "metadata": {},
   "outputs": [
    {
     "data": {
      "text/plain": [
       "(9900, 9900)"
      ]
     },
     "execution_count": 449,
     "metadata": {},
     "output_type": "execute_result"
    }
   ],
   "source": [
    "len(tr_spk_binary[6]), len(np.convolve(spike_train, kernal, mode = 'same'))"
   ]
  },
  {
   "cell_type": "code",
   "execution_count": 450,
   "id": "informative-consumption",
   "metadata": {},
   "outputs": [],
   "source": [
    "conv_trial = []\n",
    "for trial in tr_spk_binary:\n",
    "    smoothed =(np.convolve(trial, kernal, mode = 'same'))\n",
    "    smoothed = np.where(smoothed == 0, np.nan, smoothed)\n",
    "    conv_trial.append(smoothed)\n",
    "    \n",
    "conv_trial = np.array(conv_trial)"
   ]
  },
  {
   "cell_type": "code",
   "execution_count": 455,
   "id": "surrounded-kernel",
   "metadata": {},
   "outputs": [],
   "source": [
    "test_mean = np.nanmean(conv_trial, axis=0)\n",
    "test_sem = stats.sem(conv_trial, axis=0, nan_policy='omit')"
   ]
  },
  {
   "cell_type": "code",
   "execution_count": null,
   "id": "coastal-sellers",
   "metadata": {},
   "outputs": [],
   "source": []
  },
  {
   "cell_type": "code",
   "execution_count": 458,
   "id": "specific-apollo",
   "metadata": {},
   "outputs": [],
   "source": [
    "time = np.linspace(0,9.9, len(test_mean))"
   ]
  },
  {
   "cell_type": "code",
   "execution_count": 462,
   "id": "prompt-naples",
   "metadata": {},
   "outputs": [
    {
     "data": {
      "text/plain": [
       "[(0.0, 2.0)]"
      ]
     },
     "execution_count": 462,
     "metadata": {},
     "output_type": "execute_result"
    },
    {
     "data": {
      "image/png": "[encoded data removed]",
      "text/plain": [
       "<Figure size 1080x216 with 1 Axes>"
      ]
     },
     "metadata": {
      "needs_background": "light"
     },
     "output_type": "display_data"
    }
   ],
   "source": [
    "fig, ax = plt.subplots(figsize = (15, 3))\n",
    "ax.plot(time, test_mean)\n",
    "ax.fill_between(time, test_mean - test_sem, test_mean + test_sem, alpha = 0.2 )\n",
    "ax.set(xlim =(0,2))"
   ]
  },
  {
   "cell_type": "code",
   "execution_count": 50,
   "id": "manual-possession",
   "metadata": {},
   "outputs": [],
   "source": [
    "# Initialize info for plotting\n",
    "hit_df = beh_df[(beh_df['hit_hist'] == 'hit')]\n",
    "aud1_df = hit_df[(hit_df['first_sound'] != 'psycho')]"
   ]
  },
  {
   "cell_type": "markdown",
   "id": "expired-pressing",
   "metadata": {},
   "source": [
    "## Stoped here"
   ]
  },
  {
   "cell_type": "code",
   "execution_count": 53,
   "id": "sitting-farmer",
   "metadata": {},
   "outputs": [
    {
     "name": "stdout",
     "output_type": "stream",
     "text": [
      "Loading existing mask_dict...\n",
      "Done loading.\n",
      "ngood, first: 175\n",
      "ngood, first: 175\n",
      "ngood, second: 195\n",
      "ngood, second: 195\n"
     ]
    }
   ],
   "source": [
    "bndl_dfs, df_names = deal_with_masking(spks_dict, aud1_df, sess_path, 'aud1_no_psycho', 30000)"
   ]
  },
  {
   "cell_type": "code",
   "execution_count": 58,
   "id": "infrared-hanging",
   "metadata": {},
   "outputs": [],
   "source": [
    "# initilaize\n",
    "events = ['aud1_on']\n",
    "event_names = ['aud1_on']\n",
    "window = [-500, 2300]\n",
    "condition = 'first_sound'"
   ]
  },
  {
   "cell_type": "code",
   "execution_count": 298,
   "id": "destroyed-depth",
   "metadata": {},
   "outputs": [],
   "source": [
    "# initilaize\n",
    "events = ['aud1_on']\n",
    "windows = [[-1000,2300]]\n",
    "condition = 'correct_side'\n",
    "\n",
    "# get neurons into NeuroVis objects\n",
    "neurons = initiate_neurons(spks_dict)\n",
    "neuron = NeuroVis(spks_dict['spk_times'][0])\n",
    "\n",
    "#single neuron debug\n",
    "window = windows[0]\n",
    "binsize = 100\n",
    "df = bndl_dfs[df_names[0]]\n",
    "phys_start = neuron.spiketimes[0]\n",
    "phys_end = neuron.spiketimes[-1]\n",
    "event = events[0]\n",
    "conditions = 'correct_side'"
   ]
  },
  {
   "cell_type": "code",
   "execution_count": 13,
   "id": "possible-cleveland",
   "metadata": {},
   "outputs": [],
   "source": [
    "neuron_rasters = get_neuron_rasters(neurons, events, windows, bndl_dfs, df_names)\n",
    "neuron_psths = get_neuron_psths(neurons, events, windows, bndl_dfs, df_names, conditions=condition)"
   ]
  },
  {
   "cell_type": "code",
   "execution_count": 302,
   "id": "blank-jersey",
   "metadata": {},
   "outputs": [
    {
     "data": {
      "text/plain": [
       "(14, 17)"
      ]
     },
     "execution_count": 302,
     "metadata": {},
     "output_type": "execute_result"
    }
   ],
   "source": [
    "if not type(df) is dict:\n",
    "        df = df.reset_index()\n",
    "len(np.sum(raster['data'][0], axis = 1)), len(psth['data'][0]['mean'])"
   ]
  },
  {
   "cell_type": "code",
   "execution_count": 176,
   "id": "gentle-victim",
   "metadata": {},
   "outputs": [],
   "source": [
    "if not type(df) is dict:\n",
    "    df2 = df.reset_index()\n",
    "wind = [np.floor(window[0]/binsize) * binsize, np.ceil(window[1]/binsize) * binsize]"
   ]
  },
  {
   "cell_type": "code",
   "execution_count": 177,
   "id": "complimentary-inclusion",
   "metadata": {},
   "outputs": [],
   "source": [
    "trials = dict()\n",
    "trials[0] = np.where(np.ones(np.size(df[event])))[0]\n",
    "rasters = {\n",
    "        'event': event,\n",
    "        'conditions': conditions,\n",
    "        'window': window,\n",
    "        'binsize': binsize,\n",
    "        'data': {},\n",
    "    }"
   ]
  },
  {
   "cell_type": "code",
   "execution_count": 191,
   "id": "loved-handy",
   "metadata": {},
   "outputs": [],
   "source": [
    "for cond_id in trials:\n",
    "    # Select events relevant to this raster\n",
    "    selected_events = df[event].iloc[trials[cond_id]]\n",
    "\n",
    "    raster = []\n",
    "    \n",
    "    bin_template = 1e-3 * np.arange(window[0], window[1] + binsize, binsize)\n",
    "    \n",
    "    for event_time in selected_events:\n",
    "        bins = event_time + bin_template\n",
    "\n"
   ]
  },
  {
   "cell_type": "code",
   "execution_count": 196,
   "id": "assigned-investigation",
   "metadata": {},
   "outputs": [
    {
     "data": {
      "text/plain": [
       "array([-1. , -0.9, -0.8, -0.7, -0.6, -0.5, -0.4, -0.3, -0.2, -0.1,  0. ,\n",
       "        0.1,  0.2,  0.3,  0.4,  0.5,  0.6,  0.7,  0.8,  0.9,  1. ,  1.1,\n",
       "        1.2,  1.3,  1.4,  1.5,  1.6,  1.7,  1.8,  1.9,  2. ,  2.1,  2.2,\n",
       "        2.3])"
      ]
     },
     "execution_count": 196,
     "metadata": {},
     "output_type": "execute_result"
    }
   ],
   "source": [
    "bin_template"
   ]
  },
  {
   "cell_type": "code",
   "execution_count": 195,
   "id": "transsexual-spread",
   "metadata": {},
   "outputs": [
    {
     "name": "stdout",
     "output_type": "stream",
     "text": [
      "[5867.858354 5867.958354 5868.058354 5868.158354 5868.258354 5868.358354\n",
      " 5868.458354 5868.558354 5868.658354 5868.758354 5868.858354 5868.958354\n",
      " 5869.058354 5869.158354 5869.258354 5869.358354 5869.458354 5869.558354\n",
      " 5869.658354 5869.758354 5869.858354 5869.958354 5870.058354 5870.158354\n",
      " 5870.258354 5870.358354 5870.458354 5870.558354 5870.658354 5870.758354\n",
      " 5870.858354 5870.958354 5871.058354 5871.158354]\n"
     ]
    }
   ],
   "source": [
    "for event_time in selected_events:\n",
    "    bins = event_time + bin_template\n",
    "    \n",
    "    searchsorted_idx = np.sq"
   ]
  },
  {
   "cell_type": "code",
   "execution_count": 212,
   "id": "appointed-street",
   "metadata": {},
   "outputs": [
    {
     "data": {
      "text/plain": [
       "(5868.858354, 5867.858354, 5871.158354)"
      ]
     },
     "execution_count": 212,
     "metadata": {},
     "output_type": "execute_result"
    }
   ],
   "source": [
    "event_time, event_time + 1e-3 * window[0], event_time + 1e-3 * window[1]"
   ]
  },
  {
   "cell_type": "code",
   "execution_count": null,
   "id": "realistic-strength",
   "metadata": {},
   "outputs": [],
   "source": []
  }
 ],
 "metadata": {
  "kernelspec": {
   "display_name": "Python 3",
   "language": "python",
   "name": "python3"
  },
  "language_info": {
   "codemirror_mode": {
    "name": "ipython",
    "version": 3
   },
   "file_extension": ".py",
   "mimetype": "text/x-python",
   "name": "python",
   "nbconvert_exporter": "python",
   "pygments_lexer": "ipython3",
   "version": "3.7.10"
  }
 },
 "nbformat": 4,
 "nbformat_minor": 5
}
