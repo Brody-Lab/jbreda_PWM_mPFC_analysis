{
 "cells": [
  {
   "cell_type": "code",
   "execution_count": 454,
   "id": "early-guarantee",
   "metadata": {},
   "outputs": [
    {
     "name": "stdout",
     "output_type": "stream",
     "text": [
      "The autoreload extension is already loaded. To reload it, use:\n",
      "  %reload_ext autoreload\n"
     ]
    }
   ],
   "source": [
    "# libraries\n",
    "import sys; sys.path.insert(0, '..') # if you don't find it here, look one above\n",
    "import os\n",
    "import numpy as np\n",
    "import matplotlib.pyplot as plt\n",
    "import pandas as pd\n",
    "import seaborn as sns\n",
    "import scipy.io as spio\n",
    "import pickle\n",
    "from tqdm import tqdm\n",
    "from scipy import stats\n",
    "# stored one repo up in my fork of Spykes\n",
    "from spykes.spykes.plot.neurovis import NeuroVis\n",
    "from io_utils import *\n",
    "from plotting_utils import * \n",
    "\n",
    "# settings\n",
    "%load_ext autoreload\n",
    "%autoreload 2\n",
    "sns.set_context(\"talk\")"
   ]
  },
  {
   "cell_type": "code",
   "execution_count": 31,
   "id": "timely-sweet",
   "metadata": {},
   "outputs": [],
   "source": [
    "# base paths/names\n",
    "sess_names = np.load('sess_names.npy')\n",
    "sess_name = sess_names[3]\n",
    "\n",
    "base_path  = 'Y:\\jbreda\\ephys\\post_sort_analysis\\sorted_pre_bdata' \n",
    "beh_mat   = 'protocol_info.mat'\n",
    "spks_mat  = 'ksphy_clusters_foranalysis.mat'\n",
    "\n",
    "\n",
    "# create paths\n",
    "sess_path = os.path.join(base_path, sess_name)\n",
    "beh_path  = os.path.join(sess_path, beh_mat)\n",
    "spks_path = os.path.join(sess_path, spks_mat)\n",
    "fig_save_path = os.path.join(os.getcwd(), 'figures', 'neurovis', sess_name)\n",
    "\n",
    "# load & wrangle\n",
    "beh_df, spks_dict = load_and_wrangle(beh_path, spks_path, overwrite=True)\n"
   ]
  },
  {
   "cell_type": "markdown",
   "id": "interesting-cartoon",
   "metadata": {},
   "source": [
    "### Separate spike times by trials\n",
    "\n",
    "Create a list of list that is N trials long w/ spike info from cpoke to endstate for each trial. \n",
    "\n",
    "**TODO** turn into function"
   ]
  },
  {
   "cell_type": "code",
   "execution_count": 204,
   "id": "soviet-reynolds",
   "metadata": {},
   "outputs": [],
   "source": [
    "test_neuron = spks_dict['spk_times'][0]\n",
    "test_neurovis = NeuroVis(test_neuron)"
   ]
  },
  {
   "cell_type": "code",
   "execution_count": 226,
   "id": "bulgarian-mentor",
   "metadata": {},
   "outputs": [],
   "source": [
    "raster = test_neurovis.get_raster(event= 'aud1_on', binsize = 100, df = beh_df, plot = False)"
   ]
  },
  {
   "cell_type": "code",
   "execution_count": 393,
   "id": "geological-antique",
   "metadata": {},
   "outputs": [],
   "source": [
    "\n",
    "# initialize\n",
    "tr_times_ = np.zeros((len(beh_df),2))\n",
    "tr_spk_L = []\n",
    "\n",
    "# make counter bc idx is not continous\n",
    "tr = 0\n",
    "\n",
    "for idx, row in beh_df.iterrows():\n",
    "    \n",
    "    # grab start time 100 ms before c poke\n",
    "    tr_start = row['c_poke'] - 0.001\n",
    "    \n",
    "    # create end time so delays have same length\n",
    "    # NOTE: this is specific for analyzing delay period only\n",
    "    if row['delay'] == 2:\n",
    "        tr_end = tr_start + 5.5\n",
    "    elif row['delay'] == 4:\n",
    "        tr_end = tr_start + 7.7\n",
    "    elif row['delay'] == 6:\n",
    "        tr_end = tr_start + 9.9\n",
    "    else:\n",
    "        print('Trial delay is not 2, 4 or 6 seconds')\n",
    "    \n",
    "    # append start and end times\n",
    "    tr_times[tr,:] = tr_start, tr_end\n",
    "    tr+=1\n",
    "    \n",
    "    # grab spike time within trial window & append them\n",
    "    valid_spike_times = test_neuron[np.logical_and(test_neuron >= tr_start, test_neuron <= tr_end)]\n",
    "    \n",
    "    ## deal with padding\n",
    "    tr_spk_L.append(test_neuron[np.logical_and(test_neuron >= tr_start, test_neuron <= tr_end)])\n",
    "    "
   ]
  },
  {
   "cell_type": "markdown",
   "id": "sunset-crown",
   "metadata": {},
   "source": [
    "### Discretizing \n",
    "\n",
    "Take spk times x trials above, & given a bin size (1 ms) search in trial & binarize"
   ]
  },
  {
   "cell_type": "markdown",
   "id": "expanded-syracuse",
   "metadata": {},
   "source": [
    "## TODO\n",
    "* fix bug in get_spike_counts that wont return anything for trials >0\n",
    "* turn grabbing valid spike times into function\n",
    "* f/u on why gaussain from scipy errors"
   ]
  },
  {
   "cell_type": "code",
   "execution_count": 593,
   "id": "accepting-malta",
   "metadata": {},
   "outputs": [
    {
     "data": {
      "text/plain": [
       "array([[ 519.085082,  524.585082],\n",
       "       [ 533.120088,  543.020088],\n",
       "       [ 542.92709 ,  552.82709 ],\n",
       "       [ 556.318076,  564.018076],\n",
       "       [ 570.24908 ,  575.74908 ],\n",
       "       [ 578.231083,  585.931083],\n",
       "       [ 596.98908 ,  602.48908 ],\n",
       "       [ 604.861079,  614.761079],\n",
       "       [ 617.119077,  622.619077],\n",
       "       [ 624.853081,  632.553081],\n",
       "       [ 644.221079,  649.721079],\n",
       "       [ 652.695081,  660.395081],\n",
       "       [ 663.346078,  673.246078],\n",
       "       [ 677.000079,  684.700079],\n",
       "       [ 690.145083,  700.045083],\n",
       "       [ 701.774077,  707.274077],\n",
       "       [ 711.218078,  721.118078],\n",
       "       [ 722.137075,  729.837075],\n",
       "       [ 731.974073,  739.674073],\n",
       "       [ 745.67508 ,  755.57508 ],\n",
       "       [ 764.497082,  769.997082],\n",
       "       [ 774.729083,  780.229083],\n",
       "       [ 785.425085,  790.925085],\n",
       "       [ 792.99408 ,  800.69408 ],\n",
       "       [ 823.731079,  833.631079],\n",
       "       [ 835.924075,  843.624075],\n",
       "       [ 846.304085,  854.004085],\n",
       "       [ 862.997074,  870.697074],\n",
       "       [ 877.226077,  884.926077],\n",
       "       [ 890.394078,  900.294078],\n",
       "       [ 902.397092,  910.097092],\n",
       "       [ 922.130083,  929.830083],\n",
       "       [ 929.567085,  937.267085],\n",
       "       [ 938.985078,  948.885078],\n",
       "       [ 953.383082,  958.883082],\n",
       "       [ 958.658073,  966.358073],\n",
       "       [ 971.306077,  976.806077],\n",
       "       [ 981.27708 ,  986.77708 ],\n",
       "       [ 986.29108 ,  991.79108 ],\n",
       "       [ 993.272083, 1000.972083],\n",
       "       [1004.870075, 1010.370075],\n",
       "       [1014.32909 , 1024.22909 ],\n",
       "       [1040.286076, 1045.786076],\n",
       "       [1048.737083, 1054.237083],\n",
       "       [1056.820079, 1064.520079],\n",
       "       [1067.928078, 1075.628078],\n",
       "       [1083.429083, 1091.129083],\n",
       "       [1092.942075, 1100.642075],\n",
       "       [1104.339081, 1112.039081],\n",
       "       [1116.330073, 1126.230073],\n",
       "       [1130.276071, 1140.176071],\n",
       "       [1144.570082, 1152.270082],\n",
       "       [1158.601083, 1168.501083],\n",
       "       [1170.331084, 1180.231084],\n",
       "       [1181.592075, 1189.292075],\n",
       "       [1191.382078, 1196.882078],\n",
       "       [1196.936076, 1204.636076],\n",
       "       [1215.194072, 1225.094072],\n",
       "       [1232.92708 , 1240.62708 ],\n",
       "       [1243.854078, 1251.554078],\n",
       "       [1256.46208 , 1264.16208 ],\n",
       "       [1264.698078, 1272.398078],\n",
       "       [1283.695088, 1291.395088],\n",
       "       [1293.380079, 1298.880079],\n",
       "       [1307.504077, 1315.204077],\n",
       "       [1320.850091, 1326.350091],\n",
       "       [1327.611078, 1337.511078],\n",
       "       [1342.020085, 1347.520085],\n",
       "       [1366.175081, 1371.675081],\n",
       "       [1373.058084, 1380.758084],\n",
       "       [1382.143077, 1387.643077],\n",
       "       [1387.163085, 1397.063085],\n",
       "       [1401.605079, 1407.105079],\n",
       "       [1431.097091, 1436.597091],\n",
       "       [1449.305079, 1457.005079],\n",
       "       [1458.043083, 1467.943083],\n",
       "       [1469.740072, 1475.240072],\n",
       "       [1478.472079, 1483.972079],\n",
       "       [1487.927079, 1495.627079],\n",
       "       [1498.324085, 1503.824085],\n",
       "       [1506.840078, 1514.540078],\n",
       "       [1517.867079, 1523.367079],\n",
       "       [1522.730077, 1530.430077],\n",
       "       [1533.902079, 1541.602079],\n",
       "       [1550.677077, 1560.577077],\n",
       "       [1565.73109 , 1573.43109 ],\n",
       "       [1574.400088, 1579.900088],\n",
       "       [1579.587077, 1585.087077],\n",
       "       [1590.413077, 1598.113077],\n",
       "       [1627.988079, 1635.688079],\n",
       "       [1641.290079, 1646.790079],\n",
       "       [1687.13309 , 1694.83309 ],\n",
       "       [1696.34108 , 1706.24108 ],\n",
       "       [1710.781083, 1716.281083],\n",
       "       [1719.083071, 1726.783071],\n",
       "       [1729.672071, 1737.372071],\n",
       "       [1737.016074, 1744.716074],\n",
       "       [1757.051081, 1762.551081],\n",
       "       [1762.156073, 1767.656073],\n",
       "       [1769.785078, 1775.285078],\n",
       "       [1778.73108 , 1786.43108 ],\n",
       "       [1788.526076, 1796.226076],\n",
       "       [1798.105089, 1808.005089],\n",
       "       [1808.718073, 1818.618073],\n",
       "       [1819.895077, 1827.595077],\n",
       "       [1832.770083, 1842.670083],\n",
       "       [1851.639083, 1859.339083],\n",
       "       [1863.531088, 1869.031088],\n",
       "       [1870.563082, 1880.463082],\n",
       "       [1889.192084, 1899.092084],\n",
       "       [1900.071084, 1905.571084],\n",
       "       [1909.970091, 1917.670091],\n",
       "       [1932.19708 , 1939.89708 ],\n",
       "       [1941.432087, 1946.932087],\n",
       "       [1946.123089, 1953.823089],\n",
       "       [1954.578082, 1964.478082],\n",
       "       [1967.98308 , 1975.68308 ],\n",
       "       [1977.294075, 1982.794075],\n",
       "       [2053.18209 , 2060.88209 ],\n",
       "       [2065.40007 , 2070.90007 ],\n",
       "       [2075.813079, 2083.513079],\n",
       "       [2082.96208 , 2088.46208 ],\n",
       "       [2095.370078, 2103.070078],\n",
       "       [2107.369079, 2117.269079],\n",
       "       [2124.196083, 2131.896083],\n",
       "       [2137.062072, 2142.562072],\n",
       "       [2144.385076, 2152.085076],\n",
       "       [2156.092081, 2163.792081],\n",
       "       [2174.465075, 2184.365075],\n",
       "       [2185.720088, 2193.420088],\n",
       "       [2194.57709 , 2204.47709 ],\n",
       "       [2205.286085, 2210.786085],\n",
       "       [2215.496088, 2223.196088],\n",
       "       [2226.886083, 2232.386083],\n",
       "       [2233.642079, 2243.542079],\n",
       "       [2247.682089, 2253.182089],\n",
       "       [2256.44108 , 2264.14108 ],\n",
       "       [2265.273083, 2272.973083],\n",
       "       [2282.783084, 2290.483084],\n",
       "       [2290.738081, 2300.638081],\n",
       "       [2302.60708 , 2310.30708 ],\n",
       "       [2312.078077, 2319.778077],\n",
       "       [2320.581079, 2330.481079],\n",
       "       [2333.390078, 2341.090078],\n",
       "       [2348.025092, 2355.725092],\n",
       "       [2357.925079, 2365.625079],\n",
       "       [2379.638086, 2387.338086],\n",
       "       [2388.873079, 2396.573079],\n",
       "       [2400.647084, 2410.547084],\n",
       "       [2422.340082, 2430.040082],\n",
       "       [2430.978076, 2436.478076],\n",
       "       [2448.628077, 2458.528077],\n",
       "       [2460.050079, 2469.950079],\n",
       "       [2469.354073, 2479.254073],\n",
       "       [2480.299081, 2485.799081],\n",
       "       [2490.729081, 2500.629081],\n",
       "       [2515.462087, 2523.162087],\n",
       "       [2524.793083, 2530.293083],\n",
       "       [2809.198087, 2816.898087],\n",
       "       [2823.99608 , 2831.69608 ],\n",
       "       [2842.172072, 2847.672072],\n",
       "       [2855.372083, 2865.272083],\n",
       "       [2866.765078, 2874.465078],\n",
       "       [2876.211089, 2881.711089],\n",
       "       [2892.273079, 2899.973079],\n",
       "       [2902.108073, 2909.808073],\n",
       "       [2914.94308 , 2922.64308 ],\n",
       "       [2927.668081, 2935.368081],\n",
       "       [2939.407083, 2949.307083],\n",
       "       [2951.676072, 2957.176072],\n",
       "       [2961.856084, 2971.756084],\n",
       "       [2974.199092, 2984.099092],\n",
       "       [2985.499078, 2993.199078],\n",
       "       [3012.132082, 3019.832082],\n",
       "       [3021.902087, 3029.602087],\n",
       "       [3034.68408 , 3042.38408 ],\n",
       "       [3056.249091, 3066.149091],\n",
       "       [3074.988075, 3084.888075],\n",
       "       [3084.133079, 3089.633079],\n",
       "       [3097.346075, 3105.046075],\n",
       "       [3109.831084, 3115.331084],\n",
       "       [3134.525083, 3142.225083],\n",
       "       [3153.294075, 3160.994075],\n",
       "       [3170.095083, 3179.995083],\n",
       "       [3179.39607 , 3184.89607 ],\n",
       "       [3195.337077, 3203.037077],\n",
       "       [3215.555085, 3221.055085],\n",
       "       [3223.396077, 3228.896077],\n",
       "       [3230.892075, 3238.592075],\n",
       "       [3244.641078, 3252.341078],\n",
       "       [3251.960073, 3257.460073],\n",
       "       [3259.456073, 3264.956073],\n",
       "       [3271.840073, 3279.540073],\n",
       "       [3284.124075, 3294.024075],\n",
       "       [3293.94308 , 3301.64308 ],\n",
       "       [3311.33709 , 3319.03709 ],\n",
       "       [3326.945076, 3336.845076],\n",
       "       [3336.20108 , 3343.90108 ],\n",
       "       [3346.947079, 3352.447079],\n",
       "       [3355.278072, 3365.178072],\n",
       "       [3366.578087, 3374.278087],\n",
       "       [3378.27308 , 3388.17308 ],\n",
       "       [3392.707082, 3398.207082],\n",
       "       [3403.474076, 3408.974076],\n",
       "       [3410.335079, 3418.035079],\n",
       "       [3421.244077, 3426.744077],\n",
       "       [3435.392079, 3443.092079],\n",
       "       [3449.071079, 3456.771079],\n",
       "       [3458.517086, 3464.017086],\n",
       "       [3463.851079, 3471.551079],\n",
       "       [3485.292078, 3490.792078],\n",
       "       [3493.988083, 3501.688083],\n",
       "       [3501.150079, 3506.650079],\n",
       "       [3511.629079, 3521.529079],\n",
       "       [3524.88607 , 3534.78607 ],\n",
       "       [3533.936076, 3539.436076],\n",
       "       [3546.995082, 3552.495082],\n",
       "       [3554.000086, 3559.500086],\n",
       "       [3562.991084, 3572.891084],\n",
       "       [3572.73407 , 3580.43407 ],\n",
       "       [3581.963078, 3591.863078],\n",
       "       [3594.212076, 3599.712076],\n",
       "       [3606.69607 , 3614.39607 ],\n",
       "       [3617.851081, 3625.551081],\n",
       "       [3630.212072, 3640.112072],\n",
       "       [3650.052082, 3655.552082],\n",
       "       [3660.843091, 3666.343091],\n",
       "       [3667.198082, 3672.698082],\n",
       "       [3701.839089, 3709.539089],\n",
       "       [3709.307078, 3714.807078],\n",
       "       [3717.556075, 3727.456075],\n",
       "       [3726.556087, 3734.256087],\n",
       "       [3744.052076, 3749.552076],\n",
       "       [3750.707079, 3760.607079],\n",
       "       [3772.288088, 3779.988088],\n",
       "       [3786.757094, 3794.457094],\n",
       "       [3799.190075, 3804.690075],\n",
       "       [3811.384085, 3821.284085],\n",
       "       [3824.835083, 3830.335083],\n",
       "       [3834.665079, 3842.365079],\n",
       "       [3851.252076, 3858.952076],\n",
       "       [3867.028081, 3872.528081],\n",
       "       [3875.746073, 3881.246073],\n",
       "       [3880.89908 , 3886.39908 ],\n",
       "       [3885.89708 , 3893.59708 ],\n",
       "       [3894.333089, 3902.033089],\n",
       "       [3905.666081, 3913.366081],\n",
       "       [3919.799076, 3925.299076],\n",
       "       [3931.478079, 3936.978079],\n",
       "       [3938.802086, 3944.302086],\n",
       "       [3953.904077, 3961.604077],\n",
       "       [3966.248077, 3973.948077],\n",
       "       [3978.600075, 3984.100075],\n",
       "       [3992.130083, 3997.630083],\n",
       "       [4002.38108 , 4007.88108 ],\n",
       "       [4009.420075, 4017.120075],\n",
       "       [4016.626078, 4022.126078],\n",
       "       [4024.839093, 4032.539093],\n",
       "       [4038.166089, 4043.666089],\n",
       "       [4045.92809 , 4051.42809 ],\n",
       "       [4051.150086, 4061.050086],\n",
       "       [4064.843082, 4070.343082],\n",
       "       [4075.55508 , 4081.05508 ],\n",
       "       [4084.195082, 4089.695082],\n",
       "       [4154.171076, 4159.671076],\n",
       "       [4166.315079, 4174.015079],\n",
       "       [4176.199079, 4186.099079],\n",
       "       [4199.464075, 4204.964075],\n",
       "       [4207.505079, 4215.205079],\n",
       "       [4219.584077, 4227.284077],\n",
       "       [4228.567079, 4238.467079],\n",
       "       [4264.222079, 4269.722079],\n",
       "       [4272.324077, 4280.024077],\n",
       "       [4281.450076, 4286.950076],\n",
       "       [4289.948074, 4299.848074],\n",
       "       [4301.508079, 4307.008079],\n",
       "       [4315.573088, 4321.073088],\n",
       "       [4330.035082, 4339.935082],\n",
       "       [4342.051078, 4347.551078],\n",
       "       [4346.883077, 4356.783077],\n",
       "       [4373.234085, 4378.734085],\n",
       "       [4403.372078, 4413.272078],\n",
       "       [4416.704073, 4426.604073],\n",
       "       [4436.864074, 4444.564074],\n",
       "       [4444.08508 , 4449.58508 ],\n",
       "       [4454.057081, 4461.757081],\n",
       "       [4466.69708 , 4476.59708 ],\n",
       "       [4476.173091, 4483.873091],\n",
       "       [4484.584073, 4490.084073],\n",
       "       [4494.141073, 4501.841073],\n",
       "       [4504.353089, 4514.253089],\n",
       "       [4514.782087, 4524.682087],\n",
       "       [4526.854084, 4534.554084],\n",
       "       [4540.260086, 4547.960086],\n",
       "       [4549.095083, 4558.995083],\n",
       "       [4577.225087, 4582.725087],\n",
       "       [4587.820079, 4593.320079],\n",
       "       [4595.19607 , 4605.09607 ],\n",
       "       [4608.892087, 4618.792087],\n",
       "       [4622.700081, 4630.400081],\n",
       "       [4634.28407 , 4639.78407 ],\n",
       "       [4644.191083, 4649.691083],\n",
       "       [4665.856079, 4671.356079],\n",
       "       [4677.326072, 4682.826072],\n",
       "       [4689.11108 , 4694.61108 ],\n",
       "       [4698.235079, 4705.935079],\n",
       "       [4708.558076, 4716.258076],\n",
       "       [4715.326076, 4720.826076],\n",
       "       [4727.790075, 4735.490075],\n",
       "       [4744.356084, 4749.856084],\n",
       "       [4752.93309 , 4760.63309 ],\n",
       "       [4759.869089, 4767.569089],\n",
       "       [4775.860072, 4781.360072],\n",
       "       [4781.782085, 4787.282085],\n",
       "       [5054.30908 , 5062.00908 ],\n",
       "       [5065.583083, 5075.483083],\n",
       "       [5075.273078, 5080.773078],\n",
       "       [5089.090087, 5094.590087],\n",
       "       [5106.162088, 5111.662088],\n",
       "       [5116.824085, 5124.524085],\n",
       "       [5126.83209 , 5136.73209 ],\n",
       "       [5139.388089, 5144.888089],\n",
       "       [5144.257078, 5151.957078],\n",
       "       [5156.824089, 5164.524089],\n",
       "       [5166.01807 , 5171.51807 ],\n",
       "       [5171.739089, 5177.239089],\n",
       "       [5180.625084, 5190.525084],\n",
       "       [5203.355074, 5213.255074],\n",
       "       [5227.069081, 5232.569081],\n",
       "       [5237.17708 , 5247.07708 ],\n",
       "       [5252.060074, 5259.760074],\n",
       "       [5261.988079, 5271.888079],\n",
       "       [5272.785078, 5280.485078],\n",
       "       [5283.37109 , 5291.07109 ],\n",
       "       [5294.32607 , 5302.02607 ],\n",
       "       [5312.140078, 5319.840078],\n",
       "       [5330.791079, 5338.491079],\n",
       "       [5343.181082, 5350.881082],\n",
       "       [5354.201081, 5361.901081],\n",
       "       [5370.53908 , 5378.23908 ],\n",
       "       [5384.419096, 5392.119096],\n",
       "       [5397.343081, 5407.243081],\n",
       "       [5408.281072, 5415.981072],\n",
       "       [5421.095077, 5428.795077],\n",
       "       [5432.692072, 5442.592072],\n",
       "       [5446.572077, 5452.072077],\n",
       "       [5461.585089, 5469.285089],\n",
       "       [5480.861083, 5488.561083],\n",
       "       [5512.710077, 5518.210077],\n",
       "       [5518.962075, 5526.662075],\n",
       "       [5529.148075, 5536.848075],\n",
       "       [5542.379081, 5547.879081],\n",
       "       [5555.90607 , 5561.40607 ],\n",
       "       [5563.641081, 5573.541081],\n",
       "       [5584.03308 , 5591.73308 ],\n",
       "       [5601.988087, 5609.688087],\n",
       "       [5609.264085, 5619.164085],\n",
       "       [5620.722083, 5630.622083],\n",
       "       [5681.252075, 5688.952075],\n",
       "       [5691.746085, 5699.446085],\n",
       "       [5705.161079, 5712.861079],\n",
       "       [5718.346075, 5726.046075],\n",
       "       [5733.557081, 5743.457081],\n",
       "       [5747.53408 , 5755.23408 ],\n",
       "       [5758.763089, 5766.463089],\n",
       "       [5776.241083, 5781.741083],\n",
       "       [5783.312078, 5791.012078],\n",
       "       [5793.844086, 5801.544086],\n",
       "       [5812.400088, 5817.900088],\n",
       "       [5822.93209 , 5832.83209 ],\n",
       "       [5837.27007 , 5847.17007 ],\n",
       "       [5854.032076, 5861.732076],\n",
       "       [5865.78508 , 5873.48508 ],\n",
       "       [5890.61908 , 5896.11908 ],\n",
       "       [5899.222072, 5906.922072],\n",
       "       [5917.565091, 5923.065091],\n",
       "       [5925.642077, 5933.342077],\n",
       "       [5940.455092, 5945.955092],\n",
       "       [5952.427091, 5960.127091],\n",
       "       [5963.880079, 5971.580079],\n",
       "       [5982.703079, 5992.603079],\n",
       "       [5993.511086, 6001.211086],\n",
       "       [6009.650079, 6017.350079],\n",
       "       [6023.674088, 6031.374088],\n",
       "       [6037.870077, 6045.570077],\n",
       "       [6048.655078, 6054.155078],\n",
       "       [6067.292075, 6072.792075],\n",
       "       [6074.562072, 6084.462072],\n",
       "       [6087.454079, 6095.154079],\n",
       "       [6098.379082, 6106.079082],\n",
       "       [6112.222082, 6122.122082],\n",
       "       [6161.476076, 6171.376076]])"
      ]
     },
     "execution_count": 593,
     "metadata": {},
     "output_type": "execute_result"
    }
   ],
   "source": [
    "tr_times"
   ]
  },
  {
   "cell_type": "code",
   "execution_count": 627,
   "id": "universal-water",
   "metadata": {},
   "outputs": [],
   "source": [
    "def get_spike_counts(session_spk_times, session_trial_times, bin_size, mode, trial_len='same'):\n",
    "    \n",
    "    \"\"\"\n",
    "    Function that takes spike time information for a session split by trials and binarizes or counts the \n",
    "    spike information for further analyses\n",
    "    \n",
    "    Inputs \n",
    "    ------\n",
    "    session_spk_times   : list, list of list N trials long, each list contains spike times for the \n",
    "                          nth trial\n",
    "    session_trial_times : list, N trials X 2, start and stop times for each trial\n",
    "    bin_size            : int, size of sliding bin to use in seconds\n",
    "    mode                : str, whether binirze spike counts for a bin ('binary)', or count them ('count')\n",
    "    trial_len           : str, whether to pack trials of different lenghts with 0s to make all the same\n",
    "                          length ('same') or use the ending time ('end'), default='same'\n",
    "    \n",
    "    Returns\n",
    "    -------\n",
    "    session_spk_binary  : array_like, N trials X trial_len, biniarize spike train for each trial\n",
    "    \n",
    "    Notes\n",
    "    -----\n",
    "    For binarizing data, a 0.001 s window does quite well, but there will still be cases of 2-3 spikes in a bin\n",
    "    only being counted as 1 spike. This appears to be quite rare on the scale of 2-5 bins on 25% of trials\n",
    "    \"\"\"\n",
    "    \n",
    "    # initialize\n",
    "    session_spk_counts = []\n",
    "    \n",
    "    # iterate over spikes for each trial\n",
    "#     for itrial in range(2):\n",
    "    for itrial, trial_spks in enumerate(tqdm(session_spk_times)):\n",
    "        \n",
    "        # grab start time\n",
    "        t_start = session_trial_times[itrial][0]\n",
    "        \n",
    "        # determine which end time to use given inputs\n",
    "        # NOTE this assumes 6s delays are included so maximum t_len = 9.9 seconds\n",
    "        if trial_len == 'same':\n",
    "            t_end = t_start + 9.9\n",
    "        elif trial_len == 'end':\n",
    "            t_end = session_trial_times[itrial][1]\n",
    "        else:\n",
    "            print('This is not a valid_trial length type')\n",
    "        \n",
    "        # initialize bin structure to include all bins form [0 to bin_size]\n",
    "        half_bin = bin_size / 2\n",
    "        bin_centers = np.arange(t_start + half_bin, t_end, bin_size)\n",
    "        n_bins = len(bin_centers)\n",
    "        \n",
    "        # updated for each trial\n",
    "        trial_spk_counts = np.zeros((n_bins))\n",
    "        \n",
    "        for ibin in range(n_bins):\n",
    "            # for each of the spikes in the ith trial, do any fit in the ith bin?\n",
    "            if mode == 'binary':\n",
    "                spike_in_ibin = np.logical_and(session_spk_times[itrial] >= (bin_centers[ibin] - half_bin), \n",
    "                                               session_spk_times[itrial] <= (bin_centers[ibin] + half_bin))\n",
    "            \n",
    "                # if there is a spike in the bin, report it NOTE 1 ms isn't enough to get only 1 spike per bin, \n",
    "                # but it is still very rare, so there may be multiple spikes in a bin and we only count 1\n",
    "                if np.sum(spike_in_ibin) > 0:\n",
    "                    trial_spk_counts[ibin] = 1\n",
    "            \n",
    "            elif mode == 'count':\n",
    "                # for each of the spikes in the ith trial, how many fit into the ith bin?\n",
    "                n_spike_in_bin = np.sum(np.logical_and(session_spk_times[itrial] >= (bin_centers[ibin] - half_bin), \n",
    "                                                       session_spk_times[itrial] <= (bin_centers[ibin] + half_bin)))\n",
    "                \n",
    "                trial_spk_counts[ibin] = n_spike_in_bin\n",
    "                \n",
    "        session_spk_counts.append(trial_spk_counts)\n",
    "    \n",
    "    return session_spk_counts         "
   ]
  },
  {
   "cell_type": "code",
   "execution_count": 636,
   "id": "together-therapist",
   "metadata": {},
   "outputs": [
    {
     "name": "stderr",
     "output_type": "stream",
     "text": [
      "100%|█████████████████████████████████████████████████████████████████████| 392/392 [00:34<00:00, 11.20it/s]\n"
     ]
    }
   ],
   "source": [
    "binary = get_spike_counts(tr_spk_L, tr_times, bin_size = 0.001, mode = 'binary')"
   ]
  },
  {
   "cell_type": "code",
   "execution_count": 637,
   "id": "fixed-modeling",
   "metadata": {},
   "outputs": [
    {
     "name": "stderr",
     "output_type": "stream",
     "text": [
      "100%|███████████████████████████████████████████████████████████████████| 392/392 [00:00<00:00, 1090.09it/s]\n"
     ]
    }
   ],
   "source": [
    "count = get_spike_counts(tr_spk_L, tr_times, bin_size=0.1, mode = 'count')"
   ]
  },
  {
   "cell_type": "code",
   "execution_count": 640,
   "id": "killing-honolulu",
   "metadata": {},
   "outputs": [
    {
     "data": {
      "text/plain": [
       "[<matplotlib.lines.Line2D at 0x2f3b5fc2f08>]"
      ]
     },
     "execution_count": 640,
     "metadata": {},
     "output_type": "execute_result"
    },
    {
     "data": {
      "image/png": "[encoded data removed]",
      "text/plain": [
       "<Figure size 432x288 with 1 Axes>"
      ]
     },
     "metadata": {
      "needs_background": "light"
     },
     "output_type": "display_data"
    }
   ],
   "source": [
    "trial = 300\n",
    "plt.plot(binary[trial])"
   ]
  },
  {
   "cell_type": "code",
   "execution_count": 641,
   "id": "recreational-hormone",
   "metadata": {},
   "outputs": [
    {
     "data": {
      "text/plain": [
       "[<matplotlib.lines.Line2D at 0x2f3b602ae08>]"
      ]
     },
     "execution_count": 641,
     "metadata": {},
     "output_type": "execute_result"
    },
    {
     "data": {
      "image/png": "[encoded data removed]",
      "text/plain": [
       "<Figure size 432x288 with 1 Axes>"
      ]
     },
     "metadata": {
      "needs_background": "light"
     },
     "output_type": "display_data"
    }
   ],
   "source": [
    "plt.plot(count[trial])"
   ]
  },
  {
   "cell_type": "code",
   "execution_count": 317,
   "id": "intense-collins",
   "metadata": {},
   "outputs": [],
   "source": [
    "def gaussian(x, mu, sigma):\n",
    "    return 1 / (sigma * np.sqrt(2 * np.pi)) * np.exp(-1/2 * ((x - mu)/sigma)**2)"
   ]
  },
  {
   "cell_type": "code",
   "execution_count": 352,
   "id": "removed-community",
   "metadata": {},
   "outputs": [
    {
     "data": {
      "text/plain": [
       "[<matplotlib.lines.Line2D at 0x2f29e490a88>]"
      ]
     },
     "execution_count": 352,
     "metadata": {},
     "output_type": "execute_result"
    },
    {
     "data": {
      "image/png": "[encoded data removed]",
      "text/plain": [
       "<Figure size 432x288 with 1 Axes>"
      ]
     },
     "metadata": {
      "needs_background": "light"
     },
     "output_type": "display_data"
    }
   ],
   "source": [
    "mu = 0\n",
    "sigma = .150\n",
    "\n",
    "x = np.linspace(-1.0, 1.0, 150)\n",
    "kernal = gaussian(x, mu, sigma)\n",
    "kernal = kernal/np.sum(kernal)\n",
    "plt.plot(x, kernal)"
   ]
  },
  {
   "cell_type": "code",
   "execution_count": 448,
   "id": "affiliated-april",
   "metadata": {},
   "outputs": [
    {
     "data": {
      "text/plain": [
       "[<matplotlib.lines.Line2D at 0x2f29ed95088>]"
      ]
     },
     "execution_count": 448,
     "metadata": {},
     "output_type": "execute_result"
    },
    {
     "data": {
      "image/png": "[encoded data removed]",
      "text/plain": [
       "<Figure size 720x360 with 1 Axes>"
      ]
     },
     "metadata": {
      "needs_background": "light"
     },
     "output_type": "display_data"
    }
   ],
   "source": [
    "spike_train = tr_spk_binary[5]\n",
    "fig, ax = plt.subplots(figsize = (10,5))\n",
    "plt.plot(np.convolve(spike_train, kernal, mode = 'same'))"
   ]
  },
  {
   "cell_type": "code",
   "execution_count": 449,
   "id": "combined-mailing",
   "metadata": {},
   "outputs": [
    {
     "data": {
      "text/plain": [
       "(9900, 9900)"
      ]
     },
     "execution_count": 449,
     "metadata": {},
     "output_type": "execute_result"
    }
   ],
   "source": [
    "len(tr_spk_binary[6]), len(np.convolve(spike_train, kernal, mode = 'same'))"
   ]
  },
  {
   "cell_type": "code",
   "execution_count": 450,
   "id": "sporting-chassis",
   "metadata": {},
   "outputs": [],
   "source": [
    "conv_trial = []\n",
    "for trial in tr_spk_binary:\n",
    "    smoothed =(np.convolve(trial, kernal, mode = 'same'))\n",
    "    smoothed = np.where(smoothed == 0, np.nan, smoothed)\n",
    "    conv_trial.append(smoothed)\n",
    "    \n",
    "conv_trial = np.array(conv_trial)"
   ]
  },
  {
   "cell_type": "code",
   "execution_count": 455,
   "id": "challenging-invention",
   "metadata": {},
   "outputs": [],
   "source": [
    "test_mean = np.nanmean(conv_trial, axis=0)\n",
    "test_sem = stats.sem(conv_trial, axis=0, nan_policy='omit')"
   ]
  },
  {
   "cell_type": "code",
   "execution_count": null,
   "id": "established-aurora",
   "metadata": {},
   "outputs": [],
   "source": []
  },
  {
   "cell_type": "code",
   "execution_count": 458,
   "id": "controversial-metadata",
   "metadata": {},
   "outputs": [],
   "source": [
    "time = np.linspace(0,9.9, len(test_mean))"
   ]
  },
  {
   "cell_type": "code",
   "execution_count": 462,
   "id": "acknowledged-drama",
   "metadata": {},
   "outputs": [
    {
     "data": {
      "text/plain": [
       "[(0.0, 2.0)]"
      ]
     },
     "execution_count": 462,
     "metadata": {},
     "output_type": "execute_result"
    },
    {
     "data": {
      "image/png": "[encoded data removed]",
      "text/plain": [
       "<Figure size 1080x216 with 1 Axes>"
      ]
     },
     "metadata": {
      "needs_background": "light"
     },
     "output_type": "display_data"
    }
   ],
   "source": [
    "fig, ax = plt.subplots(figsize = (15, 3))\n",
    "ax.plot(time, test_mean)\n",
    "ax.fill_between(time, test_mean - test_sem, test_mean + test_sem, alpha = 0.2 )\n",
    "ax.set(xlim =(0,2))"
   ]
  },
  {
   "cell_type": "code",
   "execution_count": 50,
   "id": "valid-champion",
   "metadata": {},
   "outputs": [],
   "source": [
    "# Initialize info for plotting\n",
    "hit_df = beh_df[(beh_df['hit_hist'] == 'hit')]\n",
    "aud1_df = hit_df[(hit_df['first_sound'] != 'psycho')]"
   ]
  },
  {
   "cell_type": "markdown",
   "id": "unusual-darwin",
   "metadata": {},
   "source": [
    "## Stoped here"
   ]
  },
  {
   "cell_type": "code",
   "execution_count": 53,
   "id": "capital-melbourne",
   "metadata": {},
   "outputs": [
    {
     "name": "stdout",
     "output_type": "stream",
     "text": [
      "Loading existing mask_dict...\n",
      "Done loading.\n",
      "ngood, first: 175\n",
      "ngood, first: 175\n",
      "ngood, second: 195\n",
      "ngood, second: 195\n"
     ]
    }
   ],
   "source": [
    "bndl_dfs, df_names = deal_with_masking(spks_dict, aud1_df, sess_path, 'aud1_no_psycho', 30000)"
   ]
  },
  {
   "cell_type": "code",
   "execution_count": 58,
   "id": "realistic-chase",
   "metadata": {},
   "outputs": [],
   "source": [
    "# initilaize\n",
    "events = ['aud1_on']\n",
    "event_names = ['aud1_on']\n",
    "window = [-500, 2300]\n",
    "condition = 'first_sound'"
   ]
  },
  {
   "cell_type": "code",
   "execution_count": 298,
   "id": "destroyed-depth",
   "metadata": {},
   "outputs": [],
   "source": [
    "# initilaize\n",
    "events = ['aud1_on']\n",
    "windows = [[-1000,2300]]\n",
    "condition = 'correct_side'\n",
    "\n",
    "# get neurons into NeuroVis objects\n",
    "neurons = initiate_neurons(spks_dict)\n",
    "neuron = NeuroVis(spks_dict['spk_times'][0])\n",
    "\n",
    "#single neuron debug\n",
    "window = windows[0]\n",
    "binsize = 100\n",
    "df = bndl_dfs[df_names[0]]\n",
    "phys_start = neuron.spiketimes[0]\n",
    "phys_end = neuron.spiketimes[-1]\n",
    "event = events[0]\n",
    "conditions = 'correct_side'"
   ]
  },
  {
   "cell_type": "code",
   "execution_count": 13,
   "id": "possible-cleveland",
   "metadata": {},
   "outputs": [],
   "source": [
    "neuron_rasters = get_neuron_rasters(neurons, events, windows, bndl_dfs, df_names)\n",
    "neuron_psths = get_neuron_psths(neurons, events, windows, bndl_dfs, df_names, conditions=condition)"
   ]
  },
  {
   "cell_type": "code",
   "execution_count": 302,
   "id": "blank-jersey",
   "metadata": {},
   "outputs": [
    {
     "data": {
      "text/plain": [
       "(14, 17)"
      ]
     },
     "execution_count": 302,
     "metadata": {},
     "output_type": "execute_result"
    }
   ],
   "source": [
    "if not type(df) is dict:\n",
    "        df = df.reset_index()\n",
    "len(np.sum(raster['data'][0], axis = 1)), len(psth['data'][0]['mean'])"
   ]
  },
  {
   "cell_type": "code",
   "execution_count": 176,
   "id": "gentle-victim",
   "metadata": {},
   "outputs": [],
   "source": [
    "if not type(df) is dict:\n",
    "    df2 = df.reset_index()\n",
    "wind = [np.floor(window[0]/binsize) * binsize, np.ceil(window[1]/binsize) * binsize]"
   ]
  },
  {
   "cell_type": "code",
   "execution_count": 177,
   "id": "complimentary-inclusion",
   "metadata": {},
   "outputs": [],
   "source": [
    "trials = dict()\n",
    "trials[0] = np.where(np.ones(np.size(df[event])))[0]\n",
    "rasters = {\n",
    "        'event': event,\n",
    "        'conditions': conditions,\n",
    "        'window': window,\n",
    "        'binsize': binsize,\n",
    "        'data': {},\n",
    "    }"
   ]
  },
  {
   "cell_type": "code",
   "execution_count": 191,
   "id": "loved-handy",
   "metadata": {},
   "outputs": [],
   "source": [
    "for cond_id in trials:\n",
    "    # Select events relevant to this raster\n",
    "    selected_events = df[event].iloc[trials[cond_id]]\n",
    "\n",
    "    raster = []\n",
    "    \n",
    "    bin_template = 1e-3 * np.arange(window[0], window[1] + binsize, binsize)\n",
    "    \n",
    "    for event_time in selected_events:\n",
    "        bins = event_time + bin_template\n",
    "\n"
   ]
  },
  {
   "cell_type": "code",
   "execution_count": 196,
   "id": "assigned-investigation",
   "metadata": {},
   "outputs": [
    {
     "data": {
      "text/plain": [
       "array([-1. , -0.9, -0.8, -0.7, -0.6, -0.5, -0.4, -0.3, -0.2, -0.1,  0. ,\n",
       "        0.1,  0.2,  0.3,  0.4,  0.5,  0.6,  0.7,  0.8,  0.9,  1. ,  1.1,\n",
       "        1.2,  1.3,  1.4,  1.5,  1.6,  1.7,  1.8,  1.9,  2. ,  2.1,  2.2,\n",
       "        2.3])"
      ]
     },
     "execution_count": 196,
     "metadata": {},
     "output_type": "execute_result"
    }
   ],
   "source": [
    "bin_template"
   ]
  },
  {
   "cell_type": "code",
   "execution_count": 195,
   "id": "transsexual-spread",
   "metadata": {},
   "outputs": [
    {
     "name": "stdout",
     "output_type": "stream",
     "text": [
      "[5867.858354 5867.958354 5868.058354 5868.158354 5868.258354 5868.358354\n",
      " 5868.458354 5868.558354 5868.658354 5868.758354 5868.858354 5868.958354\n",
      " 5869.058354 5869.158354 5869.258354 5869.358354 5869.458354 5869.558354\n",
      " 5869.658354 5869.758354 5869.858354 5869.958354 5870.058354 5870.158354\n",
      " 5870.258354 5870.358354 5870.458354 5870.558354 5870.658354 5870.758354\n",
      " 5870.858354 5870.958354 5871.058354 5871.158354]\n"
     ]
    }
   ],
   "source": [
    "for event_time in selected_events:\n",
    "    bins = event_time + bin_template\n",
    "    \n",
    "    searchsorted_idx = np.sq"
   ]
  },
  {
   "cell_type": "code",
   "execution_count": 212,
   "id": "appointed-street",
   "metadata": {},
   "outputs": [
    {
     "data": {
      "text/plain": [
       "(5868.858354, 5867.858354, 5871.158354)"
      ]
     },
     "execution_count": 212,
     "metadata": {},
     "output_type": "execute_result"
    }
   ],
   "source": [
    "event_time, event_time + 1e-3 * window[0], event_time + 1e-3 * window[1]"
   ]
  },
  {
   "cell_type": "code",
   "execution_count": null,
   "id": "realistic-strength",
   "metadata": {},
   "outputs": [],
   "source": []
  }
 ],
 "metadata": {
  "kernelspec": {
   "display_name": "Python 3",
   "language": "python",
   "name": "python3"
  },
  "language_info": {
   "codemirror_mode": {
    "name": "ipython",
    "version": 3
   },
   "file_extension": ".py",
   "mimetype": "text/x-python",
   "name": "python",
   "nbconvert_exporter": "python",
   "pygments_lexer": "ipython3",
   "version": "3.7.9"
  }
 },
 "nbformat": 4,
 "nbformat_minor": 5
}
