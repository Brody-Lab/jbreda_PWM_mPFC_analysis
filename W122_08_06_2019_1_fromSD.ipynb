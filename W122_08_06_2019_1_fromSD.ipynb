{
 "cells": [
  {
   "cell_type": "code",
   "execution_count": 24,
   "id": "early-guarantee",
   "metadata": {},
   "outputs": [
    {
     "name": "stdout",
     "output_type": "stream",
     "text": [
      "The autoreload extension is already loaded. To reload it, use:\n",
      "  %reload_ext autoreload\n"
     ]
    }
   ],
   "source": [
    "# libraries\n",
    "import sys; sys.path.insert(0, '..') # if you don't find it here, look one above\n",
    "import os\n",
    "import numpy as np\n",
    "import matplotlib.pyplot as plt\n",
    "import pandas as pd\n",
    "import seaborn as sns\n",
    "import scipy.io as spio\n",
    "import pickle\n",
    "# stored one repo up in my fork of Spykes\n",
    "from spykes.spykes.plot.neurovis import NeuroVis\n",
    "from io_utils import *\n",
    "from plotting_utils import * \n",
    "\n",
    "# settings\n",
    "%load_ext autoreload\n",
    "%autoreload 2\n",
    "sns.set_context(\"talk\")"
   ]
  },
  {
   "cell_type": "code",
   "execution_count": 31,
   "id": "timely-sweet",
   "metadata": {},
   "outputs": [],
   "source": [
    "# base paths/names\n",
    "sess_names = np.load('sess_names.npy')\n",
    "sess_name = sess_names[3]\n",
    "\n",
    "base_path  = 'Y:\\jbreda\\ephys\\post_sort_analysis\\sorted_pre_bdata' \n",
    "beh_mat   = 'protocol_info.mat'\n",
    "spks_mat  = 'ksphy_clusters_foranalysis.mat'\n",
    "\n",
    "\n",
    "# create paths\n",
    "sess_path = os.path.join(base_path, sess_name)\n",
    "beh_path  = os.path.join(sess_path, beh_mat)\n",
    "spks_path = os.path.join(sess_path, spks_mat)\n",
    "fig_save_path = os.path.join(os.getcwd(), 'figures', 'neurovis', sess_name)\n",
    "\n",
    "# load & wrangle\n",
    "beh_df, spks_dict = load_and_wrangle(beh_path, spks_path, overwrite=True)\n"
   ]
  },
  {
   "cell_type": "markdown",
   "id": "small-narrative",
   "metadata": {},
   "source": [
    "### Separate spike times by trials\n",
    "\n",
    "Create a list of list that is N trials long w/ spike info from cpoke to endstate for each trial. \n",
    "\n",
    "**TODO** turn into function"
   ]
  },
  {
   "cell_type": "code",
   "execution_count": 204,
   "id": "objective-voluntary",
   "metadata": {},
   "outputs": [],
   "source": [
    "test_neuron = spks_dict['spk_times'][0]\n",
    "test_neurovis = NeuroVis(test_neuron)"
   ]
  },
  {
   "cell_type": "code",
   "execution_count": 226,
   "id": "permanent-stroke",
   "metadata": {},
   "outputs": [],
   "source": [
    "raster = test_neurovis.get_raster(event= 'aud1_on', binsize = 100, df = beh_df, plot = False)"
   ]
  },
  {
   "cell_type": "code",
   "execution_count": 227,
   "id": "proprietary-coating",
   "metadata": {},
   "outputs": [
    {
     "data": {
      "text/plain": [
       "{'event': 'aud1_on',\n",
       " 'conditions': None,\n",
       " 'window': [-100.0, 500.0],\n",
       " 'binsize': 100,\n",
       " 'data': {0: array([[5, 6, 4, 5, 6, 3],\n",
       "         [0, 0, 1, 3, 3, 0],\n",
       "         [0, 0, 0, 0, 0, 6],\n",
       "         ...,\n",
       "         [6, 4, 6, 5, 1, 4],\n",
       "         [0, 0, 0, 7, 3, 3],\n",
       "         [0, 0, 0, 3, 4, 1]], dtype=int64)},\n",
       " 'nandata': {0: array([[ 5.,  6.,  4.,  5.,  6.,  3.],\n",
       "         [nan, nan,  1.,  3.,  3., nan],\n",
       "         [nan, nan, nan, nan, nan,  6.],\n",
       "         ...,\n",
       "         [ 6.,  4.,  6.,  5.,  1.,  4.],\n",
       "         [nan, nan, nan,  7.,  3.,  3.],\n",
       "         [nan, nan, nan,  3.,  4.,  1.]])}}"
      ]
     },
     "execution_count": 227,
     "metadata": {},
     "output_type": "execute_result"
    }
   ],
   "source": [
    "raster"
   ]
  },
  {
   "cell_type": "code",
   "execution_count": 221,
   "id": "unlikely-ready",
   "metadata": {},
   "outputs": [
    {
     "data": {
      "text/plain": [
       "array([[ 5.,  6.,  4.,  5.,  6.,  3.],\n",
       "       [nan, nan,  1.,  3.,  3., nan],\n",
       "       [nan, nan, nan, nan, nan,  6.],\n",
       "       ...,\n",
       "       [ 6.,  4.,  6.,  5.,  1.,  4.],\n",
       "       [nan, nan, nan,  7.,  3.,  3.],\n",
       "       [nan, nan, nan,  3.,  4.,  1.]])"
      ]
     },
     "execution_count": 221,
     "metadata": {},
     "output_type": "execute_result"
    }
   ],
   "source": [
    "cond_id = 0\n",
    "test = np.where(raster['data'][cond_id] == 0, np.nan,raster['data'][cond_id])\n",
    "\n",
    "test"
   ]
  },
  {
   "cell_type": "code",
   "execution_count": 216,
   "id": "narrative-auction",
   "metadata": {},
   "outputs": [
    {
     "ename": "AttributeError",
     "evalue": "'NoneType' object has no attribute 'reset_index'",
     "output_type": "error",
     "traceback": [
      "\u001b[1;31m---------------------------------------------------------------------------\u001b[0m",
      "\u001b[1;31mAttributeError\u001b[0m                            Traceback (most recent call last)",
      "\u001b[1;32m<ipython-input-216-4d93d1660f17>\u001b[0m in \u001b[0;36m<module>\u001b[1;34m\u001b[0m\n\u001b[0;32m      1\u001b[0m \u001b[0mplt\u001b[0m\u001b[1;33m.\u001b[0m\u001b[0msubplots\u001b[0m\u001b[1;33m(\u001b[0m\u001b[1;36m1\u001b[0m\u001b[1;33m,\u001b[0m\u001b[1;36m1\u001b[0m\u001b[1;33m)\u001b[0m\u001b[1;33m\u001b[0m\u001b[1;33m\u001b[0m\u001b[0m\n\u001b[1;32m----> 2\u001b[1;33m \u001b[0mtest_neurovis\u001b[0m\u001b[1;33m.\u001b[0m\u001b[0mget_psth\u001b[0m\u001b[1;33m(\u001b[0m\u001b[0mevent\u001b[0m \u001b[1;33m=\u001b[0m \u001b[1;34m'aud1_on'\u001b[0m\u001b[1;33m,\u001b[0m \u001b[0mbinsize\u001b[0m \u001b[1;33m=\u001b[0m \u001b[1;36m100\u001b[0m\u001b[1;33m)\u001b[0m\u001b[1;33m\u001b[0m\u001b[1;33m\u001b[0m\u001b[0m\n\u001b[0m",
      "\u001b[1;32m~\\Documents\\GitHub\\spykes\\spykes\\plot\\neurovis.py\u001b[0m in \u001b[0;36mget_psth\u001b[1;34m(self, event, df, conditions, cond_id, window, binsize, plot, event_name, conditions_names, ylim, colors)\u001b[0m\n\u001b[0;32m    254\u001b[0m         rasters = self.get_raster(event=event, df=df,\n\u001b[0;32m    255\u001b[0m                                   \u001b[0mconditions\u001b[0m\u001b[1;33m=\u001b[0m\u001b[0mconditions\u001b[0m\u001b[1;33m,\u001b[0m\u001b[1;33m\u001b[0m\u001b[1;33m\u001b[0m\u001b[0m\n\u001b[1;32m--> 256\u001b[1;33m                                   window=window, binsize=binsize, plot=False)\n\u001b[0m\u001b[0;32m    257\u001b[0m \u001b[1;33m\u001b[0m\u001b[0m\n\u001b[0;32m    258\u001b[0m \u001b[1;33m\u001b[0m\u001b[0m\n",
      "\u001b[1;32m~\\Documents\\GitHub\\spykes\\spykes\\plot\\neurovis.py\u001b[0m in \u001b[0;36mget_raster\u001b[1;34m(self, event, conditions, df, window, binsize, plot, sortby, sortorder)\u001b[0m\n\u001b[0;32m     59\u001b[0m \u001b[1;33m\u001b[0m\u001b[0m\n\u001b[0;32m     60\u001b[0m         \u001b[1;32mif\u001b[0m \u001b[1;32mnot\u001b[0m \u001b[0mtype\u001b[0m\u001b[1;33m(\u001b[0m\u001b[0mdf\u001b[0m\u001b[1;33m)\u001b[0m \u001b[1;32mis\u001b[0m \u001b[0mdict\u001b[0m\u001b[1;33m:\u001b[0m\u001b[1;33m\u001b[0m\u001b[1;33m\u001b[0m\u001b[0m\n\u001b[1;32m---> 61\u001b[1;33m             \u001b[0mdf\u001b[0m \u001b[1;33m=\u001b[0m \u001b[0mdf\u001b[0m\u001b[1;33m.\u001b[0m\u001b[0mreset_index\u001b[0m\u001b[1;33m(\u001b[0m\u001b[1;33m)\u001b[0m\u001b[1;33m\u001b[0m\u001b[1;33m\u001b[0m\u001b[0m\n\u001b[0m\u001b[0;32m     62\u001b[0m \u001b[1;33m\u001b[0m\u001b[0m\n\u001b[0;32m     63\u001b[0m         window = [np.floor(window[0] / binsize) * binsize,\n",
      "\u001b[1;31mAttributeError\u001b[0m: 'NoneType' object has no attribute 'reset_index'"
     ]
    },
    {
     "data": {
      "image/png": "[encoded data removed]",
      "text/plain": [
       "<Figure size 432x288 with 1 Axes>"
      ]
     },
     "metadata": {
      "needs_background": "light"
     },
     "output_type": "display_data"
    }
   ],
   "source": [
    "plt.subplots(1,1)\n",
    "test_neurovis.get_psth(event = 'aud1_on', binsize = 100)"
   ]
  },
  {
   "cell_type": "code",
   "execution_count": 111,
   "id": "joined-thinking",
   "metadata": {},
   "outputs": [],
   "source": [
    "\n",
    "# initialize\n",
    "tr_times = np.zeros((len(beh_df),2))\n",
    "tr_spk_L = []\n",
    "\n",
    "# make counter bc idx is not continous\n",
    "tr = 0\n",
    "\n",
    "for idx, row in beh_df.iterrows():\n",
    "    \n",
    "    # grab start time 100 ms before c poke\n",
    "    tr_start = row['c_poke'] - 0.001\n",
    "    \n",
    "    # create end time so delays have same length\n",
    "    # NOTE: this is specific for analyzing delay period only\n",
    "    if row['delay'] == 2:\n",
    "        tr_end = tr_start + 5.5\n",
    "    elif row['delay'] == 4:\n",
    "        tr_end = tr_start + 7.7\n",
    "    elif row['delay'] == 6:\n",
    "        tr_end = tr_start + 9.9\n",
    "    else:\n",
    "        print('Trial delay is not 2, 4 or 6 seconds')\n",
    "    \n",
    "    # append start and end times\n",
    "    tr_times[tr,:] = tr_start, tr_end\n",
    "    tr+=1\n",
    "    \n",
    "    # grab spike time within trial window & append them\n",
    "    tr_spk_L.append(test_neuron[np.logical_and(test_neuron >= tr_start, test_neuron <= tr_end)])\n",
    "    "
   ]
  },
  {
   "cell_type": "markdown",
   "id": "sound-opera",
   "metadata": {},
   "source": [
    "### Discretizing \n",
    "\n",
    "Take spk times x trials above, & given a bin size (1 ms) search in trial & binarize"
   ]
  },
  {
   "cell_type": "code",
   "execution_count": 129,
   "id": "weighted-classics",
   "metadata": {},
   "outputs": [],
   "source": [
    "np.zeros?"
   ]
  },
  {
   "cell_type": "code",
   "execution_count": 130,
   "id": "respective-class",
   "metadata": {},
   "outputs": [
    {
     "data": {
      "text/plain": [
       "array([519.08890999, 519.09117655, 519.12800808, 519.16353967,\n",
       "       519.1684061 , 519.18660521, 519.21917029, 519.22290344,\n",
       "       519.2243367 , 519.23940263])"
      ]
     },
     "execution_count": 130,
     "metadata": {},
     "output_type": "execute_result"
    }
   ],
   "source": [
    "tr_spk_L[0][0:10]"
   ]
  },
  {
   "cell_type": "code",
   "execution_count": 170,
   "id": "spanish-community",
   "metadata": {},
   "outputs": [],
   "source": [
    "# 1 ms bins & sample rate\n",
    "binsize = 0.001\n",
    "sample_rate= 1000\n",
    "\n",
    "for trial,tr_spk in enumerate(tr_spk_L):\n",
    "    \n",
    "    tr_start = tr_times[trial][0]\n",
    "    tr_end = tr_times[trial][1]\n",
    "    halfbin = binsize / 2\n",
    "    bincenters = np.arange(tr_start + halfbin, tr_end, binsize)\n",
    "    NBINS = len(bincenters)\n",
    "    # arr from start time to end time in steps of bins\n",
    "    bin_template =  np.arange(tr_times[trial][0], tr_times[trial][1], bin_size)\n",
    "    \n",
    "    # initialize\n",
    "    tr_spk_binary = np.zeros(np.size(NBINS))\n",
    "    \n",
    "    \n",
    "    for ibin in range(NBINS):\n",
    "        nspikes = np.sum(np.logical_and(tr_spk >= (bincenters[ibin] - halfbin), \n",
    "                                 tr_spk <= (bincenters[ibin] + halfbin)))\n",
    "        \n",
    "        \n",
    "        \n",
    "        \n"
   ]
  },
  {
   "cell_type": "code",
   "execution_count": 185,
   "id": "iraqi-backing",
   "metadata": {},
   "outputs": [],
   "source": [
    "t1 = tr_spk_L[0]\n",
    "t1t = tr_times[0]\n",
    "\n",
    "bin_temp = np.arange(t1t[0], t1t[1], binsize)\n",
    "bincenters = np.arange(t1t[0] + halfbin, t1t[1], binsize)\n",
    "nbins = len(bincenters)"
   ]
  },
  {
   "cell_type": "code",
   "execution_count": 184,
   "id": "personal-montana",
   "metadata": {},
   "outputs": [
    {
     "data": {
      "text/plain": [
       "5500"
      ]
     },
     "execution_count": 184,
     "metadata": {},
     "output_type": "execute_result"
    }
   ],
   "source": []
  },
  {
   "cell_type": "code",
   "execution_count": 50,
   "id": "daily-flooring",
   "metadata": {},
   "outputs": [],
   "source": [
    "# Initialize info for plotting\n",
    "hit_df = beh_df[(beh_df['hit_hist'] == 'hit')]\n",
    "aud1_df = hit_df[(hit_df['first_sound'] != 'psycho')]"
   ]
  },
  {
   "cell_type": "markdown",
   "id": "touched-receiver",
   "metadata": {},
   "source": [
    "## Stoped here"
   ]
  },
  {
   "cell_type": "code",
   "execution_count": 53,
   "id": "flexible-savage",
   "metadata": {},
   "outputs": [
    {
     "name": "stdout",
     "output_type": "stream",
     "text": [
      "Loading existing mask_dict...\n",
      "Done loading.\n",
      "ngood, first: 175\n",
      "ngood, first: 175\n",
      "ngood, second: 195\n",
      "ngood, second: 195\n"
     ]
    }
   ],
   "source": [
    "bndl_dfs, df_names = deal_with_masking(spks_dict, aud1_df, sess_path, 'aud1_no_psycho', 30000)"
   ]
  },
  {
   "cell_type": "code",
   "execution_count": 58,
   "id": "worldwide-signal",
   "metadata": {},
   "outputs": [],
   "source": [
    "# initilaize\n",
    "events = ['aud1_on']\n",
    "event_names = ['aud1_on']\n",
    "window = [-500, 2300]\n",
    "condition = 'first_sound'"
   ]
  },
  {
   "cell_type": "code",
   "execution_count": 298,
   "id": "destroyed-depth",
   "metadata": {},
   "outputs": [],
   "source": [
    "# initilaize\n",
    "events = ['aud1_on']\n",
    "windows = [[-1000,2300]]\n",
    "condition = 'correct_side'\n",
    "\n",
    "# get neurons into NeuroVis objects\n",
    "neurons = initiate_neurons(spks_dict)\n",
    "neuron = NeuroVis(spks_dict['spk_times'][0])\n",
    "\n",
    "#single neuron debug\n",
    "window = windows[0]\n",
    "binsize = 100\n",
    "df = bndl_dfs[df_names[0]]\n",
    "phys_start = neuron.spiketimes[0]\n",
    "phys_end = neuron.spiketimes[-1]\n",
    "event = events[0]\n",
    "conditions = 'correct_side'"
   ]
  },
  {
   "cell_type": "code",
   "execution_count": 13,
   "id": "possible-cleveland",
   "metadata": {},
   "outputs": [],
   "source": [
    "neuron_rasters = get_neuron_rasters(neurons, events, windows, bndl_dfs, df_names)\n",
    "neuron_psths = get_neuron_psths(neurons, events, windows, bndl_dfs, df_names, conditions=condition)"
   ]
  },
  {
   "cell_type": "code",
   "execution_count": 302,
   "id": "blank-jersey",
   "metadata": {},
   "outputs": [
    {
     "data": {
      "text/plain": [
       "(14, 17)"
      ]
     },
     "execution_count": 302,
     "metadata": {},
     "output_type": "execute_result"
    }
   ],
   "source": [
    "if not type(df) is dict:\n",
    "        df = df.reset_index()\n",
    "len(np.sum(raster['data'][0], axis = 1)), len(psth['data'][0]['mean'])"
   ]
  },
  {
   "cell_type": "code",
   "execution_count": 176,
   "id": "gentle-victim",
   "metadata": {},
   "outputs": [],
   "source": [
    "if not type(df) is dict:\n",
    "    df2 = df.reset_index()\n",
    "wind = [np.floor(window[0]/binsize) * binsize, np.ceil(window[1]/binsize) * binsize]"
   ]
  },
  {
   "cell_type": "code",
   "execution_count": 177,
   "id": "complimentary-inclusion",
   "metadata": {},
   "outputs": [],
   "source": [
    "trials = dict()\n",
    "trials[0] = np.where(np.ones(np.size(df[event])))[0]\n",
    "rasters = {\n",
    "        'event': event,\n",
    "        'conditions': conditions,\n",
    "        'window': window,\n",
    "        'binsize': binsize,\n",
    "        'data': {},\n",
    "    }"
   ]
  },
  {
   "cell_type": "code",
   "execution_count": 191,
   "id": "loved-handy",
   "metadata": {},
   "outputs": [],
   "source": [
    "for cond_id in trials:\n",
    "    # Select events relevant to this raster\n",
    "    selected_events = df[event].iloc[trials[cond_id]]\n",
    "\n",
    "    raster = []\n",
    "    \n",
    "    bin_template = 1e-3 * np.arange(window[0], window[1] + binsize, binsize)\n",
    "    \n",
    "    for event_time in selected_events:\n",
    "        bins = event_time + bin_template\n",
    "\n"
   ]
  },
  {
   "cell_type": "code",
   "execution_count": 196,
   "id": "assigned-investigation",
   "metadata": {},
   "outputs": [
    {
     "data": {
      "text/plain": [
       "array([-1. , -0.9, -0.8, -0.7, -0.6, -0.5, -0.4, -0.3, -0.2, -0.1,  0. ,\n",
       "        0.1,  0.2,  0.3,  0.4,  0.5,  0.6,  0.7,  0.8,  0.9,  1. ,  1.1,\n",
       "        1.2,  1.3,  1.4,  1.5,  1.6,  1.7,  1.8,  1.9,  2. ,  2.1,  2.2,\n",
       "        2.3])"
      ]
     },
     "execution_count": 196,
     "metadata": {},
     "output_type": "execute_result"
    }
   ],
   "source": [
    "bin_template"
   ]
  },
  {
   "cell_type": "code",
   "execution_count": 195,
   "id": "transsexual-spread",
   "metadata": {},
   "outputs": [
    {
     "name": "stdout",
     "output_type": "stream",
     "text": [
      "[5867.858354 5867.958354 5868.058354 5868.158354 5868.258354 5868.358354\n",
      " 5868.458354 5868.558354 5868.658354 5868.758354 5868.858354 5868.958354\n",
      " 5869.058354 5869.158354 5869.258354 5869.358354 5869.458354 5869.558354\n",
      " 5869.658354 5869.758354 5869.858354 5869.958354 5870.058354 5870.158354\n",
      " 5870.258354 5870.358354 5870.458354 5870.558354 5870.658354 5870.758354\n",
      " 5870.858354 5870.958354 5871.058354 5871.158354]\n"
     ]
    }
   ],
   "source": [
    "for event_time in selected_events:\n",
    "    bins = event_time + bin_template\n",
    "    \n",
    "    searchsorted_idx = np.sq"
   ]
  },
  {
   "cell_type": "code",
   "execution_count": 212,
   "id": "appointed-street",
   "metadata": {},
   "outputs": [
    {
     "data": {
      "text/plain": [
       "(5868.858354, 5867.858354, 5871.158354)"
      ]
     },
     "execution_count": 212,
     "metadata": {},
     "output_type": "execute_result"
    }
   ],
   "source": [
    "event_time, event_time + 1e-3 * window[0], event_time + 1e-3 * window[1]"
   ]
  },
  {
   "cell_type": "code",
   "execution_count": null,
   "id": "realistic-strength",
   "metadata": {},
   "outputs": [],
   "source": []
  }
 ],
 "metadata": {
  "kernelspec": {
   "display_name": "Python 3",
   "language": "python",
   "name": "python3"
  },
  "language_info": {
   "codemirror_mode": {
    "name": "ipython",
    "version": 3
   },
   "file_extension": ".py",
   "mimetype": "text/x-python",
   "name": "python",
   "nbconvert_exporter": "python",
   "pygments_lexer": "ipython3",
   "version": "3.7.9"
  }
 },
 "nbformat": 4,
 "nbformat_minor": 5
}
