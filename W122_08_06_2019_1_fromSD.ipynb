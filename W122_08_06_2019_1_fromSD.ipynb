{
 "cells": [
  {
   "cell_type": "code",
   "execution_count": 1,
   "id": "nasty-cleanup",
   "metadata": {},
   "outputs": [],
   "source": [
    "# libraries\n",
    "import sys; sys.path.insert(0, '..') # if you don't find it here, look one above\n",
    "import os\n",
    "import numpy as np\n",
    "import matplotlib.pyplot as plt\n",
    "import pandas as pd\n",
    "import seaborn as sns\n",
    "import scipy.io as spio\n",
    "import pickle\n",
    "# stored one repo up in my fork of Spykes\n",
    "from spykes.spykes.plot.neurovis import NeuroVis\n",
    "from io_utils import *\n",
    "from plotting_utils import * \n",
    "\n",
    "# settings\n",
    "%load_ext autoreload\n",
    "%autoreload 2\n",
    "sns.set_context(\"talk\")"
   ]
  },
  {
   "cell_type": "code",
   "execution_count": 2,
   "id": "lyric-sixth",
   "metadata": {},
   "outputs": [
    {
     "name": "stderr",
     "output_type": "stream",
     "text": [
      "C:\\Users\\brodylab\\Documents\\GitHub\\jbreda_PWM_ephys_analysis\\io_utils.py:249: SettingWithCopyWarning: \n",
      "A value is trying to be set on a copy of a slice from a DataFrame\n",
      "\n",
      "See the caveats in the documentation: https://pandas.pydata.org/pandas-docs/stable/user_guide/indexing.html#returning-a-view-versus-a-copy\n",
      "  beh_df['hit_hist'][beh_df['hit_hist'].isnull()] = \"viol\"\n"
     ]
    }
   ],
   "source": [
    "# base paths/names\n",
    "sess_names = np.load('sess_names.npy')\n",
    "sess_name = sess_names[4]\n",
    "\n",
    "base_path  = 'Y:\\jbreda\\ephys\\post_sort_analysis\\sorted_pre_bdata' \n",
    "beh_mat   = 'protocol_info.mat'\n",
    "spks_mat  = 'ksphy_clusters_foranalysis.mat'\n",
    "\n",
    "\n",
    "# create paths\n",
    "sess_path = os.path.join(base_path, sess_name)\n",
    "beh_path  = os.path.join(sess_path, beh_mat)\n",
    "spks_path = os.path.join(sess_path, spks_mat)\n",
    "fig_save_path = os.path.join(os.getcwd(), 'figures', 'neurovis', sess_name)\n",
    "\n",
    "# load & wrangle\n",
    "beh_df, spks_dict = load_and_wrangle(beh_path, spks_path, overwrite=True)\n"
   ]
  },
  {
   "cell_type": "code",
   "execution_count": 46,
   "id": "educational-folks",
   "metadata": {},
   "outputs": [
    {
     "data": {
      "text/plain": [
       "[<matplotlib.lines.Line2D at 0x25e1a1dc708>]"
      ]
     },
     "execution_count": 46,
     "metadata": {},
     "output_type": "execute_result"
    },
    {
     "data": {
      "image/png": "[encoded data removed]",
      "text/plain": [
       "<Figure size 432x288 with 1 Axes>"
      ]
     },
     "metadata": {
      "needs_background": "light"
     },
     "output_type": "display_data"
    }
   ],
   "source": [
    "plt.plot(spks_dict['spk_times'][0][79000:80000], '*')"
   ]
  },
  {
   "cell_type": "code",
   "execution_count": 6,
   "id": "rubber-trader",
   "metadata": {},
   "outputs": [
    {
     "name": "stdout",
     "output_type": "stream",
     "text": [
      "Loading existing mask_dict...\n",
      "Done loading.\n",
      "ngood, first: 55\n",
      "ngood, first: 55\n",
      "ngood, second: 57\n",
      "ngood, second: 57\n",
      "ngood, second: 57\n",
      "ngood, second: 57\n"
     ]
    }
   ],
   "source": [
    "# filter dataframe\n",
    "beh_df_d2_h = beh_df[(beh_df['delay'] == 2)\n",
    "       & (beh_df['hit_hist'] == 'hit')]\n",
    "\n",
    "# deal with masking\n",
    "bndl_dfs, df_names = deal_with_masking(spks_dict, beh_df_d2_h, sess_path)"
   ]
  },
  {
   "cell_type": "code",
   "execution_count": 8,
   "id": "photographic-southeast",
   "metadata": {},
   "outputs": [],
   "source": [
    "# initilaize\n",
    "events = ['aud1_on']\n",
    "windows = [[-1000,2300]]\n",
    "condition = 'correct_side'\n",
    "\n",
    "# get neurons into NeuroVis objects\n",
    "neurons = initiate_neurons(spks_dict)"
   ]
  },
  {
   "cell_type": "code",
   "execution_count": 12,
   "id": "stupid-saturn",
   "metadata": {},
   "outputs": [
    {
     "name": "stdout",
     "output_type": "stream",
     "text": [
      "41.62536763446176\n",
      "4.445483935980218\n",
      "7.075451532646395\n",
      "49.320369732448\n",
      "2.0342433600549006\n",
      "2.74375896711459\n"
     ]
    }
   ],
   "source": [
    "for i in range(len(neurons)):\n",
    "    print(neurons[i].firingrate)"
   ]
  },
  {
   "cell_type": "code",
   "execution_count": 13,
   "id": "ambient-canal",
   "metadata": {},
   "outputs": [],
   "source": [
    "neuron_rasters = get_neuron_rasters(neurons, events, windows, bndl_dfs, df_names)\n",
    "neuron_psths = get_neuron_psths(neurons, events, windows, bndl_dfs, df_names, conditions=condition)"
   ]
  },
  {
   "cell_type": "code",
   "execution_count": 35,
   "id": "stuffed-bacon",
   "metadata": {},
   "outputs": [
    {
     "data": {
      "text/plain": [
       "array([ 0,  0,  7, 14,  8, 12, 16, 13,  3,  2,  8, 10,  5,  2, 22,  6,  8,\n",
       "       12,  0,  0,  0,  0,  0,  0,  0,  0,  0,  0,  0,  0,  0,  0,  0,  0,\n",
       "        0,  0,  0,  0,  0,  0,  0,  0,  0,  0,  0,  0,  0,  0,  0,  0,  0,\n",
       "        0,  0,  0,  0,  0,  0], dtype=int64)"
      ]
     },
     "execution_count": 35,
     "metadata": {},
     "output_type": "execute_result"
    }
   ],
   "source": [
    "((np.sum(neuron_rasters[5][0]['data'][0], axis = 1)))"
   ]
  },
  {
   "cell_type": "code",
   "execution_count": 50,
   "id": "indonesian-strike",
   "metadata": {},
   "outputs": [
    {
     "data": {
      "text/plain": [
       "{'event': 'aud1_on',\n",
       " 'conditions': None,\n",
       " 'window': [-1000.0, 2300.0],\n",
       " 'binsize': 50,\n",
       " 'data': {0: array([[0, 0, 0, ..., 0, 0, 0],\n",
       "         [0, 0, 0, ..., 0, 0, 0],\n",
       "         [0, 0, 0, ..., 0, 0, 0],\n",
       "         ...,\n",
       "         [0, 0, 0, ..., 0, 0, 0],\n",
       "         [0, 0, 0, ..., 0, 0, 0],\n",
       "         [0, 0, 0, ..., 0, 0, 0]], dtype=int64)}}"
      ]
     },
     "execution_count": 50,
     "metadata": {},
     "output_type": "execute_result"
    },
    {
     "data": {
      "image/png": "[encoded data removed]",
      "text/plain": [
       "<Figure size 432x288 with 1 Axes>"
      ]
     },
     "metadata": {
      "needs_background": "light"
     },
     "output_type": "display_data"
    }
   ],
   "source": [
    "nn = 0\n",
    "neurons[0].get_raster(event = events[0], df = beh_df, window = windows[0],\n",
    "                     binsize = 50)"
   ]
  }
 ],
 "metadata": {
  "kernelspec": {
   "display_name": "Python 3",
   "language": "python",
   "name": "python3"
  },
  "language_info": {
   "codemirror_mode": {
    "name": "ipython",
    "version": 3
   },
   "file_extension": ".py",
   "mimetype": "text/x-python",
   "name": "python",
   "nbconvert_exporter": "python",
   "pygments_lexer": "ipython3",
   "version": "3.7.9"
  }
 },
 "nbformat": 4,
 "nbformat_minor": 5
}
