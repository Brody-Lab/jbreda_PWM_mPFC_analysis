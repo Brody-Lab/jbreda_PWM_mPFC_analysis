{
 "cells": [
  {
   "cell_type": "code",
   "execution_count": null,
   "metadata": {
    "collapsed": true
   },
   "outputs": [],
   "source": [
    "%matplotlib inline\n",
    "import matplotlib.pyplot as plt\n",
    "import numpy as np\n",
    "\n",
    "#path to spykes\n",
    "import sys\n",
    "sys.path.insert(0, '../spykes/')\n",
    "\n",
    "import spykes as spy "
   ]
  },
  {
   "cell_type": "markdown",
   "metadata": {},
   "source": [
    "# Reproduce a figure from a published paper with a public dataset"
   ]
  },
  {
   "cell_type": "code",
   "execution_count": null,
   "metadata": {
    "collapsed": false
   },
   "outputs": [],
   "source": [
    "from IPython.display import Image\n",
    "from IPython.core.display import HTML \n",
    "\n",
    "print 'this dataset: https://crcns.org/data-sets/motor-cortex/alm-1'\n",
    "#Dataset citation:\n",
    "    #Nuo Li, Charles R Gerfen, Karel Svoboda (2014); \\\n",
    "    #Extracellular recordings from anterior lateral motor cortex (ALM) \\\n",
    "    #neurons of adult mice performing a tactile decision behavior. \\\n",
    "    #CRCNS.org. http://dx.doi.org/10.6080/K0MS3QNT\n",
    "    \n",
    "print 'this publication: http://www.nature.com/nature/journal/v519/n7541/full/nature14178.html'"
   ]
  },
  {
   "cell_type": "markdown",
   "metadata": {},
   "source": [
    "# Let's try to reproduce a panel of Fig. 2b"
   ]
  },
  {
   "cell_type": "code",
   "execution_count": null,
   "metadata": {
    "collapsed": false,
    "scrolled": false
   },
   "outputs": [],
   "source": [
    "Image(filename=\"./figures/nature14178-f2.jpg\")"
   ]
  },
  {
   "cell_type": "markdown",
   "metadata": {},
   "source": [
    "# Load data"
   ]
  },
  {
   "cell_type": "code",
   "execution_count": null,
   "metadata": {
    "collapsed": false
   },
   "outputs": [],
   "source": [
    "import scipy.io\n",
    "path_to_downloaded_data = '/Volumes/JUICE/lab projects/crcns_data/'\n",
    "mat = scipy.io.loadmat(path_to_downloaded_data + 'data_structure_ANM218457/data_structure_ANM218457_20131006')\n",
    "#neuron in the upper-left panel of Fig.2b is neuron `9` of session `ANM218457_20131006`"
   ]
  },
  {
   "cell_type": "markdown",
   "metadata": {},
   "source": [
    "## 1. get spike times"
   ]
  },
  {
   "cell_type": "code",
   "execution_count": null,
   "metadata": {
    "collapsed": false
   },
   "outputs": [],
   "source": [
    "neuron_n = 8\n",
    "spike_times = mat['obj']['eventSeriesHash'][0][0]['value'][0][0][0][neuron_n][0][0][1]\n",
    "spike_times = [i[0] for i in spike_times]\n",
    "neuron = spy.Spyke(spike_times, neuron_n)\n",
    "print 'neuron %d has a firing rate of %0.2f' % (neuron_n, neuron.firingrate)"
   ]
  },
  {
   "cell_type": "markdown",
   "metadata": {},
   "source": [
    "## 2. get features"
   ]
  },
  {
   "cell_type": "code",
   "execution_count": null,
   "metadata": {
    "collapsed": false
   },
   "outputs": [],
   "source": [
    "#get features\n",
    "features = dict()\n",
    "\n",
    "#get Lick right and Lick left\n",
    "trialTypeMat = mat['obj']['trialTypeMat'][0][0]\n",
    "trialTypeStr = mat['obj']['trialTypeStr'][0][0]\n",
    "trialTypeStr = np.array([i[0][0] for i in trialTypeStr])\n",
    "for ind, feat in enumerate(trialTypeStr):\n",
    "    features[feat] = trialTypeMat[ind]\n",
    "\n",
    "#get good trials\n",
    "goodTrials = mat['obj']['trialPropertiesHash'][0][0][0][0][2][0][3]\n",
    "features['goodTrials'] = np.array([i[0] for i in goodTrials])\n",
    "\n",
    "#get cue times\n",
    "trialStart = mat['obj']['trialStartTimes'][0][0][0]\n",
    "cueTimes = mat['obj']['trialPropertiesHash'][0][0][0][0][2][0][2]\n",
    "cueTimes = np.array([i[0] for i in cueTimes])\n",
    "features['realCueTimes'] = trialStart+cueTimes\n",
    "\n",
    "print 'now we have these features:'\n",
    "print features.keys()"
   ]
  },
  {
   "cell_type": "markdown",
   "metadata": {},
   "source": [
    "## 3. impose conditions on features"
   ]
  },
  {
   "cell_type": "code",
   "execution_count": null,
   "metadata": {
    "collapsed": false,
    "scrolled": true
   },
   "outputs": [],
   "source": [
    "conditions = dict()\n",
    "\n",
    "conditions[0] = dict()\n",
    "conditions[0]['HitR'] = [1]\n",
    "conditions[0]['goodTrials'] = [1]\n",
    "                   \n",
    "conditions[1] = dict()\n",
    "conditions[1]['HitL'] = [1]\n",
    "conditions[1]['goodTrials'] = [1]\n",
    "\n",
    "condition_names = ['Lick right','Lick left']"
   ]
  },
  {
   "cell_type": "markdown",
   "metadata": {},
   "source": [
    " ## 4. and plot psth"
   ]
  },
  {
   "cell_type": "code",
   "execution_count": null,
   "metadata": {
    "collapsed": false
   },
   "outputs": [],
   "source": [
    "psth = neuron.get_psth(features['realCueTimes'], features, conditions, window=[-3000,1000], binsize=100, plot=False);\n",
    "neuron.plot_psth(psth, condition_names=condition_names, colors=['b', 'r'], figsize=(15, 5), event_name='cue')"
   ]
  },
  {
   "cell_type": "code",
   "execution_count": null,
   "metadata": {
    "collapsed": false,
    "scrolled": false
   },
   "outputs": [],
   "source": [
    "raster = neuron.get_raster(features['realCueTimes'], features, conditions, window=[-3000,1000], binsize=10, plot=False);\n",
    "neuron.plot_raster(raster, figsize=(15, 5), cmap = [plt.get_cmap('Blues'), plt.get_cmap('Reds')], sort=True)"
   ]
  }
 ],
 "metadata": {
  "kernelspec": {
   "display_name": "Python 2",
   "language": "python",
   "name": "python2"
  },
  "language_info": {
   "codemirror_mode": {
    "name": "ipython",
    "version": 2
   },
   "file_extension": ".py",
   "mimetype": "text/x-python",
   "name": "python",
   "nbconvert_exporter": "python",
   "pygments_lexer": "ipython2",
   "version": "2.7.11"
  }
 },
 "nbformat": 4,
 "nbformat_minor": 0
}
