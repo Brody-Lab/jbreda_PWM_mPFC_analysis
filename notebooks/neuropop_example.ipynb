{
 "cells": [
  {
   "cell_type": "code",
   "execution_count": 1,
   "metadata": {
    "collapsed": false
   },
   "outputs": [],
   "source": [
    "import numpy as np\n",
    "import matplotlib.pyplot as plt\n",
    "% matplotlib inline"
   ]
  },
  {
   "cell_type": "markdown",
   "metadata": {},
   "source": [
    "## Fitting tuning curves with gradient descent\n",
    "\n",
    "The firing rates $y_j$ of neuron $j$ can be modeled as a Poisson random variable. \n",
    "\n",
    "$$\n",
    "y_j = \\text{Poisson}(\\lambda_j)\n",
    "$$\n",
    "\n",
    "We will drop the subscript $j$ for convenience of notation and figure out how to fir the tuning curves of a given neuron $j$.\n",
    "\n",
    "The mean $\\lambda$ is given by the von Mises tuning model as follows.\n",
    "\n",
    "$$\n",
    "\\lambda = b + g\\exp\\Big(\\kappa \\cos(x - \\mu)\\Big)\n",
    "$$\n",
    "\n",
    "Given a set of observations $(x_i, y_i)$, to identify the parameters $\\Theta = \\left\\{\\mu, \\kappa, g, b\\right\\}$ we use gradient descent on the loss function $J$, specified by the negative Poisson log-likelihood,\n",
    "\n",
    "$$\n",
    "J = -\\log\\mathcal{L} = \\sum_{i} \\lambda_i - y_i \\log \\lambda_i\n",
    "$$\n",
    "\n",
    "Taking the gradients, we get:\n",
    "\n",
    "$$\n",
    "\\frac{\\partial J}{\\partial \\mu} = \\sum_{i} g \\exp\\Big(\\kappa \\cos(x_i - \\mu)\\Big) \\kappa \\sin(x_i - \\mu)\\bigg(1 - \\frac{y_i}{\\lambda_i}\\bigg)\n",
    "$$\n",
    "\n",
    "$$\n",
    "\\frac{\\partial J}{\\partial \\kappa} = \\sum_{i} g \\exp\\Big(\\kappa \\cos(x_i - \\mu)\\Big) \\cos(x_i - \\mu)\\bigg(1 - \\frac{y_i}{\\lambda_i}\\bigg)\n",
    "$$\n",
    "\n",
    "$$\n",
    "\\frac{\\partial J}{\\partial g} = \\sum_{i} g \\exp\\Big(\\kappa \\cos(x_i - \\mu)\\Big) \\bigg(1 - \\frac{y_i}{\\lambda_i}\\bigg)\n",
    "$$\n",
    "\n",
    "$$\n",
    "\\frac{\\partial J}{\\partial b} = \\sum_{i} \\bigg(1 - \\frac{y_i}{\\lambda_i}\\bigg)\n",
    "$$"
   ]
  },
  {
   "cell_type": "markdown",
   "metadata": {},
   "source": [
    "## Decoding the feature from population activity\n",
    "\n",
    "Under the same Poisson firing rate model for each neuron, whose mean is specified by the von Mises tuning curve, as above, we can decode the stimulus $\\hat{x}$ that is most likely to have produced the observed population activity $Y = \\left\\{y_j, j = 1, 2, \\dots \\text{n_neurons}\\right\\}$.\n",
    "\n",
    "We will assume that the neurons are conditionally independent given the tuning parameters $\\Theta$. Thus the likelihood of observing the population activity $Y$ is given by\n",
    "\n",
    "$$\n",
    "P(Y | \\Theta) = \\prod_j P(y_j | \\Theta)\n",
    "$$\n",
    "\n",
    "As before, the loss function for the decoder is given by the negative Poisson log-likelihood:\n",
    "\n",
    "$$\n",
    "J = -\\log\\mathcal{L} = \\sum_j \\lambda_j - y_j \\log \\lambda_j\n",
    "$$\n",
    "\n",
    "where \n",
    "$$\n",
    "\\lambda_j = b_j + g_j \\exp\\Big(\\kappa_j \\cos(x - \\mu_j) \\Big)\n",
    "$$\n",
    "\n",
    "To minimize this loss function with gradient descent, we need to take the gradient of $J$ with respect to $x$\n",
    "\n",
    "$$\n",
    "\\frac{\\partial J}{\\partial x} = -\\sum_{j} g_j \\exp\\Big(\\kappa_j \\cos(x - \\mu_j)\\Big) \\kappa_j \\sin(x - \\mu_j) \\bigg(1 - \\frac{y_j}{\\lambda_j}\\bigg)\n",
    "$$\n"
   ]
  },
  {
   "cell_type": "code",
   "execution_count": 2,
   "metadata": {
    "collapsed": false
   },
   "outputs": [],
   "source": [
    "import sys\n",
    "sys.path.append('../neuropop')\n",
    "from neuropop import NeuroPop"
   ]
  },
  {
   "cell_type": "markdown",
   "metadata": {},
   "source": [
    "### Simulate a population of neurons"
   ]
  },
  {
   "cell_type": "code",
   "execution_count": 3,
   "metadata": {
    "collapsed": false
   },
   "outputs": [],
   "source": [
    "# Simulate a population of neurons\n",
    "n_samples = 500\n",
    "n_neurons = 5\n",
    "\n",
    "# Random features [-pi, pi]\n",
    "x = 2.0*np.pi*np.random.rand(n_samples) - np.pi\n",
    "\n",
    "# Simulate random tuning parameters\n",
    "mu = np.pi*(2.0*np.random.rand(n_neurons) - 1.0)\n",
    "#k = 2.0*np.random.rand(n_neurons)\n",
    "k = np.ones(n_neurons)\n",
    "g = 5.0*np.random.rand(n_neurons)\n",
    "b = 10.0*np.random.rand(n_neurons)\n",
    "\n",
    "# Calculate firing rates under a von mises model\n",
    "Y = np.zeros([n_samples, n_neurons])\n",
    "for n in range(0, n_neurons):\n",
    "    Y[:,n] = np.transpose(b[n] + g[n] * np.exp (k[n] * np.cos(x - mu[n])))\n",
    "\n",
    "# Add noise    \n",
    "Y = Y + np.random.poisson(1.0, Y.shape)"
   ]
  },
  {
   "cell_type": "markdown",
   "metadata": {},
   "source": [
    "### Create a NeuroPop object"
   ]
  },
  {
   "cell_type": "code",
   "execution_count": 4,
   "metadata": {
    "collapsed": true
   },
   "outputs": [],
   "source": [
    "pop = NeuroPop(n_neurons, tunemodel='georgopulos', fit_k=False, n_repeats=5)"
   ]
  },
  {
   "cell_type": "markdown",
   "metadata": {},
   "source": [
    "### Compute the population activity for a given feature"
   ]
  },
  {
   "cell_type": "code",
   "execution_count": 5,
   "metadata": {
    "collapsed": false
   },
   "outputs": [],
   "source": [
    "Y1 = pop.predict(x)"
   ]
  },
  {
   "cell_type": "markdown",
   "metadata": {},
   "source": [
    "### Plot the simulated and randomly initialized tuning curves"
   ]
  },
  {
   "cell_type": "code",
   "execution_count": 6,
   "metadata": {
    "collapsed": false
   },
   "outputs": [
    {
     "data": {
      "image/png": "[encoded data removed]",
      "text/plain": [
       "<matplotlib.figure.Figure at 0x7ff9c5242110>"
      ]
     },
     "metadata": {},
     "output_type": "display_data"
    }
   ],
   "source": [
    "plt.figure(figsize=[10,3])\n",
    "\n",
    "plt.subplot(121)\n",
    "plt.hold\n",
    "plt.plot(x, Y[:,0], 'k.')\n",
    "plt.plot(x, Y1[:,0], 'rx')\n",
    "plt.ylim([0, 25])\n",
    "\n",
    "plt.subplot(122)\n",
    "plt.hold\n",
    "plt.plot(x, Y[:,1], 'k.')\n",
    "plt.plot(x, Y1[:,1], 'rx')\n",
    "plt.ylim([0, 25])\n",
    "\n",
    "plt.show()"
   ]
  },
  {
   "cell_type": "markdown",
   "metadata": {},
   "source": [
    "### Fit the tuning curves with gradient descent"
   ]
  },
  {
   "cell_type": "code",
   "execution_count": 7,
   "metadata": {
    "collapsed": false
   },
   "outputs": [],
   "source": [
    "pop.fit(x, Y)"
   ]
  },
  {
   "cell_type": "markdown",
   "metadata": {},
   "source": [
    "### Compute the population activity with the fit tuning curves"
   ]
  },
  {
   "cell_type": "code",
   "execution_count": 8,
   "metadata": {
    "collapsed": true
   },
   "outputs": [],
   "source": [
    "Y2 = pop.predict(x)"
   ]
  },
  {
   "cell_type": "markdown",
   "metadata": {},
   "source": [
    "### Plot the simulated and fit tuning curves"
   ]
  },
  {
   "cell_type": "code",
   "execution_count": 9,
   "metadata": {
    "collapsed": false
   },
   "outputs": [
    {
     "data": {
      "image/png": "[encoded data removed]",
      "text/plain": [
       "<matplotlib.figure.Figure at 0x7ff9ec118bd0>"
      ]
     },
     "metadata": {},
     "output_type": "display_data"
    }
   ],
   "source": [
    "plt.figure(figsize=[10,3])\n",
    "\n",
    "plt.subplot(121)\n",
    "plt.hold\n",
    "plt.plot(x, Y[:,0], 'k.')\n",
    "plt.plot(x, Y2[:,0], 'rx')\n",
    "plt.ylim([0, 25])\n",
    "\n",
    "plt.subplot(122)\n",
    "plt.hold\n",
    "plt.plot(x, Y[:,1], 'k.')\n",
    "plt.plot(x, Y2[:,1], 'rx')\n",
    "plt.ylim([0, 25])\n",
    "\n",
    "plt.show()"
   ]
  },
  {
   "cell_type": "markdown",
   "metadata": {},
   "source": [
    "### Decode feature from the population activity"
   ]
  },
  {
   "cell_type": "code",
   "execution_count": 10,
   "metadata": {
    "collapsed": false
   },
   "outputs": [],
   "source": [
    "x2 = pop.decode(Y)"
   ]
  },
  {
   "cell_type": "code",
   "execution_count": 11,
   "metadata": {
    "collapsed": false
   },
   "outputs": [
    {
     "data": {
      "image/png": "[encoded data removed]",
      "text/plain": [
       "<matplotlib.figure.Figure at 0x7ff9bc68c090>"
      ]
     },
     "metadata": {},
     "output_type": "display_data"
    }
   ],
   "source": [
    "plt.plot(x, x2, 'k.')\n",
    "plt.xlim([-1.2*np.pi, 1.2*np.pi])\n",
    "plt.ylim([-1.2*np.pi, 1.2*np.pi])\n",
    "plt.show()"
   ]
  },
  {
   "cell_type": "markdown",
   "metadata": {},
   "source": [
    "### Quantify decoding performance"
   ]
  },
  {
   "cell_type": "code",
   "execution_count": 12,
   "metadata": {
    "collapsed": true
   },
   "outputs": [],
   "source": [
    "from scipy import stats\n",
    "def circ_corr(alpha1, alpha2):\n",
    "    alpha1_bar = stats.circmean(alpha1)\n",
    "    alpha2_bar = stats.circmean(alpha2)\n",
    "    num = np.sum(np.sin(alpha1 - alpha1_bar) * np.sin(alpha2 - alpha2_bar));\n",
    "    den = np.sqrt(np.sum(np.sin(alpha1 - alpha1_bar) ** 2) * np.sum(np.sin(alpha2 - alpha2_bar) ** 2));\n",
    "    rho = num / den\n",
    "    return rho\n"
   ]
  },
  {
   "cell_type": "code",
   "execution_count": 13,
   "metadata": {
    "collapsed": false
   },
   "outputs": [
    {
     "data": {
      "text/plain": [
       "0.32832636563834"
      ]
     },
     "execution_count": 13,
     "metadata": {},
     "output_type": "execute_result"
    }
   ],
   "source": [
    "circ_corr(x, x2)"
   ]
  },
  {
   "cell_type": "code",
   "execution_count": 14,
   "metadata": {
    "collapsed": false
   },
   "outputs": [
    {
     "name": "stdout",
     "output_type": "stream",
     "text": [
      "[ 1.12179913  0.83892262  1.90016006  2.59231433  0.12171911]\n",
      "[-2.24990563  2.82514314 -0.02848702  2.06789426  0.01005   ]\n"
     ]
    }
   ],
   "source": [
    "print x[:5]\n",
    "print x2[:5]"
   ]
  },
  {
   "cell_type": "code",
   "execution_count": null,
   "metadata": {
    "collapsed": true
   },
   "outputs": [],
   "source": []
  }
 ],
 "metadata": {
  "kernelspec": {
   "display_name": "Python 2",
   "language": "python",
   "name": "python2"
  },
  "language_info": {
   "codemirror_mode": {
    "name": "ipython",
    "version": 2
   },
   "file_extension": ".py",
   "mimetype": "text/x-python",
   "name": "python",
   "nbconvert_exporter": "python",
   "pygments_lexer": "ipython2",
   "version": "2.7.11"
  }
 },
 "nbformat": 4,
 "nbformat_minor": 0
}
