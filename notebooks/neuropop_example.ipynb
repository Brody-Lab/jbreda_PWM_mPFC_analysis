{
 "cells": [
  {
   "cell_type": "code",
   "execution_count": 1,
   "metadata": {
    "collapsed": false
   },
   "outputs": [
    {
     "name": "stderr",
     "output_type": "stream",
     "text": [
      "/Users/pavanramkumar/anaconda/lib/python2.7/site-packages/matplotlib/font_manager.py:273: UserWarning: Matplotlib is building the font cache using fc-list. This may take a moment.\n",
      "  warnings.warn('Matplotlib is building the font cache using fc-list. This may take a moment.')\n"
     ]
    }
   ],
   "source": [
    "import numpy as np\n",
    "import matplotlib.pyplot as plt\n",
    "% matplotlib inline"
   ]
  },
  {
   "cell_type": "markdown",
   "metadata": {},
   "source": [
    "## Fitting tuning curves with gradient descent\n",
    "\n",
    "The firing rates $y_j$ of neuron $j$ can be modeled as a Poisson random variable. \n",
    "\n",
    "$$\n",
    "y_j = \\text{Poisson}(\\lambda_j)\n",
    "$$\n",
    "\n",
    "We will drop the subscript $j$ for convenience of notation and figure out how to fir the tuning curves of a given neuron $j$.\n",
    "\n",
    "The mean $\\lambda$ is given by the von Mises tuning model as follows.\n",
    "\n",
    "$$\n",
    "\\lambda = b + g\\exp\\Big(\\kappa \\cos(x - \\mu)\\Big)\n",
    "$$\n",
    "\n",
    "Given a set of observations $(x_i, y_i)$, to identify the parameters $\\Theta = \\left\\{\\mu, \\kappa, g, b\\right\\}$ we use gradient descent on the loss function $J$, specified by the negative Poisson log-likelihood,\n",
    "\n",
    "$$\n",
    "J = -\\log\\mathcal{L} = \\sum_{i} \\lambda_i - y_i \\log \\lambda_i\n",
    "$$\n",
    "\n",
    "Taking the gradients, we get:\n",
    "\n",
    "$$\n",
    "\\frac{\\partial J}{\\partial \\mu} = \\sum_{i} g \\exp\\Big(\\kappa \\cos(x_i - \\mu)\\Big) \\kappa \\sin(x_i - \\mu)\\bigg(1 - \\frac{y_i}{\\lambda_i}\\bigg)\n",
    "$$\n",
    "\n",
    "$$\n",
    "\\frac{\\partial J}{\\partial \\kappa} = \\sum_{i} g \\exp\\Big(\\kappa \\cos(x_i - \\mu)\\Big) \\cos(x_i - \\mu)\\bigg(1 - \\frac{y_i}{\\lambda_i}\\bigg)\n",
    "$$\n",
    "\n",
    "$$\n",
    "\\frac{\\partial J}{\\partial g} = \\sum_{i} g \\exp\\Big(\\kappa \\cos(x_i - \\mu)\\Big) \\bigg(1 - \\frac{y_i}{\\lambda_i}\\bigg)\n",
    "$$\n",
    "\n",
    "$$\n",
    "\\frac{\\partial J}{\\partial b} = \\sum_{i} \\bigg(1 - \\frac{y_i}{\\lambda_i}\\bigg)\n",
    "$$"
   ]
  },
  {
   "cell_type": "markdown",
   "metadata": {},
   "source": [
    "## Decoding the feature from population activity\n",
    "\n",
    "Under the same Poisson firing rate model for each neuron, whose mean is specified by the von Mises tuning curve, as above, we can decode the stimulus $\\hat{x}$ that is most likely to have produced the observed population activity $Y = \\left\\{y_j, j = 1, 2, \\dots \\text{n_neurons}\\right\\}$.\n",
    "\n",
    "We will assume that the neurons are conditionally independent given the tuning parameters $\\Theta$. Thus the likelihood of observing the population activity $Y$ is given by\n",
    "\n",
    "$$\n",
    "P(Y | \\Theta) = \\prod_j P(y_j | \\Theta)\n",
    "$$\n",
    "\n",
    "As before, the loss function for the decoder is given by the negative Poisson log-likelihood:\n",
    "\n",
    "$$\n",
    "J = -\\log\\mathcal{L} = \\sum_j \\lambda_j - y_j \\log \\lambda_j\n",
    "$$\n",
    "\n",
    "where \n",
    "$$\n",
    "\\lambda_j = b_j + g_j \\exp\\Big(\\kappa_j \\cos(x - \\mu_j) \\Big)\n",
    "$$\n",
    "\n",
    "To minimize this loss function with gradient descent, we need to take the gradient of $J$ with respect to $x$\n",
    "\n",
    "$$\n",
    "\\frac{\\partial J}{\\partial x} = -\\sum_{j} g_j \\exp\\Big(\\kappa_j \\cos(x - \\mu_j)\\Big) \\kappa_j \\sin(x - \\mu_j) \\bigg(1 - \\frac{y_j}{\\lambda_j}\\bigg)\n",
    "$$\n"
   ]
  },
  {
   "cell_type": "code",
   "execution_count": 2,
   "metadata": {
    "collapsed": false
   },
   "outputs": [],
   "source": [
    "class NeuroPop:\n",
    "    \"\"\"\n",
    "    This class implements several conveniences for \n",
    "    plotting, fitting and decoding from population tuning curves\n",
    "    \n",
    "    We assume that neurons have a tuning curve of the form:\n",
    "    f(x) = b_ + g_ * exp(k_ * cos(x - mu_))\n",
    "    \n",
    "    Parameters\n",
    "    ----------\n",
    "    x: float, n_samples x 1, feature of interest\n",
    "    Y: float, n_samples x n_neurons, population activity\n",
    "    \n",
    "    preferred_feature: n_neurons x 1, preferred feature [-pi, pi]\n",
    "    Kappa: bool, whether to fit shape parameter or not, default: False\n",
    "    shape: float, n_neurons x 1, shape (width)\n",
    "    gain: float,  n_neurons x 1, gain \n",
    "    baseline: float,  n_neurons x 1, baseline\n",
    "    \n",
    "    learning_rate: float, default: 1e-3\n",
    "    convergence_threshold: float, default, 1e-5\n",
    "    maxiter: float, default: 10000\n",
    "    n_repeats: float, default: 10\n",
    "    \n",
    "    verbose: bool, whether to print convergence / loss, default: False\n",
    "    \n",
    "    Internal variables\n",
    "    ------------------\n",
    "    mu_: float,  n_neurons x 1, preferred feature [-pi, pi]\n",
    "    Kappa: bool, whether to fit shape parameter or not\n",
    "    k_: float,  n_neurons x 1, shape (width)\n",
    "    g_: float,  n_neurons x 1, gain\n",
    "    b_: float,  n_neurons x 1, baseline\n",
    "    \n",
    "    learning_rate: float, default: 1e-3\n",
    "    convergence_threshold: float, default, 1e-5\n",
    "    maxiter: float, default: 10000\n",
    "    n_repeats: float, default: 10\n",
    "    \n",
    "    Callable Methods\n",
    "    ----------------\n",
    "    encode\n",
    "    tunefit\n",
    "    display\n",
    "    decode\n",
    "\n",
    "    Class methods\n",
    "    -------------\n",
    "    _vonmises\n",
    "    _loss\n",
    "    _grad_theta_loss\n",
    "    _grad_x_loss\n",
    "    _reset_params\n",
    "    _jointlogL    \n",
    "    \n",
    "    \"\"\"\n",
    "    \n",
    "    def __init__(self, x, Y, \\\n",
    "                 preferred_feature = None, Kappa = False, shape = None, gain = None, baseline = None, \\\n",
    "                 learning_rate = 1e-3, convergence_threshold = 1e-5, maxiter = 10000, n_repeats = 10, \\\n",
    "                 verbose = False):\n",
    "        \"\"\"\n",
    "        Initialize the object\n",
    "        \"\"\"\n",
    "        \n",
    "        self.x = x\n",
    "        self.Y = Y\n",
    "        self.n_neurons = Y.shape[1]\n",
    "\n",
    "        self.Kappa = Kappa\n",
    "        # If not specified assign random parameters        \n",
    "        if preferred_feature is None:\n",
    "            self.mu_ = np.pi*(2.0*np.random.rand(n_neurons) - 1.0)\n",
    "        else:\n",
    "            self.mu_ = preferred_feature\n",
    "            \n",
    "        if self.Kappa == True and shape is None:\n",
    "            self.k_ = np.random.rand(n_neurons)  \n",
    "        elif self.Kappa == False and shape is None:\n",
    "            self.k_ = np.ones(n_neurons)\n",
    "        if shape is not None:\n",
    "            self.k = shape\n",
    "        \n",
    "        if gain is None: \n",
    "            self.g_ = 5.0*np.random.rand(n_neurons)\n",
    "        else:\n",
    "            self.g_ = gain\n",
    "            \n",
    "        if baseline is None:\n",
    "            self.b_ = 10.0*np.random.rand(n_neurons)\n",
    "        else:\n",
    "            self.b_ = baseline\n",
    "        \n",
    "        # Assign optimization parameters\n",
    "        self.learning_rate = learning_rate\n",
    "        self.convergence_threshold = convergence_threshold\n",
    "        self.maxiter = maxiter\n",
    "        self.n_repeats = n_repeats\n",
    "        \n",
    "        self.verbose = verbose\n",
    "        \n",
    "    #-----------------------------------------------------------------------\n",
    "    def _reset_params(self, n):\n",
    "        # Assign random parameters        \n",
    "        self.mu_[n] = np.pi*(2.0*np.random.rand(1) - 1.0)\n",
    "        if self.Kappa == True:\n",
    "            self.k_[n] = np.random.rand(1)  \n",
    "        else:\n",
    "            self.k_[n] = np.ones(1)\n",
    "        self.g_[n] = 5.0*np.random.rand(1)\n",
    "        self.b_[n] = 10.0*np.random.rand(1)\n",
    "    \n",
    "    #-----------------------------------------------------------------------\n",
    "    def _vonmises(self, x, mu, k, g, b):\n",
    "        \"\"\"\n",
    "        The von Mises tuning function\n",
    "        \n",
    "        Parameters\n",
    "        ----------\n",
    "        x: float, n_samples x 1, feature of interest\n",
    "        mu: float,  n_neurons x 1, preferred feature [-pi, pi]\n",
    "        k: float,  n_neurons x 1, shape (width)\n",
    "        g: float,  n_neurons x 1, gain\n",
    "        b: float,  n_neurons x 1, baseline\n",
    "        \n",
    "        Outputs\n",
    "        -------\n",
    "        Y: float, n_samples x 1, firing rates\n",
    "        \"\"\"\n",
    "        y = b + g * np.exp (k * np.cos(x - mu))\n",
    "        return y\n",
    "    \n",
    "    #-----------------------------------------------------------------------\n",
    "    def _loss(self, x, y, mu, k, g, b):\n",
    "        \"\"\"\n",
    "        The loss function: negative Poisson log likelihood function \n",
    "        under the von mises tuning model\n",
    "        \n",
    "        Parameters\n",
    "        ----------\n",
    "        x: float, n_samples x 1 (encoding) | scalar (decoding), feature of interest\n",
    "        y: float, n_samples x 1 (encoding) | n_neurons x 1 (decoding), firing rates\n",
    "        mu: float,  n_neurons x 1, preferred feature [-pi, pi]\n",
    "        k: float,  n_neurons x 1, shape (width)\n",
    "        g: float,  n_neurons x 1, gain\n",
    "        b: float,  n_neurons x 1, baseline\n",
    "        \n",
    "        Outputs\n",
    "        -------\n",
    "        loss: float, scalar\n",
    "        \"\"\"\n",
    "        lmb = b + g * np.exp (k * np.cos(x - mu))\n",
    "        J = np.sum(lmb) - np.sum(y * lmb)\n",
    "        return J\n",
    "    \n",
    "    #-----------------------------------------------------------------------\n",
    "    def _grad_theta_loss(self, x, y, mu, k, g, b):\n",
    "        \"\"\"\n",
    "        The gradient of the loss function:\n",
    "        wrt parameters of the von mises tuning model (theta)\n",
    "        \n",
    "        Parameters\n",
    "        ----------\n",
    "        x: float,  n_samples x 1, feature of interest\n",
    "        y: float,  n_samples x 1, firing rates\n",
    "        mu: float, scalar, preferred feature [-pi, pi]\n",
    "        k: float,  scalar, shape (width)\n",
    "        g: float,  scalar, gain\n",
    "        b: float,  scalar, baseline\n",
    "        \n",
    "        Outputs\n",
    "        -------\n",
    "        grad_mu: float, scalar\n",
    "        grad_k: float, scalar\n",
    "        grad_g: float, scalar\n",
    "        grad_b: float, scalar\n",
    "        \"\"\"\n",
    "        lmb = b + g * np.exp (k * np.cos(x - mu))\n",
    "        grad_mu = np.sum(g * np.exp(k * np.cos(x - mu)) * k * np.sin(x - mu) * (1 - y/lmb))\n",
    "        grad_k = np.sum(g * np.exp(k * np.cos(x - mu)) * np.cos(x - mu) * (1 - y/lmb))\n",
    "        grad_g = np.sum(g * np.exp(k * np.cos(x - mu)) * (1 - y/lmb))\n",
    "        grad_b = np.sum((1-y/lmb))\n",
    "        return grad_mu, grad_k, grad_g, grad_b\n",
    "    \n",
    "    #-----------------------------------------------------------------------\n",
    "    def _grad_x_loss(self, x, y, mu, k, g, b):\n",
    "        \"\"\"\n",
    "        The gradient of the loss function:\n",
    "        wrt encoded feature x\n",
    "        \n",
    "        Parameters\n",
    "        ----------\n",
    "        x: float, scalar, feature of interest\n",
    "        y: float, n_neurons x 1, firing rates\n",
    "        mu: float,  n_neurons x 1, preferred feature [-pi, pi]\n",
    "        k: float,  n_neurons x 1, shape (width)\n",
    "        g: float,  n_neurons x 1, gain\n",
    "        b: float,  n_neurons x 1, baseline\n",
    "        \n",
    "        Outputs\n",
    "        -------\n",
    "        grad_x: float, scalar\n",
    "        \"\"\"\n",
    "        lmb = b + g * np.exp (k * np.cos(x - mu))\n",
    "        grad_x = -np.sum(g * np.exp(k * np.cos(x - mu)) * k * np.sin(x - mu) * (1 - y/lmb))\n",
    "        return grad_x\n",
    "    \n",
    "    #-----------------------------------------------------------------------\n",
    "    def encode(self, x):\n",
    "        \"\"\"\n",
    "        Compute the firing rates for the population \n",
    "        based on the von Mises tuning models\n",
    "        given features\n",
    "        \n",
    "        Parameters\n",
    "        ----------\n",
    "        x: float, n_samples x 1, feature of interest\n",
    "        \n",
    "        Outputs\n",
    "        -------\n",
    "        Y: float, n_samples x n_neurons, population activity\n",
    "        \"\"\"\n",
    "        \n",
    "        Y = np.zeros([n_samples, n_neurons])\n",
    "        # For each neuron\n",
    "        for n in range(0, n_neurons):\n",
    "            # Compute the firing rate under the von Mises model\n",
    "            Y[:, n] = self._vonmises(x, self.mu_[n], self.k_[n], self.g_[n], self.b_[n])\n",
    "        return Y\n",
    "    \n",
    "    #-----------------------------------------------------------------------\n",
    "    def tunefit(self):\n",
    "        \"\"\"\n",
    "        Estimate the parameters of the tuning curve under the \n",
    "        von Mises model, given features and population activity\n",
    "        \"\"\"\n",
    "        \n",
    "        learning_rate = self.learning_rate\n",
    "        convergence_threshold = self.convergence_threshold\n",
    "        n_repeats = self.n_repeats\n",
    "        maxiter = self.maxiter\n",
    "        \n",
    "        # Fit model for each neuron\n",
    "        for n in range(0, self.n_neurons):\n",
    "\n",
    "            # Collect parameters for each repeat\n",
    "            fit_params = list()\n",
    "            \n",
    "            # Repeat several times over random initializations (global optimization)\n",
    "            for repeat in range(0, n_repeats):\n",
    "                self._reset_params(n)\n",
    "                fit_params.append({'mu': self.mu_[n], 'k': self.k_[n], 'g': self.g_[n], 'b': self.b_[n], 'loss': 0.0})\n",
    "                \n",
    "                # Collect loss and delta loss for each iteration\n",
    "                L, DL = list(), list()\n",
    "\n",
    "                # Gradient descent iterations (local optimization)\n",
    "                for t in range(0, maxiter):\n",
    "\n",
    "                    converged = False\n",
    "\n",
    "                    # Compute gradients\n",
    "                    grad_mu_, grad_k_, grad_g_, grad_b_ = \\\n",
    "                    self._grad_theta_loss(self.x, self.Y[:,n], \\\n",
    "                                    fit_params[repeat]['mu'], \\\n",
    "                                    fit_params[repeat]['k'], \\\n",
    "                                    fit_params[repeat]['g'], \\\n",
    "                                    fit_params[repeat]['b'])\n",
    "\n",
    "                    # Update parameters\n",
    "                    fit_params[repeat]['mu'] = fit_params[repeat]['mu'] - learning_rate*grad_mu_\n",
    "                    if self.Kappa == True:\n",
    "                        fit_params[repeat]['k'] = fit_params[repeat]['k'] - learning_rate*grad_k_  \n",
    "                    fit_params[repeat]['g'] = fit_params[repeat]['g'] - learning_rate*grad_g_\n",
    "                    fit_params[repeat]['b'] = fit_params[repeat]['b'] - learning_rate*grad_b_\n",
    "\n",
    "                    # Update loss            \n",
    "                    L.append(self._loss(self.x, self.Y[:,n], \\\n",
    "                                        fit_params[repeat]['mu'], \\\n",
    "                                        fit_params[repeat]['k'], \\\n",
    "                                        fit_params[repeat]['g'], \\\n",
    "                                        fit_params[repeat]['b']))\n",
    "\n",
    "                    # Update delta loss and check for convergence\n",
    "                    if t > 1:\n",
    "                        DL.append(L[-1] - L[-2])\n",
    "                        if np.abs(DL[-1] / L[-1]) < convergence_threshold:\n",
    "                            converged = True\n",
    "\n",
    "                    # Sometimes k is negative but this needs to be corrected\n",
    "                    if fit_params[repeat]['k'] < 0:\n",
    "                        fit_params[repeat]['k'] = -fit_params[repeat]['k']\n",
    "                        fit_params[repeat]['mu'] = fit_params[repeat]['mu'] + np.pi\n",
    "\n",
    "                    # Make sure mu is between [-pi, pi]\n",
    "                    fit_params[repeat]['mu'] = np.arctan2(np.sin(fit_params[repeat]['mu']), \\\n",
    "                                                          np.cos(fit_params[repeat]['mu']))\n",
    "                             \n",
    "                    # Check for convergence\n",
    "                    if converged == True:\n",
    "                        break\n",
    "                \n",
    "                # Store the converged loss function\n",
    "                msg = '\\tConverged. Loss function: {0:.2f}'.format(L[-1])\n",
    "                #logger.info(msg)\n",
    "                #logger.info('\\tdL/L: {0:.6f}\\n'.format(DL[-1] / L[-1]))\n",
    "                if self.verbose == True:\n",
    "                    print(msg)\n",
    "                fit_params[repeat]['loss'] = L[-1]\n",
    "            \n",
    "            # Assign the global optimum\n",
    "            amin = np.array([d['loss'] for d in fit_params]).argmin()\n",
    "            self.mu_[n] = fit_params[amin]['mu']\n",
    "            self.k_[n] = fit_params[amin]['k']\n",
    "            self.g_[n] = fit_params[amin]['g']\n",
    "            self.b_[n] = fit_params[amin]['b']\n",
    "                             \n",
    "        return self\n",
    "    \n",
    "    #-----------------------------------------------------------------------\n",
    "    def decode(self, Y):\n",
    "        \"\"\"\n",
    "        Given population activity estimate the feature that generated it\n",
    "        \n",
    "        Parameters\n",
    "        ----------\n",
    "        Y: float, n_samples x n_neurons, population activity\n",
    "        \n",
    "        Outputs\n",
    "        -------\n",
    "        x: float, n_samples x 1, feature of interest\n",
    "        \"\"\"\n",
    "        \n",
    "        n_samples = Y.shape[0]\n",
    "        \n",
    "        maxiter = self.maxiter\n",
    "        learning_rate = self.learning_rate\n",
    "        convergence_threshold = self.convergence_threshold\n",
    "        \n",
    "        # Initialize feature\n",
    "        x = np.pi*(2.0*np.random.rand(n_samples) - 1.0)\n",
    "            \n",
    "        # For each sample\n",
    "        for s in range(0, n_samples):\n",
    "            \n",
    "            # Collect loss and delta loss for each iteration\n",
    "            L, DL = list(), list()\n",
    "            \n",
    "            # Gradient descent iterations (local optimization)\n",
    "            for t in range(0, maxiter):\n",
    "\n",
    "                # Compute gradients\n",
    "                grad_x_= self._grad_x_loss(x[s], Y[s,:], \\\n",
    "                         self.mu_, self.k_, self.g_, self.b_)\n",
    "\n",
    "                # Update parameters\n",
    "                x[s] = x[s] - learning_rate*grad_x_\n",
    "                \n",
    "                # Update loss            \n",
    "                L.append(self._loss(x[s], Y[s,:], \\\n",
    "                         self.mu_, self.k_, self.g_, self.b_))\n",
    "                \n",
    "                # Update delta loss and check for convergence\n",
    "                if t > 1:\n",
    "                    DL.append(L[-1] - L[-2])\n",
    "                    if np.abs(DL[-1] / L[-1]) < convergence_threshold:\n",
    "                        msg = '\\t Converged. Loss function: {0:.2f}'.format(L[-1])\n",
    "                        #logger.info(msg)\n",
    "                        #logger.info('\\tdL/L: {0:.6f}\\n'.format(DL[-1] / L[-1]))\n",
    "                        if self.verbose == True:\n",
    "                        #if True:\n",
    "                            print(msg)\n",
    "                        break\n",
    "                \n",
    "        # Make sure x is between [-pi, pi]\n",
    "        x = np.arctan2(np.sin(x), np.cos(x))\n",
    "        \n",
    "        return x                  \n",
    "    #-----------------------------------------------------------------------\n",
    "    def display(self):\n",
    "        \"\"\"\n",
    "        Visualize tuning curves and parameter estimates\n",
    "        \"\"\"\n",
    "        #for "
   ]
  },
  {
   "cell_type": "markdown",
   "metadata": {},
   "source": [
    "### Simulate a population of neurons"
   ]
  },
  {
   "cell_type": "code",
   "execution_count": 21,
   "metadata": {
    "collapsed": false
   },
   "outputs": [],
   "source": [
    "# Simulate a population of neurons\n",
    "n_samples = 500\n",
    "n_neurons = 5\n",
    "\n",
    "# Random features [-pi, pi]\n",
    "x = 2.0*np.pi*np.random.rand(n_samples) - np.pi\n",
    "\n",
    "# Simulate random tuning parameters\n",
    "mu = np.pi*(2.0*np.random.rand(n_neurons) - 1.0)\n",
    "#k = 2.0*np.random.rand(n_neurons)\n",
    "k = np.ones(n_neurons)\n",
    "g = 5.0*np.random.rand(n_neurons)\n",
    "b = 10.0*np.random.rand(n_neurons)\n",
    "\n",
    "# Calculate firing rates under a von mises model\n",
    "Y = np.zeros([n_samples, n_neurons])\n",
    "for n in range(0, n_neurons):\n",
    "    Y[:,n] = np.transpose(b[n] + g[n] * np.exp (k[n] * np.cos(x - mu[n])))\n",
    "\n",
    "# Add noise    \n",
    "Y = Y + np.random.poisson(1.0, Y.shape)"
   ]
  },
  {
   "cell_type": "markdown",
   "metadata": {},
   "source": [
    "### Create a NeuroPop object"
   ]
  },
  {
   "cell_type": "code",
   "execution_count": 22,
   "metadata": {
    "collapsed": true
   },
   "outputs": [],
   "source": [
    "pop = NeuroPop(x, Y)"
   ]
  },
  {
   "cell_type": "markdown",
   "metadata": {},
   "source": [
    "### Compute the population activity for a given feature"
   ]
  },
  {
   "cell_type": "code",
   "execution_count": 23,
   "metadata": {
    "collapsed": false
   },
   "outputs": [],
   "source": [
    "Y1 = pop.encode(x)"
   ]
  },
  {
   "cell_type": "markdown",
   "metadata": {},
   "source": [
    "### Plot the simulated and randomly initialized tuning curves"
   ]
  },
  {
   "cell_type": "code",
   "execution_count": 24,
   "metadata": {
    "collapsed": false
   },
   "outputs": [
    {
     "data": {
      "image/png": "[encoded data removed]",
      "text/plain": [
       "<matplotlib.figure.Figure at 0x108caaa90>"
      ]
     },
     "metadata": {},
     "output_type": "display_data"
    }
   ],
   "source": [
    "plt.figure(figsize=[10,3])\n",
    "\n",
    "plt.subplot(121)\n",
    "plt.hold\n",
    "plt.plot(x, Y[:,0], 'k.')\n",
    "plt.plot(x, Y1[:,0], 'rx')\n",
    "plt.ylim([0, 25])\n",
    "\n",
    "plt.subplot(122)\n",
    "plt.hold\n",
    "plt.plot(x, Y[:,1], 'k.')\n",
    "plt.plot(x, Y1[:,1], 'rx')\n",
    "plt.ylim([0, 25])\n",
    "\n",
    "plt.show()"
   ]
  },
  {
   "cell_type": "markdown",
   "metadata": {},
   "source": [
    "### Fit the tuning curves with gradient descent"
   ]
  },
  {
   "cell_type": "code",
   "execution_count": 25,
   "metadata": {
    "collapsed": false
   },
   "outputs": [],
   "source": [
    "pop = pop.tunefit()"
   ]
  },
  {
   "cell_type": "markdown",
   "metadata": {},
   "source": [
    "### Compute the population activity with the fit tuning curves"
   ]
  },
  {
   "cell_type": "code",
   "execution_count": 26,
   "metadata": {
    "collapsed": true
   },
   "outputs": [],
   "source": [
    "Y2 = pop.encode(x)"
   ]
  },
  {
   "cell_type": "markdown",
   "metadata": {},
   "source": [
    "### Plot the simulated and fit tuning curves"
   ]
  },
  {
   "cell_type": "code",
   "execution_count": 27,
   "metadata": {
    "collapsed": false
   },
   "outputs": [
    {
     "data": {
      "image/png": "[encoded data removed]",
      "text/plain": [
       "<matplotlib.figure.Figure at 0x108ce9c90>"
      ]
     },
     "metadata": {},
     "output_type": "display_data"
    }
   ],
   "source": [
    "plt.figure(figsize=[10,3])\n",
    "\n",
    "plt.subplot(121)\n",
    "plt.hold\n",
    "plt.plot(x, Y[:,0], 'k.')\n",
    "plt.plot(x, Y2[:,0], 'rx')\n",
    "plt.ylim([0, 25])\n",
    "\n",
    "plt.subplot(122)\n",
    "plt.hold\n",
    "plt.plot(x, Y[:,1], 'k.')\n",
    "plt.plot(x, Y2[:,1], 'rx')\n",
    "plt.ylim([0, 25])\n",
    "\n",
    "plt.show()"
   ]
  },
  {
   "cell_type": "markdown",
   "metadata": {},
   "source": [
    "### Decode feature from the population activity"
   ]
  },
  {
   "cell_type": "code",
   "execution_count": 28,
   "metadata": {
    "collapsed": false
   },
   "outputs": [],
   "source": [
    "x2 = pop.decode(Y)"
   ]
  },
  {
   "cell_type": "code",
   "execution_count": 29,
   "metadata": {
    "collapsed": false
   },
   "outputs": [
    {
     "data": {
      "image/png": "[encoded data removed]",
      "text/plain": [
       "<matplotlib.figure.Figure at 0x108ee9b90>"
      ]
     },
     "metadata": {},
     "output_type": "display_data"
    }
   ],
   "source": [
    "plt.plot(x, x2, 'k.')\n",
    "plt.xlim([-1.2*np.pi, 1.2*np.pi])\n",
    "plt.ylim([-1.2*np.pi, 1.2*np.pi])\n",
    "plt.show()"
   ]
  },
  {
   "cell_type": "markdown",
   "metadata": {},
   "source": [
    "### Quantify decoding performance"
   ]
  },
  {
   "cell_type": "code",
   "execution_count": 33,
   "metadata": {
    "collapsed": true
   },
   "outputs": [],
   "source": [
    "from scipy import stats\n",
    "def circ_corr(alpha1, alpha2):\n",
    "    alpha1_bar = stats.circmean(alpha1)\n",
    "    alpha2_bar = stats.circmean(alpha2)\n",
    "    num = np.sum(np.sin(alpha1 - alpha1_bar) * np.sin(alpha2 - alpha2_bar));\n",
    "    den = np.sqrt(np.sum(np.sin(alpha1 - alpha1_bar) ** 2) * np.sum(np.sin(alpha2 - alpha2_bar) ** 2));\n",
    "    rho = num / den\n",
    "    return rho\n"
   ]
  },
  {
   "cell_type": "code",
   "execution_count": 34,
   "metadata": {
    "collapsed": false
   },
   "outputs": [
    {
     "data": {
      "text/plain": [
       "0.19755092325939053"
      ]
     },
     "execution_count": 34,
     "metadata": {},
     "output_type": "execute_result"
    }
   ],
   "source": [
    "circ_corr(x, x2)"
   ]
  },
  {
   "cell_type": "code",
   "execution_count": 35,
   "metadata": {
    "collapsed": false
   },
   "outputs": [
    {
     "name": "stdout",
     "output_type": "stream",
     "text": [
      "[ 0.11620476 -2.35164282 -0.14232617  1.03880439 -2.30202567]\n",
      "[-0.38789101 -2.59412973 -0.4088362   1.2395653  -2.45503337]\n"
     ]
    }
   ],
   "source": [
    "print x[:5]\n",
    "print x2[:5]"
   ]
  },
  {
   "cell_type": "code",
   "execution_count": null,
   "metadata": {
    "collapsed": true
   },
   "outputs": [],
   "source": []
  }
 ],
 "metadata": {
  "kernelspec": {
   "display_name": "Python 2",
   "language": "python",
   "name": "python2"
  },
  "language_info": {
   "codemirror_mode": {
    "name": "ipython",
    "version": 2
   },
   "file_extension": ".py",
   "mimetype": "text/x-python",
   "name": "python",
   "nbconvert_exporter": "python",
   "pygments_lexer": "ipython2",
   "version": "2.7.11"
  }
 },
 "nbformat": 4,
 "nbformat_minor": 0
}
