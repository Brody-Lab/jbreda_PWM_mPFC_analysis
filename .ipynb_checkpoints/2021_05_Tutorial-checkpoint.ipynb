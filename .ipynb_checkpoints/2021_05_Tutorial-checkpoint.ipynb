{
 "cells": [
  {
   "cell_type": "markdown",
   "id": "39918744",
   "metadata": {},
   "source": [
    "# Tutorial\n",
    "\n",
    "Example of how to use code written as of May 2021 for mPFC analyses on a single day\n",
    "\n",
    "\n",
    "\n",
    "Session: `data_sdc_20190902_145404_fromSD`\n",
    "\n",
    "Current data storage:\n",
    "* raw .dat, .rec, .mda, .bin and preprocessed .bin files are located on scratch under ``\n",
    "\n",
    "* sorted data is located on bucket `Y:\\jbreda\\ephys\\post_sort_analysis\\sorted_pre_bdata`\n",
    "\n",
    "* in a sorted folder: \n",
    "    * folder for each .bin bundle & cluster notes, matlab struct w/ spike info from scraped phy, matlab struct w/ behavior info scraped from bdata\n",
    "    * sessions aligned by \n",
    "    * in .bin bundle folder you will find curated kilosort output, mask info as npy and preprocessed .bin that was run\n",
    "\n",
    "see [jbreda_PWM_ephys_analysis](https://github.com/Brody-Lab/jbreda_PWM_ephys_analysis) for more info on how this info was obtained\n",
    "\n",
    "\n",
    "\n",
    "\n"
   ]
  },
  {
   "cell_type": "markdown",
   "id": "e77d4932",
   "metadata": {},
   "source": [
    "## Libraries and paths"
   ]
  },
  {
   "cell_type": "code",
   "execution_count": 37,
   "id": "52adc54d",
   "metadata": {},
   "outputs": [],
   "source": [
    "# libraries\n",
    "\n",
    "import sys; sys.path.insert(0, '..') # if you don't find it here, look one above\n",
    "import os\n",
    "import numpy as np\n",
    "import matplotlib.pyplot as plt\n",
    "import pandas as pd\n",
    "import seaborn as sns\n",
    "import scipy.io as spio\n",
    "import pickle\n",
    "import warnings\n",
    "\n",
    "from scipy import stats\n",
    "from scipy.ndimage import gaussian_filter1d\n",
    "from io_utils import *\n",
    "from plotting_utils import * \n",
    "\n",
    "# settings\n",
    "%load_ext autoreload\n",
    "%autoreload 2\n",
    "sns.set_context(\"talk\")"
   ]
  },
  {
   "cell_type": "code",
   "execution_count": 10,
   "id": "4ce8d143",
   "metadata": {},
   "outputs": [],
   "source": [
    "# session name\n",
    "sess_name = 'data_sdc_20190902_145404_fromSD'\n",
    "\n",
    "# path information\n",
    "base_path  = 'Y:\\jbreda\\ephys\\post_sort_analysis\\sorted_pre_bdata' \n",
    "beh_mat   = 'protocol_info.mat'\n",
    "spks_mat  = 'ksphy_clusters_foranalysis.mat'\n",
    "\n",
    "# make paths\n",
    "sess_path = os.path.join(base_path, sess_name)\n",
    "beh_path  = os.path.join(sess_path, beh_mat)\n",
    "spks_path = os.path.join(sess_path, spks_mat)"
   ]
  },
  {
   "cell_type": "markdown",
   "id": "1c86118f",
   "metadata": {},
   "source": [
    "## Load In\n",
    "\n",
    "A set of functions written to take matlab structs and kilosort output and import into python. Adds additional information to behavior info (e.g. what was the first sound in dB for each trial). Can speed up run time by loading these files in if they are already saved in the session's folder. If path doesn't exist, make sure you're connected to bucket."
   ]
  },
  {
   "cell_type": "code",
   "execution_count": 12,
   "id": "6db9ee54",
   "metadata": {},
   "outputs": [],
   "source": [
    "beh_df, spks_dict = load_and_wrangle(beh_path, spks_path, overwrite=False)"
   ]
  },
  {
   "cell_type": "markdown",
   "id": "31515e9f",
   "metadata": {},
   "source": [
    "What the behavior information looks like:"
   ]
  },
  {
   "cell_type": "code",
   "execution_count": 14,
   "id": "ce5f81fb",
   "metadata": {},
   "outputs": [
    {
     "data": {
      "text/html": [
       "<div>\n",
       "<style scoped>\n",
       "    .dataframe tbody tr th:only-of-type {\n",
       "        vertical-align: middle;\n",
       "    }\n",
       "\n",
       "    .dataframe tbody tr th {\n",
       "        vertical-align: top;\n",
       "    }\n",
       "\n",
       "    .dataframe thead th {\n",
       "        text-align: right;\n",
       "    }\n",
       "</style>\n",
       "<table border=\"1\" class=\"dataframe\">\n",
       "  <thead>\n",
       "    <tr style=\"text-align: right;\">\n",
       "      <th></th>\n",
       "      <th>trial_num</th>\n",
       "      <th>hit_hist</th>\n",
       "      <th>delay</th>\n",
       "      <th>pair_hist</th>\n",
       "      <th>correct_side</th>\n",
       "      <th>prev_side</th>\n",
       "      <th>aud1_sigma</th>\n",
       "      <th>aud2_sigma</th>\n",
       "      <th>c_poke</th>\n",
       "      <th>end_state</th>\n",
       "      <th>hit_state</th>\n",
       "      <th>aud1_on</th>\n",
       "      <th>aud1_off</th>\n",
       "      <th>aud2_on</th>\n",
       "      <th>aud2_off</th>\n",
       "      <th>louder</th>\n",
       "      <th>first_sound</th>\n",
       "    </tr>\n",
       "  </thead>\n",
       "  <tbody>\n",
       "    <tr>\n",
       "      <th>0</th>\n",
       "      <td>19</td>\n",
       "      <td>hit</td>\n",
       "      <td>4</td>\n",
       "      <td>5</td>\n",
       "      <td>LEFT</td>\n",
       "      <td>LEFT</td>\n",
       "      <td>0.001000</td>\n",
       "      <td>0.002700</td>\n",
       "      <td>638.592225</td>\n",
       "      <td>645.952226</td>\n",
       "      <td>644.708217</td>\n",
       "      <td>638.643221</td>\n",
       "      <td>639.043233</td>\n",
       "      <td>643.043224</td>\n",
       "      <td>643.442229</td>\n",
       "      <td>aud_2</td>\n",
       "      <td>60*</td>\n",
       "    </tr>\n",
       "    <tr>\n",
       "      <th>1</th>\n",
       "      <td>20</td>\n",
       "      <td>hit</td>\n",
       "      <td>6</td>\n",
       "      <td>5</td>\n",
       "      <td>LEFT</td>\n",
       "      <td>LEFT</td>\n",
       "      <td>0.001000</td>\n",
       "      <td>0.002700</td>\n",
       "      <td>652.103221</td>\n",
       "      <td>661.256217</td>\n",
       "      <td>659.849224</td>\n",
       "      <td>652.154222</td>\n",
       "      <td>652.553231</td>\n",
       "      <td>658.553227</td>\n",
       "      <td>658.953227</td>\n",
       "      <td>aud_2</td>\n",
       "      <td>60*</td>\n",
       "    </tr>\n",
       "    <tr>\n",
       "      <th>2</th>\n",
       "      <td>22</td>\n",
       "      <td>hit</td>\n",
       "      <td>2</td>\n",
       "      <td>1</td>\n",
       "      <td>RIGHT</td>\n",
       "      <td>RIGHT</td>\n",
       "      <td>0.002700</td>\n",
       "      <td>0.001000</td>\n",
       "      <td>672.617221</td>\n",
       "      <td>677.762223</td>\n",
       "      <td>676.540220</td>\n",
       "      <td>672.667224</td>\n",
       "      <td>673.067227</td>\n",
       "      <td>675.067231</td>\n",
       "      <td>675.467238</td>\n",
       "      <td>aud_1</td>\n",
       "      <td>68</td>\n",
       "    </tr>\n",
       "    <tr>\n",
       "      <th>3</th>\n",
       "      <td>23</td>\n",
       "      <td>hit</td>\n",
       "      <td>2</td>\n",
       "      <td>1</td>\n",
       "      <td>RIGHT</td>\n",
       "      <td>RIGHT</td>\n",
       "      <td>0.002700</td>\n",
       "      <td>0.001000</td>\n",
       "      <td>684.046215</td>\n",
       "      <td>689.180224</td>\n",
       "      <td>687.884237</td>\n",
       "      <td>684.096224</td>\n",
       "      <td>684.496236</td>\n",
       "      <td>686.496224</td>\n",
       "      <td>686.896231</td>\n",
       "      <td>aud_1</td>\n",
       "      <td>68</td>\n",
       "    </tr>\n",
       "    <tr>\n",
       "      <th>4</th>\n",
       "      <td>24</td>\n",
       "      <td>hit</td>\n",
       "      <td>4</td>\n",
       "      <td>8</td>\n",
       "      <td>LEFT</td>\n",
       "      <td>RIGHT</td>\n",
       "      <td>0.019683</td>\n",
       "      <td>0.053144</td>\n",
       "      <td>694.376218</td>\n",
       "      <td>701.768215</td>\n",
       "      <td>700.364220</td>\n",
       "      <td>694.426220</td>\n",
       "      <td>694.826222</td>\n",
       "      <td>698.826221</td>\n",
       "      <td>699.226219</td>\n",
       "      <td>aud_2</td>\n",
       "      <td>84</td>\n",
       "    </tr>\n",
       "  </tbody>\n",
       "</table>\n",
       "</div>"
      ],
      "text/plain": [
       "   trial_num hit_hist  delay  pair_hist correct_side prev_side  aud1_sigma  \\\n",
       "0         19      hit      4          5         LEFT      LEFT    0.001000   \n",
       "1         20      hit      6          5         LEFT      LEFT    0.001000   \n",
       "2         22      hit      2          1        RIGHT     RIGHT    0.002700   \n",
       "3         23      hit      2          1        RIGHT     RIGHT    0.002700   \n",
       "4         24      hit      4          8         LEFT     RIGHT    0.019683   \n",
       "\n",
       "   aud2_sigma      c_poke   end_state   hit_state     aud1_on    aud1_off  \\\n",
       "0    0.002700  638.592225  645.952226  644.708217  638.643221  639.043233   \n",
       "1    0.002700  652.103221  661.256217  659.849224  652.154222  652.553231   \n",
       "2    0.001000  672.617221  677.762223  676.540220  672.667224  673.067227   \n",
       "3    0.001000  684.046215  689.180224  687.884237  684.096224  684.496236   \n",
       "4    0.053144  694.376218  701.768215  700.364220  694.426220  694.826222   \n",
       "\n",
       "      aud2_on    aud2_off louder first_sound  \n",
       "0  643.043224  643.442229  aud_2         60*  \n",
       "1  658.553227  658.953227  aud_2         60*  \n",
       "2  675.067231  675.467238  aud_1          68  \n",
       "3  686.496224  686.896231  aud_1          68  \n",
       "4  698.826221  699.226219  aud_2          84  "
      ]
     },
     "execution_count": 14,
     "metadata": {},
     "output_type": "execute_result"
    }
   ],
   "source": [
    "beh_df.head()"
   ]
  },
  {
   "cell_type": "markdown",
   "id": "4a897d8e",
   "metadata": {},
   "source": [
    "Information stored in spks_dict:"
   ]
  },
  {
   "cell_type": "code",
   "execution_count": 18,
   "id": "15442af4",
   "metadata": {},
   "outputs": [
    {
     "data": {
      "text/plain": [
       "dict_keys(['date', 'spk2fsm', 'fs', 'trode_nums', 'spk_qual', 'spk_times', 'mean_wav', 'std_wav'])"
      ]
     },
     "execution_count": 18,
     "metadata": {},
     "output_type": "execute_result"
    }
   ],
   "source": [
    "spks_dict.keys()"
   ]
  },
  {
   "cell_type": "markdown",
   "id": "a33addfd",
   "metadata": {},
   "source": [
    "Checking if the 2nd cell in the session is a single or multi unit:"
   ]
  },
  {
   "cell_type": "code",
   "execution_count": 19,
   "id": "456935ca",
   "metadata": {},
   "outputs": [
    {
     "data": {
      "text/plain": [
       "'multi'"
      ]
     },
     "execution_count": 19,
     "metadata": {},
     "output_type": "execute_result"
    }
   ],
   "source": [
    "spks_dict['spk_qual'][1]"
   ]
  },
  {
   "cell_type": "markdown",
   "id": "faf7f8c7",
   "metadata": {},
   "source": [
    "## Aligning spike times to trial events\n",
    "\n",
    "This allows you to go from a very long 1d vector with spike times for the whole session given a cell to list of lists with dimensions n trial by n spikes per trial. Then, you can center the trial spikes based on an event you're interested in (e.g. aud 1 on). Again, you can overwrite or load in if the file_name is present. Additionally, if you want to have information for separate delay times (e.g. 2 and 4 second trials) you can turn delay_mode on. (Note, I don't really use this right now and analyze the first 2s of all trial types)."
   ]
  },
  {
   "cell_type": "code",
   "execution_count": 20,
   "id": "dd138f68",
   "metadata": {},
   "outputs": [
    {
     "name": "stdout",
     "output_type": "stream",
     "text": [
      "no file found, running alignment for session\n"
     ]
    }
   ],
   "source": [
    "session_aligned, session_windows = event_align_session(spks_dict, beh_df, sess_path, overwrite=True,\n",
    "                                                      delay_mode=False, file_name='tutorial_all_trials.pkl')"
   ]
  },
  {
   "cell_type": "code",
   "execution_count": 28,
   "id": "54c8b397",
   "metadata": {},
   "outputs": [
    {
     "name": "stdout",
     "output_type": "stream",
     "text": [
      "There are 4 neurons in this session.\n"
     ]
    }
   ],
   "source": [
    "print(f\"There are {len(session_aligned)} neurons in this session.\")"
   ]
  },
  {
   "cell_type": "markdown",
   "id": "addec7c9",
   "metadata": {},
   "source": [
    "Example of events aligned to. Note, this is the same for all neurons"
   ]
  },
  {
   "cell_type": "code",
   "execution_count": 29,
   "id": "3b3ae96a",
   "metadata": {},
   "outputs": [
    {
     "data": {
      "text/plain": [
       "dict_keys(['aud1on', 'aud1off', 'aud2on', 'aud2off', 'trial_all', 'delay_overlap'])"
      ]
     },
     "execution_count": 29,
     "metadata": {},
     "output_type": "execute_result"
    }
   ],
   "source": [
    "neuron = 0\n",
    "\n",
    "session_aligned[neuron].keys()"
   ]
  },
  {
   "cell_type": "markdown",
   "id": "a263eaba",
   "metadata": {},
   "source": [
    "If you want to know the time windows used around the alignment period you can see them in the `session_windows`. Note, these are hard coded into `stimuli_align()` and `delay_align()` for now, and are in miliseconds. These functions also have information on which event was algined to. For example, `delay_overlap` is for analyzing the first 2 seconds of the delay period. It is aligned to `aud 1 off` and has large tails (`+/- 600 ms`) to reduce edge effects when smoothing with a large guassian filter over the delay period."
   ]
  },
  {
   "cell_type": "code",
   "execution_count": 32,
   "id": "77d01896",
   "metadata": {},
   "outputs": [
    {
     "data": {
      "text/plain": [
       "{'aud1on': [-400, 600],\n",
       " 'aud1off': [-500, 500],\n",
       " 'aud2on': [-400, 600],\n",
       " 'aud2off': [-500, 500],\n",
       " 'trial_all': [-100, 5000],\n",
       " 'delay_overlap': [-600, 2600]}"
      ]
     },
     "execution_count": 32,
     "metadata": {},
     "output_type": "execute_result"
    }
   ],
   "source": [
    "session_windows[neuron]"
   ]
  },
  {
   "cell_type": "markdown",
   "id": "15c3ab2a",
   "metadata": {},
   "source": [
    "Example of what a single aligned trial looks like for an event. These times are in seconds relative to the event."
   ]
  },
  {
   "cell_type": "code",
   "execution_count": 33,
   "id": "ef0ecfa9",
   "metadata": {},
   "outputs": [
    {
     "data": {
      "text/plain": [
       "array([-0.39722631, -0.37669406, -0.34916219, -0.31359742, -0.21560263,\n",
       "       -0.15223933,  0.34773408,  0.38099898,  0.39576486,  0.50119259,\n",
       "        0.53855727])"
      ]
     },
     "execution_count": 33,
     "metadata": {},
     "output_type": "execute_result"
    }
   ],
   "source": [
    "event = 'aud1on'\n",
    "trial = 32\n",
    "\n",
    "session_aligned[neuron][event][trial]"
   ]
  },
  {
   "cell_type": "markdown",
   "id": "39bc94b2",
   "metadata": {},
   "source": [
    "### What if I only want to plot hit trials?\n",
    "\n",
    "Right now, the easiest way to do that is filter the dataframe you pass into `event_align_session()`. Alternatively, you could filter which trials you use from `session_aligned`. Eventually, it would be nice to have `event_align_session` be an object with filtering abilities. "
   ]
  },
  {
   "cell_type": "code",
   "execution_count": 35,
   "id": "a7557e58",
   "metadata": {},
   "outputs": [
    {
     "name": "stdout",
     "output_type": "stream",
     "text": [
      "no file found, running alignment for session\n"
     ]
    }
   ],
   "source": [
    "# hits only\n",
    "hit_df = beh_df[beh_df['hit_hist'] != 'hits']\n",
    "\n",
    "# softest and louded first sounds and hits\n",
    "sound_list = ['60*', '92*']\n",
    "filtered_df = beh_df[(beh_df['first_sound'].isin(sound_list)) & (beh_df['hit_hist'] == 'hit')]\n",
    "\n",
    "_,_ = event_align_session(spks_dict, hit_df, sess_path, overwrite=True,\n",
    "                          delay_mode=False, file_name='tutorial_hit_trials.pkl')"
   ]
  },
  {
   "cell_type": "markdown",
   "id": "257e4da1",
   "metadata": {},
   "source": [
    "## Plotting: Rasters\n",
    "\n",
    "This takes advantage of the eventplot code. Eventually, a flexible function would be good here, but this works for now."
   ]
  },
  {
   "cell_type": "code",
   "execution_count": 43,
   "id": "85fdf7de",
   "metadata": {},
   "outputs": [
    {
     "data": {
      "image/png": "[encoded data removed]",
      "text/plain": [
       "<Figure size 432x288 with 1 Axes>"
      ]
     },
     "metadata": {
      "needs_background": "light"
     },
     "output_type": "display_data"
    }
   ],
   "source": [
    "fig, ax = plt.subplots()\n",
    "\n",
    "_ = ax.eventplot(session_aligned[neuron][event], color = 'cornflowerblue')\n",
    "\n",
    "# aesthetics\n",
    "ax.axvspan(0,0.000001, color = 'black')\n",
    "ax.set_title(f\"Neuron: {neuron}, event: {event}\")\n",
    "ax.axvspan(0,.4, alpha = 0.2, color = 'gray')\n",
    "ax.set(xlabel=\"Time (s)\", ylabel='Trials')\n",
    "sns.despine()\n",
    "\n"
   ]
  },
  {
   "cell_type": "markdown",
   "id": "914f8bdd",
   "metadata": {},
   "source": [
    "Plotting multiple rasters given a condition for a single neuron."
   ]
  },
  {
   "cell_type": "code",
   "execution_count": 62,
   "id": "0fcee8cb",
   "metadata": {},
   "outputs": [
    {
     "data": {
      "image/png": "[encoded data removed]",
      "text/plain": [
       "<Figure size 720x576 with 2 Axes>"
      ]
     },
     "metadata": {
      "needs_background": "light"
     },
     "output_type": "display_data"
    }
   ],
   "source": [
    "conditions = 'hit_hist'\n",
    "\n",
    "# this dictionary will have the indices for each condition\n",
    "trials = dict()\n",
    "for cond_id in np.sort(beh_df[conditions].unique()):\n",
    "    trials[cond_id] = np.where((beh_df[conditions] == cond_id).values)[0]\n",
    "\n",
    "\n",
    "# intialize figure\n",
    "fig, ax = plt.subplots(len(trials), figsize= (10, 8)) \n",
    "\n",
    "counter = 0\n",
    "for cond_id, idxs in trials.items():\n",
    "\n",
    "    # grab the trials for each condition\n",
    "    selected_trials = np.array(session_aligned[neuron][event], dtype=object)[idxs]\n",
    "    \n",
    "    # make the plot\n",
    "    _ = ax[counter].eventplot(selected_trials)\n",
    "    ax[counter].axvspan(0,0.000001, color = 'black')\n",
    "    ax[counter].axvspan(0,0.4, alpha = 0.2, color = 'grey')\n",
    "    \n",
    "    # adding titles here\n",
    "    ax[0].set_title('Hits')\n",
    "    ax[1].set_title('Misses')\n",
    "    \n",
    "    # manual counter (fix this eventually)\n",
    "    counter+=1\n",
    "    \n",
    "plt.tight_layout()\n",
    "sns.despine()"
   ]
  },
  {
   "cell_type": "markdown",
   "id": "8d742f7a",
   "metadata": {},
   "source": [
    "## Plotting: PSTH (boxcar)"
   ]
  },
  {
   "cell_type": "code",
   "execution_count": null,
   "id": "98f82d73",
   "metadata": {},
   "outputs": [],
   "source": []
  }
 ],
 "metadata": {
  "kernelspec": {
   "display_name": "Python 3",
   "language": "python",
   "name": "python3"
  },
  "language_info": {
   "codemirror_mode": {
    "name": "ipython",
    "version": 3
   },
   "file_extension": ".py",
   "mimetype": "text/x-python",
   "name": "python",
   "nbconvert_exporter": "python",
   "pygments_lexer": "ipython3",
   "version": "3.7.10"
  }
 },
 "nbformat": 4,
 "nbformat_minor": 5
}
