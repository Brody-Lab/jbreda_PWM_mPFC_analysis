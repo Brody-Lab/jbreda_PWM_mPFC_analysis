{
 "cells": [
  {
   "cell_type": "markdown",
   "id": "08aaae9e",
   "metadata": {},
   "source": [
    "# Clean up\n",
    "\n",
    "Cleaning up code for future me & testing if things worked"
   ]
  },
  {
   "cell_type": "code",
   "execution_count": 3,
   "id": "9e1df7e7",
   "metadata": {},
   "outputs": [],
   "source": [
    "# libraries\n",
    "import sys; sys.path.insert(0, '..') # if you don't find it here, look one above\n",
    "import os\n",
    "import numpy as np\n",
    "import matplotlib.pyplot as plt\n",
    "import pandas as pd\n",
    "import seaborn as sns\n",
    "import scipy.io as spio\n",
    "import pickle\n",
    "import warnings\n",
    "\n",
    "from tqdm import tqdm\n",
    "from scipy import stats\n",
    "from scipy.ndimage import gaussian_filter1d\n",
    "from io_utils import *\n",
    "from plotting_utils import * \n",
    "\n",
    "\n",
    "# settings\n",
    "%load_ext autoreload\n",
    "%autoreload 2\n",
    "sns.set_context(\"talk\")"
   ]
  },
  {
   "cell_type": "markdown",
   "id": "ad13b044",
   "metadata": {},
   "source": [
    "Test with single session"
   ]
  },
  {
   "cell_type": "code",
   "execution_count": 4,
   "id": "2fd2be07",
   "metadata": {},
   "outputs": [],
   "source": [
    "sess_name =  'data_sdc_20190902_145404_fromSD' \n",
    "base_path  = 'Y:\\jbreda\\ephys\\post_sort_analysis\\sorted_pre_bdata' \n",
    "beh_mat   = 'protocol_info.mat'\n",
    "spks_mat  = 'ksphy_clusters_foranalysis.mat'\n",
    "\n",
    "\n",
    "# create paths\n",
    "sess_path = os.path.join(base_path, sess_name)\n",
    "beh_path  = os.path.join(sess_path, beh_mat)\n",
    "spks_path = os.path.join(sess_path, spks_mat)\n",
    "\n",
    "# alginment info (hard coded here & in fx)\n",
    "# names = ['aud1on', 'aud1off', 'aud2on', 'aud2off', 'trial_all', 'delay_overlap', \n",
    "#          'delay2s', 'trial2s', 'delay4s', 'trial4s']\n",
    "# windows = [[-400, 600], [-500, 500], [-400, 600], [-500, 500], [-100, 5000], [-300, 2300],\n",
    "#            [-150, 2150],[-200, 2400], [-150, 4150], [-200, 4400]]\n",
    "\n",
    "# align_windows = dict(zip(names,windows))"
   ]
  },
  {
   "cell_type": "markdown",
   "id": "5bac06be",
   "metadata": {},
   "source": [
    "Load in"
   ]
  },
  {
   "cell_type": "code",
   "execution_count": 11,
   "id": "59bfbe6a",
   "metadata": {},
   "outputs": [
    {
     "name": "stdout",
     "output_type": "stream",
     "text": [
      "no file found, running alignment for session\n"
     ]
    }
   ],
   "source": [
    "beh_df, spks_dict = load_and_wrangle(beh_path, spks_path, overwrite=False)\n",
    "\n",
    "sess_aligned, sess_windows = event_align_session(spks_dict, beh_df, sess_path, overwrite=True,\n",
    "                                                 delay_mode=True, file_name='2021_05_06_cleanup_aligned_spks.pkl')"
   ]
  },
  {
   "cell_type": "code",
   "execution_count": 16,
   "id": "84c72629",
   "metadata": {},
   "outputs": [
    {
     "data": {
      "text/plain": [
       "array([0.02342418, 0.09828687, 0.17068302, 0.56936182, 0.64615773,\n",
       "       0.66259019, 0.80718251, 0.95547462, 1.02700415, 1.0329705 ,\n",
       "       1.19806172, 1.2165274 , 1.2604584 , 1.2693246 , 1.37488565,\n",
       "       1.43934889, 1.5984071 , 1.67886948, 1.72373377, 1.77123124,\n",
       "       1.80126298, 1.86429296, 2.05388288, 2.0822147 , 2.12274588,\n",
       "       2.13677847, 2.20284162, 2.20604145, 2.31310242, 2.38863174,\n",
       "       2.56602231, 2.590621  , 2.61425308, 2.62428588, 2.65561754,\n",
       "       2.67994958, 2.80124313, 2.973034  , 3.03353078, 3.07966166,\n",
       "       3.1660904 , 3.26971822, 3.27365134, 3.27538459, 3.30234982,\n",
       "       3.33734796, 3.34624748, 3.36777967, 3.36941292, 3.44434227,\n",
       "       3.44920868, 3.88025242, 3.90538442, 3.93864931, 4.07377546,\n",
       "       4.08640812, 4.13177238, 4.13350562, 4.13717209, 4.170237  ,\n",
       "       4.22240089, 4.29549701, 4.44538903, 4.48268705, 4.48772012,\n",
       "       4.63687885, 4.63844543, 4.73140716, 4.73204046, 4.81320281,\n",
       "       4.82810202, 4.86066695, 4.98866014])"
      ]
     },
     "execution_count": 16,
     "metadata": {},
     "output_type": "execute_result"
    }
   ],
   "source": [
    "sess_aligned[0]['trial_all'][0]"
   ]
  },
  {
   "cell_type": "code",
   "execution_count": null,
   "id": "403942b1",
   "metadata": {},
   "outputs": [],
   "source": []
  },
  {
   "cell_type": "code",
   "execution_count": 20,
   "id": "156a9468",
   "metadata": {},
   "outputs": [
    {
     "data": {
      "text/plain": [
       "[-100, 5000]"
      ]
     },
     "execution_count": 20,
     "metadata": {},
     "output_type": "execute_result"
    }
   ],
   "source": [
    "sess_windows[3]['trial_all']"
   ]
  },
  {
   "cell_type": "markdown",
   "id": "1a647772",
   "metadata": {},
   "source": [
    "Test changes to plotting functions here with the session, save out to somewhere new.\n",
    "\n",
    "Hits, all delay types, 'delay_overlap'"
   ]
  }
 ],
 "metadata": {
  "kernelspec": {
   "display_name": "Python 3",
   "language": "python",
   "name": "python3"
  },
  "language_info": {
   "codemirror_mode": {
    "name": "ipython",
    "version": 3
   },
   "file_extension": ".py",
   "mimetype": "text/x-python",
   "name": "python",
   "nbconvert_exporter": "python",
   "pygments_lexer": "ipython3",
   "version": "3.7.10"
  }
 },
 "nbformat": 4,
 "nbformat_minor": 5
}
