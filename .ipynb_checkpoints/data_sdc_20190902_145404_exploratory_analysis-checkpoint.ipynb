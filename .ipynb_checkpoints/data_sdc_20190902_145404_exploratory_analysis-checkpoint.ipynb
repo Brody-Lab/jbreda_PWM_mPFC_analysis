{
 "cells": [
  {
   "cell_type": "markdown",
   "id": "renewable-income",
   "metadata": {},
   "source": [
    "# Explortatory analysis \n",
    "\n",
    "Notebook for exploratory analysis on tetrode data in the mPFC of a rat doing the parametric working memory (PWM) task.\n",
    "\n",
    "Session: `data_sdc_20190902_145404_fromSD`\n",
    "\n",
    "Current data storage:\n",
    "* raw .dat, .rec, .mda, .bin and preprocessed .bin files are located on scratch under ``\n",
    "\n",
    "* sorted data is located on bucket `Y:\\jbreda\\ephys\\post_sort_analysis\\sorted_pre_bdata`\n",
    "\n",
    "* in a sorted folder: \n",
    "    * folder for each .bin bundle & cluster notes, matlab struct w/ spike info from scraped phy, matlab struct w/ behavior info scraped from bdata\n",
    "    * in .bin bundle folder you will find curated kilosort output, mask info as npy and preprocessed .bin that was run\n",
    "\n",
    "see [jbreda_PWM_ephys_analysis](https://github.com/Brody-Lab/jbreda_PWM_ephys_analysis) for more info on how this info was obtained\n",
    "\n",
    "\n",
    "**TODO**\n",
    "* deal w/ zeroing info\n",
    "* determine how tyler stored waveforms\n",
    "* iterating w/ spykes \n",
    "* plotting iterations\n",
    "* grab sending trial num and prepare next trail and add to df\n",
    "* adjust loading function to be separate for beh/spks \n"
   ]
  },
  {
   "cell_type": "markdown",
   "id": "treated-supplement",
   "metadata": {},
   "source": [
    "## Libs & fxs"
   ]
  },
  {
   "cell_type": "code",
   "execution_count": 1,
   "id": "brief-dispatch",
   "metadata": {},
   "outputs": [],
   "source": [
    "# libraries\n",
    "import numpy as np\n",
    "import matplotlib.pyplot as plt\n",
    "import pandas as pd\n",
    "import seaborn as sns\n",
    "import scipy.io as spio\n",
    "import os\n",
    "from spykes.plot.neurovis import NeuroVis\n",
    "from utils import *"
   ]
  },
  {
   "cell_type": "markdown",
   "id": "given-hearing",
   "metadata": {},
   "source": [
    "## I/O & Wrangle"
   ]
  },
  {
   "cell_type": "code",
   "execution_count": 4,
   "id": "million-friday",
   "metadata": {},
   "outputs": [
    {
     "data": {
      "text/plain": [
       "'Loading & saving info for later'"
      ]
     },
     "execution_count": 4,
     "metadata": {},
     "output_type": "execute_result"
    }
   ],
   "source": [
    "# global\n",
    "dir_name  = 'Y:\\jbreda\\ephys\\post_sort_analysis\\sorted_pre_bdata' \n",
    "beh_mat   = 'protocol_info.mat'\n",
    "spks_mat  = 'ksphy_clusters_foranalysis.mat'\n",
    "sess_name = 'data_sdc_20190902_145404_fromSD'\n",
    "\n",
    "# create paths\n",
    "beh_path  = os.path.join(dir_name, sess_name, beh_mat)\n",
    "spks_path = os.path.join(dir_name, sess_name, spks_mat)\n",
    "\n",
    "# load & wrangle\n",
    "beh_df, spks_dict = load_and_wrangle(beh_path, spks_path, overwrite=False)\n",
    "\n",
    "# get neurons into NeuroVis objects\n",
    "neurons = initiate_neurons(spks_dict, \"20190902\")\n",
    "\n",
    "\"Loading & saving info for later\"\n",
    "# # beh_df.to_csv(os.path.join(dir_name, sess_name, 'beh_df.csv'), index=False)\n",
    "# # preloading spks_dict\n",
    "# import pickle\n",
    "\n",
    "# f = open(os.path.join(dir_name, sess_name, 'spks_dict.pkl'),\"wb\")\n",
    "# pickle.dump(spks_dict,f)\n",
    "# f.close()\n",
    "\n",
    "# f= open(os.path.join(dir_name, sess_name, 'spks_dict.pkl'), \"rb\")\n",
    "# loaded_dictionary = pickle.load(f)"
   ]
  },
  {
   "cell_type": "markdown",
   "id": "moral-philip",
   "metadata": {},
   "source": [
    "# Plotting 2 second, L hit trials"
   ]
  },
  {
   "cell_type": "code",
   "execution_count": null,
   "id": "inclusive-egyptian",
   "metadata": {},
   "outputs": [],
   "source": [
    "\"get_raster for all neurons and assigned events\"\n",
    "\n",
    "def get_neuron_rasters(neurons, events, windows, df):\n",
    "    \n",
    "    \"\"\"\n",
    "    This function can be used to get rasters for multiple neurons across multiple events\n",
    "    with specific time windows for each event\n",
    "    \n",
    "    inputs:\n",
    "    -------\n",
    "    neurons : NeuroVis object, N neurons long\n",
    "    events  : list, event name in strings from your behavior df you want to align to\n",
    "    windows : list, time window in ms to grab for each event\n",
    "    df      : behavior data frame with event information\n",
    "    \n",
    "    returns:\n",
    "    -------\n",
    "    neuron_rasters : list, raster dictionaries stored by [neuron][event] for plotting\"\"\"\n",
    "    \n",
    "    #initialize storage ([Neuron][Event])\n",
    "    neuron_rasters = []  \n",
    "\n",
    "    # iterate over each neuron and event\n",
    "    for neuron in range(len(neurons)):\n",
    "        \n",
    "        rasters = []\n",
    "        \n",
    "        for event in range(len(events)):\n",
    "            \n",
    "        # create raster dictionary\n",
    "            raster = neurons[neuron].get_raster(event = events[event], conditions=None, \n",
    "                                                df = df, window=windows[event], plot=False)\n",
    "            rasters.append(raster)\n",
    "\n",
    "        neuron_rasters.append(rasters)\n",
    "    \n",
    "    return neuron_rasters\n",
    "\n"
   ]
  },
  {
   "cell_type": "code",
   "execution_count": null,
   "id": "comfortable-lyric",
   "metadata": {},
   "outputs": [],
   "source": [
    "# filter dataframe\n",
    "beh_df_d2_hl = beh_df[(beh_df['correct_side'] == 'LEFT') & (beh_df['delay'] == 2)\n",
    "       & (beh_df['hit_hist'] == 'hit')]\n",
    "\n",
    "\n",
    "# initilaize\n",
    "events = ['c_poke', 'aud1_on', 'aud2_on', 'hit_state', 'aud1_on']\n",
    "windows = [[-300,700], [-500,1000], [-500, 1000], [-500,1100], [-1000,2300]]\n",
    "\n",
    "# create\n",
    "neuron_rasters = get_neuron_rasters(neurons, events, windows, df=beh_df_d2_hl)"
   ]
  },
  {
   "cell_type": "code",
   "execution_count": null,
   "id": "accurate-north",
   "metadata": {},
   "outputs": [],
   "source": [
    "plt.figure(figsize = (10,8))\n",
    "nn = 3\n",
    "cc = 4\n",
    "neurons[nn].plot_raster(neuron_rasters[nn][cc], cond_name=events[cc], cmap=\"Greys\",has_title=True)"
   ]
  },
  {
   "cell_type": "code",
   "execution_count": null,
   "id": "convinced-production",
   "metadata": {},
   "outputs": [],
   "source": [
    "# next steps: change the spykes documentation to take ax as an argument and try to\n",
    "# plot all the conditions for 1 neuron on the same axis. also edit plot title\n",
    "\n",
    "# then, work on creating the same type of function for psth & try to plot all psths together with modified code\n",
    "\n",
    "# then, try and plot them all together"
   ]
  },
  {
   "cell_type": "markdown",
   "id": "incomplete-motion",
   "metadata": {},
   "source": [
    "## Rouge plots"
   ]
  },
  {
   "cell_type": "code",
   "execution_count": null,
   "id": "classified-brave",
   "metadata": {},
   "outputs": [],
   "source": [
    "\"proof of cell\"\n",
    "\n",
    "# need to f/u w/ Tyler on these shapes\n",
    "\n",
    "tt_num = 3\n",
    "wave_snippet = spks_dict['waves_mn']\n",
    "plt.plot(wave_snippet[tt_num][tt_num])"
   ]
  },
  {
   "cell_type": "code",
   "execution_count": null,
   "id": "knowing-fellowship",
   "metadata": {},
   "outputs": [],
   "source": [
    "n_cells = len(spks_dict[\"event_ts_fsm\"])\n",
    "trode_num = spks_dict[\"trodenum\"]\n",
    "spk_qual = []\n",
    "for cell in range(n_cells):\n",
    "    if spks_dict[\"mua\"][cell] == 1:\n",
    "        spk_qual.append(\"multi\")\n",
    "    elif spks_dict[\"single\"][cell] == 1:\n",
    "        spk_qual.append(\"single\")\n",
    "    else:\n",
    "        raise TypeError(\"cell not marked as multi or single\")\n",
    "n_cells, spk_qual, trode_num        "
   ]
  },
  {
   "cell_type": "code",
   "execution_count": null,
   "id": "cheap-standard",
   "metadata": {},
   "outputs": [],
   "source": [
    "plt.style.use('seaborn-ticks')\n",
    "conditions = 'response' #either L lick or R lick\n",
    "cmap = [plt.get_cmap('Blues'), plt.get_cmap('Reds')]\n",
    "colors = ['#E82F3A', '#3B439A']\n",
    "\n",
    "\n",
    "# get rasters------------------------------------------------------\n",
    "rasters_fig2b1 = neuron.get_raster(event=event,\n",
    "                                   conditions=conditions,\n",
    "                                   df=trials_df,\n",
    "                                   window=window,\n",
    "                                   binsize=20,\n",
    "                                   plot=False)\n",
    "\n",
    "\n",
    "plt.figure(figsize=(8, 10))\n",
    "cond_ids = rasters_fig2b1['data'].keys()[::-1]\n",
    "\n",
    "# plot rasters-------------------------------------------------------\n",
    "for i, cond_id in enumerate(cond_ids):\n",
    "    plt.subplot(4, 1, i + 1)\n",
    "    neuron.plot_raster(rasters=rasters_fig2b1,\n",
    "                       cond_id=cond_id,\n",
    "                       cmap=cmap[i],\n",
    "                       sortby=None,\n",
    "                       has_title=False)\n",
    "    plt.xlabel('')\n",
    "\n",
    "\n",
    "# plot psth-------------------------------------------------------\n",
    "plt.subplot(212)\n",
    "psth = neuron.get_psth(event=event,\n",
    "                       conditions=conditions,\n",
    "                       df=trials_df,\n",
    "                       window=window,\n",
    "                       binsize=100,\n",
    "                       plot=True,\n",
    "                       colors=colors)\n",
    "plt.title('')\n",
    "plt.show()"
   ]
  },
  {
   "cell_type": "code",
   "execution_count": null,
   "id": "described-buffer",
   "metadata": {},
   "outputs": [],
   "source": [
    "#these subplots are possesed idk\n",
    "events = ['c_poke', 'aud1_on', 'aud2_on', 'hit_state']\n",
    "nn = 1\n",
    "plt.style.use('seaborn-ticks')\n",
    "plt.figure(figsize=(8,20))\n",
    "\n",
    "raster0 = neurons[nn].get_raster(event = events[0],\n",
    "          conditions=None, df = beh_df_d2_hl,\n",
    "          plot=False)\n",
    "\n",
    "plt.subplot(4,1,1)\n",
    "neurons[nn].plot_raster(raster0, cond_name='c_poke', cmap='Blues',has_title=True)\n",
    "\n",
    "\n",
    "psth0 = neurons[nn].get_psth(event=events[0], conditions=None,\n",
    "                           df=beh_df_d2_hl, window = [-100,500],\n",
    "                           binsize = 50, plot=False)\n",
    "\n",
    "plt.subplot(211)\n",
    "neurons[nn].plot_psth(psth0)\n",
    "\n",
    "plt.subplot(212)\n",
    "\n",
    "plt.show()"
   ]
  },
  {
   "cell_type": "code",
   "execution_count": null,
   "id": "alternate-concentration",
   "metadata": {},
   "outputs": [],
   "source": [
    "event = 'aud2_on'\n",
    "condition = 'delay'\n",
    "window = [-1000, 1500]\n",
    "binsize = 50\n",
    "neuron_number = 1\n",
    "neuron = neuronL[neuron_number - 1]\n",
    "\n",
    "plt.figure(figsize=(10, 5))\n",
    "psth = neuron.get_psth(event = event,\n",
    "                       conditions = condition,\n",
    "                       df = beh_df,\n",
    "                       window = window,\n",
    "                       binsize = binsize,\n",
    "                       event_name = 'Center Poke')"
   ]
  }
 ],
 "metadata": {
  "kernelspec": {
   "display_name": "Python 3",
   "language": "python",
   "name": "python3"
  },
  "language_info": {
   "codemirror_mode": {
    "name": "ipython",
    "version": 3
   },
   "file_extension": ".py",
   "mimetype": "text/x-python",
   "name": "python",
   "nbconvert_exporter": "python",
   "pygments_lexer": "ipython3",
   "version": "3.7.9"
  }
 },
 "nbformat": 4,
 "nbformat_minor": 5
}
