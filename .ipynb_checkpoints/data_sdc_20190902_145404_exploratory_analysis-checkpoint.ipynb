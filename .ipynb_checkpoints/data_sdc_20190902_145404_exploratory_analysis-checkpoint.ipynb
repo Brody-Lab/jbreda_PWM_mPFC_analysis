{
 "cells": [
  {
   "cell_type": "markdown",
   "id": "renewable-income",
   "metadata": {},
   "source": [
    "# Explortatory analysis \n",
    "\n",
    "Notebook for exploratory analysis on tetrode data in the mPFC of a rat doing the parametric working memory (PWM) task.\n",
    "\n",
    "Session: `data_sdc_20190902_145404_fromSD`\n",
    "\n",
    "Current data storage:\n",
    "* raw .dat, .rec, .mda, .bin and preprocessed .bin files are located on scratch under ``\n",
    "\n",
    "* sorted data is located on bucket `Y:\\jbreda\\ephys\\post_sort_analysis\\sorted_pre_bdata`\n",
    "\n",
    "* in a sorted folder: \n",
    "    * folder for each .bin bundle & cluster notes, matlab struct w/ spike info from scraped phy, matlab struct w/ behavior info scraped from bdata\n",
    "    * in .bin bundle folder you will find curated kilosort output, mask info as npy and preprocessed .bin that was run\n",
    "\n",
    "see [jbreda_PWM_ephys_analysis](https://github.com/Brody-Lab/jbreda_PWM_ephys_analysis) for more info on how this info was obtained\n",
    "\n",
    "\n",
    "**TODO**\n",
    "* deal w/ zeroing info\n",
    "* figure out how to get spk waveform with new dict structure\n",
    "* plotting iterations\n",
    "\n"
   ]
  },
  {
   "cell_type": "markdown",
   "id": "treated-supplement",
   "metadata": {},
   "source": [
    "## Libs & fxs"
   ]
  },
  {
   "cell_type": "code",
   "execution_count": 1,
   "id": "brief-dispatch",
   "metadata": {},
   "outputs": [],
   "source": [
    "# settings\n",
    "\n",
    "%load_ext autoreload\n",
    "%autoreload 2\n",
    "\n",
    "# libraries\n",
    "import sys; sys.path.insert(0, '..') # if you don't find it here, look one above\n",
    "import os\n",
    "import numpy as np\n",
    "import matplotlib.pyplot as plt\n",
    "import pandas as pd\n",
    "import seaborn as sns\n",
    "import scipy.io as spio\n",
    "# stored one repo up in my fork of Spykes\n",
    "from spykes.spykes.plot.neurovis import NeuroVis\n",
    "from io_utils import *\n",
    "from plotting_utils import * \n",
    "\n",
    "sns.set_context(\"talk\")"
   ]
  },
  {
   "cell_type": "markdown",
   "id": "given-hearing",
   "metadata": {},
   "source": [
    "## I/O & Wrangle"
   ]
  },
  {
   "cell_type": "code",
   "execution_count": 61,
   "id": "million-friday",
   "metadata": {},
   "outputs": [
    {
     "name": "stdout",
     "output_type": "stream",
     "text": [
      "yaaaa\n",
      "0        1\n",
      "1        2\n",
      "2        3\n",
      "3        4\n",
      "4        5\n",
      "      ... \n",
      "400    401\n",
      "401    402\n",
      "402    403\n",
      "403    404\n",
      "404    405\n",
      "Name: trial_num, Length: 405, dtype: int32\n"
     ]
    },
    {
     "name": "stderr",
     "output_type": "stream",
     "text": [
      "C:\\Users\\brodylab\\Documents\\GitHub\\jbreda_PWM_ephys_analysis\\io_utils.py:186: SettingWithCopyWarning: \n",
      "A value is trying to be set on a copy of a slice from a DataFrame\n",
      "\n",
      "See the caveats in the documentation: https://pandas.pydata.org/pandas-docs/stable/user_guide/indexing.html#returning-a-view-versus-a-copy\n",
      "  beh_df['hit_hist'][beh_df['hit_hist'].isnull()] = \"viol\"\n"
     ]
    },
    {
     "data": {
      "text/plain": [
       "'Loading & saving info for later'"
      ]
     },
     "execution_count": 61,
     "metadata": {},
     "output_type": "execute_result"
    }
   ],
   "source": [
    "# global\n",
    "# sess_names = np.array(['data_sdb_20190724_193007_fromSD', 'data_sdc_20190902_145404_fromSD', 'W122_07_27_2019_1_fromSD', \n",
    "#             'W122_08_06_2019_1_fromSD', 'W122_08_07_2019_1_fromSD', 'W122_08_31_2019_1_fromSD', 'W122_09_04_2019_1_fromSD',\n",
    "#             'W122_09_09_2019_1_fromSD', 'W122_09_10_2019_1_fromSD', 'W122_09_11_2019_1_fromSD', 'W122_09_12_2019_1_fromSD',\n",
    "#             'W122_09_19_2019_1_fromSD', 'W122_09_21_2019_1_fromSD', 'W122_09_24_2019_1_fromSD'])\n",
    "\n",
    "#np.save('sess_names.npy', sess_names)\n",
    "\n",
    "sess_names = np.load('sess_names.npy')\n",
    "\n",
    "dir_name  = 'Y:\\jbreda\\ephys\\post_sort_analysis\\sorted_pre_bdata' \n",
    "beh_mat   = 'protocol_info.mat'\n",
    "spks_mat  = 'ksphy_clusters_foranalysis.mat'\n",
    "sess_name = sess_names[1]\n",
    "sess_dir = os.path.join(dir_name, sess_name)\n",
    "\n",
    "# create paths\n",
    "beh_path  = os.path.join(dir_name, sess_name, beh_mat)\n",
    "spks_path = os.path.join(dir_name, sess_name, spks_mat)\n",
    "\n",
    "# load & wrangle\n",
    "beh_df, spks_dict = load_and_wrangle(beh_path, spks_path, overwrite=True)\n",
    "\n",
    "# get neurons into NeuroVis objects\n",
    "neurons = initiate_neurons(spks_dict, \"20190902\")\n",
    "\n",
    "\"\"\"Loading & saving info for later\"\"\"\n",
    "# # beh_df.to_csv(os.path.join(dir_name, sess_name, 'beh_df.csv'), index=False)\n",
    "\n",
    "# # preloading spks_dict\n",
    "# import pickle\n",
    "\n",
    "# f = open(os.path.join(dir_name, sess_name, 'spks_dict.pkl'),\"wb\")\n",
    "# pickle.dump(spks_dict,f)\n",
    "# f.close()\n",
    "\n",
    "# f= open(os.path.join(dir_name, sess_name, 'spks_dict.pkl'), \"rb\")\n",
    "# loaded_dictionary = pickle.load(f)\n",
    "\n"
   ]
  },
  {
   "cell_type": "code",
   "execution_count": 3,
   "id": "innocent-factory",
   "metadata": {},
   "outputs": [
    {
     "data": {
      "text/html": [
       "<div>\n",
       "<style scoped>\n",
       "    .dataframe tbody tr th:only-of-type {\n",
       "        vertical-align: middle;\n",
       "    }\n",
       "\n",
       "    .dataframe tbody tr th {\n",
       "        vertical-align: top;\n",
       "    }\n",
       "\n",
       "    .dataframe thead th {\n",
       "        text-align: right;\n",
       "    }\n",
       "</style>\n",
       "<table border=\"1\" class=\"dataframe\">\n",
       "  <thead>\n",
       "    <tr style=\"text-align: right;\">\n",
       "      <th></th>\n",
       "      <th>hit_hist</th>\n",
       "      <th>delay</th>\n",
       "      <th>pair_hist</th>\n",
       "      <th>correct_side</th>\n",
       "      <th>prev_side</th>\n",
       "      <th>aud1_sigma</th>\n",
       "      <th>aud2_sigma</th>\n",
       "      <th>c_poke</th>\n",
       "      <th>end_state</th>\n",
       "      <th>hit_state</th>\n",
       "      <th>aud1_on</th>\n",
       "      <th>aud1_off</th>\n",
       "      <th>aud2_on</th>\n",
       "      <th>aud2_off</th>\n",
       "    </tr>\n",
       "  </thead>\n",
       "  <tbody>\n",
       "    <tr>\n",
       "      <th>0</th>\n",
       "      <td>viol</td>\n",
       "      <td>6</td>\n",
       "      <td>9</td>\n",
       "      <td>RIGHT</td>\n",
       "      <td>NaN</td>\n",
       "      <td>0.008904</td>\n",
       "      <td>0.007300</td>\n",
       "      <td>476.563229</td>\n",
       "      <td>478.330221</td>\n",
       "      <td>NaN</td>\n",
       "      <td>NaN</td>\n",
       "      <td>NaN</td>\n",
       "      <td>NaN</td>\n",
       "      <td>NaN</td>\n",
       "    </tr>\n",
       "    <tr>\n",
       "      <th>1</th>\n",
       "      <td>viol</td>\n",
       "      <td>4</td>\n",
       "      <td>4</td>\n",
       "      <td>RIGHT</td>\n",
       "      <td>RIGHT</td>\n",
       "      <td>0.053144</td>\n",
       "      <td>0.019683</td>\n",
       "      <td>479.869221</td>\n",
       "      <td>481.457220</td>\n",
       "      <td>NaN</td>\n",
       "      <td>NaN</td>\n",
       "      <td>NaN</td>\n",
       "      <td>NaN</td>\n",
       "      <td>NaN</td>\n",
       "    </tr>\n",
       "    <tr>\n",
       "      <th>2</th>\n",
       "      <td>hit</td>\n",
       "      <td>6</td>\n",
       "      <td>3</td>\n",
       "      <td>RIGHT</td>\n",
       "      <td>RIGHT</td>\n",
       "      <td>0.019683</td>\n",
       "      <td>0.007290</td>\n",
       "      <td>482.048223</td>\n",
       "      <td>491.384224</td>\n",
       "      <td>490.309221</td>\n",
       "      <td>482.098232</td>\n",
       "      <td>482.498223</td>\n",
       "      <td>488.499224</td>\n",
       "      <td>488.898223</td>\n",
       "    </tr>\n",
       "    <tr>\n",
       "      <th>3</th>\n",
       "      <td>miss</td>\n",
       "      <td>2</td>\n",
       "      <td>9</td>\n",
       "      <td>RIGHT</td>\n",
       "      <td>RIGHT</td>\n",
       "      <td>0.008904</td>\n",
       "      <td>0.007300</td>\n",
       "      <td>498.909227</td>\n",
       "      <td>504.188223</td>\n",
       "      <td>502.903229</td>\n",
       "      <td>498.960232</td>\n",
       "      <td>499.360221</td>\n",
       "      <td>501.359229</td>\n",
       "      <td>501.759230</td>\n",
       "    </tr>\n",
       "    <tr>\n",
       "      <th>4</th>\n",
       "      <td>hit</td>\n",
       "      <td>2</td>\n",
       "      <td>6</td>\n",
       "      <td>LEFT</td>\n",
       "      <td>RIGHT</td>\n",
       "      <td>0.002700</td>\n",
       "      <td>0.007290</td>\n",
       "      <td>505.471227</td>\n",
       "      <td>510.643223</td>\n",
       "      <td>509.341221</td>\n",
       "      <td>505.522228</td>\n",
       "      <td>505.922229</td>\n",
       "      <td>507.922222</td>\n",
       "      <td>508.321227</td>\n",
       "    </tr>\n",
       "    <tr>\n",
       "      <th>...</th>\n",
       "      <td>...</td>\n",
       "      <td>...</td>\n",
       "      <td>...</td>\n",
       "      <td>...</td>\n",
       "      <td>...</td>\n",
       "      <td>...</td>\n",
       "      <td>...</td>\n",
       "      <td>...</td>\n",
       "      <td>...</td>\n",
       "      <td>...</td>\n",
       "      <td>...</td>\n",
       "      <td>...</td>\n",
       "      <td>...</td>\n",
       "      <td>...</td>\n",
       "    </tr>\n",
       "    <tr>\n",
       "      <th>400</th>\n",
       "      <td>hit</td>\n",
       "      <td>2</td>\n",
       "      <td>2</td>\n",
       "      <td>RIGHT</td>\n",
       "      <td>LEFT</td>\n",
       "      <td>0.007290</td>\n",
       "      <td>0.002700</td>\n",
       "      <td>5227.210220</td>\n",
       "      <td>5232.558223</td>\n",
       "      <td>5231.212228</td>\n",
       "      <td>5227.260225</td>\n",
       "      <td>5227.660226</td>\n",
       "      <td>5229.661221</td>\n",
       "      <td>5230.061221</td>\n",
       "    </tr>\n",
       "    <tr>\n",
       "      <th>401</th>\n",
       "      <td>hit</td>\n",
       "      <td>2</td>\n",
       "      <td>12</td>\n",
       "      <td>LEFT</td>\n",
       "      <td>RIGHT</td>\n",
       "      <td>0.002704</td>\n",
       "      <td>0.007300</td>\n",
       "      <td>5241.322233</td>\n",
       "      <td>5246.522218</td>\n",
       "      <td>5245.159224</td>\n",
       "      <td>5241.373230</td>\n",
       "      <td>5241.773230</td>\n",
       "      <td>5243.773224</td>\n",
       "      <td>5244.173227</td>\n",
       "    </tr>\n",
       "    <tr>\n",
       "      <th>402</th>\n",
       "      <td>hit</td>\n",
       "      <td>2</td>\n",
       "      <td>14</td>\n",
       "      <td>LEFT</td>\n",
       "      <td>LEFT</td>\n",
       "      <td>0.005985</td>\n",
       "      <td>0.007300</td>\n",
       "      <td>5251.930228</td>\n",
       "      <td>5256.937232</td>\n",
       "      <td>5255.634227</td>\n",
       "      <td>5251.980234</td>\n",
       "      <td>5252.381230</td>\n",
       "      <td>5254.381225</td>\n",
       "      <td>5254.781231</td>\n",
       "    </tr>\n",
       "    <tr>\n",
       "      <th>403</th>\n",
       "      <td>viol</td>\n",
       "      <td>6</td>\n",
       "      <td>7</td>\n",
       "      <td>LEFT</td>\n",
       "      <td>LEFT</td>\n",
       "      <td>0.007290</td>\n",
       "      <td>0.019683</td>\n",
       "      <td>5261.118223</td>\n",
       "      <td>5269.656222</td>\n",
       "      <td>NaN</td>\n",
       "      <td>NaN</td>\n",
       "      <td>NaN</td>\n",
       "      <td>NaN</td>\n",
       "      <td>NaN</td>\n",
       "    </tr>\n",
       "    <tr>\n",
       "      <th>404</th>\n",
       "      <td>viol</td>\n",
       "      <td>2</td>\n",
       "      <td>5</td>\n",
       "      <td>LEFT</td>\n",
       "      <td>LEFT</td>\n",
       "      <td>0.001000</td>\n",
       "      <td>0.002700</td>\n",
       "      <td>5274.193220</td>\n",
       "      <td>5275.561228</td>\n",
       "      <td>NaN</td>\n",
       "      <td>NaN</td>\n",
       "      <td>NaN</td>\n",
       "      <td>NaN</td>\n",
       "      <td>NaN</td>\n",
       "    </tr>\n",
       "  </tbody>\n",
       "</table>\n",
       "<p>405 rows × 14 columns</p>\n",
       "</div>"
      ],
      "text/plain": [
       "    hit_hist  delay  pair_hist correct_side prev_side  aud1_sigma  aud2_sigma  \\\n",
       "0       viol      6          9        RIGHT       NaN    0.008904    0.007300   \n",
       "1       viol      4          4        RIGHT     RIGHT    0.053144    0.019683   \n",
       "2        hit      6          3        RIGHT     RIGHT    0.019683    0.007290   \n",
       "3       miss      2          9        RIGHT     RIGHT    0.008904    0.007300   \n",
       "4        hit      2          6         LEFT     RIGHT    0.002700    0.007290   \n",
       "..       ...    ...        ...          ...       ...         ...         ...   \n",
       "400      hit      2          2        RIGHT      LEFT    0.007290    0.002700   \n",
       "401      hit      2         12         LEFT     RIGHT    0.002704    0.007300   \n",
       "402      hit      2         14         LEFT      LEFT    0.005985    0.007300   \n",
       "403     viol      6          7         LEFT      LEFT    0.007290    0.019683   \n",
       "404     viol      2          5         LEFT      LEFT    0.001000    0.002700   \n",
       "\n",
       "          c_poke    end_state    hit_state      aud1_on     aud1_off  \\\n",
       "0     476.563229   478.330221          NaN          NaN          NaN   \n",
       "1     479.869221   481.457220          NaN          NaN          NaN   \n",
       "2     482.048223   491.384224   490.309221   482.098232   482.498223   \n",
       "3     498.909227   504.188223   502.903229   498.960232   499.360221   \n",
       "4     505.471227   510.643223   509.341221   505.522228   505.922229   \n",
       "..           ...          ...          ...          ...          ...   \n",
       "400  5227.210220  5232.558223  5231.212228  5227.260225  5227.660226   \n",
       "401  5241.322233  5246.522218  5245.159224  5241.373230  5241.773230   \n",
       "402  5251.930228  5256.937232  5255.634227  5251.980234  5252.381230   \n",
       "403  5261.118223  5269.656222          NaN          NaN          NaN   \n",
       "404  5274.193220  5275.561228          NaN          NaN          NaN   \n",
       "\n",
       "         aud2_on     aud2_off  \n",
       "0            NaN          NaN  \n",
       "1            NaN          NaN  \n",
       "2     488.499224   488.898223  \n",
       "3     501.359229   501.759230  \n",
       "4     507.922222   508.321227  \n",
       "..           ...          ...  \n",
       "400  5229.661221  5230.061221  \n",
       "401  5243.773224  5244.173227  \n",
       "402  5254.381225  5254.781231  \n",
       "403          NaN          NaN  \n",
       "404          NaN          NaN  \n",
       "\n",
       "[405 rows x 14 columns]"
      ]
     },
     "execution_count": 3,
     "metadata": {},
     "output_type": "execute_result"
    }
   ],
   "source": [
    "beh_df"
   ]
  },
  {
   "cell_type": "markdown",
   "id": "democratic-natural",
   "metadata": {},
   "source": [
    "## Dealing with 0ing out info"
   ]
  },
  {
   "cell_type": "code",
   "execution_count": 7,
   "id": "needed-syndicate",
   "metadata": {},
   "outputs": [],
   "source": [
    "def spks_dict_extract(spks_dict):\n",
    "    \"\"\"Function to help extract useful info from spks_dict that is nested deeply\n",
    "    \n",
    "    inputs\n",
    "    ------\n",
    "    spks_dict : dict, with spk info from .mat file\n",
    "    \n",
    "    returns\n",
    "    -------\n",
    "    spk2fsm    : arr, slope and y-int for getting from spike time to beh time\n",
    "    trode_nums : list, what tetrode each cell is on in the session (1-32)\n",
    "    fs         : int, sample rate of ephys\n",
    "    \"\"\"\n",
    "    spk2fsm = spks_dict['behav_session'][0]['spk2fsm_rt'][0][0][0] #[m, b]\n",
    "    \n",
    "    trode_nums = []\n",
    "    for i in range(len(spks_dict['trodenum'])):\n",
    "        trode_nums.append(spks_dict['trodenum'][i][0][0])\n",
    "        \n",
    "    fs = spks_dict['fs'][0][0][0]\n",
    "    \n",
    "    return spk2fsm, trode_nums, fs\n",
    "    \n",
    "\"\"\"Should try to put this into a dictionary with mean spike waveforms and std\"\"\""
   ]
  },
  {
   "cell_type": "code",
   "execution_count": 8,
   "id": "advanced-treasure",
   "metadata": {},
   "outputs": [],
   "source": [
    "spk2fsm, trode_nums, fs = spks_dict_extract(spks_dict) "
   ]
  },
  {
   "cell_type": "code",
   "execution_count": 55,
   "id": "alternate-content",
   "metadata": {},
   "outputs": [
    {
     "data": {
      "text/plain": [
       "<matplotlib.collections.PolyCollection at 0x21491d8ba88>"
      ]
     },
     "execution_count": 55,
     "metadata": {},
     "output_type": "execute_result"
    },
    {
     "data": {
      "image/png": "[encoded data removed]",
      "text/plain": [
       "<Figure size 432x288 with 1 Axes>"
      ]
     },
     "metadata": {
      "needs_background": "light"
     },
     "output_type": "display_data"
    }
   ],
   "source": [
    "nn = 0\n",
    "tt = 1\n",
    "mean_wave = spks_dict['waves_mn'][nn][0][tt].T\n",
    "std = spks_dict['waves_std'][nn][0][tt].T\n",
    "plt.plot(mean_wave)\n",
    "plt.fill_between(np.arange(len(std)), mean_wave + std, mean_wave - std, alpha = 0.2)\n"
   ]
  },
  {
   "cell_type": "code",
   "execution_count": 7,
   "id": "liquid-bridges",
   "metadata": {},
   "outputs": [],
   "source": [
    "def load_masks(trode_nums, sess_dir):\n",
    "    \"\"\"Function for loading mask info stores in sortedd session direactory \n",
    "    based on the active tetrodes in the session\n",
    "    \n",
    "    inputs\n",
    "    ------\n",
    "    trode_num : list, what tetrode each cell is on in the session (1-32)\n",
    "    sess_dir : path to directory for a sorted session with mask NPY files for each bundle\n",
    "    \n",
    "    returns\n",
    "    -------\n",
    "    mask_info : list, first item the list is unique trodes num list that is N long, remaining \n",
    "                N list items are masks for each unique tetrode (this needs to be modified for\n",
    "                having multiple cells on the same bndl)\n",
    "    \"\"\"\n",
    "    \n",
    "    # intialize space\n",
    "    \n",
    "    mask_info = []\n",
    "    \n",
    "    # deal with multiple cells on one tetrode\n",
    "    unique_trodes = np.unique(trode_nums)\n",
    "    mask_info.append(unique_trodes)\n",
    "    \n",
    "    for trode in unique_trodes:\n",
    "        \n",
    "        # determine (unefficiently) which mask file is correct\n",
    "        if trode <= 8:\n",
    "            bndl = \"bundle1_mask_info\"\n",
    "        elif trode > 8 <= 16:\n",
    "            bndl = \"bundle2_mask_info\"\n",
    "        elif trode > 16 <= 24:\n",
    "            bndl = \"bundle3_mask_info\"\n",
    "        elif trode > 24 <= 32:\n",
    "            bndl = \"bundle4_mask_info\"\n",
    "        else:\n",
    "            print(\"trode not between 1-32, function will break\")\n",
    "            \n",
    "        # load it, flatten & convert to bool (0.0 = noise, 1.0 = signal)\n",
    "        bndl_mask = np.load(os.path.join(sess_dir, bndl))\n",
    "        bndl_mask = bndl_mask.flatten()\n",
    "        bndl_mask_bool = np.where(bndl_mask == 0.0, True, False) \n",
    "        mask_info.append(bndl_mask_bool)\n",
    "        \n",
    "    return mask_info   "
   ]
  },
  {
   "cell_type": "code",
   "execution_count": 8,
   "id": "spectacular-graphics",
   "metadata": {},
   "outputs": [],
   "source": [
    "mask_test = load_masks(trode_nums, sess_dir)"
   ]
  },
  {
   "cell_type": "code",
   "execution_count": 68,
   "id": "cutting-shopper",
   "metadata": {},
   "outputs": [
    {
     "data": {
      "text/plain": [
       "155349445"
      ]
     },
     "execution_count": 68,
     "metadata": {},
     "output_type": "execute_result"
    }
   ],
   "source": [
    "len(mask_test[1])"
   ]
  },
  {
   "cell_type": "code",
   "execution_count": 76,
   "id": "several-peter",
   "metadata": {},
   "outputs": [
    {
     "data": {
      "text/plain": [
       "0.2163365179708238"
      ]
     },
     "execution_count": 76,
     "metadata": {},
     "output_type": "execute_result"
    }
   ],
   "source": [
    "np.mean([m])"
   ]
  },
  {
   "cell_type": "code",
   "execution_count": 87,
   "id": "express-plant",
   "metadata": {},
   "outputs": [],
   "source": [
    "def mask2fsm(mask_info, fs, spk2fsm):\n",
    "    \n",
    "    \"\"\"Quick function to use shape of boolean mask to create a second array in fsm time\n",
    "    to allow for a common timeframe between task events and ephys masking\"\"\"\n",
    "    \n",
    "    # create a array the same length of the bool with values in seconds at fs\n",
    "    mask_sec = np.linspace(0, len(mask_info[1])/fs, len(mask_info[1]))\n",
    "    \n",
    "    # convert the time array above from spk time to fsm time\n",
    "    mask_fsm = (mask_sec * spk2fsm[0]) + spk2fsm[1]\n",
    "    \n",
    "    return mask_fsm\n"
   ]
  },
  {
   "cell_type": "code",
   "execution_count": 88,
   "id": "abstract-breeding",
   "metadata": {},
   "outputs": [],
   "source": [
    "mask_beh_s = mask2fsm(mask_test, fs, spk2fsm)"
   ]
  },
  {
   "cell_type": "code",
   "execution_count": 93,
   "id": "right-kitty",
   "metadata": {},
   "outputs": [
    {
     "data": {
      "text/plain": [
       "array([  0.99994683, 130.6813586 ])"
      ]
     },
     "execution_count": 93,
     "metadata": {},
     "output_type": "execute_result"
    }
   ],
   "source": [
    "spk2fsm"
   ]
  },
  {
   "cell_type": "code",
   "execution_count": 91,
   "id": "accurate-companion",
   "metadata": {},
   "outputs": [
    {
     "data": {
      "text/plain": [
       "(0.0, 5178.314833333333)"
      ]
     },
     "execution_count": 91,
     "metadata": {},
     "output_type": "execute_result"
    }
   ],
   "source": [
    "s[0], s[-1]"
   ]
  },
  {
   "cell_type": "code",
   "execution_count": 92,
   "id": "colored-fleet",
   "metadata": {},
   "outputs": [
    {
     "data": {
      "text/plain": [
       "(130.68135860265085, 5308.7208364196385)"
      ]
     },
     "execution_count": 92,
     "metadata": {},
     "output_type": "execute_result"
    }
   ],
   "source": [
    "mask_beh_s[0], mask_beh_s[-1]"
   ]
  },
  {
   "cell_type": "code",
   "execution_count": 65,
   "id": "plain-gallery",
   "metadata": {},
   "outputs": [
    {
     "name": "stderr",
     "output_type": "stream",
     "text": [
      "c:\\users\\brodylab\\anaconda3\\envs\\pwmephys\\lib\\site-packages\\matplotlib\\text.py:1163: FutureWarning: elementwise comparison failed; returning scalar instead, but in the future will perform elementwise comparison\n",
      "  if s != self._text:\n"
     ]
    },
    {
     "data": {
      "text/plain": [
       "Text(0.5, 1.0, '[  0.99994683 130.6813586 ]')"
      ]
     },
     "execution_count": 65,
     "metadata": {},
     "output_type": "execute_result"
    },
    {
     "data": {
      "image/png": "[encoded data removed]",
      "text/plain": [
       "<Figure size 432x288 with 1 Axes>"
      ]
     },
     "metadata": {
      "needs_background": "light"
     },
     "output_type": "display_data"
    }
   ],
   "source": [
    "plt.plot(mask_beh_s[0:10], '*')\n",
    "plt.plot(mask_test[1][0:10], 'o')\n",
    "plt.title(spk2fsm)\n"
   ]
  },
  {
   "cell_type": "code",
   "execution_count": null,
   "id": "accomplished-listening",
   "metadata": {},
   "outputs": [],
   "source": []
  },
  {
   "cell_type": "code",
   "execution_count": 18,
   "id": "bulgarian-evidence",
   "metadata": {},
   "outputs": [],
   "source": [
    "\"get only hit/miss trials & reset indices\"\n",
    "sub_df = beh_df[beh_df['hit_hist'] != 'viol']\n",
    "sub_df.index = range(len(sub_df))"
   ]
  },
  {
   "cell_type": "code",
   "execution_count": 78,
   "id": "distinguished-bobby",
   "metadata": {},
   "outputs": [
    {
     "data": {
      "text/plain": [
       "(498.909227, 504.188223)"
      ]
     },
     "execution_count": 78,
     "metadata": {},
     "output_type": "execute_result"
    }
   ],
   "source": [
    "s[1], e[1]"
   ]
  },
  {
   "cell_type": "code",
   "execution_count": 94,
   "id": "genuine-tomorrow",
   "metadata": {},
   "outputs": [
    {
     "data": {
      "text/html": [
       "<div>\n",
       "<style scoped>\n",
       "    .dataframe tbody tr th:only-of-type {\n",
       "        vertical-align: middle;\n",
       "    }\n",
       "\n",
       "    .dataframe tbody tr th {\n",
       "        vertical-align: top;\n",
       "    }\n",
       "\n",
       "    .dataframe thead th {\n",
       "        text-align: right;\n",
       "    }\n",
       "</style>\n",
       "<table border=\"1\" class=\"dataframe\">\n",
       "  <thead>\n",
       "    <tr style=\"text-align: right;\">\n",
       "      <th></th>\n",
       "      <th>hit_hist</th>\n",
       "      <th>delay</th>\n",
       "      <th>pair_hist</th>\n",
       "      <th>correct_side</th>\n",
       "      <th>prev_side</th>\n",
       "      <th>aud1_sigma</th>\n",
       "      <th>aud2_sigma</th>\n",
       "      <th>c_poke</th>\n",
       "      <th>end_state</th>\n",
       "      <th>hit_state</th>\n",
       "      <th>aud1_on</th>\n",
       "      <th>aud1_off</th>\n",
       "      <th>aud2_on</th>\n",
       "      <th>aud2_off</th>\n",
       "    </tr>\n",
       "  </thead>\n",
       "  <tbody>\n",
       "    <tr>\n",
       "      <th>0</th>\n",
       "      <td>hit</td>\n",
       "      <td>6</td>\n",
       "      <td>3</td>\n",
       "      <td>RIGHT</td>\n",
       "      <td>RIGHT</td>\n",
       "      <td>0.019683</td>\n",
       "      <td>0.007290</td>\n",
       "      <td>482.048223</td>\n",
       "      <td>491.384224</td>\n",
       "      <td>490.309221</td>\n",
       "      <td>482.098232</td>\n",
       "      <td>482.498223</td>\n",
       "      <td>488.499224</td>\n",
       "      <td>488.898223</td>\n",
       "    </tr>\n",
       "    <tr>\n",
       "      <th>1</th>\n",
       "      <td>miss</td>\n",
       "      <td>2</td>\n",
       "      <td>9</td>\n",
       "      <td>RIGHT</td>\n",
       "      <td>RIGHT</td>\n",
       "      <td>0.008904</td>\n",
       "      <td>0.007300</td>\n",
       "      <td>498.909227</td>\n",
       "      <td>504.188223</td>\n",
       "      <td>502.903229</td>\n",
       "      <td>498.960232</td>\n",
       "      <td>499.360221</td>\n",
       "      <td>501.359229</td>\n",
       "      <td>501.759230</td>\n",
       "    </tr>\n",
       "    <tr>\n",
       "      <th>2</th>\n",
       "      <td>hit</td>\n",
       "      <td>2</td>\n",
       "      <td>6</td>\n",
       "      <td>LEFT</td>\n",
       "      <td>RIGHT</td>\n",
       "      <td>0.002700</td>\n",
       "      <td>0.007290</td>\n",
       "      <td>505.471227</td>\n",
       "      <td>510.643223</td>\n",
       "      <td>509.341221</td>\n",
       "      <td>505.522228</td>\n",
       "      <td>505.922229</td>\n",
       "      <td>507.922222</td>\n",
       "      <td>508.321227</td>\n",
       "    </tr>\n",
       "    <tr>\n",
       "      <th>3</th>\n",
       "      <td>hit</td>\n",
       "      <td>4</td>\n",
       "      <td>10</td>\n",
       "      <td>RIGHT</td>\n",
       "      <td>LEFT</td>\n",
       "      <td>0.013248</td>\n",
       "      <td>0.007300</td>\n",
       "      <td>516.873222</td>\n",
       "      <td>524.213229</td>\n",
       "      <td>522.813226</td>\n",
       "      <td>516.923231</td>\n",
       "      <td>517.323241</td>\n",
       "      <td>521.324223</td>\n",
       "      <td>521.724223</td>\n",
       "    </tr>\n",
       "    <tr>\n",
       "      <th>4</th>\n",
       "      <td>miss</td>\n",
       "      <td>6</td>\n",
       "      <td>6</td>\n",
       "      <td>LEFT</td>\n",
       "      <td>RIGHT</td>\n",
       "      <td>0.002700</td>\n",
       "      <td>0.007290</td>\n",
       "      <td>530.486228</td>\n",
       "      <td>539.707221</td>\n",
       "      <td>538.269221</td>\n",
       "      <td>530.537227</td>\n",
       "      <td>530.937225</td>\n",
       "      <td>536.936230</td>\n",
       "      <td>537.336233</td>\n",
       "    </tr>\n",
       "    <tr>\n",
       "      <th>...</th>\n",
       "      <td>...</td>\n",
       "      <td>...</td>\n",
       "      <td>...</td>\n",
       "      <td>...</td>\n",
       "      <td>...</td>\n",
       "      <td>...</td>\n",
       "      <td>...</td>\n",
       "      <td>...</td>\n",
       "      <td>...</td>\n",
       "      <td>...</td>\n",
       "      <td>...</td>\n",
       "      <td>...</td>\n",
       "      <td>...</td>\n",
       "      <td>...</td>\n",
       "    </tr>\n",
       "    <tr>\n",
       "      <th>301</th>\n",
       "      <td>hit</td>\n",
       "      <td>6</td>\n",
       "      <td>13</td>\n",
       "      <td>LEFT</td>\n",
       "      <td>RIGHT</td>\n",
       "      <td>0.004023</td>\n",
       "      <td>0.007300</td>\n",
       "      <td>5184.165229</td>\n",
       "      <td>5193.525236</td>\n",
       "      <td>5192.218219</td>\n",
       "      <td>5184.216224</td>\n",
       "      <td>5184.616224</td>\n",
       "      <td>5190.615234</td>\n",
       "      <td>5191.015235</td>\n",
       "    </tr>\n",
       "    <tr>\n",
       "      <th>302</th>\n",
       "      <td>hit</td>\n",
       "      <td>6</td>\n",
       "      <td>8</td>\n",
       "      <td>LEFT</td>\n",
       "      <td>LEFT</td>\n",
       "      <td>0.019683</td>\n",
       "      <td>0.053144</td>\n",
       "      <td>5200.459223</td>\n",
       "      <td>5209.354228</td>\n",
       "      <td>5208.175221</td>\n",
       "      <td>5200.509224</td>\n",
       "      <td>5200.909224</td>\n",
       "      <td>5206.909227</td>\n",
       "      <td>5207.309225</td>\n",
       "    </tr>\n",
       "    <tr>\n",
       "      <th>303</th>\n",
       "      <td>hit</td>\n",
       "      <td>2</td>\n",
       "      <td>2</td>\n",
       "      <td>RIGHT</td>\n",
       "      <td>LEFT</td>\n",
       "      <td>0.007290</td>\n",
       "      <td>0.002700</td>\n",
       "      <td>5227.210220</td>\n",
       "      <td>5232.558223</td>\n",
       "      <td>5231.212228</td>\n",
       "      <td>5227.260225</td>\n",
       "      <td>5227.660226</td>\n",
       "      <td>5229.661221</td>\n",
       "      <td>5230.061221</td>\n",
       "    </tr>\n",
       "    <tr>\n",
       "      <th>304</th>\n",
       "      <td>hit</td>\n",
       "      <td>2</td>\n",
       "      <td>12</td>\n",
       "      <td>LEFT</td>\n",
       "      <td>RIGHT</td>\n",
       "      <td>0.002704</td>\n",
       "      <td>0.007300</td>\n",
       "      <td>5241.322233</td>\n",
       "      <td>5246.522218</td>\n",
       "      <td>5245.159224</td>\n",
       "      <td>5241.373230</td>\n",
       "      <td>5241.773230</td>\n",
       "      <td>5243.773224</td>\n",
       "      <td>5244.173227</td>\n",
       "    </tr>\n",
       "    <tr>\n",
       "      <th>305</th>\n",
       "      <td>hit</td>\n",
       "      <td>2</td>\n",
       "      <td>14</td>\n",
       "      <td>LEFT</td>\n",
       "      <td>LEFT</td>\n",
       "      <td>0.005985</td>\n",
       "      <td>0.007300</td>\n",
       "      <td>5251.930228</td>\n",
       "      <td>5256.937232</td>\n",
       "      <td>5255.634227</td>\n",
       "      <td>5251.980234</td>\n",
       "      <td>5252.381230</td>\n",
       "      <td>5254.381225</td>\n",
       "      <td>5254.781231</td>\n",
       "    </tr>\n",
       "  </tbody>\n",
       "</table>\n",
       "<p>306 rows × 14 columns</p>\n",
       "</div>"
      ],
      "text/plain": [
       "    hit_hist  delay  pair_hist correct_side prev_side  aud1_sigma  aud2_sigma  \\\n",
       "0        hit      6          3        RIGHT     RIGHT    0.019683    0.007290   \n",
       "1       miss      2          9        RIGHT     RIGHT    0.008904    0.007300   \n",
       "2        hit      2          6         LEFT     RIGHT    0.002700    0.007290   \n",
       "3        hit      4         10        RIGHT      LEFT    0.013248    0.007300   \n",
       "4       miss      6          6         LEFT     RIGHT    0.002700    0.007290   \n",
       "..       ...    ...        ...          ...       ...         ...         ...   \n",
       "301      hit      6         13         LEFT     RIGHT    0.004023    0.007300   \n",
       "302      hit      6          8         LEFT      LEFT    0.019683    0.053144   \n",
       "303      hit      2          2        RIGHT      LEFT    0.007290    0.002700   \n",
       "304      hit      2         12         LEFT     RIGHT    0.002704    0.007300   \n",
       "305      hit      2         14         LEFT      LEFT    0.005985    0.007300   \n",
       "\n",
       "          c_poke    end_state    hit_state      aud1_on     aud1_off  \\\n",
       "0     482.048223   491.384224   490.309221   482.098232   482.498223   \n",
       "1     498.909227   504.188223   502.903229   498.960232   499.360221   \n",
       "2     505.471227   510.643223   509.341221   505.522228   505.922229   \n",
       "3     516.873222   524.213229   522.813226   516.923231   517.323241   \n",
       "4     530.486228   539.707221   538.269221   530.537227   530.937225   \n",
       "..           ...          ...          ...          ...          ...   \n",
       "301  5184.165229  5193.525236  5192.218219  5184.216224  5184.616224   \n",
       "302  5200.459223  5209.354228  5208.175221  5200.509224  5200.909224   \n",
       "303  5227.210220  5232.558223  5231.212228  5227.260225  5227.660226   \n",
       "304  5241.322233  5246.522218  5245.159224  5241.373230  5241.773230   \n",
       "305  5251.930228  5256.937232  5255.634227  5251.980234  5252.381230   \n",
       "\n",
       "         aud2_on     aud2_off  \n",
       "0     488.499224   488.898223  \n",
       "1     501.359229   501.759230  \n",
       "2     507.922222   508.321227  \n",
       "3     521.324223   521.724223  \n",
       "4     536.936230   537.336233  \n",
       "..           ...          ...  \n",
       "301  5190.615234  5191.015235  \n",
       "302  5206.909227  5207.309225  \n",
       "303  5229.661221  5230.061221  \n",
       "304  5243.773224  5244.173227  \n",
       "305  5254.381225  5254.781231  \n",
       "\n",
       "[306 rows x 14 columns]"
      ]
     },
     "execution_count": 94,
     "metadata": {},
     "output_type": "execute_result"
    }
   ],
   "source": [
    "sub_df"
   ]
  },
  {
   "cell_type": "code",
   "execution_count": 125,
   "id": "continuing-trout",
   "metadata": {},
   "outputs": [],
   "source": [
    "s = sub_df['c_poke']\n",
    "e = sub_df['aud2_off']\n",
    "\n",
    "trode = 1\n",
    "cut_samples = []\n",
    "trial_len = []\n",
    "trial = []\n",
    "\n",
    "for i in range(len(s)):\n",
    "\n",
    "    idx_s = np.searchsorted(mask_beh_s, s[i], side = \"left\")\n",
    "    idx_e = np.searchsorted(mask_beh_s, e[i], side = \"left\")\n",
    "    \n",
    "    trial_len.append(idx_e - idx_s)\n",
    "    cut_samples.append(np.sum(mask_test[trode][idx_s:idx_e]))\n",
    "    \n",
    "#     print(idx_s, idx_e, trial_len, cut_samples)\n",
    "#     trial.append()"
   ]
  },
  {
   "cell_type": "code",
   "execution_count": 126,
   "id": "quick-latvia",
   "metadata": {},
   "outputs": [
    {
     "name": "stdout",
     "output_type": "stream",
     "text": [
      "[5251.93025604 5251.93028937 5251.9303227  ... 5254.78113779 5254.78117112\n",
      " 5254.78120445]\n"
     ]
    },
    {
     "data": {
      "image/png": "[encoded data removed]",
      "text/plain": [
       "<Figure size 432x288 with 1 Axes>"
      ]
     },
     "metadata": {
      "needs_background": "light"
     },
     "output_type": "display_data"
    }
   ],
   "source": [
    "plt.plot(mask_test[1][idx_s:idx_e])\n",
    "print(mask_beh_s[idx_s:idx_e])"
   ]
  },
  {
   "cell_type": "code",
   "execution_count": 127,
   "id": "extensive-airplane",
   "metadata": {},
   "outputs": [
    {
     "data": {
      "text/plain": [
       "(array([91., 78., 49., 47., 18., 10.,  3.,  4.,  5.,  1.]),\n",
       " array([    0. ,  5758.7, 11517.4, 17276.1, 23034.8, 28793.5, 34552.2,\n",
       "        40310.9, 46069.6, 51828.3, 57587. ]),\n",
       " <BarContainer object of 10 artists>)"
      ]
     },
     "execution_count": 127,
     "metadata": {},
     "output_type": "execute_result"
    },
    {
     "data": {
      "image/png": "[encoded data removed]",
      "text/plain": [
       "<Figure size 432x288 with 1 Axes>"
      ]
     },
     "metadata": {
      "needs_background": "light"
     },
     "output_type": "display_data"
    }
   ],
   "source": [
    "plt.hist(cut_samples)\n",
    "# plt.hist(trial_len)"
   ]
  },
  {
   "cell_type": "code",
   "execution_count": 128,
   "id": "seeing-encoding",
   "metadata": {},
   "outputs": [
    {
     "name": "stdout",
     "output_type": "stream",
     "text": [
      "70\n"
     ]
    }
   ],
   "source": [
    "counter = 0\n",
    "n_samples = 1\n",
    "for i in range(len(cut_samples)):\n",
    "    if cut_samples[i] < n_samples:\n",
    "        counter+=1\n",
    "print(counter)"
   ]
  },
  {
   "cell_type": "markdown",
   "id": "moral-philip",
   "metadata": {},
   "source": [
    "# Plotting 2 second, L hit trials"
   ]
  },
  {
   "cell_type": "code",
   "execution_count": 56,
   "id": "comfortable-lyric",
   "metadata": {},
   "outputs": [],
   "source": [
    "# filter dataframe\n",
    "beh_df_d2_hl = beh_df[(beh_df['correct_side'] == 'LEFT') & (beh_df['delay'] == 2)\n",
    "       & (beh_df['hit_hist'] == 'hit')]\n",
    "\n",
    "\n",
    "# initilaize\n",
    "events = ['c_poke', 'aud1_on', 'aud2_on', 'aud1_on']\n",
    "windows = [[-300,700], [-500,1000], [-500, 1000], [-1000,2300]]\n",
    "\n",
    "# create\n",
    "# neuron_rasters = get_neuron_rasters(neurons, events, windows, df=beh_df_d2_hl)"
   ]
  },
  {
   "cell_type": "code",
   "execution_count": 102,
   "id": "present-overview",
   "metadata": {},
   "outputs": [],
   "source": [
    "neuron_psths = get_neuron_psths(neurons, events, windows, df=beh_df_d2_hl)"
   ]
  },
  {
   "cell_type": "code",
   "execution_count": 57,
   "id": "modular-pocket",
   "metadata": {
    "scrolled": false
   },
   "outputs": [
    {
     "ename": "NameError",
     "evalue": "name 'neuron_rasters' is not defined",
     "output_type": "error",
     "traceback": [
      "\u001b[1;31m---------------------------------------------------------------------------\u001b[0m",
      "\u001b[1;31mNameError\u001b[0m                                 Traceback (most recent call last)",
      "\u001b[1;32m<ipython-input-57-d3c6372981d2>\u001b[0m in \u001b[0;36m<module>\u001b[1;34m\u001b[0m\n\u001b[0;32m      2\u001b[0m \u001b[0mnn\u001b[0m \u001b[1;33m=\u001b[0m \u001b[1;36m3\u001b[0m\u001b[1;33m\u001b[0m\u001b[1;33m\u001b[0m\u001b[0m\n\u001b[0;32m      3\u001b[0m \u001b[0mcc\u001b[0m \u001b[1;33m=\u001b[0m \u001b[1;36m2\u001b[0m\u001b[1;33m\u001b[0m\u001b[1;33m\u001b[0m\u001b[0m\n\u001b[1;32m----> 4\u001b[1;33m \u001b[0mneurons\u001b[0m\u001b[1;33m[\u001b[0m\u001b[0mnn\u001b[0m\u001b[1;33m]\u001b[0m\u001b[1;33m.\u001b[0m\u001b[0mplot_raster\u001b[0m\u001b[1;33m(\u001b[0m\u001b[0mneuron_rasters\u001b[0m\u001b[1;33m[\u001b[0m\u001b[0mnn\u001b[0m\u001b[1;33m]\u001b[0m\u001b[1;33m[\u001b[0m\u001b[0mcc\u001b[0m\u001b[1;33m]\u001b[0m\u001b[1;33m,\u001b[0m \u001b[0maxis\u001b[0m \u001b[1;33m=\u001b[0m \u001b[0max\u001b[0m\u001b[1;33m[\u001b[0m\u001b[1;36m0\u001b[0m\u001b[1;33m]\u001b[0m\u001b[1;33m,\u001b[0m \u001b[0mevent_name\u001b[0m\u001b[1;33m=\u001b[0m\u001b[0mevents\u001b[0m\u001b[1;33m[\u001b[0m\u001b[0mcc\u001b[0m\u001b[1;33m]\u001b[0m\u001b[1;33m,\u001b[0m \u001b[0mcmap\u001b[0m\u001b[1;33m=\u001b[0m\u001b[1;34m\"Greys\"\u001b[0m\u001b[1;33m)\u001b[0m\u001b[1;33m\u001b[0m\u001b[1;33m\u001b[0m\u001b[0m\n\u001b[0m\u001b[0;32m      5\u001b[0m \u001b[0mneurons\u001b[0m\u001b[1;33m[\u001b[0m\u001b[0mnn\u001b[0m\u001b[1;33m]\u001b[0m\u001b[1;33m.\u001b[0m\u001b[0mplot_raster\u001b[0m\u001b[1;33m(\u001b[0m\u001b[0mneuron_rasters\u001b[0m\u001b[1;33m[\u001b[0m\u001b[0mnn\u001b[0m\u001b[1;33m]\u001b[0m\u001b[1;33m[\u001b[0m\u001b[0mcc\u001b[0m\u001b[1;33m+\u001b[0m\u001b[1;36m1\u001b[0m\u001b[1;33m]\u001b[0m\u001b[1;33m,\u001b[0m \u001b[0maxis\u001b[0m \u001b[1;33m=\u001b[0m \u001b[0max\u001b[0m\u001b[1;33m[\u001b[0m\u001b[1;36m1\u001b[0m\u001b[1;33m]\u001b[0m\u001b[1;33m,\u001b[0m \u001b[0mevent_name\u001b[0m\u001b[1;33m=\u001b[0m\u001b[0mevents\u001b[0m\u001b[1;33m[\u001b[0m\u001b[0mcc\u001b[0m\u001b[1;33m+\u001b[0m\u001b[1;36m1\u001b[0m\u001b[1;33m]\u001b[0m\u001b[1;33m,\u001b[0m \u001b[0mcmap\u001b[0m\u001b[1;33m=\u001b[0m\u001b[1;34m\"Greys\"\u001b[0m\u001b[1;33m)\u001b[0m\u001b[1;33m\u001b[0m\u001b[1;33m\u001b[0m\u001b[0m\n\u001b[0;32m      6\u001b[0m \u001b[1;33m\u001b[0m\u001b[0m\n",
      "\u001b[1;31mNameError\u001b[0m: name 'neuron_rasters' is not defined"
     ]
    },
    {
     "data": {
      "image/png": "[encoded data removed]",
      "text/plain": [
       "<Figure size 720x576 with 2 Axes>"
      ]
     },
     "metadata": {
      "needs_background": "light"
     },
     "output_type": "display_data"
    }
   ],
   "source": [
    "fig, ax = plt.subplots(2,1, figsize = (10,8))\n",
    "nn = 3\n",
    "cc = 2\n",
    "neurons[nn].plot_raster(neuron_rasters[nn][cc], axis = ax[0], event_name=events[cc], cmap=\"Greys\")\n",
    "neurons[nn].plot_raster(neuron_rasters[nn][cc+1], axis = ax[1], event_name=events[cc+1], cmap=\"Greys\")\n",
    "\n",
    "# neurons[nn].plot_psth(neuron_psths[nn][cc],axis=ax[1], event_name=events[cc])"
   ]
  },
  {
   "cell_type": "code",
   "execution_count": 104,
   "id": "accurate-north",
   "metadata": {},
   "outputs": [
    {
     "data": {
      "image/png": "[encoded data removed]",
      "text/plain": [
       "<Figure size 720x576 with 2 Axes>"
      ]
     },
     "metadata": {
      "needs_background": "light"
     },
     "output_type": "display_data"
    }
   ],
   "source": [
    "fig, ax = plt.subplots(2,1, figsize = (10,8))\n",
    "nn = 0\n",
    "cc = 4\n",
    "\n",
    "# neurons[nn].plot_psth(neuron_psths[nn][cc],axis=ax[0], event_name=events[cc])\n",
    "neurons[nn].plot_raster(neuron_rasters[nn][cc], axis = ax[0], event_name=events[cc], cmap=\"Greys\")\n",
    "neurons[nn].plot_psth(neuron_psths[nn][cc],axis=ax[1], event_name=events[cc])"
   ]
  },
  {
   "cell_type": "markdown",
   "id": "incomplete-motion",
   "metadata": {},
   "source": [
    "## Rogue plots"
   ]
  },
  {
   "cell_type": "code",
   "execution_count": 140,
   "id": "sharing-phrase",
   "metadata": {},
   "outputs": [
    {
     "data": {
      "text/plain": [
       "'1 20190902'"
      ]
     },
     "execution_count": 140,
     "metadata": {},
     "output_type": "execute_result"
    }
   ],
   "source": [
    "neurons[0].name"
   ]
  },
  {
   "cell_type": "code",
   "execution_count": 59,
   "id": "raising-indication",
   "metadata": {},
   "outputs": [
    {
     "data": {
      "text/plain": [
       "Text(0.5, 1.0, 'Average Waveform')"
      ]
     },
     "execution_count": 59,
     "metadata": {},
     "output_type": "execute_result"
    },
    {
     "data": {
      "image/png": "[encoded data removed]",
      "text/plain": [
       "<Figure size 1296x864 with 3 Axes>"
      ]
     },
     "metadata": {
      "needs_background": "light"
     },
     "output_type": "display_data"
    }
   ],
   "source": [
    "sns.set_context(\"talk\")\n",
    "fig = plt.figure(figsize=(18,12))\n",
    "ax1 = plt.subplot2grid((4, 3), (0, 0), rowspan=2, colspan=2) \n",
    "ax2 = plt.subplot2grid((4, 3), (2, 0), rowspan=2, colspan=2)\n",
    "ax3 = plt.subplot2grid((4, 3), (1, 2), rowspan=2, colspan=1)\n",
    "\n",
    "\n",
    "nn = 3\n",
    "cc = 1\n",
    "wave_snippet = spks_dict['waves_mn']\n",
    "n3 = mean_wave = spks_dict['waves_mn'][nn][0]\n",
    "\n",
    "neurons[nn].plot_raster(neuron_rasters[nn][cc], axis = ax1, event_name=events[cc], cmap=\"Greys\")\n",
    "neurons[nn].plot_psth(neuron_psths[nn][cc],axis=ax2, event_name=events[cc])\n",
    "for i in range(4):\n",
    "    ax3.plot(n3[i],color = 'lightslategrey',lw=2)\n",
    "    \n",
    "ax3.set_title('Average Waveform')\n",
    "\n",
    "save_name=neurons[0].name\n",
    "fig.savefig('neuron1.jpeg')\n"
   ]
  },
  {
   "cell_type": "code",
   "execution_count": 110,
   "id": "physical-columbia",
   "metadata": {},
   "outputs": [
    {
     "data": {
      "text/plain": [
       "[<matplotlib.lines.Line2D at 0x2a3ccd971c8>]"
      ]
     },
     "execution_count": 110,
     "metadata": {},
     "output_type": "execute_result"
    },
    {
     "data": {
      "image/png": "[encoded data removed]",
      "text/plain": [
       "<Figure size 432x288 with 1 Axes>"
      ]
     },
     "metadata": {
      "needs_background": "light"
     },
     "output_type": "display_data"
    }
   ],
   "source": [
    "neuron_wave = wave_snippet[3]\n",
    "plt.plot(neuron_wave[3])"
   ]
  },
  {
   "cell_type": "code",
   "execution_count": 158,
   "id": "classified-brave",
   "metadata": {},
   "outputs": [
    {
     "data": {
      "text/plain": [
       "(4, 32)"
      ]
     },
     "execution_count": 158,
     "metadata": {},
     "output_type": "execute_result"
    }
   ],
   "source": [
    "\"proof of cell\"\n",
    "\n",
    "# need to f/u w/ Tyler on these shapes\n",
    "\n",
    "tt_num = 3\n",
    "wave_snippet = spks_dict['waves_mn']\n",
    "wave_snippet[3].shape\n",
    "\n"
   ]
  },
  {
   "cell_type": "code",
   "execution_count": null,
   "id": "knowing-fellowship",
   "metadata": {},
   "outputs": [],
   "source": [
    "n_cells = len(spks_dict[\"event_ts_fsm\"])\n",
    "trode_num = spks_dict[\"trodenum\"]\n",
    "spk_qual = []\n",
    "for cell in range(n_cells):\n",
    "    if spks_dict[\"mua\"][cell] == 1:\n",
    "        spk_qual.append(\"multi\")\n",
    "    elif spks_dict[\"single\"][cell] == 1:\n",
    "        spk_qual.append(\"single\")\n",
    "    else:\n",
    "        raise TypeError(\"cell not marked as multi or single\")\n",
    "n_cells, spk_qual, trode_num        "
   ]
  }
 ],
 "metadata": {
  "kernelspec": {
   "display_name": "Python 3",
   "language": "python",
   "name": "python3"
  },
  "language_info": {
   "codemirror_mode": {
    "name": "ipython",
    "version": 3
   },
   "file_extension": ".py",
   "mimetype": "text/x-python",
   "name": "python",
   "nbconvert_exporter": "python",
   "pygments_lexer": "ipython3",
   "version": "3.7.9"
  }
 },
 "nbformat": 4,
 "nbformat_minor": 5
}
