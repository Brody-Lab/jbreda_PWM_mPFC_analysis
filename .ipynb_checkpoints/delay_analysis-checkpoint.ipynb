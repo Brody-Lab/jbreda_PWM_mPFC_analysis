{
 "cells": [
  {
   "cell_type": "markdown",
   "id": "dc8d71ad",
   "metadata": {},
   "source": [
    "# 2021_05_03 Delay Analysis\n",
    "\n",
    "Notebook to perform analysis on delay period (2 or 4 seconds) of PWM task recording from mPFC. Functions tested & debugged in event_centering.ipynb and moving here for clean start\n",
    "\n",
    "### Libraries & Settings"
   ]
  },
  {
   "cell_type": "code",
   "execution_count": 1,
   "id": "cce032c9",
   "metadata": {
    "scrolled": true
   },
   "outputs": [],
   "source": [
    "# libraries\n",
    "import sys; sys.path.insert(0, '..') # if you don't find it here, look one above\n",
    "import os\n",
    "import numpy as np\n",
    "import matplotlib.pyplot as plt\n",
    "import pandas as pd\n",
    "import seaborn as sns\n",
    "import scipy.io as spio\n",
    "import pickle\n",
    "import warnings\n",
    "\n",
    "from tqdm import tqdm\n",
    "from scipy import stats\n",
    "from scipy.ndimage import gaussian_filter1d\n",
    "from io_utils import *\n",
    "from plotting_utils import * \n",
    "\n",
    "\n",
    "# settings\n",
    "%load_ext autoreload\n",
    "%autoreload 2\n",
    "sns.set_context(\"talk\")"
   ]
  },
  {
   "cell_type": "markdown",
   "id": "1bd487e9",
   "metadata": {},
   "source": [
    "### Set paths & defaults"
   ]
  },
  {
   "cell_type": "code",
   "execution_count": 2,
   "id": "1ba9e8d2",
   "metadata": {},
   "outputs": [],
   "source": [
    "### Set paths & defaults\n",
    "\n",
    "sess_names = np.array(['data_sdb_20190724_193007_fromSD', 'data_sdc_20190902_145404_fromSD', 'W122_07_27_2019_1_fromSD', \n",
    "            'W122_08_06_2019_1_fromSD', 'W122_08_07_2019_1_fromSD', 'W122_08_31_2019_1_fromSD', 'W122_09_04_2019_1_fromSD',\n",
    "            'W122_09_09_2019_1_fromSD', 'W122_09_12_2019_1_fromSD','W122_09_21_2019_1_fromSD', 'W122_09_24_2019_1_fromSD'])\n",
    "\n",
    "base_path  = 'Y:\\jbreda\\ephys\\post_sort_analysis\\sorted_pre_bdata' \n",
    "beh_mat   = 'protocol_info.mat'\n",
    "spks_mat  = 'ksphy_clusters_foranalysis.mat'\n",
    "\n",
    "\n",
    "# create paths\n",
    "sess_paths = [os.path.join(base_path, sess) for sess in sess_names]\n",
    "beh_paths  = [os.path.join(path, beh_mat) for path in sess_paths]\n",
    "spks_paths = [os.path.join(path, spks_mat) for path in sess_paths]\n",
    "\n",
    "# alginment info (hard coded here & in fx)\n",
    "names = ['aud1on', 'aud1off', 'aud2on', 'aud2off', 'trial_all', 'delay_overlap', \n",
    "         'delay2s', 'trial2s', 'delay4s', 'trial4s']\n",
    "windows = [[-400, 600], [-500, 500], [-400, 600], [-500, 500], [-100, 5000], [-300, 2300],\n",
    "           [-150, 2150],[-200, 2400], [-150, 4150], [-200, 4400]]\n",
    "\n",
    "align_windows = dict(zip(names,windows))"
   ]
  },
  {
   "cell_type": "markdown",
   "id": "268ee524",
   "metadata": {},
   "source": [
    "### Load in data & align spikes to events - 2 and 4 second delay period\n",
    "\n",
    "I'm filtering the dataframe below specifically for delay analysis (no psychometric sounds, no violations, no 6 second trials)"
   ]
  },
  {
   "cell_type": "code",
   "execution_count": null,
   "id": "49afb131",
   "metadata": {},
   "outputs": [],
   "source": [
    "events = ['delay2s', 'delay4s']\n",
    "fig_save_path = os.path.join(os.getcwd(), 'figures', 'delay_loudness', '2s_4s_separate')\n",
    "\n",
    "for name, path, behp, spksp in zip(sess_names, sess_paths, beh_paths, spks_paths):\n",
    "    \n",
    "    print(f\"Loading session {name}\")\n",
    "\n",
    "    beh_df, spks_dict = load_and_wrangle(behp, spksp, overwrite=False)\n",
    "    \n",
    "    delay_analysis_df = beh_df[(beh_df['delay'] != 6) & (beh_df['first_sound'] != 'psycho') &\n",
    "                                     (beh_df['hit_hist'] != 'viol')]\n",
    "    \n",
    "    del_2_df = delay_analysis_df[(delay_analysis_df['delay'] == 2)] \n",
    "    del_4_df = delay_analysis_df[(delay_analysis_df['delay'] == 4)]\n",
    "    dfs = [del_2_df, del_4_df]\n",
    "    \n",
    "    print(\"Aligning to events\")\n",
    "    \n",
    "    sess_aligned = event_align_session(spks_dict, delay_analysis_df, path, overwrite=True, \n",
    "                                   file_name='delay_analysis_aligned_spks_24_split.pkl')\n",
    "    \n",
    "    print(\"Plotting\")\n",
    "    \n",
    "    run_delay_analysis_for_session(name, sess_aligned, align_windows, events, \n",
    "                                   dfs, fig_save_path, path)\n",
    "    "
   ]
  },
  {
   "cell_type": "markdown",
   "id": "03efa107",
   "metadata": {},
   "source": [
    "### Load in data & align spikes to events- overlapping 2s of both delay periods\n",
    "\n",
    "The figures above appeared to have no affect of first sound loudness on firing rate. In going back to the fiugres from last meeting, I realized I was only doing hit trials, and I collapsed the 2 and 4 s trials together and only looked at the first 2000 ms of delay. So, I will try to repeate this."
   ]
  },
  {
   "cell_type": "code",
   "execution_count": null,
   "id": "f3998349",
   "metadata": {},
   "outputs": [],
   "source": [
    "events = ['delay_overlap']\n",
    "fig_save_path = os.path.join(os.getcwd(), 'figures', 'delay_loudness', 'overlap')\n",
    "for name, path, behp, spksp in zip(sess_names, sess_paths, beh_paths, spks_paths):\n",
    "    \n",
    "    print(f\"Loading session {name}\")\n",
    "  \n",
    "    beh_df, spks_dict = load_and_wrangle(behp, spksp, overwrite=False)\n",
    "    \n",
    "    delay_analysis_df = beh_df[(beh_df['delay'] != 6) & (beh_df['first_sound'] != 'psycho') &\n",
    "                                     (beh_df['hit_hist'] == 'hit')]\n",
    "    \n",
    "    dfs = [delay_analysis_df] # keeping the same structure as above\n",
    "    \n",
    "    print(\"Aligning to events\")\n",
    "    \n",
    "    sess_aligned = event_align_session(spks_dict, delay_analysis_df, path, overwrite=False, \n",
    "                                   file_name='delay_analysis_aligned_spks_24_together.pkl')\n",
    "    \n",
    "    print(\"Plotting\")\n",
    "    \n",
    "    # Note, switched the window here for regression to be [300:-300] becuase of how\n",
    "    # alignmnet was performed (currently line 399 in plotting utils)\n",
    "    run_delay_analysis_for_session(name, sess_aligned, align_windows, events, \n",
    "                                   dfs, fig_save_path, path)\n",
    "    "
   ]
  },
  {
   "cell_type": "markdown",
   "id": "cdb4e0c1",
   "metadata": {},
   "source": [
    "### Analyze all delay periods, extend the window to 600 ms, change convlution to zeros\n",
    "\n",
    "Wrap was not the correct way to deal with edges. Setting to constant for now, and extending the area larger (from 300 to 600 ms) to make sure they really don't influence delay period. Plot psth will have xlim -100 + 2100 though."
   ]
  },
  {
   "cell_type": "code",
   "execution_count": 6,
   "id": "bc08dfd6",
   "metadata": {},
   "outputs": [
    {
     "name": "stdout",
     "output_type": "stream",
     "text": [
      "Loading session data_sdb_20190724_193007_fromSD\n",
      "Aligning to events\n",
      "no file found, running alignment for session\n",
      "Plotting\n"
     ]
    },
    {
     "name": "stderr",
     "output_type": "stream",
     "text": [
      "C:\\Users\\JB\\github\\jbreda_PWM_ephys_analysis\\plotting_utils.py:177: RuntimeWarning: Mean of empty slice\n",
      "  smoothed_mean = np.nanmean(np.array(smoothed_trials), axis=0)\n"
     ]
    },
    {
     "name": "stdout",
     "output_type": "stream",
     "text": [
      "Loading session data_sdc_20190902_145404_fromSD\n",
      "Aligning to events\n",
      "no file found, running alignment for session\n",
      "Plotting\n",
      "Loading session W122_07_27_2019_1_fromSD\n",
      "Aligning to events\n",
      "no file found, running alignment for session\n",
      "Plotting\n"
     ]
    },
    {
     "name": "stderr",
     "output_type": "stream",
     "text": [
      "C:\\Users\\JB\\github\\jbreda_PWM_ephys_analysis\\plotting_utils.py:177: RuntimeWarning: Mean of empty slice\n",
      "  smoothed_mean = np.nanmean(np.array(smoothed_trials), axis=0)\n"
     ]
    },
    {
     "name": "stdout",
     "output_type": "stream",
     "text": [
      "Loading session W122_08_06_2019_1_fromSD\n",
      "Aligning to events\n",
      "no file found, running alignment for session\n",
      "Plotting\n",
      "Loading session W122_08_07_2019_1_fromSD\n",
      "Aligning to events\n",
      "no file found, running alignment for session\n",
      "Plotting\n",
      "Loading session W122_08_31_2019_1_fromSD\n",
      "Aligning to events\n",
      "no file found, running alignment for session\n",
      "Plotting\n"
     ]
    },
    {
     "name": "stderr",
     "output_type": "stream",
     "text": [
      "C:\\Users\\JB\\github\\jbreda_PWM_ephys_analysis\\plotting_utils.py:177: RuntimeWarning: Mean of empty slice\n",
      "  smoothed_mean = np.nanmean(np.array(smoothed_trials), axis=0)\n"
     ]
    },
    {
     "name": "stdout",
     "output_type": "stream",
     "text": [
      "Loading session W122_09_04_2019_1_fromSD\n",
      "Aligning to events\n",
      "no file found, running alignment for session\n",
      "Plotting\n",
      "Loading session W122_09_09_2019_1_fromSD\n",
      "Aligning to events\n",
      "no file found, running alignment for session\n",
      "Plotting\n"
     ]
    },
    {
     "name": "stderr",
     "output_type": "stream",
     "text": [
      "C:\\Users\\JB\\anaconda3\\envs\\PWM_ephys\\lib\\site-packages\\numpy\\core\\_methods.py:234: RuntimeWarning: Degrees of freedom <= 0 for slice\n",
      "  keepdims=keepdims)\n",
      "C:\\Users\\JB\\anaconda3\\envs\\PWM_ephys\\lib\\site-packages\\numpy\\core\\_methods.py:224: RuntimeWarning: invalid value encountered in true_divide\n",
      "  ret, rcount, out=ret, casting='unsafe', subok=False)\n",
      "C:\\Users\\JB\\anaconda3\\envs\\PWM_ephys\\lib\\site-packages\\numpy\\core\\_methods.py:234: RuntimeWarning: Degrees of freedom <= 0 for slice\n",
      "  keepdims=keepdims)\n",
      "C:\\Users\\JB\\anaconda3\\envs\\PWM_ephys\\lib\\site-packages\\numpy\\core\\_methods.py:224: RuntimeWarning: invalid value encountered in true_divide\n",
      "  ret, rcount, out=ret, casting='unsafe', subok=False)\n",
      "C:\\Users\\JB\\github\\jbreda_PWM_ephys_analysis\\plotting_utils.py:177: RuntimeWarning: Mean of empty slice\n",
      "  smoothed_mean = np.nanmean(np.array(smoothed_trials), axis=0)\n"
     ]
    },
    {
     "name": "stdout",
     "output_type": "stream",
     "text": [
      "Loading session W122_09_12_2019_1_fromSD\n",
      "Aligning to events\n",
      "no file found, running alignment for session\n",
      "Plotting\n",
      "Loading session W122_09_21_2019_1_fromSD\n",
      "Aligning to events\n",
      "no file found, running alignment for session\n",
      "Plotting\n",
      "Loading session W122_09_24_2019_1_fromSD\n",
      "Aligning to events\n",
      "no file found, running alignment for session\n",
      "Plotting\n"
     ]
    }
   ],
   "source": [
    "events = ['delay_overlap']\n",
    "fig_save_path = os.path.join(os.getcwd(), 'figures', 'delay_loudness', 'overlap246')\n",
    "for name, path, behp, spksp in zip(sess_names, sess_paths, beh_paths, spks_paths):\n",
    "    \n",
    "    print(f\"Loading session {name}\")\n",
    "  \n",
    "    beh_df, spks_dict = load_and_wrangle(behp, spksp, overwrite=False)\n",
    "    \n",
    "    print\n",
    "    \n",
    "    delay_analysis_df = beh_df[(beh_df['first_sound'] != 'psycho') &\n",
    "                                     (beh_df['hit_hist'] == 'hit')]\n",
    "    \n",
    "    dfs = [delay_analysis_df] # keeping the same structure as above\n",
    "    \n",
    "    print(\"Aligning to events\")\n",
    "    \n",
    "    sess_aligned = event_align_session(spks_dict, delay_analysis_df, path, overwrite=True, \n",
    "                                   file_name='delay_analysis_aligned_spks_246_together.pkl')\n",
    "    \n",
    "    print(\"Plotting\")\n",
    "    \n",
    "    # Note, switched the window here for regression to be [300:-300] becuase of how\n",
    "    # alignmnet was performed (currently line 399 in plotting utils)\n",
    "    run_delay_analysis_for_session(name, sess_aligned, align_windows, events, \n",
    "                                   dfs, fig_save_path, path)\n",
    "    "
   ]
  },
  {
   "cell_type": "markdown",
   "id": "256d5437",
   "metadata": {},
   "source": [
    "Ideas/TODO:\n",
    "* what if filtered only by the middle sounds that are different?\n",
    "* final functions need documentation\n",
    "* update README (DO IT FOR YOURSELF)\n",
    "* change pvalue to display more #s\n",
    "* try plotting together on same plot\n",
    "* make a stimulus plot (X,Y)\n",
    "* jitter the scatter plot"
   ]
  }
 ],
 "metadata": {
  "kernelspec": {
   "display_name": "Python 3",
   "language": "python",
   "name": "python3"
  },
  "language_info": {
   "codemirror_mode": {
    "name": "ipython",
    "version": 3
   },
   "file_extension": ".py",
   "mimetype": "text/x-python",
   "name": "python",
   "nbconvert_exporter": "python",
   "pygments_lexer": "ipython3",
   "version": "3.7.10"
  }
 },
 "nbformat": 4,
 "nbformat_minor": 5
}
