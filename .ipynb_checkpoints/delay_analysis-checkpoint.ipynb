{
 "cells": [
  {
   "cell_type": "markdown",
   "id": "b764e589",
   "metadata": {},
   "source": [
    "# 2021_05_03 Delay Analysis\n",
    "\n",
    "Notebook to perform analysis on delay period (2 or 4 seconds) of PWM task recording from mPFC. Functions tested & debugged in event_centering.ipynb and moving here for clean start\n",
    "\n",
    "### Libraries & Settings"
   ]
  },
  {
   "cell_type": "code",
   "execution_count": 1,
   "id": "4a5f39da",
   "metadata": {},
   "outputs": [],
   "source": [
    "# libraries\n",
    "import sys; sys.path.insert(0, '..') # if you don't find it here, look one above\n",
    "import os\n",
    "import numpy as np\n",
    "import matplotlib.pyplot as plt\n",
    "import pandas as pd\n",
    "import seaborn as sns\n",
    "import scipy.io as spio\n",
    "import pickle\n",
    "\n",
    "from tqdm import tqdm\n",
    "from scipy import stats\n",
    "from scipy.ndimage import gaussian_filter1d\n",
    "from io_utils import *\n",
    "from plotting_utils import * \n",
    "\n",
    "\n",
    "# settings\n",
    "%load_ext autoreload\n",
    "%autoreload 2\n",
    "sns.set_context(\"talk\")"
   ]
  },
  {
   "cell_type": "markdown",
   "id": "a2787aee",
   "metadata": {},
   "source": [
    "### Set paths & defaults"
   ]
  },
  {
   "cell_type": "code",
   "execution_count": 2,
   "id": "718020e1",
   "metadata": {},
   "outputs": [],
   "source": [
    "sess_name = 'W122_08_06_2019_1_fromSD'"
   ]
  },
  {
   "cell_type": "code",
   "execution_count": 3,
   "id": "355db624",
   "metadata": {},
   "outputs": [],
   "source": [
    "base_path  = 'Y:\\jbreda\\ephys\\post_sort_analysis\\sorted_pre_bdata' \n",
    "beh_mat   = 'protocol_info.mat'\n",
    "spks_mat  = 'ksphy_clusters_foranalysis.mat'\n",
    "fig_save_path = os.path.join(os.getcwd(), 'figures', 'delay_loudness')\n",
    "\n",
    "# create paths\n",
    "sess_path = os.path.join(base_path, sess_name)\n",
    "beh_path  = os.path.join(sess_path, beh_mat)\n",
    "spks_path = os.path.join(sess_path, spks_mat)\n",
    "\n",
    "# alginment info (hard coded here & in fx)\n",
    "names = ['aud1on', 'aud1off', 'aud2on', 'aud2off', 'trial_all', \n",
    "         'delay2s', 'trial2s', 'delay4s', 'trial4s']\n",
    "windows = [[-400, 600], [-500, 500], [-400, 600], [-500, 500], [-100, 5000],\n",
    "           [-150, 2150],[-200, 2400], [-150, 4150], [-200, 4400]]\n",
    "\n",
    "align_windows = dict(zip(names,windows))\n"
   ]
  },
  {
   "cell_type": "markdown",
   "id": "d8ceab59",
   "metadata": {},
   "source": [
    "### Load in data & align spikes to events\n",
    "\n",
    "I'm filtering the dataframe below specifically for delay analysis (no psychometric sounds, no violations, no 6 second trials)"
   ]
  },
  {
   "cell_type": "code",
   "execution_count": 4,
   "id": "57d44607",
   "metadata": {},
   "outputs": [
    {
     "name": "stdout",
     "output_type": "stream",
     "text": [
      "loading from file...\n"
     ]
    }
   ],
   "source": [
    "beh_df, spks_dict = load_and_wrangle(beh_path, spks_path, overwrite=False)\n",
    "\n",
    "delay_analysis_df = beh_df[(beh_df['delay'] != 6) & (beh_df['first_sound'] != 'psycho') &\n",
    "                                     (beh_df['hit_hist'] != 'viol')]\n",
    "\n",
    "sess_aligned = event_align_session(spks_dict, delay_analysis_df, sess_path, overwrite=False, \n",
    "                                   file_name='delay_analysis_aligned_spks.pkl')"
   ]
  },
  {
   "cell_type": "code",
   "execution_count": 5,
   "id": "6cadb1a5",
   "metadata": {},
   "outputs": [],
   "source": [
    "# choose events to analyze & filter dfs for them\n",
    "events = ['delay2s', 'delay4s']\n",
    "\n",
    "\n",
    "del_2_df = delay_analysis_df[(delay_analysis_df['delay'] == 2)] \n",
    "del_4_df =delay_analysis_df[(delay_analysis_df['delay'] == 4)]\n",
    "dfs = [del_2_df, del_4_df]"
   ]
  },
  {
   "cell_type": "code",
   "execution_count": 6,
   "id": "28c36fa1",
   "metadata": {},
   "outputs": [],
   "source": [
    "def analyze_and_plot_loudness(sess_name, sess_aligned, aligned_windows, event, df,\n",
    "                              fig_save_path, sess_path):\n",
    "    \n",
    "    # initialize lists for saving out\n",
    "    trials_loudness = []\n",
    "    summary_stats = []\n",
    "    \n",
    "    for neuron in range(len(sess_aligned)):\n",
    "        \n",
    "        neuron_id = sess_name + '_N' + str(neuron)\n",
    "        \n",
    "        # calculate psth via gaussian and boxcar\n",
    "        psth_g = PSTH_gaussain(sess_aligned[neuron], align_windows, event, df, \n",
    "                               conditions='first_sound', sigma=150)\n",
    "        psth_b = PSTH_boxcar(sess_aligned[neuron], align_windows, event, df,\n",
    "                             conditions='first_sound', bin_size=0.150)\n",
    "\n",
    "        ## PSTHs\n",
    "        fig, ax = plt.subplots(2,1, figsize = (15,12))\n",
    "        plot_psth(psth_g, ax[0], legend=True, title=neuron_id)\n",
    "        plot_psth(psth_b, ax[1])\n",
    "\n",
    "        # save out\n",
    "        fig_name = f\"{neuron_id}_{event}_psth\"\n",
    "        plt.tight_layout()\n",
    "        plt.savefig(os.path.join(fig_save_path, fig_name))\n",
    "        plt.close(\"all\") \n",
    "        \n",
    "        # FIRING RATE ~ LOUDNESS\n",
    "        # extract data\n",
    "        loudness_df = fr_by_loudness_df(psth_g, neuron_id)\n",
    "        trials_loudness.append(loudness_df)\n",
    "\n",
    "        # plot & regress\n",
    "        fig2,ax2 = plt.subplots(1,1, figsize=(8,5))\n",
    "        regression_stats = regress_loudness_and_plot(loudness_df, ax=ax2)\n",
    "        summary_stats.append(regression_stats)\n",
    "\n",
    "        # save out\n",
    "        fig_name = f\"{neuron_id}_{event}_loudness\"\n",
    "        plt.tight_layout()\n",
    "        plt.savefig(os.path.join(fig_save_path, fig_name))\n",
    "        plt.close(\"all\") \n",
    "\n",
    "    \n",
    "    # concat & save out data frames used for regression\n",
    "    stats_df = pd.concat(summary_stats)\n",
    "    stats_df.reset_index().to_csv(os.path.join(sess_path, 'fr_by_loudness.csv'))\n",
    "\n",
    "    loudness_df = pd.concat(trials_loudness)\n",
    "    loudness_df.reset_index().to_csv(os.path.join(sess_path, 'fr_by_loudness_regression.csv'))\n",
    "        "
   ]
  },
  {
   "cell_type": "code",
   "execution_count": 8,
   "id": "7ea769e3",
   "metadata": {},
   "outputs": [],
   "source": [
    "def run_delay_analyses(sess_name, sess_aligned, aligned_windows, events, dfs, \n",
    "                       fig_save_path, sess_path):\n",
    "    \n",
    "    for event, df in zip(events, dfs):\n",
    "        \n",
    "        analyze_and_plot_loudness(sess_name, sess_aligned, align_windows,\n",
    "                                  event, df, fig_save_path, sess_path)\n"
   ]
  },
  {
   "cell_type": "code",
   "execution_count": 7,
   "id": "b03223af",
   "metadata": {},
   "outputs": [
    {
     "name": "stderr",
     "output_type": "stream",
     "text": [
      "C:\\Users\\JB\\github\\jbreda_PWM_ephys_analysis\\plotting_utils.py:396: RuntimeWarning: Mean of empty slice\n",
      "  mean_fr_by_cond.append(np.nanmean(trial_psth[150:-150]))\n",
      "C:\\Users\\JB\\github\\jbreda_PWM_ephys_analysis\\plotting_utils.py:396: RuntimeWarning: Mean of empty slice\n",
      "  mean_fr_by_cond.append(np.nanmean(trial_psth[150:-150]))\n",
      "C:\\Users\\JB\\github\\jbreda_PWM_ephys_analysis\\plotting_utils.py:396: RuntimeWarning: Mean of empty slice\n",
      "  mean_fr_by_cond.append(np.nanmean(trial_psth[150:-150]))\n"
     ]
    }
   ],
   "source": [
    "analyze_and_plot_loudness(sess_name, sess_aligned, align_windows, events[0], dfs[0], fig_save_path, sess_path)"
   ]
  },
  {
   "cell_type": "code",
   "execution_count": 9,
   "id": "f2ecea2c",
   "metadata": {},
   "outputs": [
    {
     "ename": "TypeError",
     "evalue": "run_delay_analyses() takes 6 positional arguments but 7 were given",
     "output_type": "error",
     "traceback": [
      "\u001b[1;31m---------------------------------------------------------------------------\u001b[0m",
      "\u001b[1;31mTypeError\u001b[0m                                 Traceback (most recent call last)",
      "\u001b[1;32m<ipython-input-9-f4bbc2b49fa2>\u001b[0m in \u001b[0;36m<module>\u001b[1;34m\u001b[0m\n\u001b[1;32m----> 1\u001b[1;33m \u001b[0mrun_delay_analyses\u001b[0m\u001b[1;33m(\u001b[0m\u001b[0msess_name\u001b[0m\u001b[1;33m,\u001b[0m \u001b[0msess_aligned\u001b[0m\u001b[1;33m,\u001b[0m \u001b[0malign_windows\u001b[0m\u001b[1;33m,\u001b[0m \u001b[0mevents\u001b[0m\u001b[1;33m,\u001b[0m \u001b[0mdfs\u001b[0m\u001b[1;33m,\u001b[0m \u001b[0mfig_save_path\u001b[0m\u001b[1;33m,\u001b[0m \u001b[0msess_path\u001b[0m\u001b[1;33m)\u001b[0m\u001b[1;33m\u001b[0m\u001b[1;33m\u001b[0m\u001b[0m\n\u001b[0m",
      "\u001b[1;31mTypeError\u001b[0m: run_delay_analyses() takes 6 positional arguments but 7 were given"
     ]
    }
   ],
   "source": [
    "run_delay_analyses(sess_name, sess_aligned, align_windows, events, dfs, fig_save_path, sess_path)"
   ]
  }
 ],
 "metadata": {
  "kernelspec": {
   "display_name": "Python 3",
   "language": "python",
   "name": "python3"
  },
  "language_info": {
   "codemirror_mode": {
    "name": "ipython",
    "version": 3
   },
   "file_extension": ".py",
   "mimetype": "text/x-python",
   "name": "python",
   "nbconvert_exporter": "python",
   "pygments_lexer": "ipython3",
   "version": "3.7.10"
  }
 },
 "nbformat": 4,
 "nbformat_minor": 5
}
