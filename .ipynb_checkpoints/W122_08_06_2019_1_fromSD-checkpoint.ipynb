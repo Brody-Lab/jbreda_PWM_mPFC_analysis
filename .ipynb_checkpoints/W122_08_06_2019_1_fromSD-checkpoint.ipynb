{
 "cells": [
  {
   "cell_type": "code",
   "execution_count": 454,
   "id": "early-guarantee",
   "metadata": {},
   "outputs": [
    {
     "name": "stdout",
     "output_type": "stream",
     "text": [
      "The autoreload extension is already loaded. To reload it, use:\n",
      "  %reload_ext autoreload\n"
     ]
    }
   ],
   "source": [
    "# libraries\n",
    "import sys; sys.path.insert(0, '..') # if you don't find it here, look one above\n",
    "import os\n",
    "import numpy as np\n",
    "import matplotlib.pyplot as plt\n",
    "import pandas as pd\n",
    "import seaborn as sns\n",
    "import scipy.io as spio\n",
    "import pickle\n",
    "from tqdm import tqdm\n",
    "from scipy import stats\n",
    "# stored one repo up in my fork of Spykes\n",
    "from spykes.spykes.plot.neurovis import NeuroVis\n",
    "from io_utils import *\n",
    "from plotting_utils import * \n",
    "\n",
    "# settings\n",
    "%load_ext autoreload\n",
    "%autoreload 2\n",
    "sns.set_context(\"talk\")"
   ]
  },
  {
   "cell_type": "code",
   "execution_count": 31,
   "id": "timely-sweet",
   "metadata": {},
   "outputs": [],
   "source": [
    "# base paths/names\n",
    "sess_names = np.load('sess_names.npy')\n",
    "sess_name = sess_names[3]\n",
    "\n",
    "base_path  = 'Y:\\jbreda\\ephys\\post_sort_analysis\\sorted_pre_bdata' \n",
    "beh_mat   = 'protocol_info.mat'\n",
    "spks_mat  = 'ksphy_clusters_foranalysis.mat'\n",
    "\n",
    "\n",
    "# create paths\n",
    "sess_path = os.path.join(base_path, sess_name)\n",
    "beh_path  = os.path.join(sess_path, beh_mat)\n",
    "spks_path = os.path.join(sess_path, spks_mat)\n",
    "fig_save_path = os.path.join(os.getcwd(), 'figures', 'neurovis', sess_name)\n",
    "\n",
    "# load & wrangle\n",
    "beh_df, spks_dict = load_and_wrangle(beh_path, spks_path, overwrite=True)\n"
   ]
  },
  {
   "cell_type": "markdown",
   "id": "legal-graham",
   "metadata": {},
   "source": [
    "### Separate spike times by trials\n",
    "\n",
    "Create a list of list that is N trials long w/ spike info from cpoke to endstate for each trial. \n",
    "\n",
    "**TODO** turn into function"
   ]
  },
  {
   "cell_type": "code",
   "execution_count": 644,
   "id": "future-triple",
   "metadata": {},
   "outputs": [],
   "source": [
    "test_neuron = spks_dict['spk_times'][0]\n",
    "test_neurovis = NeuroVis(test_neuron)"
   ]
  },
  {
   "cell_type": "code",
   "execution_count": 645,
   "id": "criminal-footage",
   "metadata": {},
   "outputs": [],
   "source": [
    "raster = test_neurovis.get_raster(event= 'aud1_on', binsize = 100, df = beh_df, plot = False)"
   ]
  },
  {
   "cell_type": "code",
   "execution_count": 697,
   "id": "processed-adoption",
   "metadata": {},
   "outputs": [],
   "source": [
    "def split_spks_by_trial(spk_times, df):\n",
    "    \"\"\"\n",
    "    Function that converts spikes for a whole trial (1d) into array where rows are trials\n",
    "    and columns are spk times within a trial for a neuron, added to dict with other trial level info\n",
    "    \n",
    "    inputs\n",
    "    ------\n",
    "    spk_times : arr-like, 1d containing spk times in seconds for a single neuron for a session\n",
    "    df        : df, containing behavior information for a trial\n",
    "    \n",
    "    returns\n",
    "    -------\n",
    "    trial_spks_dict : dict, containing trial number (w/ respect to whole session), start and stop times\n",
    "                      for a trial and the spks occuring in a a trial in s\n",
    "    \"\"\"\n",
    "    \n",
    "    # initialize\n",
    "    trial_spks_dict = {}\n",
    "    trial_nums = []\n",
    "    trial_starts = []\n",
    "    trial_stops = []\n",
    "    trial_spks = []\n",
    "    \n",
    "    # make counter because dataframe idx is not continous \n",
    "    # instead, it represents overall trial number with respect to start of session\n",
    "    itrial = 0\n",
    "    \n",
    "    for idx, trial in df.iterrows():\n",
    "        \n",
    "        # grab start time 100 ms before c poke\n",
    "        trial_start = trial['c_poke'] -0.001\n",
    "        \n",
    "        # create end time so delays have same length\n",
    "        if trial['delay'] == 2:\n",
    "            trial_end = trial_start + 5.5\n",
    "        elif trial['delay'] == 4:\n",
    "            trial_end = trial_start + 7.7\n",
    "        elif trial['delay'] == 6:\n",
    "            trial_end = trial_start + 9.9\n",
    "        else:\n",
    "            print('Trial delay is not 2, 4 or 6 seconds- this is not correct')\n",
    "        \n",
    "        # append trial info\n",
    "        trial_nums.append(idx)\n",
    "        trial_starts.append(trial_start)\n",
    "        trial_stops.append(trial_end)\n",
    "    \n",
    "        # grab spike time within trial window & append them\n",
    "        trial_spks.append(spk_times[np.logical_and(spk_times >= trial_start, spk_times <= trial_end)])\n",
    "    \n",
    "    \n",
    "    trial_spks_dict['trial_nums'] = trial_nums\n",
    "    trial_spks_dict['trial_times'] = trial_starts, trial_stops\n",
    "    trial_spks_dict['trial_spks'] = trial_spks\n",
    "    \n",
    "    return trial_spks_dict "
   ]
  },
  {
   "cell_type": "code",
   "execution_count": 694,
   "id": "centered-bundle",
   "metadata": {},
   "outputs": [],
   "source": [
    "test = split_spks_by_trial(test_neuron, beh_df)"
   ]
  },
  {
   "cell_type": "markdown",
   "id": "higher-wheat",
   "metadata": {},
   "source": [
    "### Discretizing \n",
    "\n",
    "Take spk times x trials above, & given a bin size (1 ms) search in trial & binarize"
   ]
  },
  {
   "cell_type": "markdown",
   "id": "studied-flour",
   "metadata": {},
   "source": [
    "## TODO\n",
    "* fix bug in get_spike_counts that wont return anything for trials >0\n",
    "* turn grabbing valid spike times into function\n",
    "* f/u on why gaussain from scipy errors"
   ]
  },
  {
   "cell_type": "code",
   "execution_count": 660,
   "id": "drawn-plaza",
   "metadata": {},
   "outputs": [],
   "source": [
    "t = np.arange(0,25)"
   ]
  },
  {
   "cell_type": "code",
   "execution_count": 665,
   "id": "blond-alfred",
   "metadata": {},
   "outputs": [
    {
     "data": {
      "text/plain": [
       "numpy.float64"
      ]
     },
     "execution_count": 665,
     "metadata": {},
     "output_type": "execute_result"
    }
   ],
   "source": [
    "type(tr_times[0][0])"
   ]
  },
  {
   "cell_type": "code",
   "execution_count": 649,
   "id": "immune-midwest",
   "metadata": {},
   "outputs": [],
   "source": [
    "def get_spike_counts(trial_spks_dict, bin_size, mode, trial_len='same'):\n",
    "    \n",
    "    \"\"\"\n",
    "    Function that takes spike time information for a session split by trials and binarizes or counts the \n",
    "    spike information for further analyses\n",
    "    \n",
    "    Inputs \n",
    "    ------\n",
    "    trial_spks_dict     : dict, created by split_spks_by_trial()\n",
    "    bin_size            : int, size of sliding bin to use in seconds\n",
    "    mode                : str, whether binirze spike counts for a bin ('binary)', or count them ('count')\n",
    "    trial_len           : str, whether to pack trials of different lenghts with 0s to make all the same\n",
    "                          length ('same') or use the ending time ('end'), default='same'\n",
    "    \n",
    "    Returns\n",
    "    -------\n",
    "    session_spk_binary  : array_like, N trials X trial_len, biniarize spike train for each trial\n",
    "    \n",
    "    Notes\n",
    "    -----\n",
    "    For binarizing data, a 0.001 s window does quite well, but there will still be cases of 2-3 spikes in a bin\n",
    "    only being counted as 1 spike. This appears to be quite rare on the scale of 2-5 bins on 25% of trials\n",
    "    \"\"\"\n",
    "    \n",
    "    # initialize\n",
    "    session_spk_counts = []\n",
    "    \n",
    "    # iterate over spikes for each trial\n",
    "    for itrial, trial_spks in enumerate(tqdm(trial_spk_dict['trial_spks'])):\n",
    "        \n",
    "        # grab start time\n",
    "        t_start = trial_spk_dict['trial_times'][itrial][0]\n",
    "        \n",
    "        # determine which end time to use given inputs\n",
    "        # NOTE this assumes 6s delays are included so maximum t_len = 9.9 seconds\n",
    "        if trial_len == 'same':\n",
    "            t_end = t_start + 9.9\n",
    "        elif trial_len == 'end':\n",
    "            t_end = trial_spk_dict['trial_times'][1]\n",
    "        else:\n",
    "            print('This is not a valid_trial length type')\n",
    "        \n",
    "        # initialize bin structure to include all bins form [0 to bin_size]\n",
    "        half_bin = bin_size / 2\n",
    "        bin_centers = np.arange(t_start + half_bin, t_end, bin_size)\n",
    "        n_bins = len(bin_centers)\n",
    "        \n",
    "        # updated for each trial\n",
    "        trial_spk_counts = np.zeros((n_bins))\n",
    "        \n",
    "        for ibin in range(n_bins):\n",
    "            # for each of the spikes in the ith trial, do any fit in the ith bin?\n",
    "            if mode == 'binary':\n",
    "                spike_in_ibin = np.logical_and(session_spk_times[itrial] >= (bin_centers[ibin] - half_bin), \n",
    "                                               session_spk_times[itrial] <= (bin_centers[ibin] + half_bin))\n",
    "            \n",
    "                # if there is a spike in the bin, report it \n",
    "                if np.sum(spike_in_ibin) > 0:\n",
    "                    trial_spk_counts[ibin] = 1\n",
    "            \n",
    "            elif mode == 'count':\n",
    "                # for each of the spikes in the ith trial, how many fit into the ith bin?\n",
    "                n_spike_in_bin = np.sum(np.logical_and(session_spk_times[itrial] >= (bin_centers[ibin] - half_bin), \n",
    "                                                       session_spk_times[itrial] <= (bin_centers[ibin] + half_bin)))\n",
    "                \n",
    "                trial_spk_counts[ibin] = n_spike_in_bin\n",
    "                \n",
    "        session_spk_counts.append(trial_spk_counts)\n",
    "    \n",
    "    return session_spk_counts         "
   ]
  },
  {
   "cell_type": "code",
   "execution_count": 636,
   "id": "freelance-campaign",
   "metadata": {},
   "outputs": [
    {
     "name": "stderr",
     "output_type": "stream",
     "text": [
      "100%|█████████████████████████████████████████████████████████████████████| 392/392 [00:34<00:00, 11.20it/s]\n"
     ]
    }
   ],
   "source": [
    "binary = get_spike_counts(tr_spk_L, tr_times, bin_size = 0.001, mode = 'binary')"
   ]
  },
  {
   "cell_type": "code",
   "execution_count": 642,
   "id": "found-oliver",
   "metadata": {},
   "outputs": [
    {
     "name": "stderr",
     "output_type": "stream",
     "text": [
      "100%|███████████████████████████████████████████████████████████████████| 392/392 [00:00<00:00, 8374.72it/s]\n"
     ]
    }
   ],
   "source": [
    "count = get_spike_counts(tr_spk_L, tr_times, bin_size=2, mode = 'count')"
   ]
  },
  {
   "cell_type": "code",
   "execution_count": 640,
   "id": "changing-mountain",
   "metadata": {},
   "outputs": [
    {
     "data": {
      "text/plain": [
       "[<matplotlib.lines.Line2D at 0x2f3b5fc2f08>]"
      ]
     },
     "execution_count": 640,
     "metadata": {},
     "output_type": "execute_result"
    },
    {
     "data": {
      "image/png": "[encoded data removed]",
      "text/plain": [
       "<Figure size 432x288 with 1 Axes>"
      ]
     },
     "metadata": {
      "needs_background": "light"
     },
     "output_type": "display_data"
    }
   ],
   "source": [
    "trial = 300\n",
    "plt.plot(binary[trial])"
   ]
  },
  {
   "cell_type": "code",
   "execution_count": 643,
   "id": "auburn-ground",
   "metadata": {},
   "outputs": [
    {
     "data": {
      "text/plain": [
       "[<matplotlib.lines.Line2D at 0x2f3b6094148>]"
      ]
     },
     "execution_count": 643,
     "metadata": {},
     "output_type": "execute_result"
    },
    {
     "data": {
      "image/png": "[encoded data removed]",
      "text/plain": [
       "<Figure size 432x288 with 1 Axes>"
      ]
     },
     "metadata": {
      "needs_background": "light"
     },
     "output_type": "display_data"
    }
   ],
   "source": [
    "plt.plot(count[trial])"
   ]
  },
  {
   "cell_type": "code",
   "execution_count": 317,
   "id": "greatest-wagner",
   "metadata": {},
   "outputs": [],
   "source": [
    "def gaussian(x, mu, sigma):\n",
    "    return 1 / (sigma * np.sqrt(2 * np.pi)) * np.exp(-1/2 * ((x - mu)/sigma)**2)"
   ]
  },
  {
   "cell_type": "code",
   "execution_count": 352,
   "id": "moving-remedy",
   "metadata": {},
   "outputs": [
    {
     "data": {
      "text/plain": [
       "[<matplotlib.lines.Line2D at 0x2f29e490a88>]"
      ]
     },
     "execution_count": 352,
     "metadata": {},
     "output_type": "execute_result"
    },
    {
     "data": {
      "image/png": "[encoded data removed]",
      "text/plain": [
       "<Figure size 432x288 with 1 Axes>"
      ]
     },
     "metadata": {
      "needs_background": "light"
     },
     "output_type": "display_data"
    }
   ],
   "source": [
    "mu = 0\n",
    "sigma = .150\n",
    "\n",
    "x = np.linspace(-1.0, 1.0, 150)\n",
    "kernal = gaussian(x, mu, sigma)\n",
    "kernal = kernal/np.sum(kernal)\n",
    "plt.plot(x, kernal)"
   ]
  },
  {
   "cell_type": "code",
   "execution_count": 448,
   "id": "chief-navigation",
   "metadata": {},
   "outputs": [
    {
     "data": {
      "text/plain": [
       "[<matplotlib.lines.Line2D at 0x2f29ed95088>]"
      ]
     },
     "execution_count": 448,
     "metadata": {},
     "output_type": "execute_result"
    },
    {
     "data": {
      "image/png": "[encoded data removed]",
      "text/plain": [
       "<Figure size 720x360 with 1 Axes>"
      ]
     },
     "metadata": {
      "needs_background": "light"
     },
     "output_type": "display_data"
    }
   ],
   "source": [
    "spike_train = tr_spk_binary[5]\n",
    "fig, ax = plt.subplots(figsize = (10,5))\n",
    "plt.plot(np.convolve(spike_train, kernal, mode = 'same'))"
   ]
  },
  {
   "cell_type": "code",
   "execution_count": 449,
   "id": "given-enough",
   "metadata": {},
   "outputs": [
    {
     "data": {
      "text/plain": [
       "(9900, 9900)"
      ]
     },
     "execution_count": 449,
     "metadata": {},
     "output_type": "execute_result"
    }
   ],
   "source": [
    "len(tr_spk_binary[6]), len(np.convolve(spike_train, kernal, mode = 'same'))"
   ]
  },
  {
   "cell_type": "code",
   "execution_count": 450,
   "id": "sized-marina",
   "metadata": {},
   "outputs": [],
   "source": [
    "conv_trial = []\n",
    "for trial in tr_spk_binary:\n",
    "    smoothed =(np.convolve(trial, kernal, mode = 'same'))\n",
    "    smoothed = np.where(smoothed == 0, np.nan, smoothed)\n",
    "    conv_trial.append(smoothed)\n",
    "    \n",
    "conv_trial = np.array(conv_trial)"
   ]
  },
  {
   "cell_type": "code",
   "execution_count": 455,
   "id": "narrative-funeral",
   "metadata": {},
   "outputs": [],
   "source": [
    "test_mean = np.nanmean(conv_trial, axis=0)\n",
    "test_sem = stats.sem(conv_trial, axis=0, nan_policy='omit')"
   ]
  },
  {
   "cell_type": "code",
   "execution_count": null,
   "id": "detected-racing",
   "metadata": {},
   "outputs": [],
   "source": []
  },
  {
   "cell_type": "code",
   "execution_count": 458,
   "id": "legal-heritage",
   "metadata": {},
   "outputs": [],
   "source": [
    "time = np.linspace(0,9.9, len(test_mean))"
   ]
  },
  {
   "cell_type": "code",
   "execution_count": 462,
   "id": "capital-granny",
   "metadata": {},
   "outputs": [
    {
     "data": {
      "text/plain": [
       "[(0.0, 2.0)]"
      ]
     },
     "execution_count": 462,
     "metadata": {},
     "output_type": "execute_result"
    },
    {
     "data": {
      "image/png": "[encoded data removed]",
      "text/plain": [
       "<Figure size 1080x216 with 1 Axes>"
      ]
     },
     "metadata": {
      "needs_background": "light"
     },
     "output_type": "display_data"
    }
   ],
   "source": [
    "fig, ax = plt.subplots(figsize = (15, 3))\n",
    "ax.plot(time, test_mean)\n",
    "ax.fill_between(time, test_mean - test_sem, test_mean + test_sem, alpha = 0.2 )\n",
    "ax.set(xlim =(0,2))"
   ]
  },
  {
   "cell_type": "code",
   "execution_count": 50,
   "id": "sufficient-white",
   "metadata": {},
   "outputs": [],
   "source": [
    "# Initialize info for plotting\n",
    "hit_df = beh_df[(beh_df['hit_hist'] == 'hit')]\n",
    "aud1_df = hit_df[(hit_df['first_sound'] != 'psycho')]"
   ]
  },
  {
   "cell_type": "markdown",
   "id": "useful-composite",
   "metadata": {},
   "source": [
    "## Stoped here"
   ]
  },
  {
   "cell_type": "code",
   "execution_count": 53,
   "id": "worldwide-prototype",
   "metadata": {},
   "outputs": [
    {
     "name": "stdout",
     "output_type": "stream",
     "text": [
      "Loading existing mask_dict...\n",
      "Done loading.\n",
      "ngood, first: 175\n",
      "ngood, first: 175\n",
      "ngood, second: 195\n",
      "ngood, second: 195\n"
     ]
    }
   ],
   "source": [
    "bndl_dfs, df_names = deal_with_masking(spks_dict, aud1_df, sess_path, 'aud1_no_psycho', 30000)"
   ]
  },
  {
   "cell_type": "code",
   "execution_count": 58,
   "id": "accompanied-plaintiff",
   "metadata": {},
   "outputs": [],
   "source": [
    "# initilaize\n",
    "events = ['aud1_on']\n",
    "event_names = ['aud1_on']\n",
    "window = [-500, 2300]\n",
    "condition = 'first_sound'"
   ]
  },
  {
   "cell_type": "code",
   "execution_count": 298,
   "id": "destroyed-depth",
   "metadata": {},
   "outputs": [],
   "source": [
    "# initilaize\n",
    "events = ['aud1_on']\n",
    "windows = [[-1000,2300]]\n",
    "condition = 'correct_side'\n",
    "\n",
    "# get neurons into NeuroVis objects\n",
    "neurons = initiate_neurons(spks_dict)\n",
    "neuron = NeuroVis(spks_dict['spk_times'][0])\n",
    "\n",
    "#single neuron debug\n",
    "window = windows[0]\n",
    "binsize = 100\n",
    "df = bndl_dfs[df_names[0]]\n",
    "phys_start = neuron.spiketimes[0]\n",
    "phys_end = neuron.spiketimes[-1]\n",
    "event = events[0]\n",
    "conditions = 'correct_side'"
   ]
  },
  {
   "cell_type": "code",
   "execution_count": 13,
   "id": "possible-cleveland",
   "metadata": {},
   "outputs": [],
   "source": [
    "neuron_rasters = get_neuron_rasters(neurons, events, windows, bndl_dfs, df_names)\n",
    "neuron_psths = get_neuron_psths(neurons, events, windows, bndl_dfs, df_names, conditions=condition)"
   ]
  },
  {
   "cell_type": "code",
   "execution_count": 302,
   "id": "blank-jersey",
   "metadata": {},
   "outputs": [
    {
     "data": {
      "text/plain": [
       "(14, 17)"
      ]
     },
     "execution_count": 302,
     "metadata": {},
     "output_type": "execute_result"
    }
   ],
   "source": [
    "if not type(df) is dict:\n",
    "        df = df.reset_index()\n",
    "len(np.sum(raster['data'][0], axis = 1)), len(psth['data'][0]['mean'])"
   ]
  },
  {
   "cell_type": "code",
   "execution_count": 176,
   "id": "gentle-victim",
   "metadata": {},
   "outputs": [],
   "source": [
    "if not type(df) is dict:\n",
    "    df2 = df.reset_index()\n",
    "wind = [np.floor(window[0]/binsize) * binsize, np.ceil(window[1]/binsize) * binsize]"
   ]
  },
  {
   "cell_type": "code",
   "execution_count": 177,
   "id": "complimentary-inclusion",
   "metadata": {},
   "outputs": [],
   "source": [
    "trials = dict()\n",
    "trials[0] = np.where(np.ones(np.size(df[event])))[0]\n",
    "rasters = {\n",
    "        'event': event,\n",
    "        'conditions': conditions,\n",
    "        'window': window,\n",
    "        'binsize': binsize,\n",
    "        'data': {},\n",
    "    }"
   ]
  },
  {
   "cell_type": "code",
   "execution_count": 191,
   "id": "loved-handy",
   "metadata": {},
   "outputs": [],
   "source": [
    "for cond_id in trials:\n",
    "    # Select events relevant to this raster\n",
    "    selected_events = df[event].iloc[trials[cond_id]]\n",
    "\n",
    "    raster = []\n",
    "    \n",
    "    bin_template = 1e-3 * np.arange(window[0], window[1] + binsize, binsize)\n",
    "    \n",
    "    for event_time in selected_events:\n",
    "        bins = event_time + bin_template\n",
    "\n"
   ]
  },
  {
   "cell_type": "code",
   "execution_count": 196,
   "id": "assigned-investigation",
   "metadata": {},
   "outputs": [
    {
     "data": {
      "text/plain": [
       "array([-1. , -0.9, -0.8, -0.7, -0.6, -0.5, -0.4, -0.3, -0.2, -0.1,  0. ,\n",
       "        0.1,  0.2,  0.3,  0.4,  0.5,  0.6,  0.7,  0.8,  0.9,  1. ,  1.1,\n",
       "        1.2,  1.3,  1.4,  1.5,  1.6,  1.7,  1.8,  1.9,  2. ,  2.1,  2.2,\n",
       "        2.3])"
      ]
     },
     "execution_count": 196,
     "metadata": {},
     "output_type": "execute_result"
    }
   ],
   "source": [
    "bin_template"
   ]
  },
  {
   "cell_type": "code",
   "execution_count": 195,
   "id": "transsexual-spread",
   "metadata": {},
   "outputs": [
    {
     "name": "stdout",
     "output_type": "stream",
     "text": [
      "[5867.858354 5867.958354 5868.058354 5868.158354 5868.258354 5868.358354\n",
      " 5868.458354 5868.558354 5868.658354 5868.758354 5868.858354 5868.958354\n",
      " 5869.058354 5869.158354 5869.258354 5869.358354 5869.458354 5869.558354\n",
      " 5869.658354 5869.758354 5869.858354 5869.958354 5870.058354 5870.158354\n",
      " 5870.258354 5870.358354 5870.458354 5870.558354 5870.658354 5870.758354\n",
      " 5870.858354 5870.958354 5871.058354 5871.158354]\n"
     ]
    }
   ],
   "source": [
    "for event_time in selected_events:\n",
    "    bins = event_time + bin_template\n",
    "    \n",
    "    searchsorted_idx = np.sq"
   ]
  },
  {
   "cell_type": "code",
   "execution_count": 212,
   "id": "appointed-street",
   "metadata": {},
   "outputs": [
    {
     "data": {
      "text/plain": [
       "(5868.858354, 5867.858354, 5871.158354)"
      ]
     },
     "execution_count": 212,
     "metadata": {},
     "output_type": "execute_result"
    }
   ],
   "source": [
    "event_time, event_time + 1e-3 * window[0], event_time + 1e-3 * window[1]"
   ]
  },
  {
   "cell_type": "code",
   "execution_count": null,
   "id": "realistic-strength",
   "metadata": {},
   "outputs": [],
   "source": []
  }
 ],
 "metadata": {
  "kernelspec": {
   "display_name": "Python 3",
   "language": "python",
   "name": "python3"
  },
  "language_info": {
   "codemirror_mode": {
    "name": "ipython",
    "version": 3
   },
   "file_extension": ".py",
   "mimetype": "text/x-python",
   "name": "python",
   "nbconvert_exporter": "python",
   "pygments_lexer": "ipython3",
   "version": "3.7.9"
  }
 },
 "nbformat": 4,
 "nbformat_minor": 5
}
